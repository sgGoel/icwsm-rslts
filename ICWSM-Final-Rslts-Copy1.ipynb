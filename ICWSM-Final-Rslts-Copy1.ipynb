{
 "cells": [
  {
   "cell_type": "code",
   "execution_count": 1,
   "metadata": {},
   "outputs": [],
   "source": [
    "import numpy\n",
    "import matplotlib\n",
    "import sklearn"
   ]
  },
  {
   "cell_type": "code",
   "execution_count": 2,
   "metadata": {},
   "outputs": [],
   "source": [
    "import csv\n",
    "import time\n",
    "import random\n",
    "import sys"
   ]
  },
  {
   "cell_type": "code",
   "execution_count": 3,
   "metadata": {},
   "outputs": [],
   "source": [
    "import numpy as np\n",
    "import networkx as nx\n",
    "from matplotlib import pyplot as plt\n",
    "import pandas as pd\t"
   ]
  },
  {
   "cell_type": "code",
   "execution_count": 4,
   "metadata": {},
   "outputs": [],
   "source": [
    "import nltk\n",
    "from nltk.sentiment.util import *\n",
    "from nltk.sentiment.vader import SentimentIntensityAnalyzer\n",
    "from nltk import tokenize"
   ]
  },
  {
   "cell_type": "code",
   "execution_count": 5,
   "metadata": {},
   "outputs": [],
   "source": [
    "import heapq\n",
    "import math\n",
    "from importlib import reload\n",
    "from operator import itemgetter\n",
    "import statistics"
   ]
  },
  {
   "cell_type": "markdown",
   "metadata": {},
   "source": [
    "## Important files"
   ]
  },
  {
   "cell_type": "code",
   "execution_count": 6,
   "metadata": {},
   "outputs": [],
   "source": [
    "def file_size(input_file):\n",
    "    with open(input_file, 'r', encoding = 'utf-8', errors='replace') as csvfile:\n",
    "        rder = csv.DictReader(csvfile)\n",
    "        i = 0\n",
    "        for row in rder:\n",
    "            i+=1\n",
    "        print(i)"
   ]
  },
  {
   "cell_type": "code",
   "execution_count": 7,
   "metadata": {},
   "outputs": [],
   "source": [
    "def print_first_n(n, some_obj):\n",
    "    c = 0\n",
    "    for x in some_obj:\n",
    "        c += 1\n",
    "        if (c <= n):\n",
    "            print(x + \" \")"
   ]
  },
  {
   "cell_type": "code",
   "execution_count": 8,
   "metadata": {},
   "outputs": [],
   "source": [
    "def get_sample_line(input_file, k=2):\n",
    "    with open(input_file, 'r', encoding = 'utf-8', errors='replace') as csvfile:\n",
    "        rder = csv.DictReader(csvfile)\n",
    "        i = 0\n",
    "        for row in rder:\n",
    "            i+=1\n",
    "            print(row)\n",
    "            if (i > k):\n",
    "                break"
   ]
  },
  {
   "cell_type": "code",
   "execution_count": 9,
   "metadata": {},
   "outputs": [],
   "source": [
    "urls_file = 'urls.csv'\n",
    "friends_file = 'friends.csv'\n",
    "panel_file = '../__big__/__cached__/panel.csv'\n",
    "\n",
    "domains_file = 'domains_full.csv'\n",
    "sources_file = 'sources_t2.csv'\n",
    "nodes_file = 'nodes_t2.csv'\n",
    "\n",
    "#keeping some data reserved for a future, larger test\n",
    "domains_training_file1 = 'domains_partial_t1.csv'\n",
    "sources_training_file1 = 'sources_partial_t1.csv'\n",
    "nodes_training_file1 = 'nodes_partial_t1.csv'\n",
    "\n",
    "#FILE DESCRIPTIONS\n",
    "\n",
    "#urls file = every tweet\n",
    "#friends file = every friend each panel member has (gender, location listed are for user in panel, not user's friend)\n",
    "#panel file = panel member full stats\n",
    "\n",
    "#domains file = every domain labeled\n",
    "#sources file = urls file with less information, color labels added, and certain non-political urls removed\n",
    "#nodes file = every interaction between a user and a url in sources file, classified\n",
    "\n",
    "#\"training\" files"
   ]
  },
  {
   "cell_type": "code",
   "execution_count": 10,
   "metadata": {},
   "outputs": [
    {
     "name": "stdout",
     "output_type": "stream",
     "text": [
      "{'': '1', 'user_id': '12', 'website': 'blog.twitter.com', 'tweet_id': '780809833402470400', 'tweet_date': 'Tue Sep 27 16:42:25 +0000 2016', 'retweet_prefix': 'RT @twitter:', 'tweet_text': 'Twitter is helping you register to vote! Send a Direct Message to @gov to get started: https://t.co/1DgGG9i71o https://t.co/shckBNcT3l', 'quoted_text': '', 'retweet_of_tweet_id': '780809477754789888', 'retweet_of_user_id': '783214', 'quote_of_tweet_id': 'NA', 'quote_of_user_name': '', 'reply_to_tweet_id': 'NA', 'candidate_interaction': '', 'where_url_found': 'retweeted', 'who_url_from': 'twitter', 'link_type': 'external', 'shortened_url': 'https://t.co/1DgGG9i71o', 'canonical_url': 'https://blog.twitter.com/official/en_us/a/2016/get-registered-to-vote-with-gov.html', 'title': 'Get Registered to Vote with @Gov', 'date_published': '', 'description': '', 'author': '', 'political_classifier_score': '0.995818855124211', 'ts_tzoffset': '0', 'ts': '2016-09-27 12:42:25', 'ts_month': '9', 'ts_rel_days': '-42', 'ts_rel_weeks': '-6', 'source_link': 'http://twitter.com/download/iphone', 'source_name': 'Twitter for iPhone', 'link_shortener': 'NA', 'social_info': 'NA', 'social_subtype': 'NA', 'social_type': 'NA', 'youtube_title': 'NA', 'youtube_views': '9218868437227407266', 'via_text': 'NA', 'sentiment': '0.3595', 'domain_color': 'NA', 'domain_color_num': '1000', 'how_sampled': 'top_80pct', 'is_pol_news_site': 'TRUE', 'website_cat': 'news/blog', 'website_main_cat': 'news/blog', 'website_subcat': 'NA', 'is_panel_member': 'FALSE', 'is_panel_friend': 'TRUE', 'n_pol_exp': '0', 'n_pol_shares': '7'}\n"
     ]
    }
   ],
   "source": [
    "get_sample_line(urls_file, 0)"
   ]
  },
  {
   "cell_type": "code",
   "execution_count": 11,
   "metadata": {},
   "outputs": [
    {
     "name": "stdout",
     "output_type": "stream",
     "text": [
      "{'': '1', 'panel_uid': '5806', 'friend_uid': '148468442', 'age': '38.6799954431533', 'sex': 'Female', 'party': 'Democrat', 'race_ethnicity': 'Caucasian', 'state_code': 'CA'}\n"
     ]
    }
   ],
   "source": [
    "get_sample_line(friends_file, 0)"
   ]
  },
  {
   "cell_type": "code",
   "execution_count": 12,
   "metadata": {
    "scrolled": false
   },
   "outputs": [
    {
     "name": "stdout",
     "output_type": "stream",
     "text": [
      "{'user_id': '5806', 'fips': '6083', 'state': 'CA', 'personid': '137481394', 'twProfileName': 'Desiree Fegette', 'twProfileHandle': 'desmiceli', 'twProfileLoc': 'Carpinteria, CA', 'state_code': 'CA', 'first_name': 'DESIREE', 'last_name': 'FEGETTE', 'birth_date': '1978-02-14', 'sex': 'Female', 'ethnicity_code': 'W', 'ethnicity_subgroup': '', 'ethnicity_source': 'model', 'phone_number': '5105363804', 'phone_type': 'L', 'media_market_name': 'Santa Barbara-Santa Maria, CA', 'media_market_id': '269', 'us_house_district': '24', 'reg_address_street1': '4578 4th St Apt C', 'reg_address_street2': '', 'reg_address_city': 'Carpinteria', 'reg_address_state': 'CA', 'reg_address_zip5': '93013', 'reg_address_zip4': '2201', 'reg_address_countyfips': '83', 'reg_address_lat': '34.3991581361', 'reg_address_long': '-119.52616365', 'mailing_address_street1': '', 'mailing_address_street2': '', 'mailing_address_city': '', 'mailing_address_state': '', 'mailing_address_zip5': '0', 'mailing_address_zip4': '0', 'mailing_address_countyfips': '0', 'mailing_address_lat': '0', 'mailing_address_long': '0', 'earliest_reg_date': '2012-10-22', 'reg_party_dem': '1', 'reg_party_rep': '0', 'reg_party_oth': '0', 'reg_party_lib': '0', 'reg_party_grn': '0', 'reg_party_ind': '0', 'reg_party_na': '0', 'turnout_2014': '1', 'turnout_2012': '1', 'turnout_2010': '1', 'turnout_2008': '1', 'flags_online': '1', 'flags_facebook_user': '1', 'flags_aol_user': '0', 'flags_catholic': '0', 'flags_jewish': '0', 'flags_married': '0', 'flags_single': '0', 'flags_haskids': '0', 'flags_retired': '0', 'flags_occgroup_bluecollar': '0', 'flags_occgroup_mgmt': '0', 'flags_occgroup_officeadmin': '0', 'flags_occgroup_professional': '0', 'flags_occgroup_sales': '0', 'flags_occgroup_technical': '0', 'voterbase_id': 'CA-25848300', 'tsmart_first_name': 'DESIREE', 'tsmart_middle_name': 'MICELI', 'tsmart_name_suffix': '', 'tsmart_full_address': '4578 4TH ST APT C', 'tsmart_city': 'CARPINTERIA', 'tsmart_state': 'CA', 'tsmart_zip': '93013', 'tsmart_zip4': '2201', 'tsmart_street_number': '4578', 'tsmart_pre_directional': '', 'tsmart_street_name': '4TH', 'tsmart_street_suffix': 'ST', 'tsmart_post_directional': '', 'tsmart_unit_designator': 'APT', 'tsmart_secondary_number': 'C', 'voterbase_registration_status': 'Registered', 'voterbase_dob': '19780214', 'voterbase_age': '39', 'voterbase_gender': 'Female', 'voterbase_race': 'Caucasian', 'vf_party': 'Democrat', 'vf_source_state': 'CA', 'vf_county_code': '83', 'vf_county_name': 'SANTA BARBARA', 'vf_cd': '24', 'vf_sd': '19', 'vf_hd': '37', 'vf_township': '', 'vf_ward': '', 'vf_precinct_id': '11', 'vf_precinct_name': '11', 'vf_national_precinct_code': 'CA_SANTA BARBARA_11', 'vf_county_council': '001', 'vf_city_council': '', 'vf_municipal_district': 'CARPINTERIA', 'vf_school_district': 'CARPINTERIA UNIFIED SCHOOL DISTRICT', 'vf_judicial_district': '', 'tsmart_county_code': '83', 'tsmart_county_name': 'SANTA BARBARA', 'tsmart_cd': '24', 'tsmart_sd': '019', 'tsmart_hd': '037', 'tsmart_township': '', 'tsmart_ward': '', 'tsmart_precinct_id': '11', 'tsmart_precinct_name': '11', 'tsmart_county_council': '001', 'tsmart_city_council': '', 'tsmart_municipal_district': 'CARPINTERIA', 'tsmart_school_district': 'CARPINTERIA UNIFIED SCHOOL DISTRICT', 'tsmart_judicial_district': '', 'tsmart_latitude': '34.3991581360501', 'tsmart_longitude': '-119.52616364979', 'tsmart_level': 'Street', 'tsmart_census_id': '60830016042003', 'tsmart_dma': '855', 'tsmart_dma_name': 'Santa Barbara-Santa Maria-San Luis Obispo CA', 'tsmart_place': '611446', 'tsmart_place_name': 'Carpinteria', 'reg_latitude': '34.3991581360501', 'reg_longitude': '-119.52616364979', 'reg_level': 'Street', 'reg_census_id': '60830016042003', 'reg_dma': '855', 'reg_dma_name': 'Santa Barbara-Santa Maria-San Luis Obispo CA', 'reg_place': '611446', 'reg_place_name': 'Carpinteria', 'voterbase_deceased_flag': '', 'vf_reg_cass_address_full': '4578 4TH ST APT C', 'vf_reg_cass_city': 'CARPINTERIA', 'vf_reg_cass_state': 'CA', 'vf_reg_cass_zip': '93013', 'vf_reg_cass_zip4': '2201', 'vf_reg_cass_street_num': '4578', 'vf_reg_cass_pre_directional': '', 'vf_reg_cass_street_name': '4TH', 'vf_reg_cass_street_suffix': 'ST', 'vf_reg_cass_post_directional': '', 'vf_reg_cass_unit_designator': 'APT', 'vf_reg_cass_apt_num': 'C', 'tsmart_partisan_score': '92.3', 'tsmart_general_turnout_score': '0', 'tsmart_presidential_general_turnout_score': '88.4', 'tsmart_midterm_general_turnout_score': '77.5', 'tsmart_offyear_general_turnout_score': '22.6', 'tsmart_presidential_primary_turnout_score': '76.1', 'tsmart_non_presidential_primary_turnout_score': '50.5', 'matchType': 'both panels', 'party_dnc': 'Democrat', 'party': 'Democrat', 'county': '083', 'county_fips': '083', 'state_fips': '6', 'obama': '94129', 'romney': '64606', 'perc_obama': '0.592994613664283', 'county_name': 'Santa Barbara', 'date_of_birth': '1978-02-14', 'age': '38.6799954431533', 'sex_imp': 'NA', 'race_ethnicity_dnc': 'Caucasian', 'race_ethnicity_ts': 'Caucasian', 'race_ethnicity': 'Caucasian', 'ethn_imp': 'NA', 'is_swingstate_voter': 'FALSE', 'verified': 'FALSE', 'protected': 'FALSE', 'followers_count': '82', 'friends_count': '32', 'ntweets_total': '86', 'ntweets_json': '86', 'n_clinton': '0', 'n_trump': '0', 'sent_clinton': '0', 'sent_trump': '0', 'imwithher': '0', 'maga': '0', 'tcot': '0', 'politics': '0', 'debate2016': '0', 'blacklivesmatter': '0', 'alllivesmatter': '0', 'nevertrump': '0', 'election2016': '0', 'lockherup': '0', 'feelthebern': '0', 'ReplyTo_Trump': '0', 'ReplyTo_Clinton': '0', 'Quote_Trump': '0', 'Quote_Clinton': '0', 'RT_Trump': '0', 'RT_Clinton': '0', 'Mention_Trump': '0', 'Mention_Clinton': '0', 'TextMention_Trump': '0', 'TextMention_Clinton': '0', 'ReplyTo_Trump_sent': '0', 'ReplyTo_Clinton_sent': '0', 'Quote_Trump_sent': '0', 'Quote_Clinton_sent': '0', 'RT_Trump_sent': '0', 'RT_Clinton_sent': '0', 'Mention_Trump_sent': '0', 'Mention_Clinton_sent': '0', 'TextMention_Trump_sent': '0', 'TextMention_Clinton_sent': '0', 'before_primaries': '6.44294349584873', 'before_election': '0', 'after_election': '0', 'total_exposures': '24', 'n_black_exp': '0', 'n_red_exp': '0', 'n_orange_exp': '0', 'total_shares': '0', 'n_black_shares': '0', 'n_red_shares': '0', 'n_orange_shares': '0', 'n_exp': '0', 'n_share': '0', 'n_source': '9', 'gini_site': '0.115079365079365', 'n_sites': '21', 'bot_score': '0.36', 'no_bot_score': 'FALSE', 'is_bot': 'FALSE', 'is_compromised': 'FALSE', 'scaled_followers': '-0.172991290449217', 'scaled_friends': '-1.41516817524436', 'scaled_friendratio': '1.5890855841616', 'scaled_election_tweet': '-0.983045411151365', 'scaled_nsource': '-1.14645372903557', 'scaled_nsites': '-1.12077663664463', 'scaled_sitegini': '2.2230142975076', 'scaled_bot': '0.33187001106691', 'verified_factor': 'No', 'swingstate_factor': 'No', 'sitesource_ratio': '1.21330454850849', 'scaled_sitesource_ratio': '-0.128486802554995', 'log_election_tweet': '0', 'log_friends': '5', 'is_supersharer': 'FALSE', 'is_superconsumer': 'FALSE', 'is_outlier': 'FALSE', 'pol_affl': '-0.408727651380837', 'pol_align': '-0.117568763778402'}\n"
     ]
    }
   ],
   "source": [
    "get_sample_line(panel_file, 0)"
   ]
  },
  {
   "cell_type": "code",
   "execution_count": 13,
   "metadata": {},
   "outputs": [
    {
     "name": "stdout",
     "output_type": "stream",
     "text": [
      "{'': '1', 'domain': '100percentfedup.com', 'domain_color': 'Red'}\n"
     ]
    }
   ],
   "source": [
    "get_sample_line(domains_file, 0)"
   ]
  },
  {
   "cell_type": "code",
   "execution_count": 14,
   "metadata": {},
   "outputs": [
    {
     "name": "stdout",
     "output_type": "stream",
     "text": [
      "{'user_id': '12', 'domain': 'sacbee.com', 'label': 'GY'}\n"
     ]
    }
   ],
   "source": [
    "get_sample_line(sources_file, 0)"
   ]
  },
  {
   "cell_type": "code",
   "execution_count": 15,
   "metadata": {
    "scrolled": true
   },
   "outputs": [
    {
     "name": "stdout",
     "output_type": "stream",
     "text": [
      "{'user_id': '788253393877737472', 'domain': 'abc7ny.com', 'label': 'GY', 'rel_to_post': 'following'}\n",
      "{'user_id': '788253393877737472', 'domain': 'abcnews.go.com', 'label': 'GY', 'rel_to_post': 'following'}\n",
      "{'user_id': '788253393877737472', 'domain': 'elle.com', 'label': 'GY', 'rel_to_post': 'following'}\n",
      "{'user_id': '788253393877737472', 'domain': 'iwillvote.com', 'label': 'GY', 'rel_to_post': 'following'}\n",
      "{'user_id': '788253393877737472', 'domain': 'nbcnews.com', 'label': 'GY', 'rel_to_post': 'following'}\n",
      "{'user_id': '788253393877737472', 'domain': 'nbcnews.com', 'label': 'GY', 'rel_to_post': 'following'}\n",
      "{'user_id': '788253393877737472', 'domain': 'nbcnews.com', 'label': 'GY', 'rel_to_post': 'following'}\n",
      "{'user_id': '788253393877737472', 'domain': 'nbcnewyork.com', 'label': 'GY', 'rel_to_post': 'following'}\n",
      "{'user_id': '788253393877737472', 'domain': 'newyorker.com', 'label': 'GY', 'rel_to_post': 'following'}\n",
      "{'user_id': '788253393877737472', 'domain': 'newyorker.com', 'label': 'GY', 'rel_to_post': 'following'}\n",
      "{'user_id': '788253393877737472', 'domain': 'npr.org', 'label': 'GY', 'rel_to_post': 'following'}\n",
      "{'user_id': '788253393877737472', 'domain': 'nydailynews.com', 'label': 'GY', 'rel_to_post': 'following'}\n",
      "{'user_id': '788253393877737472', 'domain': 'nydailynews.com', 'label': 'GY', 'rel_to_post': 'following'}\n",
      "{'user_id': '788253393877737472', 'domain': 'nytimes.com', 'label': 'GY', 'rel_to_post': 'following'}\n",
      "{'user_id': '788253393877737472', 'domain': 'politicususa.com', 'label': 'GY', 'rel_to_post': 'following'}\n",
      "{'user_id': '788253393877737472', 'domain': 'reuters.com', 'label': 'GY', 'rel_to_post': 'following'}\n",
      "{'user_id': '788253393877737472', 'domain': 'slate.com', 'label': 'GY', 'rel_to_post': 'following'}\n",
      "{'user_id': '788253393877737472', 'domain': 'slate.com', 'label': 'GY', 'rel_to_post': 'following'}\n",
      "{'user_id': '788253393877737472', 'domain': 'slate.com', 'label': 'GY', 'rel_to_post': 'following'}\n",
      "{'user_id': '788253393877737472', 'domain': 'slate.com', 'label': 'GY', 'rel_to_post': 'following'}\n",
      "{'user_id': '788253393877737472', 'domain': 'techcrunch.com', 'label': 'GY', 'rel_to_post': 'following'}\n",
      "{'user_id': '788253393877737472', 'domain': 'thestar.com', 'label': 'GY', 'rel_to_post': 'following'}\n",
      "{'user_id': '788253393877737472', 'domain': 'vice.com', 'label': 'GY', 'rel_to_post': 'following'}\n",
      "{'user_id': '788253393877737472', 'domain': 'washingtonpost.com', 'label': 'GY', 'rel_to_post': 'following'}\n",
      "{'user_id': '8318902', 'domain': 'abc7ny.com', 'label': 'GY', 'rel_to_post': 'following'}\n",
      "{'user_id': '8318902', 'domain': 'abcnews.go.com', 'label': 'GY', 'rel_to_post': 'following'}\n",
      "{'user_id': '8318902', 'domain': 'elle.com', 'label': 'GY', 'rel_to_post': 'following'}\n",
      "{'user_id': '8318902', 'domain': 'iwillvote.com', 'label': 'GY', 'rel_to_post': 'following'}\n",
      "{'user_id': '8318902', 'domain': 'nbcnews.com', 'label': 'GY', 'rel_to_post': 'following'}\n",
      "{'user_id': '8318902', 'domain': 'nbcnews.com', 'label': 'GY', 'rel_to_post': 'following'}\n",
      "{'user_id': '8318902', 'domain': 'nbcnews.com', 'label': 'GY', 'rel_to_post': 'following'}\n",
      "{'user_id': '8318902', 'domain': 'nbcnewyork.com', 'label': 'GY', 'rel_to_post': 'following'}\n",
      "{'user_id': '8318902', 'domain': 'newyorker.com', 'label': 'GY', 'rel_to_post': 'following'}\n",
      "{'user_id': '8318902', 'domain': 'newyorker.com', 'label': 'GY', 'rel_to_post': 'following'}\n",
      "{'user_id': '8318902', 'domain': 'npr.org', 'label': 'GY', 'rel_to_post': 'following'}\n",
      "{'user_id': '8318902', 'domain': 'nydailynews.com', 'label': 'GY', 'rel_to_post': 'following'}\n",
      "{'user_id': '8318902', 'domain': 'nydailynews.com', 'label': 'GY', 'rel_to_post': 'following'}\n",
      "{'user_id': '8318902', 'domain': 'nytimes.com', 'label': 'GY', 'rel_to_post': 'following'}\n",
      "{'user_id': '8318902', 'domain': 'politicususa.com', 'label': 'GY', 'rel_to_post': 'following'}\n",
      "{'user_id': '8318902', 'domain': 'reuters.com', 'label': 'GY', 'rel_to_post': 'following'}\n",
      "{'user_id': '8318902', 'domain': 'slate.com', 'label': 'GY', 'rel_to_post': 'following'}\n",
      "{'user_id': '8318902', 'domain': 'slate.com', 'label': 'GY', 'rel_to_post': 'following'}\n",
      "{'user_id': '8318902', 'domain': 'slate.com', 'label': 'GY', 'rel_to_post': 'following'}\n",
      "{'user_id': '8318902', 'domain': 'slate.com', 'label': 'GY', 'rel_to_post': 'following'}\n",
      "{'user_id': '8318902', 'domain': 'techcrunch.com', 'label': 'GY', 'rel_to_post': 'following'}\n",
      "{'user_id': '8318902', 'domain': 'thestar.com', 'label': 'GY', 'rel_to_post': 'following'}\n",
      "{'user_id': '8318902', 'domain': 'vice.com', 'label': 'GY', 'rel_to_post': 'following'}\n",
      "{'user_id': '8318902', 'domain': 'washingtonpost.com', 'label': 'GY', 'rel_to_post': 'following'}\n",
      "{'user_id': '1325000900', 'domain': 'abc7ny.com', 'label': 'GY', 'rel_to_post': 'following'}\n",
      "{'user_id': '1325000900', 'domain': 'abcnews.go.com', 'label': 'GY', 'rel_to_post': 'following'}\n",
      "{'user_id': '1325000900', 'domain': 'elle.com', 'label': 'GY', 'rel_to_post': 'following'}\n",
      "{'user_id': '1325000900', 'domain': 'iwillvote.com', 'label': 'GY', 'rel_to_post': 'following'}\n",
      "{'user_id': '1325000900', 'domain': 'nbcnews.com', 'label': 'GY', 'rel_to_post': 'following'}\n",
      "{'user_id': '1325000900', 'domain': 'nbcnews.com', 'label': 'GY', 'rel_to_post': 'following'}\n",
      "{'user_id': '1325000900', 'domain': 'nbcnews.com', 'label': 'GY', 'rel_to_post': 'following'}\n",
      "{'user_id': '1325000900', 'domain': 'nbcnewyork.com', 'label': 'GY', 'rel_to_post': 'following'}\n",
      "{'user_id': '1325000900', 'domain': 'newyorker.com', 'label': 'GY', 'rel_to_post': 'following'}\n",
      "{'user_id': '1325000900', 'domain': 'newyorker.com', 'label': 'GY', 'rel_to_post': 'following'}\n",
      "{'user_id': '1325000900', 'domain': 'npr.org', 'label': 'GY', 'rel_to_post': 'following'}\n",
      "{'user_id': '1325000900', 'domain': 'nydailynews.com', 'label': 'GY', 'rel_to_post': 'following'}\n",
      "{'user_id': '1325000900', 'domain': 'nydailynews.com', 'label': 'GY', 'rel_to_post': 'following'}\n",
      "{'user_id': '1325000900', 'domain': 'nytimes.com', 'label': 'GY', 'rel_to_post': 'following'}\n",
      "{'user_id': '1325000900', 'domain': 'politicususa.com', 'label': 'GY', 'rel_to_post': 'following'}\n",
      "{'user_id': '1325000900', 'domain': 'reuters.com', 'label': 'GY', 'rel_to_post': 'following'}\n",
      "{'user_id': '1325000900', 'domain': 'slate.com', 'label': 'GY', 'rel_to_post': 'following'}\n",
      "{'user_id': '1325000900', 'domain': 'slate.com', 'label': 'GY', 'rel_to_post': 'following'}\n",
      "{'user_id': '1325000900', 'domain': 'slate.com', 'label': 'GY', 'rel_to_post': 'following'}\n",
      "{'user_id': '1325000900', 'domain': 'slate.com', 'label': 'GY', 'rel_to_post': 'following'}\n",
      "{'user_id': '1325000900', 'domain': 'techcrunch.com', 'label': 'GY', 'rel_to_post': 'following'}\n",
      "{'user_id': '1325000900', 'domain': 'thestar.com', 'label': 'GY', 'rel_to_post': 'following'}\n",
      "{'user_id': '1325000900', 'domain': 'vice.com', 'label': 'GY', 'rel_to_post': 'following'}\n",
      "{'user_id': '1325000900', 'domain': 'washingtonpost.com', 'label': 'GY', 'rel_to_post': 'following'}\n",
      "{'user_id': '16573941', 'domain': 'abc7ny.com', 'label': 'GY', 'rel_to_post': 'following'}\n",
      "{'user_id': '16573941', 'domain': 'abcnews.go.com', 'label': 'GY', 'rel_to_post': 'following'}\n",
      "{'user_id': '16573941', 'domain': 'elle.com', 'label': 'GY', 'rel_to_post': 'following'}\n",
      "{'user_id': '16573941', 'domain': 'iwillvote.com', 'label': 'GY', 'rel_to_post': 'following'}\n",
      "{'user_id': '16573941', 'domain': 'nbcnews.com', 'label': 'GY', 'rel_to_post': 'following'}\n",
      "{'user_id': '16573941', 'domain': 'nbcnews.com', 'label': 'GY', 'rel_to_post': 'following'}\n",
      "{'user_id': '16573941', 'domain': 'nbcnews.com', 'label': 'GY', 'rel_to_post': 'following'}\n",
      "{'user_id': '16573941', 'domain': 'nbcnewyork.com', 'label': 'GY', 'rel_to_post': 'following'}\n",
      "{'user_id': '16573941', 'domain': 'newyorker.com', 'label': 'GY', 'rel_to_post': 'following'}\n",
      "{'user_id': '16573941', 'domain': 'newyorker.com', 'label': 'GY', 'rel_to_post': 'following'}\n",
      "{'user_id': '16573941', 'domain': 'npr.org', 'label': 'GY', 'rel_to_post': 'following'}\n",
      "{'user_id': '16573941', 'domain': 'nydailynews.com', 'label': 'GY', 'rel_to_post': 'following'}\n",
      "{'user_id': '16573941', 'domain': 'nydailynews.com', 'label': 'GY', 'rel_to_post': 'following'}\n",
      "{'user_id': '16573941', 'domain': 'nytimes.com', 'label': 'GY', 'rel_to_post': 'following'}\n",
      "{'user_id': '16573941', 'domain': 'politicususa.com', 'label': 'GY', 'rel_to_post': 'following'}\n",
      "{'user_id': '16573941', 'domain': 'reuters.com', 'label': 'GY', 'rel_to_post': 'following'}\n",
      "{'user_id': '16573941', 'domain': 'slate.com', 'label': 'GY', 'rel_to_post': 'following'}\n",
      "{'user_id': '16573941', 'domain': 'slate.com', 'label': 'GY', 'rel_to_post': 'following'}\n",
      "{'user_id': '16573941', 'domain': 'slate.com', 'label': 'GY', 'rel_to_post': 'following'}\n",
      "{'user_id': '16573941', 'domain': 'slate.com', 'label': 'GY', 'rel_to_post': 'following'}\n",
      "{'user_id': '16573941', 'domain': 'techcrunch.com', 'label': 'GY', 'rel_to_post': 'following'}\n",
      "{'user_id': '16573941', 'domain': 'thestar.com', 'label': 'GY', 'rel_to_post': 'following'}\n",
      "{'user_id': '16573941', 'domain': 'vice.com', 'label': 'GY', 'rel_to_post': 'following'}\n",
      "{'user_id': '16573941', 'domain': 'washingtonpost.com', 'label': 'GY', 'rel_to_post': 'following'}\n",
      "{'user_id': '311488076', 'domain': 'abc7ny.com', 'label': 'GY', 'rel_to_post': 'following'}\n",
      "{'user_id': '311488076', 'domain': 'abcnews.go.com', 'label': 'GY', 'rel_to_post': 'following'}\n",
      "{'user_id': '311488076', 'domain': 'elle.com', 'label': 'GY', 'rel_to_post': 'following'}\n",
      "{'user_id': '311488076', 'domain': 'iwillvote.com', 'label': 'GY', 'rel_to_post': 'following'}\n",
      "{'user_id': '311488076', 'domain': 'nbcnews.com', 'label': 'GY', 'rel_to_post': 'following'}\n"
     ]
    }
   ],
   "source": [
    "get_sample_line(nodes_file, 100)"
   ]
  },
  {
   "cell_type": "code",
   "execution_count": null,
   "metadata": {},
   "outputs": [],
   "source": []
  },
  {
   "cell_type": "markdown",
   "metadata": {},
   "source": [
    "## Make appropriate files"
   ]
  },
  {
   "cell_type": "code",
   "execution_count": 16,
   "metadata": {},
   "outputs": [],
   "source": [
    "def get_url_domain(url):\n",
    "    prefixes = ['https', 'http', '://', 'www.']\n",
    "    for p in prefixes:\n",
    "        if (p == url[:len(p)]):\n",
    "            url=url[len(p):]\n",
    "    return url.split('/')[0]"
   ]
  },
  {
   "cell_type": "code",
   "execution_count": 17,
   "metadata": {},
   "outputs": [],
   "source": [
    "def get_label_dict(domains_file=domains_file):\n",
    "    input_file = domains_file\n",
    "    domains_dict = {}\n",
    "    with open(input_file, 'r', encoding='utf-8') as csvfile:\n",
    "        rder = csv.DictReader(csvfile)\n",
    "        for row in rder:\n",
    "            domains_dict[row['domain']] = row['domain_color']\n",
    "    return domains_dict"
   ]
  },
  {
   "cell_type": "code",
   "execution_count": 18,
   "metadata": {},
   "outputs": [],
   "source": [
    "#Interesting Statistics\n",
    "doms_not_in_file = 0 #domains in urls_file but not domains_file (bc domains_file is a small subset)\n",
    "distinct_domains = set() #all domains in urls_file\n",
    "doms_in_sources_file = set() #domains in sources_file (fewer than domains_file bc non political urls, etc taken out)"
   ]
  },
  {
   "cell_type": "code",
   "execution_count": 19,
   "metadata": {},
   "outputs": [],
   "source": [
    "#combine user posts with domain labels\n",
    "def make_sources_data(domains_file=domains_file, sources_file=sources_file): \n",
    "    global urls_file\n",
    "    \n",
    "    #to track interesting statistics\n",
    "    global distinct_domains, doms_not_in_file, doms_in_sources_file\n",
    "    domains_dict = get_label_dict(domains_file)\n",
    "    input_file = urls_file\n",
    "    output_file = sources_file\n",
    "\n",
    "    with open(input_file, 'r', encoding='utf-8', errors='replace') as csvfile:\n",
    "        rder = csv.DictReader(csvfile)\n",
    "        with open(output_file, 'w') as csvfile2:\n",
    "            h=['user_id', 'domain', 'label', 'timestamp'] #edited\n",
    "            wrter = csv.DictWriter(csvfile2, fieldnames=h)\n",
    "            wrter.writeheader()\n",
    "            for row in rder:\n",
    "                domain = get_url_domain(row['canonical_url'])\n",
    "                \n",
    "                if (domain not in distinct_domains): #stats tracking\n",
    "                    distinct_domains.add(domain)\n",
    "                    if (domain not in domains_dict):\n",
    "                        doms_not_in_file+=1\n",
    "                        \n",
    "                #273 fewer domains in sources_file as compared to domains_file due to this (quite necessary) line\n",
    "                if (not row['is_pol_news_site']) or ('twitter' in domain) or (not domain in domains_dict):\n",
    "                    continue\n",
    "                if (not row['is_panel_member']):\n",
    "                    continue\n",
    "                doms_in_sources_file.add(domain) #stats tracking\n",
    "                wrter.writerow({h[0]:row['user_id'],h[1]:domain,h[2]:domains_dict[domain], h[3]:row['ts']}) #edited\n",
    "#Note: the simplified ids assigned later on have GYs exclusively first, perhaps due to some GY domains being present in large number?"
   ]
  },
  {
   "cell_type": "code",
   "execution_count": null,
   "metadata": {},
   "outputs": [],
   "source": []
  },
  {
   "cell_type": "code",
   "execution_count": null,
   "metadata": {},
   "outputs": [],
   "source": []
  },
  {
   "cell_type": "code",
   "execution_count": 20,
   "metadata": {},
   "outputs": [],
   "source": [
    "#make_sources_data(sources_file='sources_data_ts.csv') #to make timestamp data, specifically for temporal analysis"
   ]
  },
  {
   "cell_type": "code",
   "execution_count": 21,
   "metadata": {},
   "outputs": [],
   "source": [
    "#make_sources_data() #5 mins to run (once output_file exists, never needs to be run again)"
   ]
  },
  {
   "cell_type": "code",
   "execution_count": 22,
   "metadata": {},
   "outputs": [
    {
     "name": "stdout",
     "output_type": "stream",
     "text": [
      "0 0 0\n"
     ]
    }
   ],
   "source": [
    "#I haven't run make_sources_data() this time through, so 0, 0, 0 is the expected answer\n",
    "print(doms_not_in_file, len(distinct_domains), len(doms_in_sources_file))"
   ]
  },
  {
   "cell_type": "code",
   "execution_count": null,
   "metadata": {},
   "outputs": [],
   "source": []
  },
  {
   "cell_type": "code",
   "execution_count": 344,
   "metadata": {},
   "outputs": [
    {
     "name": "stdout",
     "output_type": "stream",
     "text": [
      "{'user_id': '12', 'domain': 'sacbee.com', 'label': 'GY'}\n",
      "{'user_id': '12', 'domain': 'washingtonpost.com', 'label': 'GY'}\n"
     ]
    }
   ],
   "source": [
    "get_sample_line(sources_file, 1)"
   ]
  },
  {
   "cell_type": "code",
   "execution_count": null,
   "metadata": {},
   "outputs": [],
   "source": []
  },
  {
   "cell_type": "code",
   "execution_count": 23,
   "metadata": {},
   "outputs": [],
   "source": [
    "def make_nodes_data(sources_file=sources_file, nodes_file=nodes_file):\n",
    "    input_file1 = sources_file\n",
    "    input_file2 = friends_file\n",
    "    output_file = nodes_file\n",
    "    \n",
    "    sources_dict={}\n",
    "    file_size = 0\n",
    "\n",
    "    with open(input_file1, 'r', encoding='utf-8', errors='replace') as csvfile3:\n",
    "        rder = csv.DictReader(csvfile3)\n",
    "        for row in rder: #sources_dict is just a representation of sources_file\n",
    "            if (not row['user_id'] in sources_dict):\n",
    "                sources_dict[row['user_id']] = []\n",
    "            sources_dict[row['user_id']]+=[row['domain'], row['label']] #adds two strs to lst\n",
    "\n",
    "    with open(output_file, 'w') as csvfile:\n",
    "        h = ['user_id', 'domain', 'label', 'rel_to_post']\n",
    "        wrter = csv.DictWriter(csvfile, fieldnames=h)\n",
    "        wrter.writeheader()\n",
    "\n",
    "        with open(input_file2, 'r', encoding='utf-8', errors='replace') as csvfile2:\n",
    "            rder = csv.DictReader(csvfile2)\n",
    "            for row in rder:\n",
    "                p_uid = row['panel_uid']\n",
    "                f_uid = row['friend_uid']\n",
    "                if (not p_uid in sources_dict): \n",
    "                    continue \n",
    "                \n",
    "                #accounting for friends of current person (who we know at this point has posted)\n",
    "                for i in range(0, int(len(sources_dict[p_uid])/2)):\n",
    "                    domain=sources_dict[p_uid][2*i]\n",
    "                    rel = 'following'\n",
    "                    wrter.writerow({h[0]:f_uid, h[1]:domain, h[2]:sources_dict[p_uid][2*i+1], h[3]:rel})\n",
    "                    file_size+=1\n",
    "                    if (file_size % (10**6) == 0):\n",
    "                        print (file_size/(10**6), end = ' ')\n",
    "            \n",
    "            for srce in sources_dict:\n",
    "                for i in range(0, int(len(sources_dict[srce])/2)):\n",
    "                    wrter.writerow({h[0]:srce,h[1]:sources_dict[srce][2*i],h[2]:sources_dict[srce][2*i+1],h[3]:'posted'})\n",
    "                    file_size+=1\n",
    "                    if (file_size % (10**6) == 0):\n",
    "                        print (file_size/(10**6), end = ' ')\n",
    "    return file_size\n",
    "#Note: A user could have both a posted entry and a following entry to the same source in this file\n",
    "#Note: A user could have posted/following entries to the same source multiple times"
   ]
  },
  {
   "cell_type": "code",
   "execution_count": 345,
   "metadata": {},
   "outputs": [],
   "source": [
    "def make_nodes_data2(sources_file='sources_data_ts.csv', nodes_file='nodes_data_ts.csv'):\n",
    "    input_file1 = 'sources_data_ts.csv'#sources_file\n",
    "    input_file2 = friends_file\n",
    "    output_file = 'nodes_data_ts.csv'\n",
    "    \n",
    "    sources_dict={}\n",
    "    sources_dict2 = {}\n",
    "    file_size = 0\n",
    "\n",
    "    with open(input_file1, 'r', encoding='utf-8', errors='replace') as csvfile3:\n",
    "        rder = csv.DictReader(csvfile3)\n",
    "        for row in rder: #sources_dict is just a representation of sources_file\n",
    "            if (not row['user_id'] in sources_dict):\n",
    "                sources_dict[row['user_id']] = []\n",
    "                sources_dict2[row['user_id']] = []\n",
    "            sources_dict[row['user_id']]+=[row['domain'], row['label']] #adds two strs to lst\n",
    "            sources_dict2[row['user_id']] += [row['timestamp']]\n",
    "\n",
    "    with open(output_file, 'w') as csvfile:\n",
    "        h = ['user_id', 'domain', 'label', 'rel_to_post', 'timestamp']\n",
    "        wrter = csv.DictWriter(csvfile, fieldnames=h)\n",
    "        wrter.writeheader()\n",
    "\n",
    "        with open(input_file2, 'r', encoding='utf-8', errors='replace') as csvfile2:\n",
    "            rder = csv.DictReader(csvfile2)\n",
    "            for row in rder:\n",
    "                p_uid = row['panel_uid']\n",
    "                f_uid = row['friend_uid']\n",
    "                if (not p_uid in sources_dict): \n",
    "                    continue \n",
    "                \n",
    "                #accounting for friends of current person (who we know at this point has posted)\n",
    "                for i in range(0, int(len(sources_dict[p_uid])/2)):\n",
    "                    domain=sources_dict[p_uid][2*i]\n",
    "                    rel = 'following'\n",
    "                    wrter.writerow({h[0]:f_uid, h[1]:domain, h[2]:sources_dict[p_uid][2*i+1], h[3]:rel, h[4]:sources_dict2[p_uid][i]})\n",
    "                    file_size+=1\n",
    "                    if (file_size % (10**6) == 0):\n",
    "                        print (file_size/(10**6), end = ' ')\n",
    "            \n",
    "            for srce in sources_dict:\n",
    "                for i in range(0, int(len(sources_dict[srce])/2)):\n",
    "                    wrter.writerow({h[0]:srce,h[1]:sources_dict[srce][2*i],h[2]:sources_dict[srce][2*i+1],h[3]:'posted', h[4]:sources_dict2[srce][i]})\n",
    "                    file_size+=1\n",
    "                    if (file_size % (10**6) == 0):\n",
    "                        print (file_size/(10**6), end = ' ')\n",
    "    return file_size\n",
    "#Note: A user could have both a posted entry and a following entry to the same source in this file\n",
    "#Note: A user could have posted/following entries to the same source multiple times"
   ]
  },
  {
   "cell_type": "code",
   "execution_count": null,
   "metadata": {},
   "outputs": [],
   "source": []
  },
  {
   "cell_type": "code",
   "execution_count": 346,
   "metadata": {},
   "outputs": [
    {
     "name": "stdout",
     "output_type": "stream",
     "text": [
      "1.0 2.0 3.0 4.0 5.0 6.0 7.0 8.0 9.0 10.0 11.0 12.0 13.0 14.0 15.0 16.0 17.0 18.0 19.0 20.0 21.0 22.0 23.0 24.0 25.0 26.0 27.0 28.0 29.0 30.0 31.0 32.0 33.0 34.0 35.0 36.0 37.0 38.0 39.0 40.0 41.0 42.0 43.0 44.0 45.0 46.0 47.0 48.0 49.0 50.0 51.0 52.0 53.0 54.0 55.0 56.0 57.0 58.0 59.0 60.0 61.0 62.0 63.0 64.0 65.0 66.0 67.0 68.0 69.0 70.0 71.0 72.0 73.0 74.0 75.0 76.0 77.0 78.0 79.0 80.0 81.0 82.0 83.0 84.0 85.0 86.0 87.0 88.0 89.0 90.0 91.0 92.0 93.0 94.0 95.0 96.0 97.0 98.0 99.0 100.0 101.0 102.0 103.0 104.0 105.0 106.0 107.0 108.0 109.0 110.0 111.0 112.0 113.0 114.0 115.0 116.0 117.0 118.0 119.0 120.0 121.0 122.0 123.0 124.0 125.0 126.0 127.0 128.0 129.0 130.0 131.0 132.0 133.0 134.0 135.0 136.0 137.0 138.0 139.0 140.0 141.0 142.0 143.0 144.0 145.0 146.0 147.0 148.0 149.0 150.0 151.0 152.0 153.0 154.0 155.0 156.0 157.0 158.0 159.0 160.0 161.0 162.0 163.0 164.0 165.0 166.0 167.0 168.0 169.0 170.0 171.0 172.0 173.0 174.0 175.0 176.0 177.0 178.0 179.0 180.0 181.0 182.0 183.0 184.0 185.0 186.0 187.0 188.0 189.0 190.0 191.0 192.0 193.0 194.0 195.0 196.0 197.0 198.0 199.0 200.0 201.0 202.0 203.0 204.0 205.0 206.0 207.0 208.0 209.0 210.0 211.0 212.0 213.0 214.0 215.0 216.0 217.0 218.0 219.0 220.0 221.0 222.0 223.0 224.0 225.0 226.0 227.0 228.0 229.0 230.0 231.0 232.0 233.0 234.0 235.0 236.0 237.0 238.0 239.0 240.0 "
     ]
    },
    {
     "data": {
      "text/plain": [
       "240050810"
      ]
     },
     "execution_count": 346,
     "metadata": {},
     "output_type": "execute_result"
    }
   ],
   "source": [
    "make_nodes_data2()"
   ]
  },
  {
   "cell_type": "code",
   "execution_count": 469,
   "metadata": {},
   "outputs": [
    {
     "name": "stdout",
     "output_type": "stream",
     "text": [
      "1.0 2.0 3.0 4.0 5.0 6.0 7.0 8.0 9.0 10.0 11.0 12.0 13.0 14.0 15.0 16.0 17.0 18.0 19.0 20.0 21.0 22.0 23.0 24.0 25.0 26.0 27.0 28.0 29.0 30.0 31.0 32.0 33.0 34.0 35.0 36.0 37.0 38.0 39.0 40.0 41.0 42.0 43.0 44.0 45.0 46.0 47.0 48.0 49.0 50.0 51.0 52.0 53.0 54.0 55.0 56.0 57.0 58.0 59.0 60.0 61.0 62.0 63.0 64.0 65.0 66.0 67.0 68.0 69.0 70.0 71.0 72.0 73.0 74.0 75.0 76.0 77.0 78.0 79.0 80.0 81.0 82.0 83.0 84.0 85.0 86.0 87.0 88.0 89.0 90.0 91.0 92.0 93.0 94.0 95.0 96.0 97.0 98.0 99.0 100.0 101.0 102.0 103.0 104.0 105.0 106.0 107.0 108.0 109.0 110.0 111.0 112.0 113.0 114.0 115.0 116.0 117.0 118.0 119.0 120.0 121.0 122.0 123.0 124.0 125.0 126.0 127.0 128.0 129.0 130.0 131.0 132.0 133.0 134.0 135.0 136.0 137.0 138.0 139.0 140.0 141.0 142.0 143.0 144.0 145.0 146.0 147.0 148.0 149.0 150.0 151.0 152.0 153.0 154.0 155.0 156.0 157.0 158.0 159.0 160.0 161.0 162.0 163.0 164.0 165.0 166.0 167.0 168.0 169.0 170.0 171.0 172.0 173.0 174.0 175.0 176.0 177.0 178.0 179.0 180.0 181.0 182.0 183.0 184.0 185.0 186.0 187.0 188.0 189.0 190.0 191.0 192.0 193.0 194.0 195.0 196.0 197.0 198.0 199.0 200.0 201.0 202.0 203.0 204.0 205.0 206.0 207.0 208.0 209.0 210.0 211.0 212.0 213.0 214.0 215.0 216.0 217.0 218.0 219.0 220.0 221.0 222.0 223.0 224.0 225.0 226.0 227.0 228.0 229.0 230.0 231.0 232.0 233.0 234.0 235.0 236.0 237.0 238.0 239.0 240.0 "
     ]
    },
    {
     "data": {
      "text/plain": [
       "240050810"
      ]
     },
     "execution_count": 469,
     "metadata": {},
     "output_type": "execute_result"
    }
   ],
   "source": [
    "#make_nodes_data() #15 mins to run (once output_file exists, never needs to be run again)"
   ]
  },
  {
   "cell_type": "code",
   "execution_count": null,
   "metadata": {},
   "outputs": [],
   "source": []
  },
  {
   "cell_type": "code",
   "execution_count": null,
   "metadata": {},
   "outputs": [],
   "source": []
  },
  {
   "cell_type": "code",
   "execution_count": 24,
   "metadata": {},
   "outputs": [],
   "source": [
    "#makes domains_testing_files, with some fraction of data present\n",
    "#was only used while designing the model\n",
    "def make_partial_domains(domains_input_file, domains_testing_file, t, t2):\n",
    "    domains_dict = get_label_dict(domains_input_file)\n",
    "    output_file = domains_testing_file\n",
    "    \n",
    "    color_counts = {'Red':0, 'Orange':0, 'Black':0, 'GY':0, '':0}\n",
    "    for k in domains_dict:\n",
    "        color_counts[domains_dict[k]]+=1\n",
    "    for c in color_counts:\n",
    "        color_counts[c] *= t\n",
    "        if (c in ['Red', 'Orange', 'Black']):\n",
    "            color_counts[c] *= t2 #could use this to make dataset proportions closer to real world, however currently set to 1\n",
    "    \n",
    "    tupls = list(domains_dict.items()) #thanks to Austin Marshall, stack\n",
    "    random.shuffle(tupls)\n",
    "    \n",
    "    new_labels_lst = []\n",
    "    h=['domain', 'domain_color']\n",
    "    for k,v in tupls:\n",
    "        if (color_counts[v]<1): \n",
    "            continue\n",
    "        color_counts[v]-=1\n",
    "        new_labels_lst.append({h[0]:k,h[1]:v})\n",
    "        \n",
    "    with open(output_file, 'w') as csvfile2:\n",
    "        h=['domain', 'domain_color']\n",
    "        wrter = csv.DictWriter(csvfile2, fieldnames=h)\n",
    "        wrter.writeheader()\n",
    "        for d in new_labels_lst:\n",
    "            wrter.writerow({h[0]:d[h[0]],h[1]:d[h[1]]})"
   ]
  },
  {
   "cell_type": "code",
   "execution_count": null,
   "metadata": {},
   "outputs": [],
   "source": []
  },
  {
   "cell_type": "code",
   "execution_count": 25,
   "metadata": {},
   "outputs": [],
   "source": [
    "domains_dict = get_label_dict(domains_file)"
   ]
  },
  {
   "cell_type": "code",
   "execution_count": 26,
   "metadata": {},
   "outputs": [
    {
     "data": {
      "text/plain": [
       "1782"
      ]
     },
     "execution_count": 26,
     "metadata": {},
     "output_type": "execute_result"
    }
   ],
   "source": [
    "len(domains_dict)"
   ]
  },
  {
   "cell_type": "code",
   "execution_count": 27,
   "metadata": {},
   "outputs": [
    {
     "name": "stdout",
     "output_type": "stream",
     "text": [
      "youtube.com\n",
      "twitter.com\n",
      "facebook.com\n",
      "instagram.com\n",
      "yahoo.com\n",
      "reddit.com\n",
      "giphy.com\n",
      "vimeo.com\n"
     ]
    }
   ],
   "source": [
    "i = 0\n",
    "for x in domains_dict:\n",
    "    #i+=1\n",
    "    if (domains_dict[x] == ''):\n",
    "        print(x)\n",
    "    if (i > 100):\n",
    "        break"
   ]
  },
  {
   "cell_type": "markdown",
   "metadata": {},
   "source": [
    "### Make the files which will be used for training/testing (while desigining the model, no longer relevant)"
   ]
  },
  {
   "cell_type": "code",
   "execution_count": 25,
   "metadata": {},
   "outputs": [],
   "source": [
    "#run once\n",
    "#make_partial_domains(domains_file, domains_training_file1, 2.0/3, 1)"
   ]
  },
  {
   "cell_type": "code",
   "execution_count": 20,
   "metadata": {},
   "outputs": [],
   "source": [
    "#run once\n",
    "#make_sources_data(domains_training_file1, sources_training_file1)"
   ]
  },
  {
   "cell_type": "code",
   "execution_count": 23,
   "metadata": {},
   "outputs": [
    {
     "name": "stdout",
     "output_type": "stream",
     "text": [
      "1.0 2.0 3.0 4.0 5.0 6.0 7.0 8.0 9.0 10.0 11.0 12.0 13.0 14.0 15.0 16.0 17.0 18.0 19.0 20.0 21.0 22.0 23.0 24.0 25.0 26.0 27.0 28.0 29.0 30.0 31.0 32.0 33.0 34.0 35.0 36.0 37.0 38.0 39.0 40.0 41.0 42.0 43.0 44.0 45.0 46.0 47.0 48.0 49.0 50.0 51.0 52.0 53.0 54.0 55.0 56.0 57.0 58.0 59.0 60.0 61.0 62.0 63.0 64.0 65.0 66.0 67.0 68.0 69.0 70.0 71.0 72.0 73.0 74.0 75.0 76.0 77.0 78.0 79.0 80.0 81.0 82.0 83.0 84.0 85.0 86.0 87.0 88.0 89.0 90.0 91.0 92.0 93.0 94.0 95.0 96.0 97.0 98.0 99.0 100.0 101.0 102.0 103.0 104.0 105.0 106.0 107.0 108.0 109.0 110.0 111.0 112.0 113.0 114.0 115.0 116.0 117.0 118.0 119.0 120.0 121.0 122.0 123.0 124.0 125.0 126.0 127.0 128.0 129.0 130.0 131.0 132.0 133.0 134.0 135.0 136.0 137.0 138.0 139.0 140.0 "
     ]
    },
    {
     "data": {
      "text/plain": [
       "140887399"
      ]
     },
     "execution_count": 23,
     "metadata": {},
     "output_type": "execute_result"
    }
   ],
   "source": [
    "#run once\n",
    "#make_nodes_data(sources_training_file1, nodes_training_file1)"
   ]
  },
  {
   "cell_type": "code",
   "execution_count": null,
   "metadata": {},
   "outputs": [],
   "source": []
  },
  {
   "cell_type": "code",
   "execution_count": 28,
   "metadata": {},
   "outputs": [],
   "source": [
    "#each new construction of sources_file will yield different ids!!\n",
    "#ids will be consistent for a given sources_file\n",
    "def distinct_sources(sources_file=sources_file):\n",
    "    input_file = sources_file\n",
    "    sources_dict = {}\n",
    "    with open (input_file, 'r', encoding='utf-8', errors='replace') as csvfile:\n",
    "        rder = csv.DictReader(csvfile)\n",
    "        i=0\n",
    "        for row in rder:\n",
    "            if (not row['domain'] in sources_dict):\n",
    "                sources_dict[row['domain']] = i\n",
    "                i+=1\n",
    "    return sources_dict"
   ]
  },
  {
   "cell_type": "code",
   "execution_count": 29,
   "metadata": {},
   "outputs": [],
   "source": [
    "def distinct_users(nodes_file=nodes_file):\n",
    "    input_file = nodes_file\n",
    "    users_dict = {}\n",
    "    with open (input_file, 'r', encoding='utf-8', errors='replace') as csvfile:\n",
    "        rder = csv.DictReader(csvfile)\n",
    "        i = 0\n",
    "        for row in rder:\n",
    "            if (not row['user_id'] in users_dict):\n",
    "                users_dict[row['user_id']] = i\n",
    "                i+=1\n",
    "    return users_dict"
   ]
  },
  {
   "cell_type": "code",
   "execution_count": 30,
   "metadata": {},
   "outputs": [],
   "source": [
    "def construct_accurate_id_dict(master_dict, subset_dict):\n",
    "    for v in subset_dict:\n",
    "        subset_dict[v] = master_dict[v]\n",
    "    return subset_dict"
   ]
  },
  {
   "cell_type": "code",
   "execution_count": 31,
   "metadata": {},
   "outputs": [],
   "source": [
    "sources_dict = distinct_sources(sources_file)#distinct_sources(sources_training_file1)"
   ]
  },
  {
   "cell_type": "code",
   "execution_count": 32,
   "metadata": {},
   "outputs": [],
   "source": [
    "users_dict = distinct_users(nodes_file)#distinct_users(nodes_training_file1)"
   ]
  },
  {
   "cell_type": "code",
   "execution_count": 33,
   "metadata": {},
   "outputs": [],
   "source": [
    "#ensures the training dict ids are the same as the overall dict ids --> no discrepancies later on in the pipeline\n",
    "#this is no longer relevant, was used while designing the model\n",
    "#sources_dict = construct_accurate_id_dict(sources_dict, sources_dict_subset)\n",
    "#users_dict = construct_accurate_id_dict(users_dict, users_dict_subset)"
   ]
  },
  {
   "cell_type": "code",
   "execution_count": 34,
   "metadata": {
    "scrolled": true
   },
   "outputs": [
    {
     "name": "stdout",
     "output_type": "stream",
     "text": [
      "1509 1675297\n"
     ]
    }
   ],
   "source": [
    "print(len(sources_dict), len(users_dict))"
   ]
  },
  {
   "cell_type": "code",
   "execution_count": null,
   "metadata": {},
   "outputs": [],
   "source": []
  },
  {
   "cell_type": "code",
   "execution_count": 80,
   "metadata": {},
   "outputs": [],
   "source": [
    "#Dict Structure\n",
    "#sources_dict is {domain: simplified id}\n",
    "#users_dict is {id : simplified id}"
   ]
  },
  {
   "cell_type": "code",
   "execution_count": 81,
   "metadata": {},
   "outputs": [],
   "source": [
    "#print(sources_dict) #-- to verify that this pipeline is working\n",
    "#Note: sources_dict is not randomly ordered."
   ]
  },
  {
   "cell_type": "code",
   "execution_count": 35,
   "metadata": {},
   "outputs": [],
   "source": [
    "#make a dict of color labels, w same ids as sources_dict\n",
    "def get_color_labels(domains_file=domains_file, sources_dict=sources_dict):\n",
    "    input_file=domains_file\n",
    "    color_labels = {}\n",
    "    counter = 0\n",
    "    with open(input_file, 'r', encoding='utf-8', errors='replace') as csvfile:\n",
    "        rder = csv.DictReader(csvfile)\n",
    "        for row in rder:\n",
    "            if (not row['domain'] in sources_dict):\n",
    "                counter += 1\n",
    "                continue\n",
    "            color_labels[sources_dict[row['domain']]] = row['domain_color']\n",
    "    #print(counter)\n",
    "    return color_labels"
   ]
  },
  {
   "cell_type": "code",
   "execution_count": 36,
   "metadata": {},
   "outputs": [],
   "source": [
    "color_labels = get_color_labels()"
   ]
  },
  {
   "cell_type": "code",
   "execution_count": 37,
   "metadata": {},
   "outputs": [
    {
     "data": {
      "text/plain": [
       "1509"
      ]
     },
     "execution_count": 37,
     "metadata": {},
     "output_type": "execute_result"
    }
   ],
   "source": [
    "len(color_labels)"
   ]
  },
  {
   "cell_type": "code",
   "execution_count": 38,
   "metadata": {},
   "outputs": [],
   "source": [
    "class Domain:\n",
    "    def __init__(self, domain, s_id, cs_id, lpa_id, color_label):\n",
    "        self.domain = domain\n",
    "        self.simplified_id = s_id\n",
    "        #self.cos_sim_id = cs_id\n",
    "        self.color_label = color_label\n",
    "    \n",
    "    def __str__(self):\n",
    "        return (self.domain + \", \" + str(self.simplified_id) + \": \" + self.color_label) "
   ]
  },
  {
   "cell_type": "code",
   "execution_count": 39,
   "metadata": {},
   "outputs": [],
   "source": [
    "sources_lst = []\n",
    "for d in sources_dict:\n",
    "    domain = Domain(d, sources_dict[d], -1, -1, color_labels[sources_dict[d]])\n",
    "    sources_lst.append(domain)"
   ]
  },
  {
   "cell_type": "code",
   "execution_count": 40,
   "metadata": {},
   "outputs": [],
   "source": [
    "#print(color_labels) #-- to verify that this pipeline is working"
   ]
  },
  {
   "cell_type": "code",
   "execution_count": 41,
   "metadata": {
    "scrolled": true
   },
   "outputs": [
    {
     "data": {
      "text/plain": [
       "(1509, 1509)"
      ]
     },
     "execution_count": 41,
     "metadata": {},
     "output_type": "execute_result"
    }
   ],
   "source": [
    "len(color_labels), len(sources_lst)"
   ]
  },
  {
   "cell_type": "code",
   "execution_count": 339,
   "metadata": {},
   "outputs": [
    {
     "data": {
      "text/plain": [
       "{'788253393877737472': 0,\n",
       " '8318902': 1,\n",
       " '1325000900': 2,\n",
       " '16573941': 3,\n",
       " '311488076': 4,\n",
       " '15764644': 5,\n",
       " '276605848': 6,\n",
       " '800112139704766464': 7,\n",
       " '703338588679835648': 8,\n",
       " '72198806': 9,\n",
       " '935594107': 10,\n",
       " '43963249': 11,\n",
       " '73238146': 12,\n",
       " '1604931252': 13,\n",
       " '6576492': 14,\n",
       " '402957663': 15,\n",
       " '22162854': 16,\n",
       " '16153562': 17,\n",
       " '65698096': 18,\n",
       " '13393052': 19,\n",
       " '14700316': 20,\n",
       " '2408916805': 21,\n",
       " '62950152': 22,\n",
       " '19089077': 23,\n",
       " '142116606': 24,\n",
       " '3287751924': 25,\n",
       " '739948148672565249': 26,\n",
       " '896179430': 27,\n",
       " '74551137': 28,\n",
       " '3379621343': 29,\n",
       " '760011510': 30,\n",
       " '25844640': 31,\n",
       " '3448957574': 32,\n",
       " '3334444214': 33,\n",
       " '4136104887': 34,\n",
       " '807310362': 35,\n",
       " '116503700': 36,\n",
       " '58869484': 37,\n",
       " '764229732149956608': 38,\n",
       " '25838632': 39,\n",
       " '58578066': 40,\n",
       " '1303914253': 41,\n",
       " '34595609': 42,\n",
       " '14134204': 43,\n",
       " '707321099831386112': 44,\n",
       " '3090458169': 45,\n",
       " '526517780': 46,\n",
       " '958288105': 47,\n",
       " '710528914020380672': 48,\n",
       " '28681813': 49,\n",
       " '2872652037': 50,\n",
       " '380608558': 51,\n",
       " '225540697': 52,\n",
       " '1339835893': 53,\n",
       " '37774152': 54,\n",
       " '30783075': 55,\n",
       " '4352460033': 56,\n",
       " '2466899838': 57,\n",
       " '199686715': 58,\n",
       " '3206988449': 59,\n",
       " '4139686813': 60,\n",
       " '153966123': 61,\n",
       " '714873330873069569': 62,\n",
       " '1604808973': 63,\n",
       " '3033098871': 64,\n",
       " '569352613': 65,\n",
       " '94944176': 66,\n",
       " '404040911': 67,\n",
       " '23049758': 68,\n",
       " '2769909545': 69,\n",
       " '460762652': 70,\n",
       " '232183410': 71,\n",
       " '4852985060': 72,\n",
       " '4266770735': 73,\n",
       " '2306403086': 74,\n",
       " '722772513864814594': 75,\n",
       " '43619502': 76,\n",
       " '24427844': 77,\n",
       " '23128654': 78,\n",
       " '2402456101': 79,\n",
       " '18996684': 80,\n",
       " '22058884': 81,\n",
       " '78847431': 82,\n",
       " '123294525': 83,\n",
       " '499427396': 84,\n",
       " '52758588': 85,\n",
       " '2371002788': 86,\n",
       " '3118837723': 87,\n",
       " '544683697': 88,\n",
       " '88352680': 89,\n",
       " '49364557': 90,\n",
       " '343557768': 91,\n",
       " '36737079': 92,\n",
       " '14548783': 93,\n",
       " '4489014438': 94,\n",
       " '483530263': 95,\n",
       " '357310745': 96,\n",
       " '22513623': 97,\n",
       " '2594098429': 98,\n",
       " '4165153933': 99,\n",
       " '21401466': 100,\n",
       " '403942389': 101,\n",
       " '357292684': 102,\n",
       " '6108862': 103,\n",
       " '34390605': 104,\n",
       " '14633871': 105,\n",
       " '243874701': 106,\n",
       " '35056088': 107,\n",
       " '3047096374': 108,\n",
       " '3873122716': 109,\n",
       " '74853246': 110,\n",
       " '4499054320': 111,\n",
       " '52296217': 112,\n",
       " '4110173112': 113,\n",
       " '4758001936': 114,\n",
       " '14763734': 115,\n",
       " '19212009': 116,\n",
       " '17536486': 117,\n",
       " '3732553394': 118,\n",
       " '122794247': 119,\n",
       " '5800582': 120,\n",
       " '3064099289': 121,\n",
       " '18848562': 122,\n",
       " '3011685620': 123,\n",
       " '2601968455': 124,\n",
       " '559523443': 125,\n",
       " '848039696': 126,\n",
       " '4280183843': 127,\n",
       " '70892211': 128,\n",
       " '3231164467': 129,\n",
       " '16929349': 130,\n",
       " '1879831': 131,\n",
       " '216558300': 132,\n",
       " '372146164': 133,\n",
       " '262749118': 134,\n",
       " '3983929438': 135,\n",
       " '76966092': 136,\n",
       " '1500089520': 137,\n",
       " '1123397298': 138,\n",
       " '18181977': 139,\n",
       " '2808577839': 140,\n",
       " '18462539': 141,\n",
       " '256169283': 142,\n",
       " '54601825': 143,\n",
       " '564887075': 144,\n",
       " '333788442': 145,\n",
       " '74463622': 146,\n",
       " '3056125017': 147,\n",
       " '1124375143': 148,\n",
       " '1365510480': 149,\n",
       " '21360280': 150,\n",
       " '4037949073': 151,\n",
       " '3034036138': 152,\n",
       " '243231618': 153,\n",
       " '33345091': 154,\n",
       " '401643632': 155,\n",
       " '2583823844': 156,\n",
       " '20550803': 157,\n",
       " '507881720': 158,\n",
       " '1521333127': 159,\n",
       " '2340141478': 160,\n",
       " '3092231968': 161,\n",
       " '22411875': 162,\n",
       " '3272126180': 163,\n",
       " '39601084': 164,\n",
       " '452754350': 165,\n",
       " '65056089': 166,\n",
       " '1169927888': 167,\n",
       " '52253024': 168,\n",
       " '3401716972': 169,\n",
       " '65453869': 170,\n",
       " '15898172': 171,\n",
       " '182655444': 172,\n",
       " '78400475': 173,\n",
       " '1466992159': 174,\n",
       " '76765950': 175,\n",
       " '288166228': 176,\n",
       " '19774073': 177,\n",
       " '32469566': 178,\n",
       " '136361303': 179,\n",
       " '3307276042': 180,\n",
       " '90019908': 181,\n",
       " '2678776645': 182,\n",
       " '503604051': 183,\n",
       " '2241219528': 184,\n",
       " '366563215': 185,\n",
       " '130566446': 186,\n",
       " '48544015': 187,\n",
       " '17500472': 188,\n",
       " '31203147': 189,\n",
       " '61658283': 190,\n",
       " '29205768': 191,\n",
       " '32920510': 192,\n",
       " '61904823': 193,\n",
       " '95263195': 194,\n",
       " '43440021': 195,\n",
       " '95212967': 196,\n",
       " '28628268': 197,\n",
       " '9818032': 198,\n",
       " '838810357': 199,\n",
       " '256262056': 200,\n",
       " '57844411': 201,\n",
       " '376902576': 202,\n",
       " '2300880073': 203,\n",
       " '1884085640': 204,\n",
       " '2905369416': 205,\n",
       " '21830185': 206,\n",
       " '18649762': 207,\n",
       " '16563569': 208,\n",
       " '268787556': 209,\n",
       " '2903979971': 210,\n",
       " '30109507': 211,\n",
       " '68857391': 212,\n",
       " '2922506632': 213,\n",
       " '76678010': 214,\n",
       " '576490111': 215,\n",
       " '2738385999': 216,\n",
       " '129921732': 217,\n",
       " '1734088634': 218,\n",
       " '3233815033': 219,\n",
       " '103468988': 220,\n",
       " '145107843': 221,\n",
       " '278098811': 222,\n",
       " '2691423253': 223,\n",
       " '2377958753': 224,\n",
       " '2785343448': 225,\n",
       " '3247331442': 226,\n",
       " '1933042237': 227,\n",
       " '1183578368': 228,\n",
       " '21117011': 229,\n",
       " '365484487': 230,\n",
       " '2438257069': 231,\n",
       " '2221695594': 232,\n",
       " '47493646': 233,\n",
       " '98491752': 234,\n",
       " '207669239': 235,\n",
       " '2483938796': 236,\n",
       " '241544156': 237,\n",
       " '226254964': 238,\n",
       " '1536791610': 239,\n",
       " '1855525267': 240,\n",
       " '442628523': 241,\n",
       " '3015351274': 242,\n",
       " '3174826456': 243,\n",
       " '19162667': 244,\n",
       " '1112432948': 245,\n",
       " '3145013099': 246,\n",
       " '6987642': 247,\n",
       " '2970585417': 248,\n",
       " '1319109211': 249,\n",
       " '487995944': 250,\n",
       " '3169258242': 251,\n",
       " '220371869': 252,\n",
       " '975038899': 253,\n",
       " '909053556': 254,\n",
       " '737408604': 255,\n",
       " '17002395': 256,\n",
       " '3092004914': 257,\n",
       " '29879755': 258,\n",
       " '1659712242': 259,\n",
       " '356624780': 260,\n",
       " '28699421': 261,\n",
       " '15405276': 262,\n",
       " '123767543': 263,\n",
       " '2719204539': 264,\n",
       " '1935755570': 265,\n",
       " '21577728': 266,\n",
       " '2444749536': 267,\n",
       " '420598033': 268,\n",
       " '3104872808': 269,\n",
       " '612985010': 270,\n",
       " '97040343': 271,\n",
       " '67163944': 272,\n",
       " '21445580': 273,\n",
       " '2937411986': 274,\n",
       " '1971764732': 275,\n",
       " '2792688922': 276,\n",
       " '20265395': 277,\n",
       " '17076218': 278,\n",
       " '20264905': 279,\n",
       " '580246011': 280,\n",
       " '710911880': 281,\n",
       " '53769490': 282,\n",
       " '2649777450': 283,\n",
       " '1122506204': 284,\n",
       " '2329448268': 285,\n",
       " '173798586': 286,\n",
       " '1183313611': 287,\n",
       " '551885999': 288,\n",
       " '39801965': 289,\n",
       " '3041658179': 290,\n",
       " '3031448924': 291,\n",
       " '148757517': 292,\n",
       " '92792405': 293,\n",
       " '1452199326': 294,\n",
       " '2956497451': 295,\n",
       " '464048486': 296,\n",
       " '103129208': 297,\n",
       " '260590025': 298,\n",
       " '2830161678': 299,\n",
       " '2979870568': 300,\n",
       " '24340207': 301,\n",
       " '2195495168': 302,\n",
       " '512696125': 303,\n",
       " '46164938': 304,\n",
       " '2549551269': 305,\n",
       " '2739173333': 306,\n",
       " '1602047413': 307,\n",
       " '29273392': 308,\n",
       " '28406235': 309,\n",
       " '26141983': 310,\n",
       " '222452046': 311,\n",
       " '18278257': 312,\n",
       " '611929640': 313,\n",
       " '48034724': 314,\n",
       " '274867504': 315,\n",
       " '16839223': 316,\n",
       " '41407090': 317,\n",
       " '76927491': 318,\n",
       " '826125961': 319,\n",
       " '2865989787': 320,\n",
       " '202806007': 321,\n",
       " '72819080': 322,\n",
       " '115087598': 323,\n",
       " '2297049919': 324,\n",
       " '493553908': 325,\n",
       " '346764503': 326,\n",
       " '14852579': 327,\n",
       " '22301894': 328,\n",
       " '27930074': 329,\n",
       " '313053727': 330,\n",
       " '1252592888': 331,\n",
       " '27683639': 332,\n",
       " '153910828': 333,\n",
       " '348075629': 334,\n",
       " '1005143365': 335,\n",
       " '239591418': 336,\n",
       " '19927627': 337,\n",
       " '275183885': 338,\n",
       " '15501305': 339,\n",
       " '21762851': 340,\n",
       " '14215609': 341,\n",
       " '7436592': 342,\n",
       " '597091963': 343,\n",
       " '108785782': 344,\n",
       " '187040896': 345,\n",
       " '19721308': 346,\n",
       " '24931569': 347,\n",
       " '307121575': 348,\n",
       " '29274211': 349,\n",
       " '1046652722': 350,\n",
       " '34862345': 351,\n",
       " '19980701': 352,\n",
       " '415605847': 353,\n",
       " '17544803': 354,\n",
       " '505352449': 355,\n",
       " '17459047': 356,\n",
       " '16933924': 357,\n",
       " '567697542': 358,\n",
       " '60628575': 359,\n",
       " '89725680': 360,\n",
       " '1593511034': 361,\n",
       " '197175722': 362,\n",
       " '547022489': 363,\n",
       " '554772575': 364,\n",
       " '18410549': 365,\n",
       " '201161210': 366,\n",
       " '2371189538': 367,\n",
       " '222291595': 368,\n",
       " '210684204': 369,\n",
       " '18566247': 370,\n",
       " '634997443': 371,\n",
       " '2295877379': 372,\n",
       " '89033940': 373,\n",
       " '70720488': 374,\n",
       " '1722881942': 375,\n",
       " '2309380422': 376,\n",
       " '26408290': 377,\n",
       " '9460662': 378,\n",
       " '2500068855': 379,\n",
       " '289793646': 380,\n",
       " '417509445': 381,\n",
       " '753781615': 382,\n",
       " '15246745': 383,\n",
       " '275608075': 384,\n",
       " '27075579': 385,\n",
       " '225663160': 386,\n",
       " '624244288': 387,\n",
       " '41600293': 388,\n",
       " '439576087': 389,\n",
       " '41292745': 390,\n",
       " '544660734': 391,\n",
       " '454244871': 392,\n",
       " '228554424': 393,\n",
       " '2461136639': 394,\n",
       " '373047480': 395,\n",
       " '2268303121': 396,\n",
       " '718046309': 397,\n",
       " '54933341': 398,\n",
       " '486176798': 399,\n",
       " '227883282': 400,\n",
       " '20857346': 401,\n",
       " '235029044': 402,\n",
       " '30006278': 403,\n",
       " '22878740': 404,\n",
       " '2366425926': 405,\n",
       " '103973785': 406,\n",
       " '26928440': 407,\n",
       " '65825138': 408,\n",
       " '57335119': 409,\n",
       " '15684019': 410,\n",
       " '15864446': 411,\n",
       " '38228095': 412,\n",
       " '18997698': 413,\n",
       " '131398971': 414,\n",
       " '151662951': 415,\n",
       " '272538235': 416,\n",
       " '278222169': 417,\n",
       " '131514893': 418,\n",
       " '299254919': 419,\n",
       " '365080370': 420,\n",
       " '209576618': 421,\n",
       " '47104766': 422,\n",
       " '2239316576': 423,\n",
       " '69079818': 424,\n",
       " '110985688': 425,\n",
       " '46017279': 426,\n",
       " '20962219': 427,\n",
       " '105153447': 428,\n",
       " '18954398': 429,\n",
       " '1344951': 430,\n",
       " '816653': 431,\n",
       " '16273915': 432,\n",
       " '444240428': 433,\n",
       " '972651': 434,\n",
       " '1449002330': 435,\n",
       " '4278201': 436,\n",
       " '2268735902': 437,\n",
       " '18512945': 438,\n",
       " '109655835': 439,\n",
       " '127902257': 440,\n",
       " '320519342': 441,\n",
       " '151969930': 442,\n",
       " '43125273': 443,\n",
       " '15339701': 444,\n",
       " '87403396': 445,\n",
       " '28873106': 446,\n",
       " '39811240': 447,\n",
       " '38250495': 448,\n",
       " '2215015819': 449,\n",
       " '2239269078': 450,\n",
       " '2245958450': 451,\n",
       " '2230269354': 452,\n",
       " '5392522': 453,\n",
       " '1857354134': 454,\n",
       " '283131651': 455,\n",
       " '2244071306': 456,\n",
       " '330657860': 457,\n",
       " '19726043': 458,\n",
       " '200591027': 459,\n",
       " '18441621': 460,\n",
       " '598640150': 461,\n",
       " '23665083': 462,\n",
       " '367421923': 463,\n",
       " '122425730': 464,\n",
       " '266768078': 465,\n",
       " '510898637': 466,\n",
       " '2211471265': 467,\n",
       " '389575165': 468,\n",
       " '1434251': 469,\n",
       " '11178902': 470,\n",
       " '598049566': 471,\n",
       " '35791779': 472,\n",
       " '2198506578': 473,\n",
       " '15445129': 474,\n",
       " '14677919': 475,\n",
       " '291725610': 476,\n",
       " '291471206': 477,\n",
       " '50684256': 478,\n",
       " '1321081356': 479,\n",
       " '40755066': 480,\n",
       " '1485165758': 481,\n",
       " '35510728': 482,\n",
       " '183675164': 483,\n",
       " '18170896': 484,\n",
       " '810424': 485,\n",
       " '51189656': 486,\n",
       " '115556805': 487,\n",
       " '577768368': 488,\n",
       " '27737705': 489,\n",
       " '105949013': 490,\n",
       " '35281083': 491,\n",
       " '365416246': 492,\n",
       " '792232993': 493,\n",
       " '435338691': 494,\n",
       " '100289175': 495,\n",
       " '73249659': 496,\n",
       " '24871090': 497,\n",
       " '39897996': 498,\n",
       " '613127545': 499,\n",
       " '190403384': 500,\n",
       " '268025103': 501,\n",
       " '305217958': 502,\n",
       " '1178700896': 503,\n",
       " '27029537': 504,\n",
       " '296533006': 505,\n",
       " '16809556': 506,\n",
       " '256556801': 507,\n",
       " '354576410': 508,\n",
       " '298612156': 509,\n",
       " '20120026': 510,\n",
       " '1345424617': 511,\n",
       " '158474145': 512,\n",
       " '117644352': 513,\n",
       " '35586563': 514,\n",
       " '348217747': 515,\n",
       " '959089369': 516,\n",
       " '1490606144': 517,\n",
       " '414447004': 518,\n",
       " '475214110': 519,\n",
       " '86084622': 520,\n",
       " '29311468': 521,\n",
       " '1387040004': 522,\n",
       " '751363544': 523,\n",
       " '117640526': 524,\n",
       " '1226192604': 525,\n",
       " '363745396': 526,\n",
       " '15225275': 527,\n",
       " '252902424': 528,\n",
       " '42465249': 529,\n",
       " '1300640588': 530,\n",
       " '331960891': 531,\n",
       " '304745774': 532,\n",
       " '488779025': 533,\n",
       " '46186400': 534,\n",
       " '17424395': 535,\n",
       " '55574124': 536,\n",
       " '22219559': 537,\n",
       " '47645281': 538,\n",
       " '87037825': 539,\n",
       " '787347146': 540,\n",
       " '780695912': 541,\n",
       " '308543675': 542,\n",
       " '20263749': 543,\n",
       " '23794763': 544,\n",
       " '19120850': 545,\n",
       " '12079312': 546,\n",
       " '1131407466': 547,\n",
       " '1055846610': 548,\n",
       " '16535391': 549,\n",
       " '1059333547': 550,\n",
       " '240394496': 551,\n",
       " '242114073': 552,\n",
       " '1025593088': 553,\n",
       " '259540893': 554,\n",
       " '49525902': 555,\n",
       " '827588150': 556,\n",
       " '37180357': 557,\n",
       " '521321191': 558,\n",
       " '18757367': 559,\n",
       " '593929534': 560,\n",
       " '627410889': 561,\n",
       " '1093090866': 562,\n",
       " '264911521': 563,\n",
       " '17846546': 564,\n",
       " '93736441': 565,\n",
       " '86957131': 566,\n",
       " '54416215': 567,\n",
       " '20635455': 568,\n",
       " '56826095': 569,\n",
       " '22291311': 570,\n",
       " '41518143': 571,\n",
       " '216423266': 572,\n",
       " '43717060': 573,\n",
       " '10121422': 574,\n",
       " '21324258': 575,\n",
       " '567631716': 576,\n",
       " '1081357658': 577,\n",
       " '19772442': 578,\n",
       " '36938540': 579,\n",
       " '14765585': 580,\n",
       " '23139931': 581,\n",
       " '96674593': 582,\n",
       " '292557127': 583,\n",
       " '329356041': 584,\n",
       " '44175777': 585,\n",
       " '161897509': 586,\n",
       " '98236618': 587,\n",
       " '16023029': 588,\n",
       " '221475779': 589,\n",
       " '15164565': 590,\n",
       " '85867886': 591,\n",
       " '44744930': 592,\n",
       " '549059088': 593,\n",
       " '109979200': 594,\n",
       " '933317821': 595,\n",
       " '290081566': 596,\n",
       " '248721199': 597,\n",
       " '201729503': 598,\n",
       " '130617778': 599,\n",
       " '795147816': 600,\n",
       " '14934440': 601,\n",
       " '16955991': 602,\n",
       " '15645662': 603,\n",
       " '43763852': 604,\n",
       " '17494010': 605,\n",
       " '36957404': 606,\n",
       " '33563161': 607,\n",
       " '14377605': 608,\n",
       " '50095083': 609,\n",
       " '2836421': 610,\n",
       " '20265254': 611,\n",
       " '278799554': 612,\n",
       " '768112597': 613,\n",
       " '375183214': 614,\n",
       " '190472054': 615,\n",
       " '402958611': 616,\n",
       " '15739207': 617,\n",
       " '122756889': 618,\n",
       " '33943069': 619,\n",
       " '21410529': 620,\n",
       " '96807324': 621,\n",
       " '37188091': 622,\n",
       " '33762008': 623,\n",
       " '113765408': 624,\n",
       " '120536219': 625,\n",
       " '874481815': 626,\n",
       " '151532796': 627,\n",
       " '121521756': 628,\n",
       " '338057229': 629,\n",
       " '455007363': 630,\n",
       " '457711081': 631,\n",
       " '353817945': 632,\n",
       " '21368482': 633,\n",
       " '42560650': 634,\n",
       " '341669618': 635,\n",
       " '825839400': 636,\n",
       " '9265': 637,\n",
       " '73523278': 638,\n",
       " '26863892': 639,\n",
       " '18104452': 640,\n",
       " '26554892': 641,\n",
       " '121907243': 642,\n",
       " '15146558': 643,\n",
       " '582465384': 644,\n",
       " '68449573': 645,\n",
       " '69892375': 646,\n",
       " '221319442': 647,\n",
       " '30955321': 648,\n",
       " '34370438': 649,\n",
       " '452411356': 650,\n",
       " '188529426': 651,\n",
       " '37028365': 652,\n",
       " '15784694': 653,\n",
       " '27664617': 654,\n",
       " '17742722': 655,\n",
       " '15300551': 656,\n",
       " '24192079': 657,\n",
       " '575476922': 658,\n",
       " '26622071': 659,\n",
       " '499397405': 660,\n",
       " '13879122': 661,\n",
       " '85643942': 662,\n",
       " '12028152': 663,\n",
       " '17475920': 664,\n",
       " '24918907': 665,\n",
       " '24047612': 666,\n",
       " '260419113': 667,\n",
       " '23073809': 668,\n",
       " '350018166': 669,\n",
       " '251488062': 670,\n",
       " '116811753': 671,\n",
       " '17942706': 672,\n",
       " '332364336': 673,\n",
       " '27298038': 674,\n",
       " '54598914': 675,\n",
       " '67824999': 676,\n",
       " '374077228': 677,\n",
       " '227495159': 678,\n",
       " '93545136': 679,\n",
       " '23314329': 680,\n",
       " '244577687': 681,\n",
       " '303166624': 682,\n",
       " '39397942': 683,\n",
       " '281310090': 684,\n",
       " '312884270': 685,\n",
       " '195859219': 686,\n",
       " '130546600': 687,\n",
       " '428645924': 688,\n",
       " '239543885': 689,\n",
       " '104576097': 690,\n",
       " '521528729': 691,\n",
       " '134309619': 692,\n",
       " '376961200': 693,\n",
       " '540466807': 694,\n",
       " '18495580': 695,\n",
       " '238832159': 696,\n",
       " '151954304': 697,\n",
       " '41619067': 698,\n",
       " '95752102': 699,\n",
       " '61670139': 700,\n",
       " '1769551': 701,\n",
       " '377094556': 702,\n",
       " '454437294': 703,\n",
       " '74572650': 704,\n",
       " '17981473': 705,\n",
       " '56798334': 706,\n",
       " '132819222': 707,\n",
       " '59048747': 708,\n",
       " '229627965': 709,\n",
       " '488011724': 710,\n",
       " '29803': 711,\n",
       " '37291990': 712,\n",
       " '40047590': 713,\n",
       " '47303073': 714,\n",
       " '80628196': 715,\n",
       " '25071402': 716,\n",
       " '6017542': 717,\n",
       " '41591898': 718,\n",
       " '17393790': 719,\n",
       " '296485327': 720,\n",
       " '26374112': 721,\n",
       " '33857883': 722,\n",
       " '304632244': 723,\n",
       " '259375460': 724,\n",
       " '2557521': 725,\n",
       " '163758504': 726,\n",
       " '41646662': 727,\n",
       " '90959399': 728,\n",
       " '23501022': 729,\n",
       " '39344610': 730,\n",
       " '366258038': 731,\n",
       " '127621803': 732,\n",
       " '21951033': 733,\n",
       " '34337534': 734,\n",
       " '166043944': 735,\n",
       " '254713115': 736,\n",
       " '296863099': 737,\n",
       " '116033487': 738,\n",
       " '213455144': 739,\n",
       " '11273762': 740,\n",
       " '166352723': 741,\n",
       " '43873766': 742,\n",
       " '17897890': 743,\n",
       " '48893889': 744,\n",
       " '94839848': 745,\n",
       " '40927173': 746,\n",
       " '25355724': 747,\n",
       " '221147416': 748,\n",
       " '197161417': 749,\n",
       " '79896855': 750,\n",
       " '100308854': 751,\n",
       " '156480663': 752,\n",
       " '156742005': 753,\n",
       " '88814476': 754,\n",
       " '53159918': 755,\n",
       " '17074514': 756,\n",
       " '76452002': 757,\n",
       " '813286': 758,\n",
       " '103345148': 759,\n",
       " '109880244': 760,\n",
       " '99541174': 761,\n",
       " '88763317': 762,\n",
       " '16327365': 763,\n",
       " '76977679': 764,\n",
       " '72899120': 765,\n",
       " '22421336': 766,\n",
       " '66311608': 767,\n",
       " '36498980': 768,\n",
       " '46593413': 769,\n",
       " '61285926': 770,\n",
       " '14365673': 771,\n",
       " '18858956': 772,\n",
       " '50108759': 773,\n",
       " '6450322': 774,\n",
       " '30313925': 775,\n",
       " '37669435': 776,\n",
       " '16333796': 777,\n",
       " '18916688': 778,\n",
       " '42645903': 779,\n",
       " '43260020': 780,\n",
       " '44698907': 781,\n",
       " '23544089': 782,\n",
       " '25329532': 783,\n",
       " '19292374': 784,\n",
       " '20710218': 785,\n",
       " '15025802': 786,\n",
       " '22819823': 787,\n",
       " '18691328': 788,\n",
       " '37689091': 789,\n",
       " '36139166': 790,\n",
       " '18355289': 791,\n",
       " '37698760': 792,\n",
       " '18517486': 793,\n",
       " '19970814': 794,\n",
       " '19238073': 795,\n",
       " '21492737': 796,\n",
       " '14061640': 797,\n",
       " '18766687': 798,\n",
       " '10266802': 799,\n",
       " '12031222': 800,\n",
       " '18479513': 801,\n",
       " '9175942': 802,\n",
       " '26599573': 803,\n",
       " '86395621': 804,\n",
       " '111519701': 805,\n",
       " '61559439': 806,\n",
       " '591646425': 807,\n",
       " '25073877': 808,\n",
       " '711513295430164481': 809,\n",
       " '41456363': 810,\n",
       " '4180652002': 811,\n",
       " '21347710': 812,\n",
       " '247063437': 813,\n",
       " '154221292': 814,\n",
       " '2289498224': 815,\n",
       " '18992378': 816,\n",
       " '31311757': 817,\n",
       " '38679388': 818,\n",
       " '56505125': 819,\n",
       " '93711247': 820,\n",
       " '36803580': 821,\n",
       " '382267114': 822,\n",
       " '243381107': 823,\n",
       " '2337373172': 824,\n",
       " '14922225': 825,\n",
       " '3060519686': 826,\n",
       " '29758446': 827,\n",
       " '1550455622': 828,\n",
       " '760173896': 829,\n",
       " '16736535': 830,\n",
       " '2207700030': 831,\n",
       " '15234657': 832,\n",
       " '1488707239': 833,\n",
       " '15897147': 834,\n",
       " '45662661': 835,\n",
       " '14697235': 836,\n",
       " '432287490': 837,\n",
       " '21454307': 838,\n",
       " '753045080659853313': 839,\n",
       " '2654199391': 840,\n",
       " '3466711759': 841,\n",
       " '13363952': 842,\n",
       " '267571716': 843,\n",
       " '68859732': 844,\n",
       " '34797037': 845,\n",
       " '20463079': 846,\n",
       " '148580290': 847,\n",
       " '25914604': 848,\n",
       " '88964553': 849,\n",
       " '399492369': 850,\n",
       " '2901902745': 851,\n",
       " '2424261410': 852,\n",
       " '187205856': 853,\n",
       " '23083404': 854,\n",
       " '50150268': 855,\n",
       " '447100563': 856,\n",
       " '14367285': 857,\n",
       " '17099600': 858,\n",
       " '2804344248': 859,\n",
       " '28902967': 860,\n",
       " '16923481': 861,\n",
       " '14905663': 862,\n",
       " '2196909938': 863,\n",
       " '3459497722': 864,\n",
       " '23151437': 865,\n",
       " '2601254234': 866,\n",
       " '20998647': 867,\n",
       " '256113467': 868,\n",
       " '180505807': 869,\n",
       " '78402405': 870,\n",
       " '808439696': 871,\n",
       " '768101870': 872,\n",
       " '716441329': 873,\n",
       " '471046122': 874,\n",
       " '272730913': 875,\n",
       " '2206594706': 876,\n",
       " '19562228': 877,\n",
       " '24447643': 878,\n",
       " '97210046': 879,\n",
       " '133022865': 880,\n",
       " '1372497270': 881,\n",
       " '14410896': 882,\n",
       " '867702739': 883,\n",
       " '44158159': 884,\n",
       " '75524372': 885,\n",
       " '10228272': 886,\n",
       " '1379072365': 887,\n",
       " '872862998': 888,\n",
       " '15134782': 889,\n",
       " '552474822': 890,\n",
       " '144898415': 891,\n",
       " '106321738': 892,\n",
       " '77691323': 893,\n",
       " '14263830': 894,\n",
       " '126217878': 895,\n",
       " '140145569': 896,\n",
       " '121577657': 897,\n",
       " '75352847': 898,\n",
       " '250828124': 899,\n",
       " '111820477': 900,\n",
       " '937709017': 901,\n",
       " '85328174': 902,\n",
       " '559934973': 903,\n",
       " '135227425': 904,\n",
       " '34948189': 905,\n",
       " '381060139': 906,\n",
       " '170543291': 907,\n",
       " '16411533': 908,\n",
       " '18009650': 909,\n",
       " '281503290': 910,\n",
       " '175097508': 911,\n",
       " '45288525': 912,\n",
       " '237161446': 913,\n",
       " '494519501': 914,\n",
       " '45570489': 915,\n",
       " '270157183': 916,\n",
       " '544366621': 917,\n",
       " '414379328': 918,\n",
       " '421286008': 919,\n",
       " '250831586': 920,\n",
       " '104063340': 921,\n",
       " '135898887': 922,\n",
       " '279118954': 923,\n",
       " '21425125': 924,\n",
       " '15739966': 925,\n",
       " '18814759': 926,\n",
       " '106534409': 927,\n",
       " '11167502': 928,\n",
       " '246944080': 929,\n",
       " '110455267': 930,\n",
       " '18951482': 931,\n",
       " '171052399': 932,\n",
       " '24395545': 933,\n",
       " '158119636': 934,\n",
       " '78298886': 935,\n",
       " '16443689': 936,\n",
       " '39943742': 937,\n",
       " '57944078': 938,\n",
       " '15907720': 939,\n",
       " '162963860': 940,\n",
       " '70352338': 941,\n",
       " '23095083': 942,\n",
       " '94249549': 943,\n",
       " '118556901': 944,\n",
       " '37934421': 945,\n",
       " '20309234': 946,\n",
       " '42304252': 947,\n",
       " '147360467': 948,\n",
       " '21656343': 949,\n",
       " '23406471': 950,\n",
       " '16465507': 951,\n",
       " '24864581': 952,\n",
       " '123848598': 953,\n",
       " '17909625': 954,\n",
       " '128194782': 955,\n",
       " '23135183': 956,\n",
       " '48323654': 957,\n",
       " '22742225': 958,\n",
       " '15101335': 959,\n",
       " '115418617': 960,\n",
       " '14749606': 961,\n",
       " '14678835': 962,\n",
       " '18265032': 963,\n",
       " '82444037': 964,\n",
       " '66125688': 965,\n",
       " '27388359': 966,\n",
       " '6323362': 967,\n",
       " '14139204': 968,\n",
       " '69037598': 969,\n",
       " '32655485': 970,\n",
       " '61438302': 971,\n",
       " '55517714': 972,\n",
       " '65307797': 973,\n",
       " '16970937': 974,\n",
       " '17989326': 975,\n",
       " '90350784': 976,\n",
       " '52292127': 977,\n",
       " '29902703': 978,\n",
       " '113695729': 979,\n",
       " '113704947': 980,\n",
       " '112368806': 981,\n",
       " '45900694': 982,\n",
       " '79297657': 983,\n",
       " '91348878': 984,\n",
       " '984861': 985,\n",
       " '27855118': 986,\n",
       " '46592523': 987,\n",
       " '21191567': 988,\n",
       " '17077313': 989,\n",
       " '47883855': 990,\n",
       " '48752483': 991,\n",
       " '66673954': 992,\n",
       " '23908068': 993,\n",
       " '22086587': 994,\n",
       " '16317264': 995,\n",
       " '60721118': 996,\n",
       " '70505157': 997,\n",
       " '20969053': 998,\n",
       " '79785326': 999,\n",
       " ...}"
      ]
     },
     "execution_count": 339,
     "metadata": {},
     "output_type": "execute_result"
    }
   ],
   "source": [
    "users_dict"
   ]
  },
  {
   "cell_type": "code",
   "execution_count": 336,
   "metadata": {},
   "outputs": [
    {
     "name": "stdout",
     "output_type": "stream",
     "text": [
      "{'user_id': '788253393877737472', 'domain': 'abc7ny.com', 'label': 'GY', 'rel_to_post': 'following'}\n",
      "{'user_id': '788253393877737472', 'domain': 'abcnews.go.com', 'label': 'GY', 'rel_to_post': 'following'}\n",
      "{'user_id': '788253393877737472', 'domain': 'elle.com', 'label': 'GY', 'rel_to_post': 'following'}\n",
      "{'user_id': '788253393877737472', 'domain': 'iwillvote.com', 'label': 'GY', 'rel_to_post': 'following'}\n",
      "{'user_id': '788253393877737472', 'domain': 'nbcnews.com', 'label': 'GY', 'rel_to_post': 'following'}\n",
      "{'user_id': '788253393877737472', 'domain': 'nbcnews.com', 'label': 'GY', 'rel_to_post': 'following'}\n",
      "{'user_id': '788253393877737472', 'domain': 'nbcnews.com', 'label': 'GY', 'rel_to_post': 'following'}\n",
      "{'user_id': '788253393877737472', 'domain': 'nbcnewyork.com', 'label': 'GY', 'rel_to_post': 'following'}\n",
      "{'user_id': '788253393877737472', 'domain': 'newyorker.com', 'label': 'GY', 'rel_to_post': 'following'}\n",
      "{'user_id': '788253393877737472', 'domain': 'newyorker.com', 'label': 'GY', 'rel_to_post': 'following'}\n",
      "{'user_id': '788253393877737472', 'domain': 'npr.org', 'label': 'GY', 'rel_to_post': 'following'}\n",
      "{'user_id': '788253393877737472', 'domain': 'nydailynews.com', 'label': 'GY', 'rel_to_post': 'following'}\n",
      "{'user_id': '788253393877737472', 'domain': 'nydailynews.com', 'label': 'GY', 'rel_to_post': 'following'}\n",
      "{'user_id': '788253393877737472', 'domain': 'nytimes.com', 'label': 'GY', 'rel_to_post': 'following'}\n",
      "{'user_id': '788253393877737472', 'domain': 'politicususa.com', 'label': 'GY', 'rel_to_post': 'following'}\n",
      "{'user_id': '788253393877737472', 'domain': 'reuters.com', 'label': 'GY', 'rel_to_post': 'following'}\n",
      "{'user_id': '788253393877737472', 'domain': 'slate.com', 'label': 'GY', 'rel_to_post': 'following'}\n",
      "{'user_id': '788253393877737472', 'domain': 'slate.com', 'label': 'GY', 'rel_to_post': 'following'}\n",
      "{'user_id': '788253393877737472', 'domain': 'slate.com', 'label': 'GY', 'rel_to_post': 'following'}\n",
      "{'user_id': '788253393877737472', 'domain': 'slate.com', 'label': 'GY', 'rel_to_post': 'following'}\n",
      "{'user_id': '788253393877737472', 'domain': 'techcrunch.com', 'label': 'GY', 'rel_to_post': 'following'}\n",
      "{'user_id': '788253393877737472', 'domain': 'thestar.com', 'label': 'GY', 'rel_to_post': 'following'}\n",
      "{'user_id': '788253393877737472', 'domain': 'vice.com', 'label': 'GY', 'rel_to_post': 'following'}\n",
      "{'user_id': '788253393877737472', 'domain': 'washingtonpost.com', 'label': 'GY', 'rel_to_post': 'following'}\n",
      "{'user_id': '8318902', 'domain': 'abc7ny.com', 'label': 'GY', 'rel_to_post': 'following'}\n",
      "{'user_id': '8318902', 'domain': 'abcnews.go.com', 'label': 'GY', 'rel_to_post': 'following'}\n",
      "{'user_id': '8318902', 'domain': 'elle.com', 'label': 'GY', 'rel_to_post': 'following'}\n",
      "{'user_id': '8318902', 'domain': 'iwillvote.com', 'label': 'GY', 'rel_to_post': 'following'}\n",
      "{'user_id': '8318902', 'domain': 'nbcnews.com', 'label': 'GY', 'rel_to_post': 'following'}\n",
      "{'user_id': '8318902', 'domain': 'nbcnews.com', 'label': 'GY', 'rel_to_post': 'following'}\n",
      "{'user_id': '8318902', 'domain': 'nbcnews.com', 'label': 'GY', 'rel_to_post': 'following'}\n"
     ]
    }
   ],
   "source": [
    "get_sample_line(nodes_file, 30)"
   ]
  },
  {
   "cell_type": "code",
   "execution_count": 337,
   "metadata": {},
   "outputs": [
    {
     "name": "stdout",
     "output_type": "stream",
     "text": [
      "{'user_id': '12', 'domain': 'sacbee.com', 'label': 'GY', 'timestamp': '2016-10-06 10:26:04'}\n",
      "{'user_id': '12', 'domain': 'washingtonpost.com', 'label': 'GY', 'timestamp': '2016-10-06 00:31:12'}\n",
      "{'user_id': '13', 'domain': 'boingboing.net', 'label': 'GY', 'timestamp': '2016-12-03 11:54:21'}\n",
      "{'user_id': '17', 'domain': 'bloomberg.com', 'label': 'GY', 'timestamp': '2016-10-12 20:08:25'}\n",
      "{'user_id': '17', 'domain': 'buzzfeed.com', 'label': 'GY', 'timestamp': '2016-10-07 18:46:44'}\n",
      "{'user_id': '17', 'domain': 'christianitytoday.com', 'label': 'GY', 'timestamp': '2016-10-11 00:31:16'}\n",
      "{'user_id': '17', 'domain': 'cnn.com', 'label': 'GY', 'timestamp': '2016-10-06 09:31:44'}\n",
      "{'user_id': '17', 'domain': 'dailykos.com', 'label': 'GY', 'timestamp': '2016-11-14 21:06:35'}\n",
      "{'user_id': '17', 'domain': 'medium.com', 'label': 'GY', 'timestamp': '2016-09-26 15:24:54'}\n",
      "{'user_id': '17', 'domain': 'mic.com', 'label': 'GY', 'timestamp': '2016-10-09 23:07:01'}\n",
      "{'user_id': '17', 'domain': 'theguardian.com', 'label': 'GY', 'timestamp': '2016-11-26 13:15:25'}\n",
      "{'user_id': '17', 'domain': 'vox.com', 'label': 'GY', 'timestamp': '2016-08-04 19:38:37'}\n",
      "{'user_id': '17', 'domain': 'vox.com', 'label': 'GY', 'timestamp': '2016-11-09 02:49:50'}\n",
      "{'user_id': '17', 'domain': 'washingtonpost.com', 'label': 'GY', 'timestamp': '2016-10-31 00:51:51'}\n",
      "{'user_id': '18', 'domain': 'facebook.com', 'label': '', 'timestamp': '2016-09-28 17:12:20'}\n",
      "{'user_id': '18', 'domain': 'medium.com', 'label': 'GY', 'timestamp': '2016-09-22 10:55:23'}\n",
      "{'user_id': '18', 'domain': 'medium.com', 'label': 'GY', 'timestamp': '2016-11-11 17:42:17'}\n",
      "{'user_id': '18', 'domain': 'nytimes.com', 'label': 'GY', 'timestamp': '2016-11-12 16:35:47'}\n",
      "{'user_id': '18', 'domain': 'washingtonpost.com', 'label': 'GY', 'timestamp': '2016-10-19 14:49:54'}\n",
      "{'user_id': '20', 'domain': 'medium.com', 'label': 'GY', 'timestamp': '2016-10-05 21:37:52'}\n",
      "{'user_id': '20', 'domain': 'medium.com', 'label': 'GY', 'timestamp': '2016-10-10 14:57:50'}\n",
      "{'user_id': '22', 'domain': 'crooksandliars.com', 'label': 'Orange', 'timestamp': '2016-12-06 00:11:28'}\n",
      "{'user_id': '22', 'domain': 'instagram.com', 'label': '', 'timestamp': '2016-10-20 19:12:13'}\n",
      "{'user_id': '22', 'domain': 'people-press.org', 'label': 'GY', 'timestamp': '2016-10-19 22:44:20'}\n",
      "{'user_id': '22', 'domain': 'theguardian.com', 'label': 'GY', 'timestamp': '2016-08-18 03:40:35'}\n",
      "{'user_id': '22', 'domain': 'washingtonpost.com', 'label': 'GY', 'timestamp': '2016-10-10 13:14:12'}\n",
      "{'user_id': '22', 'domain': 'washingtonpost.com', 'label': 'GY', 'timestamp': '2016-10-19 22:32:48'}\n",
      "{'user_id': '57', 'domain': 'eventbrite.com', 'label': 'GY', 'timestamp': '2016-11-01 16:41:40'}\n",
      "{'user_id': '57', 'domain': 'latimes.com', 'label': 'GY', 'timestamp': '2016-11-18 23:59:35'}\n",
      "{'user_id': '57', 'domain': 'mediamatters.org', 'label': 'GY', 'timestamp': '2016-11-11 00:26:56'}\n",
      "{'user_id': '57', 'domain': 'newrepublic.com', 'label': 'GY', 'timestamp': '2016-11-08 10:16:28'}\n"
     ]
    }
   ],
   "source": [
    "get_sample_line('sources_data_ts.csv', 30)"
   ]
  },
  {
   "cell_type": "code",
   "execution_count": 42,
   "metadata": {},
   "outputs": [],
   "source": [
    "#condenses nodes_file into two dictionaries\n",
    "#storing number of interactions between user i and source j, weighted by interaction type\n",
    "def make_adj_lsts2(input_file=nodes_file, sources_dict=sources_dict, users_dict=users_dict, w2=0.5):\n",
    "    t1 = time.time()\n",
    "    #user_out_edges = [{} for i in range(0, len(users_dict))]\n",
    "    #source_in_edges = [{} for i in range(0, len(sources_dict))]\n",
    "    user_out_edges = {}\n",
    "    source_in_edges = {}\n",
    "    counter = 0\n",
    "    with open (input_file, 'r', encoding='utf-8', errors='replace') as csvfile:\n",
    "        rder = csv.DictReader(csvfile)\n",
    "        for row in rder:\n",
    "            if (not row['user_id'] in users_dict or not row['domain'] in sources_dict):\n",
    "                continue\n",
    "            u = users_dict[row['user_id']] #simplified user id\n",
    "            d = sources_dict[row['domain']] #simplified domain id\n",
    "            w = 1\n",
    "            if (row['rel_to_post']=='following'):\n",
    "                w = w2 #w should be a number < 1, 0.5 experimentally works well\n",
    "                \n",
    "            if (not u in user_out_edges):\n",
    "                user_out_edges[u] = {}\n",
    "            if (not d in source_in_edges):\n",
    "                source_in_edges[d] = {}\n",
    "            \n",
    "            if (not d in user_out_edges[u]):\n",
    "                user_out_edges[u][d] = 0\n",
    "            if (not u in source_in_edges[d]):\n",
    "                source_in_edges[d][u] = 0 \n",
    "            user_out_edges[u][d] += w #accounting for number of interactions\n",
    "            source_in_edges[d][u] += w\n",
    "            counter += 1\n",
    "            if (counter % 1000000 == 0):\n",
    "                print(counter/1000000, end = ' ')\n",
    "    t2 = time.time()\n",
    "    print(t2-t1)\n",
    "    print(counter)\n",
    "    return (source_in_edges, user_out_edges)"
   ]
  },
  {
   "cell_type": "code",
   "execution_count": 43,
   "metadata": {},
   "outputs": [
    {
     "name": "stdout",
     "output_type": "stream",
     "text": [
      "1.0 2.0 3.0 4.0 5.0 6.0 7.0 8.0 9.0 10.0 11.0 12.0 13.0 14.0 15.0 16.0 17.0 18.0 19.0 20.0 21.0 22.0 23.0 24.0 25.0 26.0 27.0 28.0 29.0 30.0 31.0 32.0 33.0 34.0 35.0 36.0 37.0 38.0 39.0 40.0 41.0 42.0 43.0 44.0 45.0 46.0 47.0 48.0 49.0 50.0 51.0 52.0 53.0 54.0 55.0 56.0 57.0 58.0 59.0 60.0 61.0 62.0 63.0 64.0 65.0 66.0 67.0 68.0 69.0 70.0 71.0 72.0 73.0 74.0 75.0 76.0 77.0 78.0 79.0 80.0 81.0 82.0 83.0 84.0 85.0 86.0 87.0 88.0 89.0 90.0 91.0 92.0 93.0 94.0 95.0 96.0 97.0 98.0 99.0 100.0 101.0 102.0 103.0 104.0 105.0 106.0 107.0 108.0 109.0 110.0 111.0 112.0 113.0 114.0 115.0 116.0 117.0 118.0 119.0 120.0 121.0 122.0 123.0 124.0 125.0 126.0 127.0 128.0 129.0 130.0 131.0 132.0 133.0 134.0 135.0 136.0 137.0 138.0 139.0 140.0 141.0 142.0 143.0 144.0 145.0 146.0 147.0 148.0 149.0 150.0 151.0 152.0 153.0 154.0 155.0 156.0 157.0 158.0 159.0 160.0 161.0 162.0 163.0 164.0 165.0 166.0 167.0 168.0 169.0 170.0 171.0 172.0 173.0 174.0 175.0 176.0 177.0 178.0 179.0 180.0 181.0 182.0 183.0 184.0 185.0 186.0 187.0 188.0 189.0 190.0 191.0 192.0 193.0 194.0 195.0 196.0 197.0 198.0 199.0 200.0 201.0 202.0 203.0 204.0 205.0 206.0 207.0 208.0 209.0 210.0 211.0 212.0 213.0 214.0 215.0 216.0 217.0 218.0 219.0 220.0 221.0 222.0 223.0 224.0 225.0 226.0 227.0 228.0 229.0 230.0 231.0 232.0 233.0 234.0 235.0 236.0 237.0 238.0 239.0 240.0 715.9886455535889\n",
      "240050810\n"
     ]
    }
   ],
   "source": [
    "adj_lsts_t1 = make_adj_lsts2(nodes_file, sources_dict, users_dict)\n",
    "source_in_edges = adj_lsts_t1[0]\n",
    "user_out_edges = adj_lsts_t1[1]"
   ]
  },
  {
   "cell_type": "code",
   "execution_count": 44,
   "metadata": {},
   "outputs": [
    {
     "name": "stdout",
     "output_type": "stream",
     "text": [
      "{'num_sources': 1509, 'num_users': 1675297, 'num_edges': 48059616, 'out_deg_sq': 6129964132}\n"
     ]
    }
   ],
   "source": [
    "#full matrix stats\n",
    "out_deg_sq = sum([len(user_out_edges[k]) * len(user_out_edges[k]) for k in user_out_edges]) #2.2 bil\n",
    "num_edges = sum([len(user_out_edges[k]) for k in user_out_edges]) #28 mil\n",
    "num_sources = len(sources_dict) #1004\n",
    "num_users = len(users_dict) #1.4 mil\n",
    "graph_stats = {\"num_sources\" : num_sources, \"num_users\": num_users, \"num_edges\" : num_edges, \"out_deg_sq\" : out_deg_sq}\n",
    "print (graph_stats)"
   ]
  },
  {
   "cell_type": "code",
   "execution_count": null,
   "metadata": {},
   "outputs": [],
   "source": []
  },
  {
   "cell_type": "code",
   "execution_count": 45,
   "metadata": {},
   "outputs": [],
   "source": [
    "#we're multiplying two matrices of form [sources X users] and [users X sources], such that each position i,j is the dot product \n",
    "#of [u1_i, u2_i, ... un_i] and [u1_j, u2_j, ... un_j]\n",
    "#we are also, however, weighting each component-wise multiplication by the total \"activity\" of each user\n",
    "def make_dot_prods_mat(sources_dict=sources_dict, more_info_user_edges={\"should always received this arg\":0}): #it's not actually a dp\n",
    "    num_common = []\n",
    "    for x in range(0, len(sources_dict)):\n",
    "        lst = []\n",
    "        for y in range(0, len(sources_dict)):\n",
    "            lst += [0]\n",
    "        num_common += [lst]\n",
    "    counter = 0\n",
    "    for u_id in more_info_user_edges:\n",
    "        u = more_info_user_edges[u_id]\n",
    "        if (counter % 100000 == 0):\n",
    "            print (counter/100000, end = ' ')\n",
    "        for i1 in u:\n",
    "            for j1 in u:\n",
    "                i = i1#id_system_change[i1]\n",
    "                j = j1#id_system_change[j1]\n",
    "                num_common[i][j]+=u[i1]*u[j1]/len(u) #a very active user who posts many times to i and j will have less impact\n",
    "                #than an inactive user who does the same\n",
    "        counter += 1\n",
    "    return num_common"
   ]
  },
  {
   "cell_type": "code",
   "execution_count": 46,
   "metadata": {},
   "outputs": [
    {
     "name": "stdout",
     "output_type": "stream",
     "text": [
      "0.0 1.0 2.0 3.0 4.0 5.0 6.0 7.0 8.0 9.0 10.0 11.0 12.0 13.0 14.0 15.0 16.0 "
     ]
    }
   ],
   "source": [
    "dot_prods_mat = make_dot_prods_mat(sources_dict, user_out_edges)"
   ]
  },
  {
   "cell_type": "code",
   "execution_count": 47,
   "metadata": {},
   "outputs": [],
   "source": [
    "def cos_sim(offbrand_dot_prods=[], sources_dict={}, more_info_source_edges={}):\n",
    "    sqrt_in_degs = [] #actually a vector of magnitudes\n",
    "    num_common = offbrand_dot_prods \n",
    "    #global new_ids_to_simplified_sys\n",
    "    \n",
    "    for x in range(0, len(sources_dict)):\n",
    "        sqrt_in_degs += [0]\n",
    "        \n",
    "    #counter for testing purposes, to evaluate how sparse the matrix is\n",
    "    counter = 0\n",
    "    for i in range(0, len(num_common)):\n",
    "        for j in range(0, len(num_common[i])):\n",
    "            if (num_common[i][j] == 0):\n",
    "                counter+=1\n",
    "    print(counter, (len(num_common))**2)\n",
    "        \n",
    "    sim_mat = []\n",
    "    for x in range(0, len(sources_dict)):\n",
    "        lst = []\n",
    "        for y in range(0, len(sources_dict)):\n",
    "            lst += [0]\n",
    "        sim_mat += [lst]\n",
    "        \n",
    "    for s in range(0, len(more_info_source_edges)):\n",
    "        #s1 = new_ids_to_simplified_sys[s]\n",
    "        s1=s\n",
    "        sqrt_in_degs[s] = numpy.sqrt(sum([ (more_info_source_edges[s1][u])**2 for u in more_info_source_edges[s1] ]))\n",
    "        \n",
    "    for i in range(0, len(sim_mat)):\n",
    "        for j in range(i+1, len(sim_mat)):\n",
    "            d = (sqrt_in_degs[i]* sqrt_in_degs[j])\n",
    "            if (d != 0):\n",
    "                sim_mat[i][j] = (num_common[i][j])/d #if num_common were actually a dot product, this would truly be cosine similarity\n",
    "                #Note: we didn't use just dp earlier bc we wanted to also account for how active/inactive eac USER is\n",
    "                sim_mat[j][i] = sim_mat[i][j]\n",
    "        sim_mat[i][i] = 1\n",
    "    return sim_mat"
   ]
  },
  {
   "cell_type": "code",
   "execution_count": 48,
   "metadata": {},
   "outputs": [
    {
     "name": "stdout",
     "output_type": "stream",
     "text": [
      "821682 2277081\n"
     ]
    }
   ],
   "source": [
    "cos_sim_mat = cos_sim(dot_prods_mat, sources_dict, source_in_edges)\n",
    "#ends up being a modified version of cos sim, only bc we used a modified version of dp"
   ]
  },
  {
   "cell_type": "code",
   "execution_count": 237,
   "metadata": {},
   "outputs": [],
   "source": [
    "#THE TEMPORAL ANALYSIS VERSION\n",
    "#(cannot assume sources numbered 0 through n-1)\n",
    "def cos_sim_temporal(offbrand_dot_prods=[], sources_dict={}, more_info_source_edges={}):\n",
    "    sqrt_in_degs = [] #actually a vector of magnitudes\n",
    "    num_common = offbrand_dot_prods \n",
    "    \n",
    "    for x in range(0, len(sources_dict)):\n",
    "        sqrt_in_degs += [0]\n",
    "        \n",
    "    #counter for testing purposes, to evaluate how sparse the matrix is\n",
    "    counter = 0\n",
    "    for i in range(0, len(num_common)):\n",
    "        for j in range(0, len(num_common[i])):\n",
    "            if (num_common[i][j] == 0):\n",
    "                counter+=1\n",
    "    print(counter, (len(num_common))**2)\n",
    "        \n",
    "    sim_mat = []\n",
    "    for x in range(0, len(sources_dict)):\n",
    "        lst = []\n",
    "        for y in range(0, len(sources_dict)):\n",
    "            lst += [0]\n",
    "        sim_mat += [lst]\n",
    "        \n",
    "    for s in range(0, len(sources_dict)):\n",
    "        #s1 = new_ids_to_simplified_sys[s]\n",
    "        if (not s in more_info_source_edges):\n",
    "            continue\n",
    "        s1=s\n",
    "        sqrt_in_degs[s] = numpy.sqrt(sum([ (more_info_source_edges[s1][u])**2 for u in more_info_source_edges[s1] ]))\n",
    "        \n",
    "    for i in range(0, len(sim_mat)):\n",
    "        for j in range(i+1, len(sim_mat)):\n",
    "            if (num_common[i][j] == 0):\n",
    "                continue\n",
    "            d = (sqrt_in_degs[i]* sqrt_in_degs[j])\n",
    "            if (d != 0):\n",
    "                sim_mat[i][j] = (num_common[i][j])/d #if num_common were actually a dot product, this would truly be cosine similarity\n",
    "                #NOTE: we didn't use just dp earlier bc we wanted to account for how active/inactive each USER is\n",
    "                sim_mat[j][i] = sim_mat[i][j]\n",
    "        sim_mat[i][i] = 1\n",
    "    return sim_mat"
   ]
  },
  {
   "cell_type": "code",
   "execution_count": null,
   "metadata": {},
   "outputs": [],
   "source": []
  },
  {
   "cell_type": "code",
   "execution_count": 487,
   "metadata": {},
   "outputs": [],
   "source": [
    "#cos_sim_mat_type1 = cos_sim(dot_prods_mat2, sources_dict, source_in_edges)\n",
    "#ends up being a modified version of cos sim, only bc we used a modified version of dp"
   ]
  },
  {
   "cell_type": "code",
   "execution_count": null,
   "metadata": {},
   "outputs": [],
   "source": []
  },
  {
   "cell_type": "code",
   "execution_count": 49,
   "metadata": {},
   "outputs": [],
   "source": [
    "#checks avg similarity scores btwn fake and nonfake, fake and fake, and nonfake and nonfake node pairings. \n",
    "#user can evaluate whether scores are logical\n",
    "def sim_scores_logical(m, color_labels={}):\n",
    "    #global id_system_change\n",
    "    stats = {'fake_nonfake':0, 'fake_fake':0, 'nonfake_nonfake':0}\n",
    "    avgs = {'fake_nonfake':0, 'fake_fake':0, 'nonfake_nonfake':0}\n",
    "    totals = {'fake_nonfake':0, 'fake_fake':0, 'nonfake_nonfake':0}\n",
    "    for i in range(0, len(m)):\n",
    "        for j in range(0, len(m[i])):\n",
    "            i1 = i#new_ids_to_simplified_sys[i]\n",
    "            j1 = j#new_ids_to_simplified_sys[j]\n",
    "            if (color_labels[i1]=='GY'):\n",
    "                if (color_labels[j1]=='GY'):\n",
    "                    totals['nonfake_nonfake'] +=1\n",
    "                    stats['nonfake_nonfake'] += m[i][j]\n",
    "                else:\n",
    "                    totals['fake_nonfake'] +=1\n",
    "                    stats['fake_nonfake'] += m[i][j]\n",
    "            else:\n",
    "                if (color_labels[j1]=='GY'):\n",
    "                    totals['fake_nonfake'] +=1\n",
    "                    stats['fake_nonfake'] += m[i][j]\n",
    "                else:\n",
    "                    totals['fake_fake'] +=1\n",
    "                    stats['fake_fake'] += m[i][j]\n",
    "    for k in avgs:\n",
    "        avgs[k] = stats[k]/totals[k]\n",
    "    return (stats, totals, avgs) #sum of scores of a pairing type, quantity of that pairing type, stats/totals"
   ]
  },
  {
   "cell_type": "code",
   "execution_count": 50,
   "metadata": {},
   "outputs": [
    {
     "data": {
      "text/plain": [
       "({'fake_nonfake': 80.09157781208415,\n",
       "  'fake_fake': 327.37756969768157,\n",
       "  'nonfake_nonfake': 1389.1963287944013},\n",
       " {'fake_nonfake': 725400, 'fake_fake': 90000, 'nonfake_nonfake': 1461681},\n",
       " {'fake_nonfake': 0.00011041022582311022,\n",
       "  'fake_fake': 0.003637528552196462,\n",
       "  'nonfake_nonfake': 0.0009504100612886131})"
      ]
     },
     "execution_count": 50,
     "metadata": {},
     "output_type": "execute_result"
    }
   ],
   "source": [
    "sim_scores_logical(cos_sim_mat, color_labels)"
   ]
  },
  {
   "cell_type": "code",
   "execution_count": null,
   "metadata": {},
   "outputs": [],
   "source": [
    "#sim_scores_logical(cos_sim_mat_type1, color_labels)"
   ]
  },
  {
   "cell_type": "code",
   "execution_count": null,
   "metadata": {},
   "outputs": [],
   "source": [
    "#sim_scores_logical(ppr_mat, color_labels)"
   ]
  },
  {
   "cell_type": "code",
   "execution_count": null,
   "metadata": {},
   "outputs": [],
   "source": []
  },
  {
   "cell_type": "markdown",
   "metadata": {},
   "source": [
    "# Smart Dumb LPA"
   ]
  },
  {
   "cell_type": "markdown",
   "metadata": {},
   "source": [
    "# ISSUES TO FIX\n",
    "1) Are the '' sources always being counted as mislabeled?\n",
    "2) Is the final readjustment after the log reg model needed?\n",
    "3) What happens if the \"after\" time does not actually have 1+ interactions for all sources?\n",
    "5) also make domain_features_t2 is perhaps redundant?\n",
    "6) move the sanity check following the make_xy_split() def into a defined function, and move it somwhere more relevant\n",
    "7) why is len(features2_t1) only 1011 in scriptified_lpa func? "
   ]
  },
  {
   "cell_type": "code",
   "execution_count": null,
   "metadata": {},
   "outputs": [],
   "source": []
  },
  {
   "cell_type": "code",
   "execution_count": 51,
   "metadata": {},
   "outputs": [],
   "source": [
    "def make_eval_sets(color_labels, drop_thresh=0.5):    \n",
    "    #used to assign a random subset of nodes --> training\n",
    "    prelabeled_fake_data = set()\n",
    "    prelabeled_good_data = set()\n",
    "    prelabeled_data_dict = {}\n",
    "    \n",
    "    for d in color_labels:\n",
    "        if (random.random() < drop_thresh):\n",
    "            continue\n",
    "        prelabeled_data_dict[d] = color_labels[d]\n",
    "        if (color_labels[d] in ['Black', 'Red', 'Orange']):\n",
    "            prelabeled_fake_data.add(d)\n",
    "        if (color_labels[d] == 'GY'):\n",
    "            prelabeled_good_data.add(d)\n",
    "    return [prelabeled_fake_data, prelabeled_good_data, prelabeled_data_dict]"
   ]
  },
  {
   "cell_type": "code",
   "execution_count": 52,
   "metadata": {},
   "outputs": [],
   "source": [
    "def test_flex_lpa(full_ground_truths, training_ground_truths, full_matrix, training_matrix, keys_lst): \n",
    "    labels_dict = flex_lpa(full_ground_truths, training_ground_truths, full_matrix, training_matrix, keys_lst)\n",
    "    rslts = check_performance(full_ground_truths, labels_dict, training_ground_truths)\n",
    "    print (calc_performance_metrics(rslts))\n",
    "    return (rslts, labels_dict)"
   ]
  },
  {
   "cell_type": "code",
   "execution_count": 53,
   "metadata": {},
   "outputs": [],
   "source": [
    "def flex_lpa(full_ground_truths, training_ground_truths, full_matrix, training_matrix, keys_lst):\n",
    "    #initialize vars\n",
    "    training_subset_col_labels = make_eval_sets(training_ground_truths)[2]\n",
    "    settings = best_lpa(training_ground_truths, training_matrix, training_subset_col_labels, {'w':-1, 'w2':-1, 'i':-1}, 1)\n",
    "    #structure: best_lpa(ground_truths, matrx, init_ground_truths, current_settings, mode=0)\n",
    "    print(\"settings: \", settings)\n",
    "    \n",
    "    estimated_col_labels = {}\n",
    "    for s in training_ground_truths:\n",
    "        estimated_col_labels[s] = training_ground_truths[s]\n",
    "    \n",
    "    num_rounds = 15.0\n",
    "    for x in range(1, int(num_rounds)+1):\n",
    "        mat = {}\n",
    "        bound = len(training_matrix) + int((len(full_matrix)-len(training_matrix))*x/num_rounds)\n",
    "        print(len(full_matrix), len(training_matrix), bound)\n",
    "        #add 100/num_rounds% test nodes to the matrix in each iteration\n",
    "        for i in range(0, bound):\n",
    "            mat[keys_lst[i]] = {}\n",
    "            for j in range(0, bound):\n",
    "                mat[keys_lst[i]][keys_lst[j]] = full_matrix[keys_lst[i]][keys_lst[j]]\n",
    "        \n",
    "        if (x % 4 == 0):  #every n iterations, recompute settings\n",
    "            settings = best_lpa(estimated_col_labels, mat, training_ground_truths, settings, 1)\n",
    "                \n",
    "        labels_dict = run_lpa(estimated_col_labels, training_ground_truths, mat, settings['w'], settings['w2'], settings['i'])\n",
    "        #structure: run_lpa(init_labels, ground_truths, matrx, w, w2, max_iters)\n",
    "        \n",
    "        for s in labels_dict:\n",
    "            if (not s in training_ground_truths):\n",
    "                estimated_col_labels[s] = labels_dict[s] \n",
    "            else:\n",
    "                #run_lpa() could be redefined so training nodes are flexible and this condition would fix it\n",
    "                estimated_col_labels[s] = training_ground_truths[s] \n",
    "        \n",
    "        print(x,\": performance : \", check_performance(full_ground_truths, estimated_col_labels, training_ground_truths))\n",
    "        #structure: check_performance(full_ground_truths, model_labels, init_ground_truths)\n",
    "        print(x,\": settings: \", settings)\n",
    "        \n",
    "    labels_dict = run_lpa(estimated_col_labels, training_subset_col_labels, mat, settings['w'], settings['w2'], settings['i'], 1)\n",
    "    #beneficial if training nodes are sometimes mislabeled in the returned dictionary (it will be input to log_reg / rand_for)\n",
    "    for k in estimated_col_labels:\n",
    "        if (k in lpa_color_labels2):\n",
    "            estimated_col_labels[k] = labels_dict[k]\n",
    "    #Note: dominant neighbor label during LP is never '', thus '' disappears in the final results\n",
    "    return estimated_col_labels"
   ]
  },
  {
   "cell_type": "code",
   "execution_count": 62,
   "metadata": {},
   "outputs": [],
   "source": [
    "def best_lpa(ground_truths, matrx, init_ground_truths, current_settings, mode=0): \n",
    "    #ground_truths sometimes = estimated_col_labels (a pseudo set of ground truths)\n",
    "    best_settings = {'w':-1,'w2':-1,'i':-1} \n",
    "    best_p = -1\n",
    "    \n",
    "    wghts = [1.65, 1.75, 1.9, 2, 2.1, 2.25, 2.35] \n",
    "    random.shuffle(wghts)\n",
    "    for x in range(1,4):\n",
    "        a = (x/2.0)*random.random()\n",
    "        if (x%2 == 1): #if you want more vars\n",
    "            wghts.append((x/2.0)+a)\n",
    "            \n",
    "    for w in wghts:\n",
    "        for w2 in wghts:\n",
    "            for i in [1, 2]: #always 1\n",
    "                labels_dict = run_lpa(init_ground_truths, init_ground_truths, matrx, w, w2, i)\n",
    "                performance = check_performance(ground_truths, labels_dict, init_ground_truths)\n",
    "                perf = calc_performance_metrics(performance, 1)\n",
    "                \n",
    "                if (perf > best_p): #update best settings if w,w2,i --> higher performance\n",
    "                    if (current_settings['w'] == w and current_settings['w2'] == w2):\n",
    "                        #the new settings != passed settings \n",
    "                        continue\n",
    "                    best_settings['w'] = w\n",
    "                    best_settings['i'] = i\n",
    "                    best_settings['w2'] = w2\n",
    "                    best_p = perf\n",
    "                    print (best_settings, best_p)\n",
    "    return best_settings"
   ]
  },
  {
   "cell_type": "code",
   "execution_count": 55,
   "metadata": {},
   "outputs": [],
   "source": [
    "def check_performance(full_ground_truths, model_labels, init_ground_truths):\n",
    "    model_label_stats = {} \n",
    "    #m_l_s represents --> for all nodes labeled ROB or GY by the model, how many truly are that class and how many are mislabeled\n",
    "    for col in ['ROB','GY','']:\n",
    "        model_label_stats[col] = {'true_bad':0,'true_good':0,'total':0}\n",
    "\n",
    "    for s in model_labels:\n",
    "        if (s in init_ground_truths):\n",
    "            continue\n",
    "        if (s not in full_ground_truths): #I don't remember why this condition was necessary\n",
    "            continue\n",
    "            \n",
    "        stated_col = model_labels[s]\n",
    "        if (stated_col in ['Red','Orange','Black']): #this is no longer necessary; I'd leave it in, in case you want to change things, however\n",
    "            stated_col = 'ROB'\n",
    "            \n",
    "        model_label_stats[stated_col]['total'] += 1 \n",
    "        true_col = full_ground_truths[s]\n",
    "        if (true_col in ['Red','Orange','Black','ROB']):\n",
    "            model_label_stats[stated_col]['true_bad'] += 1\n",
    "        if (true_col in ['GY']):\n",
    "            model_label_stats[stated_col]['true_good'] += 1\n",
    "            \n",
    "    return model_label_stats"
   ]
  },
  {
   "cell_type": "code",
   "execution_count": 56,
   "metadata": {},
   "outputs": [],
   "source": [
    "def calc_performance_metrics(lpa_stats, mode=0):\n",
    "    rob = lpa_stats['ROB']\n",
    "    gy = lpa_stats['GY']\n",
    "    \n",
    "    #calculate precision and recall\n",
    "    if (rob['total']== 0 or gy['true_bad']+rob['true_bad'] == 0):\n",
    "        print (\"error\")\n",
    "        return 0\n",
    "    prec = rob['true_bad']*1.0/(rob['total'])\n",
    "    recall = rob['true_bad']*1.0/(gy['true_bad']+rob['true_bad'])\n",
    "    \n",
    "    #calculate f1 and accuracy\n",
    "    if (prec == 0 and recall == 0):\n",
    "        print (\"error\")\n",
    "        return 0\n",
    "    f1 = 2.0 * (prec*recall)/(prec+recall)\n",
    "    acc = (rob['true_bad']+gy['true_good'])/(rob['total']+gy['total'])\n",
    "    \n",
    "    v = f1 #v = the metric along which performance is optimized\n",
    "    \n",
    "    #mode 0 to print performance metrics, mode 1 to return v\n",
    "    if (mode == 0):\n",
    "        print (\"precision: \" + str(prec), \"recall: \" + str(recall), \"f1: \" + str(f1), \"accuracy: \" + str(acc))\n",
    "        return\n",
    "    return v"
   ]
  },
  {
   "cell_type": "code",
   "execution_count": 57,
   "metadata": {},
   "outputs": [],
   "source": [
    "def run_lpa(init_labels, ground_truths, matrx, w, w2, max_iters, mode=0):\n",
    "    labels_dict = {}\n",
    "    for s in init_labels:\n",
    "        if (init_labels[s] in ['Red', 'Orange', 'Black', 'ROB']): \n",
    "            labels_dict[s] = 'ROB'\n",
    "        else:\n",
    "            labels_dict[s] = init_labels[s]\n",
    "    i = 0\n",
    "    stable = False \n",
    "    num_changed_nodes = 0\n",
    "    max_changed_nodes = 1 \n",
    "\n",
    "    while (i < max_iters and (not stable)):\n",
    "        #note: it's rarely beneficial for max_iters > 1\n",
    "        stable = True\n",
    "        new_labels = {}\n",
    "                \n",
    "        for node in matrx:\n",
    "            label_categories = {} #{'ROB' : rob_neighbors_aggregated_similarity, 'GY' : gy_neighbors_aggregated_similarity}\n",
    "            if (mode == 0 and node in ground_truths):\n",
    "                continue\n",
    "            \n",
    "            for node_neighbor in matrx:\n",
    "                if (not node_neighbor in labels_dict): \n",
    "                    continue\n",
    "    \n",
    "                color = labels_dict[node_neighbor]\n",
    "                if (not color in label_categories):\n",
    "                    label_categories[color] = 0\n",
    "                color2 = ground_truths[node_neighbor] if node_neighbor in ground_truths else color\n",
    "                #color2 is useful for weighting neighbors by color categories (Red vs Orange vs Black)\n",
    "                \n",
    "                factor = matrx[node][node_neighbor] \n",
    "                if (color2 in ['Orange','Red', 'Black','ROB']): \n",
    "                    factor *= w #w2 #additional weight given to ROB neighbors\n",
    "                if (node_neighbor in ground_truths): \n",
    "                    factor *= w2 #w3 #additional weight given to ground truth neighbors\n",
    "                label_categories[color] += factor\n",
    "                \n",
    "            max_l = '' \n",
    "            l_weight = -1\n",
    "            #determine \"strongest\" neighbor class, assign to node\n",
    "            for label in label_categories: \n",
    "                if (label_categories[label] > l_weight):\n",
    "                    max_l = label\n",
    "                    l_weight = label_categories[label]\n",
    "            if ((not node in labels_dict) or max_l != labels_dict[node]):\n",
    "                num_changed_nodes += 1\n",
    "            new_labels[node] = max_l \n",
    "            \n",
    "        labels_dict = new_labels\n",
    "        if (num_changed_nodes > max_changed_nodes):\n",
    "            stable = False\n",
    "        i+=1\n",
    "        num_changed_nodes = 0\n",
    "        \n",
    "    return labels_dict"
   ]
  },
  {
   "cell_type": "code",
   "execution_count": null,
   "metadata": {},
   "outputs": [],
   "source": []
  },
  {
   "cell_type": "code",
   "execution_count": null,
   "metadata": {},
   "outputs": [],
   "source": []
  },
  {
   "cell_type": "code",
   "execution_count": null,
   "metadata": {},
   "outputs": [],
   "source": []
  },
  {
   "cell_type": "code",
   "execution_count": 174,
   "metadata": {},
   "outputs": [],
   "source": [
    "lpa_color_labels1 = {}\n",
    "lpa_color_labels2 = {}\n",
    "lpa_mat1 = {}\n",
    "lpa_mat2 = {}\n",
    "train_sources = set()\n",
    "test_sources = set()\n",
    "\n",
    "keys_lst = []"
   ]
  },
  {
   "cell_type": "code",
   "execution_count": 175,
   "metadata": {},
   "outputs": [],
   "source": [
    "def make_datasets(color_labels, cos_sim_mat, lpa_color_labels1, lpa_color_labels2, lpa_mat1, lpa_mat2, train_sources, test_sources, keys_lst): \n",
    "    #global lpa_color_labels1, lpa_color_labels2, lpa_mat1, lpa_mat2, train_sources, test_sources, keys_lst\n",
    "    \n",
    "    #keys = []\n",
    "    for k in color_labels:\n",
    "        keys_lst.append(k)\n",
    "    random.shuffle(keys_lst)\n",
    "    bound = 0.7*len(keys_lst) # t * len(keys), 100*t% data in training\n",
    "    \n",
    "    #construct lpa_color_labels1 to include test + train data, lpa_color_labels2 to include only train data\n",
    "    #test sources also includes all data\n",
    "   \n",
    "    c = 0\n",
    "    for k in keys_lst:\n",
    "        #nodes are randomly assigned to train or test, given that keys is randomized\n",
    "        if (c < bound):\n",
    "            train_sources.add(k)\n",
    "            lpa_color_labels2[k] = color_labels[k] #filling in color information\n",
    "        test_sources.add(k)\n",
    "        lpa_color_labels1[k] = color_labels[k]\n",
    "        c += 1\n",
    "\n",
    "    print(len(lpa_color_labels1), len(lpa_color_labels2), len(test_sources), len(train_sources))\n",
    "    #keys_lst = keys\n",
    "    \n",
    "    #construct matrices under lpa system w/ cos_sim information\n",
    "    for i in range(0, len(cos_sim_mat)):\n",
    "        if (i in train_sources):\n",
    "            lpa_mat2[i] = {}\n",
    "        lpa_mat1[i] = {}\n",
    "        \n",
    "        for j in range(0, len(cos_sim_mat)):\n",
    "            if ((i in train_sources) and (j in train_sources)):\n",
    "                lpa_mat2[i][j] = cos_sim_mat[i][j]\n",
    "            lpa_mat1[i][j] = cos_sim_mat[i][j]"
   ]
  },
  {
   "cell_type": "code",
   "execution_count": 176,
   "metadata": {},
   "outputs": [
    {
     "name": "stdout",
     "output_type": "stream",
     "text": [
      "1509 1057 1509 1057\n"
     ]
    }
   ],
   "source": [
    "make_datasets(color_labels, cos_sim_mat, lpa_color_labels1, lpa_color_labels2, lpa_mat1, lpa_mat2, train_sources, test_sources, keys_lst)"
   ]
  },
  {
   "cell_type": "code",
   "execution_count": 177,
   "metadata": {},
   "outputs": [
    {
     "data": {
      "text/plain": [
       "(1509, 1057, 1509, 1057, 1509)"
      ]
     },
     "execution_count": 177,
     "metadata": {},
     "output_type": "execute_result"
    }
   ],
   "source": [
    "len(lpa_color_labels1), len(lpa_color_labels2), len(lpa_mat1), len(lpa_mat2), len(keys_lst)"
   ]
  },
  {
   "cell_type": "code",
   "execution_count": 254,
   "metadata": {},
   "outputs": [
    {
     "name": "stdout",
     "output_type": "stream",
     "text": [
      "{'w': 1.75, 'w2': 1.75, 'i': 1} 0.6315789473684211\n",
      "{'w': 1.65, 'w2': 1.75, 'i': 1} 0.6439024390243903\n",
      "settings:  {'w': 1.65, 'w2': 1.75, 'i': 1}\n",
      "1509 1056 1086\n",
      "1 : performance :  {'ROB': {'true_bad': 2, 'true_good': 2, 'total': 4}, 'GY': {'true_bad': 3, 'true_good': 22, 'total': 25}, '': {'true_bad': 0, 'true_good': 1, 'total': 1}}\n",
      "1 : settings:  {'w': 1.65, 'w2': 1.75, 'i': 1}\n",
      "1509 1056 1116\n",
      "2 : performance :  {'ROB': {'true_bad': 5, 'true_good': 3, 'total': 8}, 'GY': {'true_bad': 3, 'true_good': 47, 'total': 51}, '': {'true_bad': 0, 'true_good': 1, 'total': 1}}\n",
      "2 : settings:  {'w': 1.65, 'w2': 1.75, 'i': 1}\n",
      "1509 1056 1146\n",
      "3 : performance :  {'ROB': {'true_bad': 9, 'true_good': 4, 'total': 13}, 'GY': {'true_bad': 5, 'true_good': 70, 'total': 76}, '': {'true_bad': 0, 'true_good': 1, 'total': 1}}\n",
      "3 : settings:  {'w': 1.65, 'w2': 1.75, 'i': 1}\n",
      "1509 1056 1176\n",
      "{'w': 1.9, 'w2': 1.9, 'i': 1} 0.896551724137931\n",
      "{'w': 1.75, 'w2': 1.9, 'i': 1} 0.962962962962963\n",
      "{'w': 1.65, 'w2': 1.9, 'i': 1} 1.0\n",
      "4 : performance :  {'ROB': {'true_bad': 13, 'true_good': 6, 'total': 19}, 'GY': {'true_bad': 8, 'true_good': 91, 'total': 100}, '': {'true_bad': 0, 'true_good': 1, 'total': 1}}\n",
      "4 : settings:  {'w': 1.65, 'w2': 1.9, 'i': 1}\n",
      "1509 1056 1207\n",
      "5 : performance :  {'ROB': {'true_bad': 19, 'true_good': 8, 'total': 27}, 'GY': {'true_bad': 10, 'true_good': 112, 'total': 123}, '': {'true_bad': 0, 'true_good': 1, 'total': 1}}\n",
      "5 : settings:  {'w': 1.65, 'w2': 1.9, 'i': 1}\n",
      "1509 1056 1237\n",
      "6 : performance :  {'ROB': {'true_bad': 22, 'true_good': 8, 'total': 30}, 'GY': {'true_bad': 12, 'true_good': 137, 'total': 150}, '': {'true_bad': 0, 'true_good': 1, 'total': 1}}\n",
      "6 : settings:  {'w': 1.65, 'w2': 1.9, 'i': 1}\n",
      "1509 1056 1267\n",
      "7 : performance :  {'ROB': {'true_bad': 28, 'true_good': 9, 'total': 37}, 'GY': {'true_bad': 17, 'true_good': 154, 'total': 173}, '': {'true_bad': 0, 'true_good': 1, 'total': 1}}\n",
      "7 : settings:  {'w': 1.65, 'w2': 1.9, 'i': 1}\n",
      "1509 1056 1297\n",
      "{'w': 1.9, 'w2': 1.9, 'i': 1} 0.9487179487179488\n",
      "{'w': 1.75, 'w2': 1.9, 'i': 1} 0.9866666666666666\n",
      "{'w': 1.65, 'w2': 2.1, 'i': 1} 1.0\n",
      "8 : performance :  {'ROB': {'true_bad': 30, 'true_good': 12, 'total': 42}, 'GY': {'true_bad': 19, 'true_good': 177, 'total': 198}, '': {'true_bad': 0, 'true_good': 1, 'total': 1}}\n",
      "8 : settings:  {'w': 1.65, 'w2': 2.1, 'i': 1}\n",
      "1509 1056 1327\n",
      "9 : performance :  {'ROB': {'true_bad': 35, 'true_good': 14, 'total': 49}, 'GY': {'true_bad': 22, 'true_good': 197, 'total': 221}, '': {'true_bad': 0, 'true_good': 1, 'total': 1}}\n",
      "9 : settings:  {'w': 1.65, 'w2': 2.1, 'i': 1}\n",
      "1509 1056 1358\n",
      "10 : performance :  {'ROB': {'true_bad': 36, 'true_good': 15, 'total': 51}, 'GY': {'true_bad': 27, 'true_good': 221, 'total': 250}, '': {'true_bad': 0, 'true_good': 1, 'total': 1}}\n",
      "10 : settings:  {'w': 1.65, 'w2': 2.1, 'i': 1}\n",
      "1509 1056 1388\n",
      "11 : performance :  {'ROB': {'true_bad': 38, 'true_good': 16, 'total': 54}, 'GY': {'true_bad': 28, 'true_good': 247, 'total': 277}, '': {'true_bad': 0, 'true_good': 1, 'total': 1}}\n",
      "11 : settings:  {'w': 1.65, 'w2': 2.1, 'i': 1}\n",
      "1509 1056 1418\n",
      "{'w': 2, 'w2': 2, 'i': 1} 0.9557522123893806\n",
      "{'w': 1.65, 'w2': 2, 'i': 1} 0.9906542056074767\n",
      "12 : performance :  {'ROB': {'true_bad': 41, 'true_good': 17, 'total': 58}, 'GY': {'true_bad': 28, 'true_good': 273, 'total': 303}, '': {'true_bad': 0, 'true_good': 1, 'total': 1}}\n",
      "12 : settings:  {'w': 1.65, 'w2': 2, 'i': 1}\n",
      "1509 1056 1448\n",
      "13 : performance :  {'ROB': {'true_bad': 44, 'true_good': 18, 'total': 62}, 'GY': {'true_bad': 28, 'true_good': 298, 'total': 328}, '': {'true_bad': 0, 'true_good': 2, 'total': 2}}\n",
      "13 : settings:  {'w': 1.65, 'w2': 2, 'i': 1}\n",
      "1509 1056 1478\n",
      "14 : performance :  {'ROB': {'true_bad': 48, 'true_good': 18, 'total': 66}, 'GY': {'true_bad': 31, 'true_good': 321, 'total': 354}, '': {'true_bad': 0, 'true_good': 2, 'total': 2}}\n",
      "14 : settings:  {'w': 1.65, 'w2': 2, 'i': 1}\n",
      "1509 1056 1509\n",
      "15 : performance :  {'ROB': {'true_bad': 49, 'true_good': 20, 'total': 69}, 'GY': {'true_bad': 32, 'true_good': 348, 'total': 382}, '': {'true_bad': 0, 'true_good': 2, 'total': 2}}\n",
      "15 : settings:  {'w': 1.65, 'w2': 2, 'i': 1}\n",
      "precision: 0.7101449275362319 recall: 0.6049382716049383 f1: 0.6533333333333334 accuracy: 0.8802660753880266\n",
      "None\n",
      "final_acc {'ROB': {'true_bad': 49, 'true_good': 20, 'total': 69}, 'GY': {'true_bad': 32, 'true_good': 348, 'total': 382}, '': {'true_bad': 0, 'true_good': 2, 'total': 2}}\n"
     ]
    }
   ],
   "source": [
    "final_acc, labels_dict2 = test_flex_lpa(lpa_color_labels1, lpa_color_labels2, lpa_mat1, lpa_mat2, keys_lst_time)\n",
    "print(\"final_acc\", final_acc)"
   ]
  },
  {
   "cell_type": "code",
   "execution_count": null,
   "metadata": {},
   "outputs": [],
   "source": []
  },
  {
   "cell_type": "code",
   "execution_count": null,
   "metadata": {},
   "outputs": [],
   "source": []
  },
  {
   "cell_type": "code",
   "execution_count": 244,
   "metadata": {},
   "outputs": [],
   "source": [
    "lpa_color_labels1 = {}\n",
    "lpa_color_labels2 = {}\n",
    "lpa_mat1 = {}\n",
    "lpa_mat2 = {}"
   ]
  },
  {
   "cell_type": "code",
   "execution_count": 255,
   "metadata": {},
   "outputs": [],
   "source": [
    "def make_datasets_temporal(color_labels, cos_sim_mat_before, cos_sim_mat_after, lpa_color_labels1, lpa_color_labels2, lpa_mat1, lpa_mat2, keys_lst_time, source_div_time): \n",
    "    #global lpa_color_labels1, lpa_color_labels2, lpa_mat1, lpa_mat2 \n",
    "    #global cos_sim_mat_before, cos_sim_mat_after, keys_lst_time, source_div_time #sdt < j is only time1\n",
    "    #global color_labels\n",
    "    #reminder: lpa_color_labels2 = training (the smaller set). lpa_mat2 corresponds\n",
    "    \n",
    "    #iterating through all node pairs\n",
    "    for i in range(0, len(keys_lst_time)):\n",
    "        for j in range(i, len(keys_lst_time)):\n",
    "            #picking ids in order of appearance in keys_lst_time\n",
    "            id1 = keys_lst_time[i]\n",
    "            id2 = keys_lst_time[j]\n",
    "            \n",
    "            if (i < source_div_time):\n",
    "                lpa_color_labels2[id1] = color_labels[id1] #assign ground truth labels\n",
    "                if (not id1 in lpa_mat2):\n",
    "                    lpa_mat2[id1] = {}\n",
    "                    \n",
    "                if (j < source_div_time):\n",
    "                    if (not id2 in lpa_mat2):\n",
    "                        lpa_mat2[id2] = {}\n",
    "                    lpa_mat2[id1][id2] = cos_sim_mat_before[id1][id2]\n",
    "                    lpa_mat2[id2][id1] = cos_sim_mat_before[id2][id1]\n",
    "                    if (i == j):\n",
    "                        lpa_mat2[id1][id2] = 1\n",
    "                        lpa_mat2[id2][id1] = 1\n",
    "                    \n",
    "            if (not id1 in lpa_mat1):\n",
    "                lpa_mat1[id1] = {}\n",
    "            if (not id2 in lpa_mat1):\n",
    "                lpa_mat1[id2] = {}\n",
    "            lpa_color_labels1[id1] = color_labels[id1]  #UHH WHY WLD THAT FOLLOWING STATEMENT BE TRUE? \n",
    "            lpa_mat1[id1][id2] = cos_sim_mat_after[id1][id2] #some things in this dict will be all zeroes, same goes for the following line\n",
    "            lpa_mat1[id2][id1] = cos_sim_mat_after[id2][id1] "
   ]
  },
  {
   "cell_type": "code",
   "execution_count": 248,
   "metadata": {},
   "outputs": [],
   "source": [
    "#dot_prods_mat_time1 = make_dot_prods_mat(sources_dict, user_edges_time1)\n",
    "dot_prods_mat_before = make_dot_prods_mat(sources_dict, user_edges_time1)"
   ]
  },
  {
   "cell_type": "code",
   "execution_count": 249,
   "metadata": {},
   "outputs": [
    {
     "name": "stdout",
     "output_type": "stream",
     "text": [
      "1794574 2277081\n"
     ]
    }
   ],
   "source": [
    "#cos_sim_mat_time1 = cos_sim_temporal(dot_prods_mat_time1, sources_dict, source_edges_time1)\n",
    "cos_sim_mat_before = cos_sim_temporal(dot_prods_mat_before, sources_dict, source_edges_time1)"
   ]
  },
  {
   "cell_type": "code",
   "execution_count": 250,
   "metadata": {},
   "outputs": [],
   "source": [
    "dot_prods_mat_after = make_dot_prods_mat(sources_dict, user_edges_time2)"
   ]
  },
  {
   "cell_type": "code",
   "execution_count": 251,
   "metadata": {},
   "outputs": [
    {
     "name": "stdout",
     "output_type": "stream",
     "text": [
      "1602225 2277081\n"
     ]
    }
   ],
   "source": [
    "cos_sim_mat_after = cos_sim_temporal(dot_prods_mat_after, sources_dict, source_edges_time2)"
   ]
  },
  {
   "cell_type": "code",
   "execution_count": 252,
   "metadata": {},
   "outputs": [],
   "source": [
    "make_datasets_temporal()"
   ]
  },
  {
   "cell_type": "code",
   "execution_count": null,
   "metadata": {},
   "outputs": [],
   "source": []
  },
  {
   "cell_type": "code",
   "execution_count": null,
   "metadata": {},
   "outputs": [],
   "source": []
  },
  {
   "cell_type": "code",
   "execution_count": null,
   "metadata": {},
   "outputs": [],
   "source": []
  },
  {
   "cell_type": "code",
   "execution_count": 1079,
   "metadata": {},
   "outputs": [],
   "source": [
    "def dict_to_lst(labels_dict2, lpa_color_labels1, lpa_color_labels2):\n",
    "    y_pred = [0] * (len(labels_dict2) - len(lpa_color_labels2))\n",
    "    y_true = [0] * (len(lpa_color_labels1) - len(lpa_color_labels2))\n",
    "    j = 0\n",
    "    for i in labels_dict2:\n",
    "        if (i in lpa_color_labels2):\n",
    "            continue\n",
    "        if labels_dict2[i] == 'GY':\n",
    "            y_pred[j] = 1\n",
    "        if lpa_color_labels1[i] == 'GY':\n",
    "            y_true[j] = 1\n",
    "        j += 1\n",
    "    print(len(y_pred), len(y_true))\n",
    "    return (y_pred, y_true)"
   ]
  },
  {
   "cell_type": "code",
   "execution_count": null,
   "metadata": {},
   "outputs": [],
   "source": []
  },
  {
   "cell_type": "code",
   "execution_count": null,
   "metadata": {},
   "outputs": [],
   "source": []
  },
  {
   "cell_type": "code",
   "execution_count": 340,
   "metadata": {},
   "outputs": [
    {
     "name": "stdout",
     "output_type": "stream",
     "text": [
      "{'': '1', 'user_id': '12', 'website': 'blog.twitter.com', 'tweet_id': '780809833402470400', 'tweet_date': 'Tue Sep 27 16:42:25 +0000 2016', 'retweet_prefix': 'RT @twitter:', 'tweet_text': 'Twitter is helping you register to vote! Send a Direct Message to @gov to get started: https://t.co/1DgGG9i71o https://t.co/shckBNcT3l', 'quoted_text': '', 'retweet_of_tweet_id': '780809477754789888', 'retweet_of_user_id': '783214', 'quote_of_tweet_id': 'NA', 'quote_of_user_name': '', 'reply_to_tweet_id': 'NA', 'candidate_interaction': '', 'where_url_found': 'retweeted', 'who_url_from': 'twitter', 'link_type': 'external', 'shortened_url': 'https://t.co/1DgGG9i71o', 'canonical_url': 'https://blog.twitter.com/official/en_us/a/2016/get-registered-to-vote-with-gov.html', 'title': 'Get Registered to Vote with @Gov', 'date_published': '', 'description': '', 'author': '', 'political_classifier_score': '0.995818855124211', 'ts_tzoffset': '0', 'ts': '2016-09-27 12:42:25', 'ts_month': '9', 'ts_rel_days': '-42', 'ts_rel_weeks': '-6', 'source_link': 'http://twitter.com/download/iphone', 'source_name': 'Twitter for iPhone', 'link_shortener': 'NA', 'social_info': 'NA', 'social_subtype': 'NA', 'social_type': 'NA', 'youtube_title': 'NA', 'youtube_views': '9218868437227407266', 'via_text': 'NA', 'sentiment': '0.3595', 'domain_color': 'NA', 'domain_color_num': '1000', 'how_sampled': 'top_80pct', 'is_pol_news_site': 'TRUE', 'website_cat': 'news/blog', 'website_main_cat': 'news/blog', 'website_subcat': 'NA', 'is_panel_member': 'FALSE', 'is_panel_friend': 'TRUE', 'n_pol_exp': '0', 'n_pol_shares': '7'}\n",
      "{'': '2', 'user_id': '12', 'website': 'blog.twitter.com', 'tweet_id': '793233454062153729', 'tweet_date': 'Mon Oct 31 23:29:27 +0000 2016', 'retweet_prefix': 'RT @twitter:', 'tweet_text': \"What's Happening https://t.co/a0WSI52OuH https://t.co/7gpXqUrqXJ\", 'quoted_text': '', 'retweet_of_tweet_id': '793225673670131712', 'retweet_of_user_id': '783214', 'quote_of_tweet_id': 'NA', 'quote_of_user_name': '', 'reply_to_tweet_id': 'NA', 'candidate_interaction': '', 'where_url_found': 'retweeted', 'who_url_from': 'twitter', 'link_type': 'external', 'shortened_url': 'https://t.co/a0WSI52OuH', 'canonical_url': 'https://blog.twitter.com/official/en_us/a/2016/what-s-happening-now-election-edition.html', 'title': 'WHAT’S HAPPENING NOW (Election Edition)', 'date_published': '', 'description': '', 'author': '', 'political_classifier_score': '1', 'ts_tzoffset': '0', 'ts': '2016-10-31 19:29:27', 'ts_month': '10', 'ts_rel_days': '-8', 'ts_rel_weeks': '-2', 'source_link': 'http://twitter.com/download/iphone', 'source_name': 'Twitter for iPhone', 'link_shortener': 'NA', 'social_info': 'NA', 'social_subtype': 'NA', 'social_type': 'NA', 'youtube_title': 'NA', 'youtube_views': '9218868437227407266', 'via_text': 'NA', 'sentiment': '0', 'domain_color': 'NA', 'domain_color_num': '1000', 'how_sampled': 'top_80pct', 'is_pol_news_site': 'TRUE', 'website_cat': 'news/blog', 'website_main_cat': 'news/blog', 'website_subcat': 'NA', 'is_panel_member': 'FALSE', 'is_panel_friend': 'TRUE', 'n_pol_exp': '0', 'n_pol_shares': '7'}\n",
      "{'': '3', 'user_id': '12', 'website': 'netflix.com', 'tweet_id': '785240138540384256', 'tweet_date': 'Sun Oct 09 22:06:52 +0000 2016', 'retweet_prefix': '', 'tweet_text': 'A must see before Election Day by @AVAETC  https://t.co/74lPLrcFog https://t.co/OplXbiBtJT', 'quoted_text': '', 'retweet_of_tweet_id': 'NA', 'retweet_of_user_id': 'NA', 'quote_of_tweet_id': 'NA', 'quote_of_user_name': '', 'reply_to_tweet_id': 'NA', 'candidate_interaction': '', 'where_url_found': 'orig', 'who_url_from': '', 'link_type': 'external', 'shortened_url': 'https://t.co/74lPLrcFog', 'canonical_url': 'https://www.netflix.com/title/80091741', 'title': '13TH | Netflix Official Site', 'date_published': '', 'description': 'Slavery. Jim Crow. Criminalization. Links in a chain of racial inequality, forged by political and economic motives. Watch trailers & learn more.', 'author': '', 'political_classifier_score': '1', 'ts_tzoffset': '0', 'ts': '2016-10-09 18:06:52', 'ts_month': '10', 'ts_rel_days': '-30', 'ts_rel_weeks': '-5', 'source_link': 'http://twitter.com/download/iphone', 'source_name': 'Twitter for iPhone', 'link_shortener': 'NA', 'social_info': 'NA', 'social_subtype': 'NA', 'social_type': 'NA', 'youtube_title': 'NA', 'youtube_views': '9218868437227407266', 'via_text': 'NA', 'sentiment': '0', 'domain_color': 'NA', 'domain_color_num': '1000', 'how_sampled': 'NA', 'is_pol_news_site': 'NA', 'website_cat': 'NA', 'website_main_cat': 'NA', 'website_subcat': 'NA', 'is_panel_member': 'FALSE', 'is_panel_friend': 'TRUE', 'n_pol_exp': '0', 'n_pol_shares': '7'}\n"
     ]
    }
   ],
   "source": [
    "get_sample_line(urls_file)"
   ]
  },
  {
   "cell_type": "code",
   "execution_count": 341,
   "metadata": {},
   "outputs": [
    {
     "name": "stdout",
     "output_type": "stream",
     "text": [
      "{'user_id': '788253393877737472', 'domain': 'abc7ny.com', 'label': 'GY', 'rel_to_post': 'following'}\n",
      "{'user_id': '788253393877737472', 'domain': 'abcnews.go.com', 'label': 'GY', 'rel_to_post': 'following'}\n",
      "{'user_id': '788253393877737472', 'domain': 'elle.com', 'label': 'GY', 'rel_to_post': 'following'}\n"
     ]
    }
   ],
   "source": [
    "get_sample_line(nodes_file)"
   ]
  },
  {
   "cell_type": "code",
   "execution_count": 343,
   "metadata": {},
   "outputs": [
    {
     "name": "stdout",
     "output_type": "stream",
     "text": [
      "{'user_id': '12', 'domain': 'sacbee.com', 'label': 'GY', 'timestamp': '2016-10-06 10:26:04'}\n",
      "{'user_id': '12', 'domain': 'washingtonpost.com', 'label': 'GY', 'timestamp': '2016-10-06 00:31:12'}\n",
      "{'user_id': '13', 'domain': 'boingboing.net', 'label': 'GY', 'timestamp': '2016-12-03 11:54:21'}\n"
     ]
    }
   ],
   "source": [
    "get_sample_line('sources_data_ts.csv')"
   ]
  },
  {
   "cell_type": "code",
   "execution_count": null,
   "metadata": {},
   "outputs": [],
   "source": []
  },
  {
   "cell_type": "markdown",
   "metadata": {},
   "source": [
    "# Temporal Analysis Setup"
   ]
  },
  {
   "cell_type": "code",
   "execution_count": null,
   "metadata": {},
   "outputs": [],
   "source": []
  },
  {
   "cell_type": "code",
   "execution_count": null,
   "metadata": {},
   "outputs": [],
   "source": []
  },
  {
   "cell_type": "code",
   "execution_count": 224,
   "metadata": {},
   "outputs": [],
   "source": [
    "#convert dates of all tweets --> numbers\n",
    "dates = []\n",
    "counter = 0\n",
    "with open (urls_file, 'r', encoding='utf-8', errors='replace') as csvfile:\n",
    "    rder = csv.DictReader(csvfile)\n",
    "    for row in rder:\n",
    "        if (not row['user_id'] in users_info_t1):\n",
    "            continue\n",
    "        domain = get_url_domain(row['canonical_url'])\n",
    "        if (not domain in sources_dict):\n",
    "            continue\n",
    "        counter += 1\n",
    "        if (counter %1000000 == 0):\n",
    "            print (counter/1000000)\n",
    "        d = row['ts']\n",
    "        d2 = int(d[5:7])\n",
    "        d3 = (int(d[0:4])-2016)*12\n",
    "        dates.append(d2+d3)"
   ]
  },
  {
   "cell_type": "code",
   "execution_count": 225,
   "metadata": {},
   "outputs": [],
   "source": [
    "dates.sort()"
   ]
  },
  {
   "cell_type": "code",
   "execution_count": 226,
   "metadata": {},
   "outputs": [
    {
     "data": {
      "text/plain": [
       "(53071, 11)"
      ]
     },
     "execution_count": 226,
     "metadata": {},
     "output_type": "execute_result"
    }
   ],
   "source": [
    "dateline = dates[int(0.7*len(dates))]\n",
    "int(0.7*len(dates)), dateline #implies the 70% mark is November, 2016. \n",
    "#anything before = training, anything including and after = test"
   ]
  },
  {
   "cell_type": "code",
   "execution_count": 227,
   "metadata": {},
   "outputs": [
    {
     "name": "stdout",
     "output_type": "stream",
     "text": [
      "7 12\n"
     ]
    }
   ],
   "source": [
    "print(dates[0], dates[-1]) #shows range of dates"
   ]
  },
  {
   "cell_type": "code",
   "execution_count": 228,
   "metadata": {},
   "outputs": [],
   "source": [
    "keys_lst_time = []\n",
    "for k in sources_dict:\n",
    "    keys_lst_time.append(sources_dict[k])"
   ]
  },
  {
   "cell_type": "code",
   "execution_count": null,
   "metadata": {},
   "outputs": [],
   "source": []
  },
  {
   "cell_type": "code",
   "execution_count": null,
   "metadata": {},
   "outputs": [],
   "source": []
  },
  {
   "cell_type": "code",
   "execution_count": 229,
   "metadata": {},
   "outputs": [],
   "source": [
    "random.shuffle(keys_lst_time)"
   ]
  },
  {
   "cell_type": "code",
   "execution_count": 230,
   "metadata": {},
   "outputs": [],
   "source": [
    "keys_dict = {} #the source id : the position in which it \"appears\"\n",
    "for i in range(0, len(keys_lst_time)):\n",
    "    keys_dict[keys_lst_time[i]] = i "
   ]
  },
  {
   "cell_type": "code",
   "execution_count": 231,
   "metadata": {},
   "outputs": [],
   "source": [
    "def fill_in_dict(domain_id, user_id, source_edges, user_edges):\n",
    "    if (not domain_id in source_edges):\n",
    "        source_edges[domain_id] = {}\n",
    "    if (not user_id in user_edges):\n",
    "        user_edges[user_id] = {}\n",
    "    if (not user_id in source_edges[domain_id]):\n",
    "        source_edges[domain_id][user_id] = 0\n",
    "    if (not domain_id in user_edges[user_id]):\n",
    "        user_edges[user_id][domain_id] = 0\n",
    "                \n",
    "    source_edges[domain_id][user_id] += 1\n",
    "    user_edges[user_id][domain_id] += 1"
   ]
  },
  {
   "cell_type": "code",
   "execution_count": 232,
   "metadata": {},
   "outputs": [],
   "source": [
    "j = int(len(keys_lst) * 0.7) #sources 0 <= i < j exist in time1 and time2. i >= j exist only in time2\n",
    "source_div_time = j"
   ]
  },
  {
   "cell_type": "code",
   "execution_count": 347,
   "metadata": {},
   "outputs": [],
   "source": [
    "user_edges_time1 = {} #time1 = before November 2016\n",
    "source_edges_time1 = {}\n",
    "user_edges_time2 = {} #time2 = including and after November 2016\n",
    "source_edges_time2 = {}"
   ]
  },
  {
   "cell_type": "code",
   "execution_count": 348,
   "metadata": {},
   "outputs": [],
   "source": [
    "#condenses nodes_file into two dictionaries\n",
    "#storing number of interactions between user i and source j, weighted by interaction type\n",
    "def make_adj_lsts2_temp(input_file='nodes_data_ts.csv', sources_dict=sources_dict, users_dict=users_dict, w2=0.5):\n",
    "    t1 = time.time()\n",
    "    #user_out_edges = [{} for i in range(0, len(users_dict))]\n",
    "    #source_in_edges = [{} for i in range(0, len(sources_dict))]\n",
    "    #user_out_edges = {}\n",
    "    #source_in_edges = {}\n",
    "    global source_edges_time1, source_edges_time2, user_edges_time1, user_edges_time2, dateline\n",
    "    counter = 0\n",
    "    with open (input_file, 'r', encoding='utf-8', errors='replace') as csvfile:\n",
    "        rder = csv.DictReader(csvfile)\n",
    "        for row in rder:\n",
    "            if (not row['user_id'] in users_dict or not row['domain'] in sources_dict):\n",
    "                continue\n",
    "                \n",
    "            date1 = row['timestamp']\n",
    "            date2 = int(date1[5:7]) + (int(date1[0:4])-2016)*12\n",
    "            source_in_edges = source_edges_time2\n",
    "            user_out_edges = user_edges_time2\n",
    "            if (date2 < dateline):\n",
    "                source_in_edges = source_edges_time1\n",
    "                user_out_edges = user_edges_time1\n",
    "            \n",
    "            u = users_dict[row['user_id']] #simplified user id\n",
    "            d = sources_dict[row['domain']] #simplified domain id\n",
    "            w = 1\n",
    "            if (row['rel_to_post']=='following'):\n",
    "                w = w2 #w should be a number < 1, 0.5 experimentally works well\n",
    "                \n",
    "            if (not u in user_out_edges):\n",
    "                user_out_edges[u] = {}\n",
    "            if (not d in source_in_edges):\n",
    "                source_in_edges[d] = {}\n",
    "            \n",
    "            if (not d in user_out_edges[u]):\n",
    "                user_out_edges[u][d] = 0\n",
    "            if (not u in source_in_edges[d]):\n",
    "                source_in_edges[d][u] = 0 \n",
    "            user_out_edges[u][d] += w #accounting for number of interactions\n",
    "            source_in_edges[d][u] += w\n",
    "            counter += 1\n",
    "            if (counter % 1000000 == 0):\n",
    "                print(counter/1000000, end = ' ')\n",
    "    t2 = time.time()\n",
    "    print(t2-t1)\n",
    "    print(counter)\n",
    "    #return ()"
   ]
  },
  {
   "cell_type": "code",
   "execution_count": 349,
   "metadata": {},
   "outputs": [
    {
     "name": "stdout",
     "output_type": "stream",
     "text": [
      "1.0 2.0 3.0 4.0 5.0 6.0 7.0 8.0 9.0 10.0 11.0 12.0 13.0 14.0 15.0 16.0 17.0 18.0 19.0 20.0 21.0 22.0 23.0 24.0 25.0 26.0 27.0 28.0 29.0 30.0 31.0 32.0 33.0 34.0 35.0 36.0 37.0 38.0 39.0 40.0 41.0 42.0 43.0 44.0 45.0 46.0 47.0 48.0 49.0 50.0 51.0 52.0 53.0 54.0 55.0 56.0 57.0 58.0 59.0 60.0 61.0 62.0 63.0 64.0 65.0 66.0 67.0 68.0 69.0 70.0 71.0 72.0 73.0 74.0 75.0 76.0 77.0 78.0 79.0 80.0 81.0 82.0 83.0 84.0 85.0 86.0 87.0 88.0 89.0 90.0 91.0 92.0 93.0 94.0 95.0 96.0 97.0 98.0 99.0 100.0 101.0 102.0 103.0 104.0 105.0 106.0 107.0 108.0 109.0 110.0 111.0 112.0 113.0 114.0 115.0 116.0 117.0 118.0 119.0 120.0 121.0 122.0 123.0 124.0 125.0 126.0 127.0 128.0 129.0 130.0 131.0 132.0 133.0 134.0 135.0 136.0 137.0 138.0 139.0 140.0 141.0 142.0 143.0 144.0 145.0 146.0 147.0 148.0 149.0 150.0 151.0 152.0 153.0 154.0 155.0 156.0 157.0 158.0 159.0 160.0 161.0 162.0 163.0 164.0 165.0 166.0 167.0 168.0 169.0 170.0 171.0 172.0 173.0 174.0 175.0 176.0 177.0 178.0 179.0 180.0 181.0 182.0 183.0 184.0 185.0 186.0 187.0 188.0 189.0 190.0 191.0 192.0 193.0 194.0 195.0 196.0 197.0 198.0 199.0 200.0 201.0 202.0 203.0 204.0 205.0 206.0 207.0 208.0 209.0 210.0 211.0 212.0 213.0 214.0 215.0 216.0 217.0 218.0 219.0 220.0 221.0 222.0 223.0 224.0 225.0 226.0 227.0 228.0 229.0 230.0 231.0 232.0 233.0 234.0 235.0 236.0 237.0 238.0 239.0 240.0 989.0070991516113\n",
      "240050810\n"
     ]
    }
   ],
   "source": [
    "make_adj_lsts2_temp()"
   ]
  },
  {
   "cell_type": "code",
   "execution_count": null,
   "metadata": {},
   "outputs": [],
   "source": []
  },
  {
   "cell_type": "code",
   "execution_count": 291,
   "metadata": {},
   "outputs": [],
   "source": [
    "#OLD VERSION\n",
    "with open('sources_data_ts.csv', 'r', encoding='utf-8', errors='replace') as csvfile:\n",
    "    rder = csv.DictReader(csvfile)\n",
    "    h=['user_id', 'domain', 'label', 'timestamp']\n",
    "    for row in rder:\n",
    "        domain = get_url_domain(row['domain'])\n",
    "        if (not domain in sources_dict):\n",
    "            continue\n",
    "        domain_id = sources_dict[domain]\n",
    "        user_id = users_dict[row['user_id']]\n",
    "        i = keys_dict[domain_id]\n",
    "        \n",
    "        d = row['timestamp']\n",
    "        d2 = int(d[5:7]) + (int(d[0:4])-2016)*12\n",
    "        \n",
    "        \"\"\"if the interaction was in time1:\n",
    "            if the source \"didn't exist\" in time1:\n",
    "                continue\n",
    "            else add to time1 dicts\n",
    "        if the interaction was in time2:\n",
    "            add to time2 dicts\"\"\"\n",
    "        \n",
    "        if (d2 < dateline):\n",
    "            #if (i >= source_div_time):\n",
    "            #    continue\n",
    "            if (i < source_div_time):\n",
    "                fill_in_dict(domain_id, user_id, source_edges_time1, user_edges_time1)\n",
    "        else:\n",
    "            fill_in_dict(domain_id, user_id, source_edges_time2, user_edges_time2)"
   ]
  },
  {
   "cell_type": "code",
   "execution_count": 235,
   "metadata": {},
   "outputs": [
    {
     "data": {
      "text/plain": [
       "(1017, 1410)"
      ]
     },
     "execution_count": 235,
     "metadata": {},
     "output_type": "execute_result"
    }
   ],
   "source": [
    "len(source_edges_time1), len(source_edges_time2)"
   ]
  },
  {
   "cell_type": "code",
   "execution_count": 236,
   "metadata": {},
   "outputs": [
    {
     "data": {
      "text/plain": [
       "(241184, 249607)"
      ]
     },
     "execution_count": 236,
     "metadata": {},
     "output_type": "execute_result"
    }
   ],
   "source": [
    "len(user_edges_time1), len(user_edges_time2)"
   ]
  },
  {
   "cell_type": "code",
   "execution_count": 329,
   "metadata": {},
   "outputs": [
    {
     "name": "stdout",
     "output_type": "stream",
     "text": [
      "{'user_id': '12', 'domain': 'sacbee.com', 'label': 'GY', 'timestamp': '2016-10-06 10:26:04'}\n",
      "{'user_id': '12', 'domain': 'washingtonpost.com', 'label': 'GY', 'timestamp': '2016-10-06 00:31:12'}\n",
      "{'user_id': '13', 'domain': 'boingboing.net', 'label': 'GY', 'timestamp': '2016-12-03 11:54:21'}\n"
     ]
    }
   ],
   "source": [
    "get_sample_line('sources_data_ts.csv')"
   ]
  },
  {
   "cell_type": "code",
   "execution_count": null,
   "metadata": {},
   "outputs": [],
   "source": []
  },
  {
   "cell_type": "code",
   "execution_count": null,
   "metadata": {},
   "outputs": [],
   "source": []
  },
  {
   "cell_type": "code",
   "execution_count": null,
   "metadata": {},
   "outputs": [],
   "source": [
    "#CONTROL RESULTS, do not rerun\n",
    "#(time1 is all interactions in time1, time2 is all interactions in time2)"
   ]
  },
  {
   "cell_type": "code",
   "execution_count": 317,
   "metadata": {},
   "outputs": [
    {
     "data": {
      "text/plain": [
       "(975, 930)"
      ]
     },
     "execution_count": 317,
     "metadata": {},
     "output_type": "execute_result"
    }
   ],
   "source": [
    "len(source_edges_time1), len(source_edges_time2) #29 sources naturally \"emerge\" (in this subset of all sources)"
   ]
  },
  {
   "cell_type": "code",
   "execution_count": 318,
   "metadata": {},
   "outputs": [
    {
     "data": {
      "text/plain": [
       "(221798, 185081)"
      ]
     },
     "execution_count": 318,
     "metadata": {},
     "output_type": "execute_result"
    }
   ],
   "source": [
    "len(user_edges_time1), len(user_edges_time2)"
   ]
  },
  {
   "cell_type": "code",
   "execution_count": null,
   "metadata": {},
   "outputs": [],
   "source": []
  },
  {
   "cell_type": "code",
   "execution_count": 276,
   "metadata": {},
   "outputs": [],
   "source": [
    "def add_matrices(m1, m2):\n",
    "    m = [[0]*len(m1)]*len(m1[0])\n",
    "    for i in range(0, len(m1)):\n",
    "        for j in range(0, len(m1[0])):\n",
    "            m[i][j] = m1[i][j] + m2[i][j]\n",
    "    return m"
   ]
  },
  {
   "cell_type": "code",
   "execution_count": 315,
   "metadata": {},
   "outputs": [],
   "source": [
    "def merge_dicts(d1, d2):\n",
    "    d = {}\n",
    "    for k in d1:\n",
    "        if not k in d2:\n",
    "            d[k] = d1[k]\n",
    "            continue\n",
    "            \n",
    "        #combine d1[k] and d2[k]    \n",
    "        d[k] = {}\n",
    "        for k2 in d1[k]:\n",
    "            if not k2 in d2[k]:\n",
    "                d[k][k2] = d1[k][k2]\n",
    "                continue\n",
    "            d[k][k2] = d1[k][k2]+d2[k][k2]\n",
    "        for k2 in d2[k]:\n",
    "            if k2 in d1[k]:\n",
    "                continue\n",
    "            d[k][k2] = d2[k][k2]\n",
    "            \n",
    "    #add any keys in d2 not in d1\n",
    "    for k in d2:\n",
    "        if k in d1:\n",
    "            continue\n",
    "        d[k] = d2[k]\n",
    "    return d"
   ]
  },
  {
   "cell_type": "code",
   "execution_count": null,
   "metadata": {},
   "outputs": [],
   "source": []
  },
  {
   "cell_type": "code",
   "execution_count": 314,
   "metadata": {},
   "outputs": [
    {
     "name": "stdout",
     "output_type": "stream",
     "text": [
      "1\n",
      "4\n"
     ]
    }
   ],
   "source": []
  },
  {
   "cell_type": "code",
   "execution_count": null,
   "metadata": {},
   "outputs": [],
   "source": []
  },
  {
   "cell_type": "markdown",
   "metadata": {},
   "source": [
    "# Classification!!"
   ]
  },
  {
   "cell_type": "code",
   "execution_count": 67,
   "metadata": {},
   "outputs": [],
   "source": [
    "#Ordered by educational attainment (bachelor's degrees)\n",
    "states = {\n",
    "        'AK': 28,\n",
    "        'AL': 45,\n",
    "        'AR': 49,\n",
    "        'AS': 26, #Unclear, given average number\n",
    "        'AZ': 32,\n",
    "        'CA': 15,\n",
    "        'CO': 5,\n",
    "        'CT': 7,\n",
    "        'DC': 1,\n",
    "        'DE': 20,\n",
    "        'FL': 31,\n",
    "        'GA': 25,\n",
    "        'GU': 7, #tied w/ Virginia\n",
    "        'HI': 19,\n",
    "        'IA': 36,\n",
    "        'ID': 43,\n",
    "        'IL': 13,\n",
    "        'IN': 17,\n",
    "        'KS': 17,\n",
    "        'KY': 48,\n",
    "        'LA': 47,\n",
    "        'MA': 2,\n",
    "        'MD': 4,\n",
    "        'ME': 23,\n",
    "        'MI': 33,\n",
    "        'MN': 34,\n",
    "        'MO': 33,\n",
    "        'MP': 26, #Unclear, given average number\n",
    "        'MS': 50,\n",
    "        'MT': 21,\n",
    "        'NA': 26, #Not applicable, given average number\n",
    "        'NC': 26,\n",
    "        'ND': 29,\n",
    "        'NE': 22,\n",
    "        'NH': 9,\n",
    "        'NJ': 6,\n",
    "        'NM': 39,\n",
    "        'NV': 46,\n",
    "        'NY': 10,\n",
    "        'OH': 37,\n",
    "        'OK': 44,\n",
    "        'OR': 18,\n",
    "        'PA': 24,\n",
    "        'PR': 43, #tied w/ Indiana\n",
    "        'RI': 14,\n",
    "        'SC': 38,\n",
    "        'SD': 35,\n",
    "        'TN': 42,\n",
    "        'TX': 30,\n",
    "        'UT': 16,\n",
    "        'VA': 7,\n",
    "        'VI': 52,\n",
    "        'VT': 8,\n",
    "        'WA': 12,\n",
    "        'WI': 27,\n",
    "        'WV': 51,\n",
    "        'WY': 41\n",
    "}"
   ]
  },
  {
   "cell_type": "code",
   "execution_count": 68,
   "metadata": {},
   "outputs": [],
   "source": [
    "#return information regarding user identity, in numerical form\n",
    "def make_numer_row(row):\n",
    "    global states\n",
    "    reg = 0\n",
    "    if row['voterbase_registration_status'] == 'Registered':\n",
    "        reg = 1\n",
    "    age = 0\n",
    "    if row['voterbase_age'] != '':\n",
    "        age = int(row['voterbase_age'])\n",
    "    state = 0\n",
    "    if row['state'] in states:\n",
    "        state = states[row['state']]\n",
    "    party = 0\n",
    "    if row['party']=='Democrat':\n",
    "        party = 1\n",
    "    if row['party']=='Republican':\n",
    "        party = 2\n",
    "    turnout = 0\n",
    "    if row['tsmart_presidential_general_turnout_score'] != '':\n",
    "        turnout = float(row['tsmart_presidential_general_turnout_score'])\n",
    "    bot = 0\n",
    "    if row['bot_score'] != '':\n",
    "        bot = float(row['bot_score'])\n",
    "    swing = 0\n",
    "    if row['is_swingstate_voter'] == 'TRUE':\n",
    "        swing = 1\n",
    "    folls = 0\n",
    "    if row['scaled_followers'] != '':\n",
    "        folls = float(row['scaled_followers'])\n",
    "    friends = 0\n",
    "    if row['scaled_friends'] != '':\n",
    "        friends = float(row['scaled_friends'])\n",
    "    exposures = 0\n",
    "    if row['total_exposures'] != '':\n",
    "        exposures = float(row['total_exposures'])\n",
    "    bl = 0\n",
    "    if row['n_black_exp'] != '':\n",
    "        bl = float(row['n_black_exp'])\n",
    "    r = 0\n",
    "    if row['n_red_exp'] != '':\n",
    "        r = float(row['n_red_exp'])\n",
    "    o = 0\n",
    "    if row['n_orange_exp'] != '':\n",
    "        o = float(row['n_orange_exp'])\n",
    "    shares = 0\n",
    "    if row['total_shares'] != '':\n",
    "        shares = float(row['total_shares'])\n",
    "    bl_shares = 0\n",
    "    if row['n_black_shares'] != '':\n",
    "        bl_shares = float(row['n_black_shares'])\n",
    "    r_shares = 0\n",
    "    if row['n_red_shares'] != '':\n",
    "        r_shares = float(row['n_red_shares'])\n",
    "    o_shares = 0\n",
    "    if row['n_orange_shares'] != '':\n",
    "        o_shares = float(row['n_orange_shares'])\n",
    "    super_s = 0\n",
    "    if (row['is_supersharer'] == 'TRUE'):\n",
    "        super_s = 1\n",
    "    super_c = 0\n",
    "    if row['is_superconsumer'] == 'TRUE':\n",
    "        super_c = 1\n",
    "    outli = 0\n",
    "    if row['is_outlier'] == 'TRUE':\n",
    "        outli = 1\n",
    "    #return [state, age, reg, party, turnout, bot, swing, folls, friends, exposures, bl, r, o, shares, bl_shares, r_shares, o_shares, super_s, super_c, outli]\n",
    "    #return [state, age, reg, party, turnout, swing, folls, friends, exposures, shares, super_s, super_c]\n",
    "    return {\"state\":state, \"age\":age, \"reg\":reg, \"party\":party, \"turnout\":turnout, \"swing\":swing, \"folls\":folls, \"friends\":friends, \"exposures\":exposures, \"shares\": shares, \"super_s\":super_s, \"super_c\":super_c}"
   ]
  },
  {
   "cell_type": "code",
   "execution_count": 69,
   "metadata": {},
   "outputs": [],
   "source": [
    "import sklearn"
   ]
  },
  {
   "cell_type": "code",
   "execution_count": null,
   "metadata": {},
   "outputs": [],
   "source": [
    "#thanks http://www.nltk.org/howto/sentiment.html\n",
    "import nltk\n",
    "from nltk.sentiment.util import *\n",
    "from nltk.sentiment.vader import SentimentIntensityAnalyzer\n",
    "from nltk import tokenize"
   ]
  },
  {
   "cell_type": "code",
   "execution_count": 70,
   "metadata": {},
   "outputs": [
    {
     "name": "stderr",
     "output_type": "stream",
     "text": [
      "[nltk_data] Downloading package vader_lexicon to\n",
      "[nltk_data]     /home/swati/nltk_data...\n",
      "[nltk_data]   Package vader_lexicon is already up-to-date!\n"
     ]
    },
    {
     "data": {
      "text/plain": [
       "True"
      ]
     },
     "execution_count": 70,
     "metadata": {},
     "output_type": "execute_result"
    }
   ],
   "source": [
    "nltk.download('vader_lexicon')"
   ]
  },
  {
   "cell_type": "code",
   "execution_count": 71,
   "metadata": {},
   "outputs": [],
   "source": [
    "sid = SentimentIntensityAnalyzer()"
   ]
  },
  {
   "cell_type": "code",
   "execution_count": 282,
   "metadata": {},
   "outputs": [],
   "source": [
    "#return information regarding user neighborhood\n",
    "def make_user_cred_score(user_id, users_dict, user_out_edges, lpa_color_labels2, color_labels):\n",
    "    #global users_dict, user_out_edges, lpa_color_labels2, color_labels\n",
    "    u_id = users_dict[user_id] \n",
    "        \n",
    "    total_score = 0\n",
    "    weighted_or_score = 0\n",
    "    weighted_red_score = 0\n",
    "    weighted_black_score = 0\n",
    "    or_score = 0\n",
    "    red_score = 0\n",
    "    black_score = 0\n",
    "    num_bad_neighbors = 0\n",
    "    \n",
    "    s = user_out_edges[u_id]\n",
    "    for j in s:\n",
    "        j1=j\n",
    "        \n",
    "        if (not j1 in lpa_color_labels2):\n",
    "            continue\n",
    "            \n",
    "        c = s[j]\n",
    "        if (lpa_color_labels2[j1] in ['Red', 'Orange', 'Black', 'ROB']):\n",
    "            c *= -1\n",
    "            num_bad_neighbors += 1\n",
    "        if (color_labels[j] in ['Orange']):\n",
    "            weighted_or_score += c\n",
    "            or_score += 1\n",
    "        if (color_labels[j] in ['Red']):\n",
    "            weighted_red_score += c\n",
    "            red_score += 1\n",
    "        if (color_labels[j] in ['Black']):\n",
    "            weighted_black_score += c\n",
    "            black_score += 1\n",
    "        total_score += c\n",
    "    \n",
    "    #return [score, score1, score2, score3, score1b, score2b, score3b, scoreb/len(s)]\n",
    "    #return {\"user_score\":score, \"or_score\":score1, \"red_score\":score2, \"bl_score\":score3, \"or_aff\":score1b, \"red_aff\":score2b, \"bl_aff\":score3b, \"fraction_bad\":scoreb/len(s)}\n",
    "    return {\"user_score\":total_score, \"or_score\":weighted_or_score, \"red_score\":weighted_red_score, \"bl_score\":weighted_black_score, \n",
    "            \"or_aff\":or_score, \"red_aff\":red_score, \"bl_aff\":black_score, \"fraction_bad\":num_bad_neighbors/len(s)}"
   ]
  },
  {
   "cell_type": "code",
   "execution_count": 155,
   "metadata": {},
   "outputs": [],
   "source": [
    "#make users_info and tweets_info (combining make_numer_row() and make_user_cred_score() for users, basic tweet info for tweets)\n",
    "#users_info and tweets_info have different structures & different keys\n",
    "def make_tweeters_characteristics_data(users_info, tweets_info, sources_dict, users_dict, user_out_edges, lpa_color_labels2, color_labels, input_file1=panel_file, input_file2=urls_file):\n",
    "    counter = 0\n",
    "    #create users_info\n",
    "    with open (input_file1, 'r', encoding='utf-8', errors='replace') as csvfile:\n",
    "        rder = csv.DictReader(csvfile)\n",
    "        for row in rder:\n",
    "            if (not row['user_id'] in users_dict):\n",
    "                continue\n",
    "            counter += 1\n",
    "            if (counter %1000000 == 0):\n",
    "                print (counter/1000000)\n",
    "            u = row['user_id']\n",
    "            dicti = make_numer_row(row)\n",
    "            dicti.update(make_user_cred_score(u, users_dict, user_out_edges, lpa_color_labels2, color_labels))\n",
    "            users_info[u] = dicti\n",
    "    # create tweets_info\n",
    "    with open (input_file2, 'r', encoding='utf-8', errors='replace') as csvfile:\n",
    "        rder = csv.DictReader(csvfile)\n",
    "        for row in rder:\n",
    "            if (not row['user_id'] in users_info):\n",
    "                continue\n",
    "            domain = get_url_domain(row['canonical_url'])\n",
    "            if (not domain in sources_dict):\n",
    "                continue\n",
    "            counter += 1\n",
    "            if (counter %1000000 == 0):\n",
    "                print (counter/1000000)\n",
    "            t = row['']\n",
    "            twtext = re.sub(r\"http\\S+\", \"\", row['tweet_text']) #thanks zx81, stack\n",
    "            twtext = re.sub(r\"www\\S+\", \"\", twtext)\n",
    "            sent_score = sid.polarity_scores(twtext)['compound'] #this could probably be improved\n",
    "            domain = get_url_domain(row['canonical_url'])\n",
    "            tweets_info[t] = {'user_id':int(row['user_id']), 'domain':domain, 'sent_score':sent_score, 'tweet_len':len(twtext)}"
   ]
  },
  {
   "cell_type": "code",
   "execution_count": 195,
   "metadata": {},
   "outputs": [],
   "source": [
    "users_info_t1 = {}\n",
    "tweets_info_t1 = {}"
   ]
  },
  {
   "cell_type": "code",
   "execution_count": 196,
   "metadata": {},
   "outputs": [],
   "source": [
    "make_tweeters_characteristics_data(users_info_t1, tweets_info_t1, sources_dict, users_dict, user_out_edges, lpa_color_labels2, color_labels)"
   ]
  },
  {
   "cell_type": "code",
   "execution_count": null,
   "metadata": {},
   "outputs": [],
   "source": []
  },
  {
   "cell_type": "code",
   "execution_count": null,
   "metadata": {},
   "outputs": [],
   "source": []
  },
  {
   "cell_type": "code",
   "execution_count": null,
   "metadata": {},
   "outputs": [],
   "source": []
  },
  {
   "cell_type": "code",
   "execution_count": 197,
   "metadata": {},
   "outputs": [
    {
     "data": {
      "text/plain": [
       "(3720, 75817, 1675297)"
      ]
     },
     "execution_count": 197,
     "metadata": {},
     "output_type": "execute_result"
    }
   ],
   "source": [
    "len(users_info_t1), len(tweets_info_t1), len(users_dict)"
   ]
  },
  {
   "cell_type": "code",
   "execution_count": null,
   "metadata": {},
   "outputs": [],
   "source": []
  },
  {
   "cell_type": "code",
   "execution_count": 81,
   "metadata": {},
   "outputs": [],
   "source": [
    "user_scores = {}\n",
    "source_scores = {}"
   ]
  },
  {
   "cell_type": "code",
   "execution_count": 159,
   "metadata": {},
   "outputs": [],
   "source": [
    "#create source_scores, w/ credibility scores for sources\n",
    "def cred_score_func(user_scores, source_scores, user_out_edges, color_labels, source_in_edges, lpa_color_labels2):\n",
    "    #global user_scores, source_scores, user_out_edges, color_labels, source_in_edges, lpa_color_labels2\n",
    "        \n",
    "    ratio_good_to_bad = 4 #approximation of ratio good:bad in the training data\n",
    "    \n",
    "    for u in user_out_edges:\n",
    "        user_scores[u] = 0\n",
    "        for s in user_out_edges[u]:\n",
    "            if (not s in lpa_color_labels2):\n",
    "                continue\n",
    "            if (user_out_edges[u][s] == 0.5):\n",
    "                continue\n",
    "            l = color_labels[s]\n",
    "            if (l in ['Red', 'Orange', 'Black', 'ROB']):\n",
    "                user_scores[u] += -1*ratio_good_to_bad #to balance out the \"expected\" user score to 0\n",
    "            if (l in ['GY']):\n",
    "                user_scores[u] += 1\n",
    "    \n",
    "    for u in user_out_edges:\n",
    "        for s in user_out_edges[u]:\n",
    "            if (not s in source_scores):\n",
    "                source_scores[s] = 0\n",
    "            if (user_out_edges[u][s] == 0.5):\n",
    "                if (user_scores[u] > 0):\n",
    "                    source_scores[s] += 1/ratio_good_to_bad #to give some weight to positive exposures\n",
    "                continue\n",
    "            if (user_scores[u] > 0): #credible posters contribute +1 to source score\n",
    "                source_scores[s] += 1\n",
    "            if (user_scores[u] < 0):\n",
    "                source_scores[s] -= 1\n",
    "        "
   ]
  },
  {
   "cell_type": "code",
   "execution_count": 160,
   "metadata": {},
   "outputs": [],
   "source": [
    "cred_score_func(user_scores, source_scores, user_out_edges, color_labels, source_in_edges, lpa_color_labels2)"
   ]
  },
  {
   "cell_type": "code",
   "execution_count": 161,
   "metadata": {},
   "outputs": [],
   "source": [
    "#evaluate the performance of the source score system\n",
    "def eval_source_scores(source_scores, labels_dict2, lpa_color_labels2, sources_dict, sources_in_edges, user_out_edges, cos_sim_mat):\n",
    "    #global sources_dict, sources_in_edges, user_out_edges, cos_sim_mat\n",
    "        \n",
    "    doms = {'avg_fake_score': 0, 'avg_real_score': 0, 'num_fake': 0, 'num_real': 0}\n",
    "    #fill in doms\n",
    "    for d in source_scores:\n",
    "        i=d\n",
    "        if (i in lpa_color_labels2):\n",
    "            continue\n",
    "        if (color_labels[i] in ['GY']):\n",
    "            doms['avg_real_score'] += source_scores[d]\n",
    "            doms['num_real'] += 1\n",
    "        if (color_labels[i] in ['Red', 'Orange', 'Black', 'ROB']):\n",
    "            doms['avg_fake_score'] += source_scores[d]\n",
    "            doms['num_fake'] += 1\n",
    "    doms['avg_real_score'] /= doms['num_real']\n",
    "    doms['avg_fake_score'] /= doms['num_fake']\n",
    "    print (doms)\n",
    "    \n",
    "    #various metrics for evaluating the source score system\n",
    "    counter = 0\n",
    "    num_mislabeled_as_fake = 0\n",
    "    num_mislabeled_as_good = 0\n",
    "    c2 = 0 #num good in first n sources (a goal is to minimize this number)\n",
    "\n",
    "    n = 100\n",
    "    for k, v in sorted(source_scores.items(), key=lambda item: item[1]):\n",
    "        #iterating in increasing order of source credibility\n",
    "        if (k in lpa_color_labels2):\n",
    "            continue\n",
    "            \n",
    "        if (counter < doms['num_fake']): #if labeled fake but ground truth = non-fake\n",
    "            if (color_labels[k] in ['GY']):\n",
    "                num_mislabeled_as_fake += 1\n",
    "        if (counter >= doms['num_fake']): #if labeled non-fake but ground truth = fake\n",
    "            if (color_labels[k] in ['Red', 'Orange', 'Black', 'ROB']): \n",
    "                num_mislabeled_as_good += 1\n",
    "                \n",
    "        if (counter < n):\n",
    "            if (color_labels[k] in ['GY']):\n",
    "                c2 += 1\n",
    "        counter += 1    \n",
    "        \n",
    "    print(num_mislabeled_as_fake, num_mislabeled_as_good, doms['num_fake'], c2)"
   ]
  },
  {
   "cell_type": "code",
   "execution_count": 85,
   "metadata": {
    "scrolled": true
   },
   "outputs": [
    {
     "name": "stdout",
     "output_type": "stream",
     "text": [
      "{'avg_fake_score': 5429.743975903614, 'avg_real_score': 17118.297683923705, 'num_fake': 83, 'num_real': 367}\n",
      "44 44 83 51\n"
     ]
    }
   ],
   "source": [
    "eval_source_scores(source_scores, labels_dict2, lpa_color_labels2, sources_dict, sources_in_edges, user_out_edges, cos_sim_mat)"
   ]
  },
  {
   "cell_type": "code",
   "execution_count": null,
   "metadata": {},
   "outputs": [],
   "source": []
  },
  {
   "cell_type": "code",
   "execution_count": 86,
   "metadata": {},
   "outputs": [],
   "source": [
    "import heapq"
   ]
  },
  {
   "cell_type": "code",
   "execution_count": 87,
   "metadata": {},
   "outputs": [],
   "source": [
    "def label_to_num(label):\n",
    "    if (label in ['Red', 'Orange', 'Black', 'ROB']):\n",
    "        return 1\n",
    "    return 0"
   ]
  },
  {
   "cell_type": "code",
   "execution_count": 162,
   "metadata": {},
   "outputs": [],
   "source": [
    "#1 is fake, 0 is good\n",
    "#offbrand k-nearest neighbors\n",
    "#if any of the n closest (k-nearest) are fake, give the label fake\n",
    "def k_nearest(cos_sim_mat, lpa_color_labels2, lpa_color_labels1, color_labels):\n",
    "    #global cos_sim_mat, lpa_color_labels2, lpa_color_labels1, color_labels\n",
    "    k_nearest_rslts = {}\n",
    "    n = 1 #this or n = 2 is optimal\n",
    "    \n",
    "    for i in lpa_color_labels1:\n",
    "        if (i in lpa_color_labels2): #training nodes\n",
    "            k_nearest_rslts[i] = label_to_num(color_labels[i])\n",
    "            continue\n",
    "                \n",
    "        #put all seen neighbors of i in dict {neighbor : edge weight}\n",
    "        neighbors = {}\n",
    "        for j in lpa_color_labels2:\n",
    "            neighbors[j] = cos_sim_mat[i][j]\n",
    "            \n",
    "        k_nearest_rslts[i] = 0\n",
    "        nearest = heapq.nlargest(n,((neighbors[k],k) for k in neighbors))\n",
    "        for k in range(0, len(nearest)):\n",
    "            j = nearest[k][1]\n",
    "            l = label_to_num(color_labels[j])\n",
    "            if (l == 1):\n",
    "                #if any neighbor = fake, i --> fake\n",
    "                k_nearest_rslts[i] = -1\n",
    "    return k_nearest_rslts"
   ]
  },
  {
   "cell_type": "code",
   "execution_count": 89,
   "metadata": {},
   "outputs": [],
   "source": [
    "k_nearest_rslts = k_nearest(cos_sim_mat, lpa_color_labels2, lpa_color_labels1, color_labels)"
   ]
  },
  {
   "cell_type": "code",
   "execution_count": 90,
   "metadata": {},
   "outputs": [],
   "source": [
    "import math"
   ]
  },
  {
   "cell_type": "code",
   "execution_count": 91,
   "metadata": {},
   "outputs": [],
   "source": [
    "def invert_dict(dicti):\n",
    "    new_dict = {}\n",
    "    for k in dicti:\n",
    "        new_dict[dicti[k]] = k\n",
    "    return new_dict"
   ]
  },
  {
   "cell_type": "code",
   "execution_count": 92,
   "metadata": {},
   "outputs": [],
   "source": [
    "reversed_users_dict = invert_dict(users_dict)"
   ]
  },
  {
   "cell_type": "code",
   "execution_count": null,
   "metadata": {},
   "outputs": [],
   "source": []
  },
  {
   "cell_type": "code",
   "execution_count": 93,
   "metadata": {},
   "outputs": [],
   "source": [
    "#part 1\n",
    "def make_domains_features1(tweets_info, users_info, sources, source_in_edges, reversed_users_dict):\n",
    "    features = {}\n",
    "    for t in tweets_info:\n",
    "        #creating a unified dictionary (neither users_info_t1 not tweets_info_t1 is modified)\n",
    "        x_dict = users_info[str(tweets_info[t]['user_id'])]\n",
    "        dicti = {k:x_dict[k] for k in x_dict}\n",
    "        dicti.update({'sent_score':tweets_info[t]['sent_score'],'tweet_len':tweets_info[t]['tweet_len'],'num_tweets':1})\n",
    "        \n",
    "        #summing features of all users and tweets related to a source\n",
    "        d = tweets_info[t]['domain']\n",
    "        if (not d in features):\n",
    "            features[d] = dicti\n",
    "            continue\n",
    "        for k in dicti:\n",
    "            features[d][k] += dicti[k]\n",
    "    \n",
    "    #features from sums --> avgs\n",
    "    print(len(features))\n",
    "    for d in features:\n",
    "        f = features[d]\n",
    "        for k in f:\n",
    "            if (isinstance(f[k],str)):\n",
    "                continue\n",
    "            f[k] = f[k]/f['num_tweets']\n",
    "    return features "
   ]
  },
  {
   "cell_type": "code",
   "execution_count": 309,
   "metadata": {},
   "outputs": [],
   "source": [
    "#part 2 (combining part 1 with source neighborhood data + results of network algorithms)\n",
    "def make_domains_features2(features1, labels_dict2, lpa_color_labels2, sources_dict, source_in_edges, user_out_edges, cos_sim_mat, k_nearest_rslts):\n",
    "    #global sources_dict, sources_in_edges, user_out_edges, cos_sim_mat, k_nearest_rslts\n",
    "    doms = {}\n",
    "    for d in features1:        \n",
    "        doms[sources_dict[d]] = [d,0,0,0,0] #{'d':d, 'num fake neighbors':0, 'num neighbors':0, 'avg sim score to fake neighbors':0, 'avg sim score to good neighbors':0}\n",
    "        node = sources_dict[d]\n",
    "        \n",
    "        if (node not in source_in_edges): #added for temporal version, should not cause conflict in regular version\n",
    "            continue\n",
    "        \n",
    "        num_fake_neighbors = 0\n",
    "        num_good_neighbors = 0\n",
    "        total = 0\n",
    "        sum_to_fake = 0\n",
    "        sum_to_good = 0\n",
    "            \n",
    "        counted_neighbors = set()\n",
    "        #fill in node neighborhood statistics\n",
    "        #RATHER THAN DOING THIS, PROBS CLD JUST USE COS_SIM_MAT (skip all edge weights = 0? or are negative edge weights possible?)\n",
    "        for u in source_in_edges[node]:\n",
    "            for neighbor in user_out_edges[u]:\n",
    "                if (not neighbor in lpa_color_labels2): #only account for \"known\" neighbors\n",
    "                    continue\n",
    "                if (neighbor in counted_neighbors): #only account for each neighbor once\n",
    "                    continue\n",
    "                counted_neighbors.add(neighbor)\n",
    "                \n",
    "                #add to neighborhood descriptors\n",
    "                if (color_labels[neighbor] in ['GY']):\n",
    "                    sum_to_good += cos_sim_mat[node][neighbor]\n",
    "                    num_good_neighbors += 1\n",
    "                    continue\n",
    "                if (color_labels[neighbor] in ['']):\n",
    "                    continue\n",
    "                sum_to_fake += cos_sim_mat[node][neighbor]\n",
    "                num_fake_neighbors += 1\n",
    "                \n",
    "        total = num_fake_neighbors + num_good_neighbors #ignoring unlabeled neighbors\n",
    "    \n",
    "        doms[node][1] = num_fake_neighbors\n",
    "        doms[node][2] = total\n",
    "        doms[node][3] = sum_to_fake/num_fake_neighbors if num_fake_neighbors != 0 else sum_to_fake #safeguard against div by 0\n",
    "        doms[node][4] = sum_to_good/num_good_neighbors if num_good_neighbors != 0 else sum_to_good \n",
    "        \n",
    "        l = 0\n",
    "        if (labels_dict2[node] in ['Red', 'Orange', 'Black', 'ROB']): #lpa label\n",
    "            l = 1\n",
    "        features1[d].update({'fake_neighbors':doms[node][1], 'neighbors':doms[node][2], 'fake_aff':doms[node][3], 'good_aff':doms[node][4], \n",
    "                        'source_score':source_scores[node], 'k_nearest':k_nearest_rslts[node], 'lpa_label': l})\n",
    "    \n",
    "    return features1"
   ]
  },
  {
   "cell_type": "code",
   "execution_count": null,
   "metadata": {},
   "outputs": [],
   "source": []
  },
  {
   "cell_type": "code",
   "execution_count": 95,
   "metadata": {},
   "outputs": [
    {
     "name": "stdout",
     "output_type": "stream",
     "text": [
      "1011\n"
     ]
    }
   ],
   "source": [
    "features1_t1 = make_domains_features1(tweets_info_t1, users_info_t1, sources_dict, source_in_edges, reversed_users_dict)"
   ]
  },
  {
   "cell_type": "code",
   "execution_count": 96,
   "metadata": {},
   "outputs": [],
   "source": [
    "features2_t1 = make_domains_features2(features1_t1, labels_dict2, lpa_color_labels2, sources_dict, source_in_edges, user_out_edges, cos_sim_mat, k_nearest_rslts)"
   ]
  },
  {
   "cell_type": "code",
   "execution_count": 97,
   "metadata": {},
   "outputs": [
    {
     "data": {
      "text/plain": [
       "(1509, 1011, 1011)"
      ]
     },
     "execution_count": 97,
     "metadata": {},
     "output_type": "execute_result"
    }
   ],
   "source": [
    "len(sources_dict), len(features1_t1), len(features2_t1)"
   ]
  },
  {
   "cell_type": "code",
   "execution_count": 98,
   "metadata": {},
   "outputs": [
    {
     "data": {
      "text/plain": [
       "30"
      ]
     },
     "execution_count": 98,
     "metadata": {},
     "output_type": "execute_result"
    }
   ],
   "source": [
    "len(features1_t1['abc7ny.com'])"
   ]
  },
  {
   "cell_type": "code",
   "execution_count": null,
   "metadata": {},
   "outputs": [],
   "source": []
  },
  {
   "cell_type": "code",
   "execution_count": 99,
   "metadata": {},
   "outputs": [],
   "source": [
    "params = [\"state\", \"age\", \"reg\", \"party\", \"turnout\", \"swing\", \"folls\", \"friends\", \"exposures\", \"shares\", \"super_s\", \"super_c\", \n",
    "          \"user_score\", \"or_score\", \"red_score\", \"bl_score\", \"or_aff\", \"red_aff\", \"bl_aff\", \"fraction_bad\", \n",
    "          'sent_score', 'tweet_len', 'num_tweets', 'fake_neighbors', 'neighbors', 'fake_aff', 'good_aff', \n",
    "          'source_sc=ore', 'k_nearest', 'lpa_label']       "
   ]
  },
  {
   "cell_type": "code",
   "execution_count": 100,
   "metadata": {},
   "outputs": [],
   "source": [
    "params_subset2 = [\"state\", \"age\", \"party\", \"folls\", \"friends\", \"exposures\", \"shares\", \"super_s\", \"super_c\", \n",
    "          \"user_score\", \"or_aff\", \"red_aff\", \"bl_aff\", \"fraction_bad\", \n",
    "          'sent_score', 'num_tweets', 'fake_neighbors', 'neighbors', 'source_score', 'k_nearest', 'lpa_label']       "
   ]
  },
  {
   "cell_type": "code",
   "execution_count": 101,
   "metadata": {},
   "outputs": [],
   "source": [
    "#updated based on params_subset2"
   ]
  },
  {
   "cell_type": "code",
   "execution_count": 102,
   "metadata": {},
   "outputs": [],
   "source": [
    "user_params = [\"state\", \"age\", \"party\", \"folls\", \"friends\", \"exposures\", \"shares\", \"super_s\", \"super_c\", \n",
    "          \"user_score\", \"or_aff\", \"red_aff\", \"bl_aff\", \"fraction_bad\"]       "
   ]
  },
  {
   "cell_type": "code",
   "execution_count": 103,
   "metadata": {},
   "outputs": [],
   "source": [
    "tweet_params = ['sent_score', 'num_tweets']       "
   ]
  },
  {
   "cell_type": "code",
   "execution_count": 104,
   "metadata": {},
   "outputs": [],
   "source": [
    "source_params = ['fake_neighbors', 'neighbors','source_score', 'k_nearest', 'lpa_label']       "
   ]
  },
  {
   "cell_type": "code",
   "execution_count": 105,
   "metadata": {},
   "outputs": [],
   "source": [
    "full_network_params = [\"exposures\", \"shares\", \"super_s\", \"super_c\", \"user_score\", \"or_aff\", \"red_aff\", \"bl_aff\", \n",
    "                       \"fraction_bad\", 'fake_neighbors', 'neighbors', 'source_score', 'k_nearest', 'lpa_label'] "
   ]
  },
  {
   "cell_type": "code",
   "execution_count": 106,
   "metadata": {},
   "outputs": [],
   "source": [
    "full_nonnet_params = [\"state\", \"age\", \"party\", \"folls\", \"friends\", 'sent_score', 'num_tweets'] "
   ]
  },
  {
   "cell_type": "code",
   "execution_count": null,
   "metadata": {},
   "outputs": [],
   "source": []
  },
  {
   "cell_type": "code",
   "execution_count": null,
   "metadata": {},
   "outputs": [],
   "source": []
  },
  {
   "cell_type": "code",
   "execution_count": 107,
   "metadata": {},
   "outputs": [],
   "source": [
    "x_train = []\n",
    "y_train = []\n",
    "\n",
    "x_test = []\n",
    "y_test = []\n",
    "\n",
    "elements_lst_train = []\n",
    "elements_lst_test = []"
   ]
  },
  {
   "cell_type": "code",
   "execution_count": 165,
   "metadata": {},
   "outputs": [],
   "source": [
    "def make_xy_split(features, lpa_color_labels1, lpa_color_labels2, sources_dict, color_labels, labels_dict2, k_nearest_rslts, \n",
    "                  x_train, y_train, x_test, y_test, elements_lst_train, elements_lst_test, params=params):\n",
    "    #global lpa_color_labels1, lpa_color_labels2, sources_dict, color_labels, labels_dict2, k_nearest_rslts\n",
    "    #global x_train, y_train, x_test, y_test, elements_lst_train, elements_lst_test\n",
    "\n",
    "    for d in features:\n",
    "        i = sources_dict[d]\n",
    "        #create list of feature vals for domain d (using features in params)\n",
    "        f = []\n",
    "        for k in params:\n",
    "            f.append(features[d][k])\n",
    "        #get numeric form of ground_truth_label (1=fake)\n",
    "        ground_truth_label = color_labels[sources_dict[d]]\n",
    "        l = 0\n",
    "        if (ground_truth_label in ['Red', 'Orange', 'Black', 'ROB']):\n",
    "            l = 1\n",
    "        #create train & test sets\n",
    "        if (i in lpa_color_labels2):\n",
    "            elements_lst_train.append(i)\n",
    "            x_train.append(f)\n",
    "            y_train.append(l)\n",
    "        elif (i in lpa_color_labels1):\n",
    "            elements_lst_test.append(i)\n",
    "            x_test.append(f)\n",
    "            y_test.append(l)"
   ]
  },
  {
   "cell_type": "code",
   "execution_count": 222,
   "metadata": {},
   "outputs": [],
   "source": [
    "#print {tp,fp,tn,fn}\n",
    "#print {precision, recall, accuracy}\n",
    "def eval_model(model, x_test=x_test, y_test=y_test):\n",
    "    pred = model.predict(x_test)\n",
    "    stats = {'tp':0,'fp':0,'tn':0,'fn':0}\n",
    "    for j in range(0, len(pred)):\n",
    "        #note: fake = the positive class\n",
    "        stats['tp'] += 1 if (pred[j]==1 and y_test[j]==1) else 0\n",
    "        stats['fp'] += 1 if (pred[j]==1 and y_test[j] == 0) else 0\n",
    "        stats['tn'] += 1 if (pred[j]==0 and y_test[j] == 0) else 0\n",
    "        stats['fn'] += 1 if (pred[j]==0 and y_test[j] == 1) else 0\n",
    "    print (stats)\n",
    "    if (stats['tp']+stats['fp'] != 0 and stats['tp']+stats['fn'] != 0 and len(pred) != 0):\n",
    "        stats = [stats['tp']*1.0/(stats['tp']+stats['fp']), stats['tp']*1.0/(stats['tp']+stats['fn']), (stats['tp']+stats['tn'])*1.0/len(pred)]\n",
    "    else:\n",
    "        stats = [-1, -1, -1]\n",
    "    print (\"precision\",\"recall\",\"accuracy\")\n",
    "    print (stats)\n",
    "    return stats"
   ]
  },
  {
   "cell_type": "code",
   "execution_count": 110,
   "metadata": {},
   "outputs": [],
   "source": [
    "#the following two cells are a sanity check\n",
    "#some train lpa labels should actually mismatch in the current version"
   ]
  },
  {
   "cell_type": "code",
   "execution_count": 111,
   "metadata": {},
   "outputs": [
    {
     "name": "stdout",
     "output_type": "stream",
     "text": [
      "0 0\n"
     ]
    }
   ],
   "source": [
    "c = 0\n",
    "for i in range(0, len(x_test)):\n",
    "    if (x_test[i][-1] != y_test[i]):\n",
    "        c += 1\n",
    "print(c, len(x_test))"
   ]
  },
  {
   "cell_type": "code",
   "execution_count": 112,
   "metadata": {},
   "outputs": [
    {
     "name": "stdout",
     "output_type": "stream",
     "text": [
      "0 0\n"
     ]
    }
   ],
   "source": [
    "c = 0\n",
    "for i in range(0, len(x_train)):\n",
    "    if (x_train[i][-1] != y_train[i]):\n",
    "        c += 1\n",
    "print(c, len(x_train))"
   ]
  },
  {
   "cell_type": "code",
   "execution_count": null,
   "metadata": {},
   "outputs": [],
   "source": []
  },
  {
   "cell_type": "code",
   "execution_count": 199,
   "metadata": {},
   "outputs": [],
   "source": [
    "#example usage: make_preds_dict(user_pred, elements_lst_test, len(elements_lst_test))\n",
    "def make_preds_dict(pred, elements_lst_test, n, lpa_color_labels2, sources_dict):\n",
    "    #global lpa_color_labels2, sources_dict\n",
    "    reverse_dict = invert_dict(sources_dict)\n",
    "    #note: elements_lst_test contains ids of test elements (not numbered 1-->n)\n",
    "    #note: elements_lst_test w/ same order as y_test and y_pred\n",
    "\n",
    "    pred_dict = {}\n",
    "    counter = 0 #tracks # of elements added to pred_dict\n",
    "    c2 = 0 #sanity check (should end as 0)\n",
    "    j = 0\n",
    "    for i in elements_lst_test:\n",
    "        j += 1\n",
    "        if (j <= len(elements_lst_test)-n): #this if condition = obsolete (as are the vars n and j) VERIFY!!!!\n",
    "            continue\n",
    "        if (i in lpa_color_labels2): #sanity check\n",
    "            c2 += 1\n",
    "            continue\n",
    "        d = reverse_dict[i]\n",
    "        pred_dict[d] = pred[counter]\n",
    "        counter += 1\n",
    "        \n",
    "    print(counter, c2)\n",
    "    return pred_dict"
   ]
  },
  {
   "cell_type": "code",
   "execution_count": null,
   "metadata": {},
   "outputs": [],
   "source": []
  },
  {
   "cell_type": "code",
   "execution_count": 188,
   "metadata": {},
   "outputs": [],
   "source": [
    "def make_data2(x_train, y_train):\n",
    "    x_train_rob = []\n",
    "    x_train_gy = []\n",
    "    y_train_rob = []\n",
    "    y_train_gy = []\n",
    "    #sort training data into rob and gy sets\n",
    "    for i in range(0, len(y_train)):\n",
    "        if (y_train[i] == 0):\n",
    "            x_train_gy.append(x_train[i])\n",
    "            y_train_gy.append(y_train[i])\n",
    "        else:\n",
    "            x_train_rob.append(x_train[i])\n",
    "            y_train_rob.append(y_train[i])\n",
    "        \n",
    "    #expand rob sets in random fashion so rob & gy w same size\n",
    "    original_rob_size = len(x_train_rob)\n",
    "    for i in range(0, len(x_train_gy)-len(x_train_rob)):\n",
    "        j = int(random.random() * original_rob_size)\n",
    "        x_train_rob.append(x_train_rob[j])\n",
    "        y_train_rob.append(y_train_rob[j])\n",
    "        \n",
    "    r = original_rob_size/len(x_train_gy)    \n",
    "        \n",
    "    #shuffle input order\n",
    "    indices = []\n",
    "    for i in range(0, len(x_train_rob)+len(x_train_gy)):\n",
    "        indices.append(i)\n",
    "    random.shuffle(indices)\n",
    "    xt1 = []\n",
    "    yt1 = []\n",
    "    for j in indices:\n",
    "        x = x_train_rob[j] if j < len(x_train_rob) else x_train_gy[j-len(x_train_rob)]\n",
    "        y = y_train_rob[j] if j < len(y_train_rob) else y_train_gy[j-len(y_train_rob)]\n",
    "        xt1.append(x)\n",
    "        yt1.append(y)\n",
    "    \n",
    "    return (r, xt1, yt1)"
   ]
  },
  {
   "cell_type": "code",
   "execution_count": null,
   "metadata": {},
   "outputs": [],
   "source": []
  },
  {
   "cell_type": "code",
   "execution_count": null,
   "metadata": {},
   "outputs": [],
   "source": []
  },
  {
   "cell_type": "markdown",
   "metadata": {},
   "source": [
    "# Scripts to generate results"
   ]
  },
  {
   "cell_type": "code",
   "execution_count": 219,
   "metadata": {},
   "outputs": [],
   "source": [
    "def scriptified_lpa(users_info_t1, tweets_info_t1, params_lst, n=10):\n",
    "    rslts1 = [] #each element is a list l. each element i of l is a result corresponding to element i of params_lst\n",
    "    rslts2 = []\n",
    "    for x in range(0, n):\n",
    "        rslt = scriptified_lpa_inner(users_info_t1, tweets_info_t1, params_lst)\n",
    "        rslts1.append(rslt[0]) \n",
    "        rslts2.append(rslt[1])\n",
    "    return (rslts1, rslts2)"
   ]
  },
  {
   "cell_type": "code",
   "execution_count": 220,
   "metadata": {},
   "outputs": [],
   "source": [
    "def scriptified_lpa_inner(users_info_t1, tweets_info_t1, passed_params_lst):\n",
    "    global color_labels, cos_sim_mat, users_dict, sources_dict, user_out_edges, source_in_edges\n",
    "    \n",
    "    lpa_color_labels1 = {}\n",
    "    lpa_color_labels2 = {}\n",
    "    lpa_mat1 = {}\n",
    "    lpa_mat2 = {}\n",
    "    train_sources = set()\n",
    "    test_sources = set()\n",
    "    keys_lst = []\n",
    "    \n",
    "    #make datasets + run lpa\n",
    "    make_datasets(color_labels, cos_sim_mat, lpa_color_labels1, lpa_color_labels2, lpa_mat1, lpa_mat2, train_sources, test_sources, keys_lst)\n",
    "    final_acc, labels_dict2 = test_flex_lpa(lpa_color_labels1, lpa_color_labels2, lpa_mat1, lpa_mat2, keys_lst)\n",
    "    print(\"final_acc\", final_acc)\n",
    "    \n",
    "    #cred score + k nearest labels\n",
    "    user_scores = {}\n",
    "    source_scores = {}\n",
    "    cred_score_func(user_scores, source_scores, user_out_edges, color_labels, source_in_edges, lpa_color_labels2)\n",
    "    k_nearest_rslts = k_nearest(cos_sim_mat, lpa_color_labels2, lpa_color_labels1, color_labels)\n",
    "    \n",
    "    #make features lsts\n",
    "    reversed_users_dict = invert_dict(users_dict)\n",
    "    features1_t1 = make_domains_features1(tweets_info_t1, users_info_t1, sources_dict, source_in_edges, reversed_users_dict)\n",
    "    features2_t1 = make_domains_features2(features1_t1, labels_dict2, lpa_color_labels2, sources_dict, source_in_edges, user_out_edges, cos_sim_mat, k_nearest_rslts)\n",
    "    print(\"features2_t1\", len(features2_t1))\n",
    "    \n",
    "    #for each parameter set p, compute results\n",
    "    rslts1 = []\n",
    "    rslts2 = []\n",
    "    for p in passed_params_lst:\n",
    "        x_train = []\n",
    "        y_train = []\n",
    "        x_test = []\n",
    "        y_test = []\n",
    "        elements_lst_train = []\n",
    "        elements_lst_test = []\n",
    "    \n",
    "        #make xy splits\n",
    "        make_xy_split(features2_t1, lpa_color_labels1, lpa_color_labels2, sources_dict, color_labels, labels_dict2, k_nearest_rslts, \n",
    "                  x_train, y_train, x_test, y_test, elements_lst_train, elements_lst_test, p) \n",
    "    \n",
    "        #train random forest clf\n",
    "        r, xt1, yt1 = make_data2(x_train, y_train)\n",
    "        clf = RandomForestClassifier(max_features = 2, max_depth=4, class_weight = {0:r, 1:1-r}) #LogisticRegression(max_iter=1000) \n",
    "        clf.fit(xt1[:400], yt1[:400])\n",
    "        print(\"train, test, train redone\", len(x_train), len(x_test), len(xt1))\n",
    "    \n",
    "        #evaluate performance\n",
    "        full_pred = clf.predict(x_test)\n",
    "        full_pred_dict = make_preds_dict(full_pred, elements_lst_test,len(elements_lst_test), lpa_color_labels2, sources_dict)\n",
    "        stats = eval_model(clf, x_test, y_test)\n",
    "        auc = sklearn.metrics.roc_auc_score(y_test, full_pred)\n",
    "        print(auc)\n",
    "        rslts1.append(stats + [auc])\n",
    "        rslts2.append(clf.feature_importances_)\n",
    "     \n",
    "    return (rslts1, rslts2)\n",
    "    #return (stats + [auc], clf.feature_importances_)"
   ]
  },
  {
   "cell_type": "code",
   "execution_count": null,
   "metadata": {},
   "outputs": [],
   "source": []
  },
  {
   "cell_type": "code",
   "execution_count": 327,
   "metadata": {},
   "outputs": [],
   "source": [
    "def scriptified_lpa_temporal(users_info_t1, tweets_info_t1, keys_lst_time, source_div_time, params_lst, n=10):\n",
    "    rslts1 = [] #each element is a list l. each element i of l is a result corresponding to element i of params_lst\n",
    "    rslts2 = []\n",
    "    for x in range(0, n):\n",
    "        rslt = scriptified_lpa_inner_temporal(users_info_t1, tweets_info_t1, keys_lst_time, source_div_time, params_lst)\n",
    "        rslts1.append(rslt[0]) \n",
    "        rslts2.append(rslt[1])\n",
    "    return (rslts1, rslts2)"
   ]
  },
  {
   "cell_type": "code",
   "execution_count": 324,
   "metadata": {},
   "outputs": [],
   "source": [
    "def scriptified_lpa_inner_temporal(users_info_t1, tweets_info_t1, keys_lst_time, source_div_time, passed_params_lst):\n",
    "    global color_labels, cos_sim_mat_before, cos_sim_mat_after, users_dict, sources_dict, user_edges_time1, user_edges_time2, source_edges_time1, source_edges_time2\n",
    "    lpa_color_labels1 = {}\n",
    "    lpa_color_labels2 = {}\n",
    "    lpa_mat1 = {}\n",
    "    lpa_mat2 = {}\n",
    "    \n",
    "    #make datasets + run lpa\n",
    "    make_datasets_temporal(color_labels, cos_sim_mat_before, cos_sim_mat_after, lpa_color_labels1, lpa_color_labels2, lpa_mat1, lpa_mat2, keys_lst_time, source_div_time)\n",
    "    final_acc, labels_dict2 = test_flex_lpa(lpa_color_labels1, lpa_color_labels2, lpa_mat1, lpa_mat2, keys_lst_time)\n",
    "    print(\"final_acc\", final_acc)\n",
    "    \n",
    "    #merge data structures\n",
    "    cos_sim_mat_temp = add_matrices(cos_sim_mat_before, cos_sim_mat_after)\n",
    "    source_edges_temp = merge_dicts(source_edges_time1, source_edges_time2)\n",
    "    user_edges_temp = merge_dicts(user_edges_time1, user_edges_time2)\n",
    "    \n",
    "    #cred score + k nearest labels\n",
    "    user_scores = {}\n",
    "    source_scores = {}\n",
    "    #note: it was unclear to me what to do w cred_score and k_nearest. I've decided to combine cos_sim & user/source edges before and after\n",
    "    cred_score_func(user_scores, source_scores, user_edges_temp, color_labels, source_edges_temp, lpa_color_labels2)\n",
    "    k_nearest_rslts = k_nearest(cos_sim_mat_temp, lpa_color_labels2, lpa_color_labels1, color_labels)\n",
    "    \n",
    "    #make features lsts\n",
    "    reversed_users_dict = invert_dict(users_dict)\n",
    "    features1_t1 = make_domains_features1(tweets_info_t1, users_info_t1, sources_dict, source_edges_temp, reversed_users_dict)\n",
    "    features2_t1 = make_domains_features2(features1_t1, labels_dict2, lpa_color_labels2, sources_dict, source_edges_temp, user_edges_temp, cos_sim_mat_temp, k_nearest_rslts)\n",
    "    print(\"source_edges_temp\", len(source_edges_temp), \"features2_t1\", len(features2_t1))\n",
    "    \n",
    "    #adjust features lst\n",
    "    features_keys = []\n",
    "    for d in features2_t1:\n",
    "        features_keys.append(d)\n",
    "    for d in features_keys:\n",
    "        if not (sources_dict[d] in source_edges_temp):\n",
    "            features2_t1.pop(d)\n",
    "    print(\"features2_t1\", len(features2_t1))\n",
    "    \n",
    "    #for each parameter set p, compute results\n",
    "    rslts1 = []\n",
    "    rslts2 = []\n",
    "    for p in passed_params_lst:\n",
    "        x_train = []\n",
    "        y_train = []\n",
    "        x_test = []\n",
    "        y_test = []\n",
    "        elements_lst_train = []\n",
    "        elements_lst_test = []\n",
    "    \n",
    "        #make xy splits\n",
    "        make_xy_split(features2_t1, lpa_color_labels1, lpa_color_labels2, sources_dict, color_labels, labels_dict2, k_nearest_rslts, \n",
    "                  x_train, y_train, x_test, y_test, elements_lst_train, elements_lst_test, p) \n",
    "    \n",
    "        #train random forest clf\n",
    "        r, xt1, yt1 = make_data2(x_train, y_train)\n",
    "        clf = RandomForestClassifier(max_features = 2, max_depth=4, class_weight = {0:r, 1:1-r}) #LogisticRegression(max_iter=1000) \n",
    "        clf.fit(xt1[:400], yt1[:400])\n",
    "        print(\"train, test, train redone\", len(x_train), len(x_test), len(xt1))\n",
    "    \n",
    "        #evaluate performance\n",
    "        full_pred = clf.predict(x_test)\n",
    "        full_pred_dict = make_preds_dict(full_pred, elements_lst_test,len(elements_lst_test), lpa_color_labels2, sources_dict)\n",
    "        stats = eval_model(clf, x_test, y_test)\n",
    "        auc = sklearn.metrics.roc_auc_score(y_test, full_pred)\n",
    "        print(auc)\n",
    "        rslts1.append(stats + [auc])\n",
    "        rslts2.append(clf.feature_importances_)\n",
    "     \n",
    "    return (rslts1, rslts2)\n",
    "    #return (stats + [auc], clf.feature_importances_)"
   ]
  },
  {
   "cell_type": "code",
   "execution_count": 328,
   "metadata": {},
   "outputs": [
    {
     "name": "stdout",
     "output_type": "stream",
     "text": [
      "{'w': 2.1, 'w2': 2.1, 'i': 1} 0.6507936507936507\n",
      "{'w': 2.25, 'w2': 2.1, 'i': 1} 0.6511627906976744\n",
      "{'w': 1.9, 'w2': 2.1, 'i': 1} 0.6557377049180328\n",
      "{'w': 1.65, 'w2': 2.1, 'i': 1} 0.6608695652173914\n",
      "{'w': 1.75, 'w2': 2.1, 'i': 1} 0.6666666666666667\n",
      "settings:  {'w': 1.75, 'w2': 2.1, 'i': 1}\n",
      "1509 1056 1086\n",
      "1 : performance :  {'ROB': {'true_bad': 3, 'true_good': 2, 'total': 5}, 'GY': {'true_bad': 2, 'true_good': 22, 'total': 24}, '': {'true_bad': 0, 'true_good': 1, 'total': 1}}\n",
      "1 : settings:  {'w': 1.75, 'w2': 2.1, 'i': 1}\n",
      "1509 1056 1116\n",
      "2 : performance :  {'ROB': {'true_bad': 6, 'true_good': 3, 'total': 9}, 'GY': {'true_bad': 2, 'true_good': 47, 'total': 50}, '': {'true_bad': 0, 'true_good': 1, 'total': 1}}\n",
      "2 : settings:  {'w': 1.75, 'w2': 2.1, 'i': 1}\n",
      "1509 1056 1146\n",
      "3 : performance :  {'ROB': {'true_bad': 10, 'true_good': 4, 'total': 14}, 'GY': {'true_bad': 4, 'true_good': 70, 'total': 75}, '': {'true_bad': 0, 'true_good': 1, 'total': 1}}\n",
      "3 : settings:  {'w': 1.75, 'w2': 2.1, 'i': 1}\n",
      "1509 1056 1176\n",
      "{'w': 2.35, 'w2': 2.35, 'i': 1} 0.8750000000000001\n",
      "{'w': 1.75, 'w2': 2.35, 'i': 1} 1.0\n",
      "4 : performance :  {'ROB': {'true_bad': 14, 'true_good': 6, 'total': 20}, 'GY': {'true_bad': 7, 'true_good': 91, 'total': 99}, '': {'true_bad': 0, 'true_good': 1, 'total': 1}}\n",
      "4 : settings:  {'w': 1.75, 'w2': 2.35, 'i': 1}\n",
      "1509 1056 1207\n",
      "5 : performance :  {'ROB': {'true_bad': 20, 'true_good': 8, 'total': 28}, 'GY': {'true_bad': 9, 'true_good': 112, 'total': 122}, '': {'true_bad': 0, 'true_good': 1, 'total': 1}}\n",
      "5 : settings:  {'w': 1.75, 'w2': 2.35, 'i': 1}\n",
      "1509 1056 1237\n",
      "6 : performance :  {'ROB': {'true_bad': 23, 'true_good': 8, 'total': 31}, 'GY': {'true_bad': 11, 'true_good': 137, 'total': 149}, '': {'true_bad': 0, 'true_good': 1, 'total': 1}}\n",
      "6 : settings:  {'w': 1.75, 'w2': 2.35, 'i': 1}\n",
      "1509 1056 1267\n",
      "7 : performance :  {'ROB': {'true_bad': 29, 'true_good': 9, 'total': 38}, 'GY': {'true_bad': 16, 'true_good': 154, 'total': 172}, '': {'true_bad': 0, 'true_good': 1, 'total': 1}}\n",
      "7 : settings:  {'w': 1.75, 'w2': 2.35, 'i': 1}\n",
      "1509 1056 1297\n",
      "{'w': 1.75, 'w2': 1.75, 'i': 1} 1.0\n",
      "8 : performance :  {'ROB': {'true_bad': 31, 'true_good': 12, 'total': 43}, 'GY': {'true_bad': 18, 'true_good': 177, 'total': 197}, '': {'true_bad': 0, 'true_good': 1, 'total': 1}}\n",
      "8 : settings:  {'w': 1.75, 'w2': 1.75, 'i': 1}\n",
      "1509 1056 1327\n",
      "9 : performance :  {'ROB': {'true_bad': 36, 'true_good': 14, 'total': 50}, 'GY': {'true_bad': 21, 'true_good': 197, 'total': 220}, '': {'true_bad': 0, 'true_good': 1, 'total': 1}}\n",
      "9 : settings:  {'w': 1.75, 'w2': 1.75, 'i': 1}\n",
      "1509 1056 1358\n",
      "10 : performance :  {'ROB': {'true_bad': 37, 'true_good': 15, 'total': 52}, 'GY': {'true_bad': 26, 'true_good': 221, 'total': 249}, '': {'true_bad': 0, 'true_good': 1, 'total': 1}}\n",
      "10 : settings:  {'w': 1.75, 'w2': 1.75, 'i': 1}\n",
      "1509 1056 1388\n",
      "11 : performance :  {'ROB': {'true_bad': 39, 'true_good': 16, 'total': 55}, 'GY': {'true_bad': 27, 'true_good': 247, 'total': 276}, '': {'true_bad': 0, 'true_good': 1, 'total': 1}}\n",
      "11 : settings:  {'w': 1.75, 'w2': 1.75, 'i': 1}\n",
      "1509 1056 1418\n",
      "{'w': 2.1, 'w2': 2.1, 'i': 1} 0.9482758620689655\n",
      "{'w': 1.9, 'w2': 2.1, 'i': 1} 0.9642857142857142\n",
      "{'w': 2, 'w2': 2.1, 'i': 1} 0.9649122807017544\n",
      "{'w': 1.75, 'w2': 2.1, 'i': 1} 0.9908256880733944\n",
      "12 : performance :  {'ROB': {'true_bad': 42, 'true_good': 17, 'total': 59}, 'GY': {'true_bad': 27, 'true_good': 273, 'total': 302}, '': {'true_bad': 0, 'true_good': 1, 'total': 1}}\n",
      "12 : settings:  {'w': 1.75, 'w2': 2.1, 'i': 1}\n",
      "1509 1056 1448\n",
      "13 : performance :  {'ROB': {'true_bad': 45, 'true_good': 18, 'total': 63}, 'GY': {'true_bad': 27, 'true_good': 298, 'total': 327}, '': {'true_bad': 0, 'true_good': 2, 'total': 2}}\n",
      "13 : settings:  {'w': 1.75, 'w2': 2.1, 'i': 1}\n",
      "1509 1056 1478\n",
      "14 : performance :  {'ROB': {'true_bad': 49, 'true_good': 18, 'total': 67}, 'GY': {'true_bad': 30, 'true_good': 321, 'total': 353}, '': {'true_bad': 0, 'true_good': 2, 'total': 2}}\n",
      "14 : settings:  {'w': 1.75, 'w2': 2.1, 'i': 1}\n",
      "1509 1056 1509\n",
      "15 : performance :  {'ROB': {'true_bad': 50, 'true_good': 20, 'total': 70}, 'GY': {'true_bad': 31, 'true_good': 348, 'total': 381}, '': {'true_bad': 0, 'true_good': 2, 'total': 2}}\n",
      "15 : settings:  {'w': 1.75, 'w2': 2.1, 'i': 1}\n",
      "precision: 0.7142857142857143 recall: 0.6172839506172839 f1: 0.662251655629139 accuracy: 0.8824833702882483\n",
      "None\n",
      "final_acc {'ROB': {'true_bad': 50, 'true_good': 20, 'total': 70}, 'GY': {'true_bad': 31, 'true_good': 348, 'total': 381}, '': {'true_bad': 0, 'true_good': 2, 'total': 2}}\n",
      "1011\n",
      "source_edges_temp 1479 features2_t1 1011\n",
      "features2_t1 1007\n",
      "train, test, train redone 702 305 1150\n",
      "305 0\n",
      "{'tp': 37, 'fp': 10, 'tn': 249, 'fn': 9}\n",
      "precision recall accuracy\n",
      "[0.7872340425531915, 0.8043478260869565, 0.9377049180327869]\n",
      "0.8828688937384589\n",
      "{'w': 2, 'w2': 2, 'i': 1} 0.6725663716814159\n",
      "{'w': 1.65, 'w2': 2, 'i': 1} 0.676056338028169\n",
      "{'w': 1.75, 'w2': 2, 'i': 1} 0.6790697674418604\n",
      "settings:  {'w': 1.75, 'w2': 2, 'i': 1}\n",
      "1509 1056 1086\n",
      "1 : performance :  {'ROB': {'true_bad': 3, 'true_good': 2, 'total': 5}, 'GY': {'true_bad': 2, 'true_good': 22, 'total': 24}, '': {'true_bad': 0, 'true_good': 1, 'total': 1}}\n",
      "1 : settings:  {'w': 1.75, 'w2': 2, 'i': 1}\n",
      "1509 1056 1116\n",
      "2 : performance :  {'ROB': {'true_bad': 6, 'true_good': 3, 'total': 9}, 'GY': {'true_bad': 2, 'true_good': 47, 'total': 50}, '': {'true_bad': 0, 'true_good': 1, 'total': 1}}\n",
      "2 : settings:  {'w': 1.75, 'w2': 2, 'i': 1}\n",
      "1509 1056 1146\n",
      "3 : performance :  {'ROB': {'true_bad': 10, 'true_good': 4, 'total': 14}, 'GY': {'true_bad': 4, 'true_good': 70, 'total': 75}, '': {'true_bad': 0, 'true_good': 1, 'total': 1}}\n",
      "3 : settings:  {'w': 1.75, 'w2': 2, 'i': 1}\n",
      "1509 1056 1176\n",
      "{'w': 1.9, 'w2': 1.9, 'i': 1} 0.9333333333333333\n",
      "{'w': 1.75, 'w2': 1.9, 'i': 1} 1.0\n",
      "4 : performance :  {'ROB': {'true_bad': 14, 'true_good': 6, 'total': 20}, 'GY': {'true_bad': 7, 'true_good': 91, 'total': 99}, '': {'true_bad': 0, 'true_good': 1, 'total': 1}}\n",
      "4 : settings:  {'w': 1.75, 'w2': 1.9, 'i': 1}\n",
      "1509 1056 1207\n",
      "5 : performance :  {'ROB': {'true_bad': 20, 'true_good': 8, 'total': 28}, 'GY': {'true_bad': 9, 'true_good': 112, 'total': 122}, '': {'true_bad': 0, 'true_good': 1, 'total': 1}}\n",
      "5 : settings:  {'w': 1.75, 'w2': 1.9, 'i': 1}\n",
      "1509 1056 1237\n",
      "6 : performance :  {'ROB': {'true_bad': 23, 'true_good': 8, 'total': 31}, 'GY': {'true_bad': 11, 'true_good': 137, 'total': 149}, '': {'true_bad': 0, 'true_good': 1, 'total': 1}}\n",
      "6 : settings:  {'w': 1.75, 'w2': 1.9, 'i': 1}\n",
      "1509 1056 1267\n",
      "7 : performance :  {'ROB': {'true_bad': 29, 'true_good': 9, 'total': 38}, 'GY': {'true_bad': 16, 'true_good': 154, 'total': 172}, '': {'true_bad': 0, 'true_good': 1, 'total': 1}}\n",
      "7 : settings:  {'w': 1.75, 'w2': 1.9, 'i': 1}\n",
      "1509 1056 1297\n",
      "{'w': 1.9, 'w2': 1.9, 'i': 1} 0.9620253164556963\n",
      "{'w': 1.65, 'w2': 1.9, 'i': 1} 0.9866666666666666\n",
      "{'w': 1.75, 'w2': 2.35, 'i': 1} 1.0\n",
      "8 : performance :  {'ROB': {'true_bad': 31, 'true_good': 12, 'total': 43}, 'GY': {'true_bad': 18, 'true_good': 177, 'total': 197}, '': {'true_bad': 0, 'true_good': 1, 'total': 1}}\n",
      "8 : settings:  {'w': 1.75, 'w2': 2.35, 'i': 1}\n",
      "1509 1056 1327\n",
      "9 : performance :  {'ROB': {'true_bad': 36, 'true_good': 14, 'total': 50}, 'GY': {'true_bad': 21, 'true_good': 197, 'total': 220}, '': {'true_bad': 0, 'true_good': 1, 'total': 1}}\n",
      "9 : settings:  {'w': 1.75, 'w2': 2.35, 'i': 1}\n",
      "1509 1056 1358\n",
      "10 : performance :  {'ROB': {'true_bad': 37, 'true_good': 15, 'total': 52}, 'GY': {'true_bad': 26, 'true_good': 221, 'total': 249}, '': {'true_bad': 0, 'true_good': 1, 'total': 1}}\n",
      "10 : settings:  {'w': 1.75, 'w2': 2.35, 'i': 1}\n",
      "1509 1056 1388\n",
      "11 : performance :  {'ROB': {'true_bad': 39, 'true_good': 16, 'total': 55}, 'GY': {'true_bad': 27, 'true_good': 247, 'total': 276}, '': {'true_bad': 0, 'true_good': 1, 'total': 1}}\n",
      "11 : settings:  {'w': 1.75, 'w2': 2.35, 'i': 1}\n",
      "1509 1056 1418\n",
      "{'w': 2.25, 'w2': 2.25, 'i': 1} 0.9322033898305084\n",
      "{'w': 2, 'w2': 2.25, 'i': 1} 0.9649122807017544\n",
      "{'w': 1.65, 'w2': 2.25, 'i': 1} 0.9814814814814815\n",
      "{'w': 1.75, 'w2': 2.25, 'i': 1} 0.9908256880733944\n",
      "12 : performance :  {'ROB': {'true_bad': 42, 'true_good': 17, 'total': 59}, 'GY': {'true_bad': 27, 'true_good': 273, 'total': 302}, '': {'true_bad': 0, 'true_good': 1, 'total': 1}}\n",
      "12 : settings:  {'w': 1.75, 'w2': 2.25, 'i': 1}\n",
      "1509 1056 1448\n"
     ]
    },
    {
     "name": "stdout",
     "output_type": "stream",
     "text": [
      "13 : performance :  {'ROB': {'true_bad': 45, 'true_good': 18, 'total': 63}, 'GY': {'true_bad': 27, 'true_good': 298, 'total': 327}, '': {'true_bad': 0, 'true_good': 2, 'total': 2}}\n",
      "13 : settings:  {'w': 1.75, 'w2': 2.25, 'i': 1}\n",
      "1509 1056 1478\n",
      "14 : performance :  {'ROB': {'true_bad': 49, 'true_good': 18, 'total': 67}, 'GY': {'true_bad': 30, 'true_good': 321, 'total': 353}, '': {'true_bad': 0, 'true_good': 2, 'total': 2}}\n",
      "14 : settings:  {'w': 1.75, 'w2': 2.25, 'i': 1}\n",
      "1509 1056 1509\n",
      "15 : performance :  {'ROB': {'true_bad': 50, 'true_good': 20, 'total': 70}, 'GY': {'true_bad': 31, 'true_good': 348, 'total': 381}, '': {'true_bad': 0, 'true_good': 2, 'total': 2}}\n",
      "15 : settings:  {'w': 1.75, 'w2': 2.25, 'i': 1}\n",
      "precision: 0.7142857142857143 recall: 0.6172839506172839 f1: 0.662251655629139 accuracy: 0.8824833702882483\n",
      "None\n",
      "final_acc {'ROB': {'true_bad': 50, 'true_good': 20, 'total': 70}, 'GY': {'true_bad': 31, 'true_good': 348, 'total': 381}, '': {'true_bad': 0, 'true_good': 2, 'total': 2}}\n",
      "1011\n",
      "source_edges_temp 1479 features2_t1 1011\n",
      "features2_t1 1007\n",
      "train, test, train redone 702 305 1150\n",
      "305 0\n",
      "{'tp': 36, 'fp': 10, 'tn': 249, 'fn': 10}\n",
      "precision recall accuracy\n",
      "[0.782608695652174, 0.782608695652174, 0.9344262295081968]\n",
      "0.8719993285210675\n",
      "{'w': 2.25, 'w2': 2.25, 'i': 1} 0.7009345794392524\n",
      "{'w': 2.35, 'w2': 2.25, 'i': 1} 0.7096774193548387\n",
      "settings:  {'w': 2.35, 'w2': 2.25, 'i': 1}\n",
      "1509 1056 1086\n",
      "1 : performance :  {'ROB': {'true_bad': 4, 'true_good': 3, 'total': 7}, 'GY': {'true_bad': 1, 'true_good': 21, 'total': 22}, '': {'true_bad': 0, 'true_good': 1, 'total': 1}}\n",
      "1 : settings:  {'w': 2.35, 'w2': 2.25, 'i': 1}\n",
      "1509 1056 1116\n",
      "2 : performance :  {'ROB': {'true_bad': 7, 'true_good': 5, 'total': 12}, 'GY': {'true_bad': 1, 'true_good': 45, 'total': 47}, '': {'true_bad': 0, 'true_good': 1, 'total': 1}}\n",
      "2 : settings:  {'w': 2.35, 'w2': 2.25, 'i': 1}\n",
      "1509 1056 1146\n",
      "3 : performance :  {'ROB': {'true_bad': 11, 'true_good': 7, 'total': 18}, 'GY': {'true_bad': 3, 'true_good': 67, 'total': 71}, '': {'true_bad': 0, 'true_good': 1, 'total': 1}}\n",
      "3 : settings:  {'w': 2.35, 'w2': 2.25, 'i': 1}\n",
      "1509 1056 1176\n",
      "{'w': 1.9, 'w2': 1.9, 'i': 1} 0.9411764705882353\n",
      "{'w': 2.35, 'w2': 1.9, 'i': 1} 1.0\n",
      "4 : performance :  {'ROB': {'true_bad': 16, 'true_good': 9, 'total': 25}, 'GY': {'true_bad': 5, 'true_good': 88, 'total': 94}, '': {'true_bad': 0, 'true_good': 1, 'total': 1}}\n",
      "4 : settings:  {'w': 2.35, 'w2': 1.9, 'i': 1}\n",
      "1509 1056 1207\n",
      "5 : performance :  {'ROB': {'true_bad': 23, 'true_good': 11, 'total': 34}, 'GY': {'true_bad': 6, 'true_good': 109, 'total': 116}, '': {'true_bad': 0, 'true_good': 1, 'total': 1}}\n",
      "5 : settings:  {'w': 2.35, 'w2': 1.9, 'i': 1}\n",
      "1509 1056 1237\n",
      "6 : performance :  {'ROB': {'true_bad': 26, 'true_good': 13, 'total': 39}, 'GY': {'true_bad': 8, 'true_good': 132, 'total': 141}, '': {'true_bad': 0, 'true_good': 1, 'total': 1}}\n",
      "6 : settings:  {'w': 2.35, 'w2': 1.9, 'i': 1}\n",
      "1509 1056 1267\n",
      "7 : performance :  {'ROB': {'true_bad': 32, 'true_good': 14, 'total': 46}, 'GY': {'true_bad': 13, 'true_good': 149, 'total': 164}, '': {'true_bad': 0, 'true_good': 1, 'total': 1}}\n",
      "7 : settings:  {'w': 2.35, 'w2': 1.9, 'i': 1}\n",
      "1509 1056 1297\n",
      "{'w': 1.75, 'w2': 1.75, 'i': 1} 0.9047619047619047\n",
      "{'w': 1.9, 'w2': 1.75, 'i': 1} 0.9425287356321839\n",
      "{'w': 2.1, 'w2': 1.75, 'i': 1} 0.9662921348314606\n",
      "{'w': 2.35, 'w2': 1.75, 'i': 1} 0.989010989010989\n",
      "8 : performance :  {'ROB': {'true_bad': 34, 'true_good': 17, 'total': 51}, 'GY': {'true_bad': 15, 'true_good': 172, 'total': 189}, '': {'true_bad': 0, 'true_good': 1, 'total': 1}}\n",
      "8 : settings:  {'w': 2.35, 'w2': 1.75, 'i': 1}\n",
      "1509 1056 1327\n",
      "9 : performance :  {'ROB': {'true_bad': 41, 'true_good': 19, 'total': 60}, 'GY': {'true_bad': 16, 'true_good': 192, 'total': 210}, '': {'true_bad': 0, 'true_good': 1, 'total': 1}}\n",
      "9 : settings:  {'w': 2.35, 'w2': 1.75, 'i': 1}\n",
      "1509 1056 1358\n",
      "10 : performance :  {'ROB': {'true_bad': 42, 'true_good': 21, 'total': 63}, 'GY': {'true_bad': 21, 'true_good': 215, 'total': 238}, '': {'true_bad': 0, 'true_good': 1, 'total': 1}}\n",
      "10 : settings:  {'w': 2.35, 'w2': 1.75, 'i': 1}\n",
      "1509 1056 1388\n",
      "11 : performance :  {'ROB': {'true_bad': 44, 'true_good': 23, 'total': 67}, 'GY': {'true_bad': 22, 'true_good': 240, 'total': 264}, '': {'true_bad': 0, 'true_good': 1, 'total': 1}}\n",
      "11 : settings:  {'w': 2.35, 'w2': 1.75, 'i': 1}\n",
      "1509 1056 1418\n",
      "{'w': 1.65, 'w2': 1.65, 'i': 1} 0.8833333333333333\n",
      "{'w': 1.75, 'w2': 1.65, 'i': 1} 0.8925619834710743\n",
      "{'w': 2.25, 'w2': 1.65, 'i': 1} 0.9692307692307692\n",
      "{'w': 2.35, 'w2': 1.65, 'i': 1} 0.9774436090225564\n",
      "12 : performance :  {'ROB': {'true_bad': 47, 'true_good': 25, 'total': 72}, 'GY': {'true_bad': 22, 'true_good': 265, 'total': 289}, '': {'true_bad': 0, 'true_good': 1, 'total': 1}}\n",
      "12 : settings:  {'w': 2.35, 'w2': 1.65, 'i': 1}\n",
      "1509 1056 1448\n",
      "13 : performance :  {'ROB': {'true_bad': 50, 'true_good': 26, 'total': 76}, 'GY': {'true_bad': 22, 'true_good': 290, 'total': 314}, '': {'true_bad': 0, 'true_good': 2, 'total': 2}}\n",
      "13 : settings:  {'w': 2.35, 'w2': 1.65, 'i': 1}\n",
      "1509 1056 1478\n",
      "14 : performance :  {'ROB': {'true_bad': 54, 'true_good': 26, 'total': 80}, 'GY': {'true_bad': 25, 'true_good': 313, 'total': 340}, '': {'true_bad': 0, 'true_good': 2, 'total': 2}}\n",
      "14 : settings:  {'w': 2.35, 'w2': 1.65, 'i': 1}\n",
      "1509 1056 1509\n",
      "15 : performance :  {'ROB': {'true_bad': 55, 'true_good': 28, 'total': 83}, 'GY': {'true_bad': 26, 'true_good': 340, 'total': 368}, '': {'true_bad': 0, 'true_good': 2, 'total': 2}}\n",
      "15 : settings:  {'w': 2.35, 'w2': 1.65, 'i': 1}\n",
      "precision: 0.6626506024096386 recall: 0.6790123456790124 f1: 0.6707317073170732 accuracy: 0.8758314855875832\n",
      "None\n",
      "final_acc {'ROB': {'true_bad': 55, 'true_good': 28, 'total': 83}, 'GY': {'true_bad': 26, 'true_good': 340, 'total': 368}, '': {'true_bad': 0, 'true_good': 2, 'total': 2}}\n",
      "1011\n",
      "source_edges_temp 1479 features2_t1 1011\n",
      "features2_t1 1007\n",
      "train, test, train redone 702 305 1150\n",
      "305 0\n",
      "{'tp': 38, 'fp': 16, 'tn': 243, 'fn': 8}\n",
      "precision recall accuracy\n",
      "[0.7037037037037037, 0.8260869565217391, 0.921311475409836]\n",
      "0.8821554473728387\n",
      "{'w': 2.35, 'w2': 2.35, 'i': 1} 0.6576576576576577\n",
      "{'w': 2, 'w2': 2.35, 'i': 1} 0.6601941747572815\n",
      "{'w': 2.1, 'w2': 2.35, 'i': 1} 0.6729857819905214\n",
      "{'w': 1.65, 'w2': 2.35, 'i': 1} 0.6804123711340205\n",
      "settings:  {'w': 1.65, 'w2': 2.35, 'i': 1}\n",
      "1509 1056 1086\n",
      "1 : performance :  {'ROB': {'true_bad': 2, 'true_good': 2, 'total': 4}, 'GY': {'true_bad': 3, 'true_good': 22, 'total': 25}, '': {'true_bad': 0, 'true_good': 1, 'total': 1}}\n",
      "1 : settings:  {'w': 1.65, 'w2': 2.35, 'i': 1}\n",
      "1509 1056 1116\n",
      "2 : performance :  {'ROB': {'true_bad': 5, 'true_good': 3, 'total': 8}, 'GY': {'true_bad': 3, 'true_good': 47, 'total': 51}, '': {'true_bad': 0, 'true_good': 1, 'total': 1}}\n",
      "2 : settings:  {'w': 1.65, 'w2': 2.35, 'i': 1}\n",
      "1509 1056 1146\n",
      "3 : performance :  {'ROB': {'true_bad': 9, 'true_good': 4, 'total': 13}, 'GY': {'true_bad': 5, 'true_good': 70, 'total': 76}, '': {'true_bad': 0, 'true_good': 1, 'total': 1}}\n",
      "3 : settings:  {'w': 1.65, 'w2': 2.35, 'i': 1}\n",
      "1509 1056 1176\n",
      "{'w': 2.35, 'w2': 2.35, 'i': 1} 0.8387096774193548\n",
      "{'w': 1.75, 'w2': 2.35, 'i': 1} 0.962962962962963\n",
      "{'w': 1.65, 'w2': 1.75, 'i': 1} 1.0\n",
      "4 : performance :  {'ROB': {'true_bad': 13, 'true_good': 6, 'total': 19}, 'GY': {'true_bad': 8, 'true_good': 91, 'total': 100}, '': {'true_bad': 0, 'true_good': 1, 'total': 1}}\n",
      "4 : settings:  {'w': 1.65, 'w2': 1.75, 'i': 1}\n",
      "1509 1056 1207\n",
      "5 : performance :  {'ROB': {'true_bad': 19, 'true_good': 8, 'total': 27}, 'GY': {'true_bad': 10, 'true_good': 112, 'total': 123}, '': {'true_bad': 0, 'true_good': 1, 'total': 1}}\n",
      "5 : settings:  {'w': 1.65, 'w2': 1.75, 'i': 1}\n",
      "1509 1056 1237\n",
      "6 : performance :  {'ROB': {'true_bad': 22, 'true_good': 8, 'total': 30}, 'GY': {'true_bad': 12, 'true_good': 137, 'total': 150}, '': {'true_bad': 0, 'true_good': 1, 'total': 1}}\n",
      "6 : settings:  {'w': 1.65, 'w2': 1.75, 'i': 1}\n",
      "1509 1056 1267\n",
      "7 : performance :  {'ROB': {'true_bad': 28, 'true_good': 9, 'total': 37}, 'GY': {'true_bad': 17, 'true_good': 154, 'total': 173}, '': {'true_bad': 0, 'true_good': 1, 'total': 1}}\n",
      "7 : settings:  {'w': 1.65, 'w2': 1.75, 'i': 1}\n",
      "1509 1056 1297\n",
      "{'w': 2.1, 'w2': 2.1, 'i': 1} 0.9249999999999999\n",
      "{'w': 1.75, 'w2': 2.1, 'i': 1} 0.9866666666666666\n"
     ]
    },
    {
     "name": "stdout",
     "output_type": "stream",
     "text": [
      "{'w': 1.65, 'w2': 2.1, 'i': 1} 1.0\n",
      "8 : performance :  {'ROB': {'true_bad': 30, 'true_good': 12, 'total': 42}, 'GY': {'true_bad': 19, 'true_good': 177, 'total': 198}, '': {'true_bad': 0, 'true_good': 1, 'total': 1}}\n",
      "8 : settings:  {'w': 1.65, 'w2': 2.1, 'i': 1}\n",
      "1509 1056 1327\n",
      "9 : performance :  {'ROB': {'true_bad': 35, 'true_good': 14, 'total': 49}, 'GY': {'true_bad': 22, 'true_good': 197, 'total': 221}, '': {'true_bad': 0, 'true_good': 1, 'total': 1}}\n",
      "9 : settings:  {'w': 1.65, 'w2': 2.1, 'i': 1}\n",
      "1509 1056 1358\n",
      "10 : performance :  {'ROB': {'true_bad': 36, 'true_good': 15, 'total': 51}, 'GY': {'true_bad': 27, 'true_good': 221, 'total': 250}, '': {'true_bad': 0, 'true_good': 1, 'total': 1}}\n",
      "10 : settings:  {'w': 1.65, 'w2': 2.1, 'i': 1}\n",
      "1509 1056 1388\n",
      "11 : performance :  {'ROB': {'true_bad': 38, 'true_good': 16, 'total': 54}, 'GY': {'true_bad': 28, 'true_good': 247, 'total': 277}, '': {'true_bad': 0, 'true_good': 1, 'total': 1}}\n",
      "11 : settings:  {'w': 1.65, 'w2': 2.1, 'i': 1}\n",
      "1509 1056 1418\n",
      "{'w': 2.1, 'w2': 2.1, 'i': 1} 0.9391304347826086\n",
      "{'w': 1.75, 'w2': 2.1, 'i': 1} 0.9814814814814815\n",
      "{'w': 1.65, 'w2': 1.75, 'i': 1} 0.9906542056074767\n",
      "12 : performance :  {'ROB': {'true_bad': 41, 'true_good': 17, 'total': 58}, 'GY': {'true_bad': 28, 'true_good': 273, 'total': 303}, '': {'true_bad': 0, 'true_good': 1, 'total': 1}}\n",
      "12 : settings:  {'w': 1.65, 'w2': 1.75, 'i': 1}\n",
      "1509 1056 1448\n",
      "13 : performance :  {'ROB': {'true_bad': 44, 'true_good': 18, 'total': 62}, 'GY': {'true_bad': 28, 'true_good': 298, 'total': 328}, '': {'true_bad': 0, 'true_good': 2, 'total': 2}}\n",
      "13 : settings:  {'w': 1.65, 'w2': 1.75, 'i': 1}\n",
      "1509 1056 1478\n",
      "14 : performance :  {'ROB': {'true_bad': 48, 'true_good': 18, 'total': 66}, 'GY': {'true_bad': 31, 'true_good': 321, 'total': 354}, '': {'true_bad': 0, 'true_good': 2, 'total': 2}}\n",
      "14 : settings:  {'w': 1.65, 'w2': 1.75, 'i': 1}\n",
      "1509 1056 1509\n",
      "15 : performance :  {'ROB': {'true_bad': 49, 'true_good': 20, 'total': 69}, 'GY': {'true_bad': 32, 'true_good': 348, 'total': 382}, '': {'true_bad': 0, 'true_good': 2, 'total': 2}}\n",
      "15 : settings:  {'w': 1.65, 'w2': 1.75, 'i': 1}\n",
      "precision: 0.7101449275362319 recall: 0.6049382716049383 f1: 0.6533333333333334 accuracy: 0.8802660753880266\n",
      "None\n",
      "final_acc {'ROB': {'true_bad': 49, 'true_good': 20, 'total': 69}, 'GY': {'true_bad': 32, 'true_good': 348, 'total': 382}, '': {'true_bad': 0, 'true_good': 2, 'total': 2}}\n",
      "1011\n",
      "source_edges_temp 1479 features2_t1 1011\n",
      "features2_t1 1007\n",
      "train, test, train redone 702 305 1150\n",
      "305 0\n",
      "{'tp': 37, 'fp': 10, 'tn': 249, 'fn': 9}\n",
      "precision recall accuracy\n",
      "[0.7872340425531915, 0.8043478260869565, 0.9377049180327869]\n",
      "0.8828688937384589\n",
      "{'w': 2.1, 'w2': 2.1, 'i': 1} 0.6294820717131474\n",
      "{'w': 2, 'w2': 2.1, 'i': 1} 0.632\n",
      "{'w': 1.9, 'w2': 2.1, 'i': 1} 0.6341463414634146\n",
      "{'w': 2.25, 'w2': 2.1, 'i': 1} 0.640926640926641\n",
      "settings:  {'w': 2.25, 'w2': 2.1, 'i': 1}\n",
      "1509 1056 1086\n",
      "1 : performance :  {'ROB': {'true_bad': 4, 'true_good': 3, 'total': 7}, 'GY': {'true_bad': 1, 'true_good': 21, 'total': 22}, '': {'true_bad': 0, 'true_good': 1, 'total': 1}}\n",
      "1 : settings:  {'w': 2.25, 'w2': 2.1, 'i': 1}\n",
      "1509 1056 1116\n",
      "2 : performance :  {'ROB': {'true_bad': 7, 'true_good': 5, 'total': 12}, 'GY': {'true_bad': 1, 'true_good': 45, 'total': 47}, '': {'true_bad': 0, 'true_good': 1, 'total': 1}}\n",
      "2 : settings:  {'w': 2.25, 'w2': 2.1, 'i': 1}\n",
      "1509 1056 1146\n",
      "3 : performance :  {'ROB': {'true_bad': 11, 'true_good': 7, 'total': 18}, 'GY': {'true_bad': 3, 'true_good': 67, 'total': 71}, '': {'true_bad': 0, 'true_good': 1, 'total': 1}}\n",
      "3 : settings:  {'w': 2.25, 'w2': 2.1, 'i': 1}\n",
      "1509 1056 1176\n",
      "{'w': 1.65, 'w2': 1.65, 'i': 1} 0.8387096774193548\n",
      "{'w': 2.1, 'w2': 1.65, 'i': 1} 0.9714285714285714\n",
      "{'w': 2.35, 'w2': 1.65, 'i': 1} 1.0\n",
      "4 : performance :  {'ROB': {'true_bad': 16, 'true_good': 9, 'total': 25}, 'GY': {'true_bad': 5, 'true_good': 88, 'total': 94}, '': {'true_bad': 0, 'true_good': 1, 'total': 1}}\n",
      "4 : settings:  {'w': 2.35, 'w2': 1.65, 'i': 1}\n",
      "1509 1056 1207\n",
      "5 : performance :  {'ROB': {'true_bad': 23, 'true_good': 11, 'total': 34}, 'GY': {'true_bad': 6, 'true_good': 109, 'total': 116}, '': {'true_bad': 0, 'true_good': 1, 'total': 1}}\n",
      "5 : settings:  {'w': 2.35, 'w2': 1.65, 'i': 1}\n",
      "1509 1056 1237\n",
      "6 : performance :  {'ROB': {'true_bad': 26, 'true_good': 13, 'total': 39}, 'GY': {'true_bad': 8, 'true_good': 132, 'total': 141}, '': {'true_bad': 0, 'true_good': 1, 'total': 1}}\n",
      "6 : settings:  {'w': 2.35, 'w2': 1.65, 'i': 1}\n",
      "1509 1056 1267\n",
      "7 : performance :  {'ROB': {'true_bad': 32, 'true_good': 14, 'total': 46}, 'GY': {'true_bad': 13, 'true_good': 149, 'total': 164}, '': {'true_bad': 0, 'true_good': 1, 'total': 1}}\n",
      "7 : settings:  {'w': 2.35, 'w2': 1.65, 'i': 1}\n",
      "1509 1056 1297\n",
      "{'w': 1.65, 'w2': 1.65, 'i': 1} 0.891566265060241\n",
      "{'w': 1.9, 'w2': 1.65, 'i': 1} 0.9425287356321839\n",
      "{'w': 2.25, 'w2': 1.65, 'i': 1} 0.9777777777777777\n",
      "{'w': 2.35, 'w2': 1.9, 'i': 1} 0.989010989010989\n",
      "8 : performance :  {'ROB': {'true_bad': 34, 'true_good': 17, 'total': 51}, 'GY': {'true_bad': 15, 'true_good': 172, 'total': 189}, '': {'true_bad': 0, 'true_good': 1, 'total': 1}}\n",
      "8 : settings:  {'w': 2.35, 'w2': 1.9, 'i': 1}\n",
      "1509 1056 1327\n",
      "9 : performance :  {'ROB': {'true_bad': 41, 'true_good': 19, 'total': 60}, 'GY': {'true_bad': 16, 'true_good': 192, 'total': 210}, '': {'true_bad': 0, 'true_good': 1, 'total': 1}}\n",
      "9 : settings:  {'w': 2.35, 'w2': 1.9, 'i': 1}\n",
      "1509 1056 1358\n",
      "10 : performance :  {'ROB': {'true_bad': 42, 'true_good': 21, 'total': 63}, 'GY': {'true_bad': 21, 'true_good': 215, 'total': 238}, '': {'true_bad': 0, 'true_good': 1, 'total': 1}}\n",
      "10 : settings:  {'w': 2.35, 'w2': 1.9, 'i': 1}\n",
      "1509 1056 1388\n",
      "11 : performance :  {'ROB': {'true_bad': 44, 'true_good': 23, 'total': 67}, 'GY': {'true_bad': 22, 'true_good': 240, 'total': 264}, '': {'true_bad': 0, 'true_good': 1, 'total': 1}}\n",
      "11 : settings:  {'w': 2.35, 'w2': 1.9, 'i': 1}\n",
      "1509 1056 1418\n",
      "{'w': 1.65, 'w2': 1.65, 'i': 1} 0.8833333333333333\n",
      "{'w': 2, 'w2': 1.65, 'i': 1} 0.9365079365079364\n",
      "{'w': 2.35, 'w2': 1.65, 'i': 1} 0.9774436090225564\n",
      "12 : performance :  {'ROB': {'true_bad': 47, 'true_good': 25, 'total': 72}, 'GY': {'true_bad': 22, 'true_good': 265, 'total': 289}, '': {'true_bad': 0, 'true_good': 1, 'total': 1}}\n",
      "12 : settings:  {'w': 2.35, 'w2': 1.65, 'i': 1}\n",
      "1509 1056 1448\n",
      "13 : performance :  {'ROB': {'true_bad': 50, 'true_good': 26, 'total': 76}, 'GY': {'true_bad': 22, 'true_good': 290, 'total': 314}, '': {'true_bad': 0, 'true_good': 2, 'total': 2}}\n",
      "13 : settings:  {'w': 2.35, 'w2': 1.65, 'i': 1}\n",
      "1509 1056 1478\n",
      "14 : performance :  {'ROB': {'true_bad': 54, 'true_good': 26, 'total': 80}, 'GY': {'true_bad': 25, 'true_good': 313, 'total': 340}, '': {'true_bad': 0, 'true_good': 2, 'total': 2}}\n",
      "14 : settings:  {'w': 2.35, 'w2': 1.65, 'i': 1}\n",
      "1509 1056 1509\n",
      "15 : performance :  {'ROB': {'true_bad': 55, 'true_good': 28, 'total': 83}, 'GY': {'true_bad': 26, 'true_good': 340, 'total': 368}, '': {'true_bad': 0, 'true_good': 2, 'total': 2}}\n",
      "15 : settings:  {'w': 2.35, 'w2': 1.65, 'i': 1}\n",
      "precision: 0.6626506024096386 recall: 0.6790123456790124 f1: 0.6707317073170732 accuracy: 0.8758314855875832\n",
      "None\n",
      "final_acc {'ROB': {'true_bad': 55, 'true_good': 28, 'total': 83}, 'GY': {'true_bad': 26, 'true_good': 340, 'total': 368}, '': {'true_bad': 0, 'true_good': 2, 'total': 2}}\n",
      "1011\n",
      "source_edges_temp 1479 features2_t1 1011\n",
      "features2_t1 1007\n",
      "train, test, train redone 702 305 1150\n",
      "305 0\n",
      "{'tp': 34, 'fp': 15, 'tn': 244, 'fn': 12}\n",
      "precision recall accuracy\n",
      "[0.6938775510204082, 0.7391304347826086, 0.9114754098360656]\n",
      "0.8406076884337753\n",
      "{'w': 1.75, 'w2': 1.75, 'i': 1} 0.631578947368421\n",
      "settings:  {'w': 1.75, 'w2': 1.75, 'i': 1}\n",
      "1509 1056 1086\n",
      "1 : performance :  {'ROB': {'true_bad': 3, 'true_good': 2, 'total': 5}, 'GY': {'true_bad': 2, 'true_good': 22, 'total': 24}, '': {'true_bad': 0, 'true_good': 1, 'total': 1}}\n",
      "1 : settings:  {'w': 1.75, 'w2': 1.75, 'i': 1}\n",
      "1509 1056 1116\n",
      "2 : performance :  {'ROB': {'true_bad': 6, 'true_good': 3, 'total': 9}, 'GY': {'true_bad': 2, 'true_good': 47, 'total': 50}, '': {'true_bad': 0, 'true_good': 1, 'total': 1}}\n",
      "2 : settings:  {'w': 1.75, 'w2': 1.75, 'i': 1}\n",
      "1509 1056 1146\n",
      "3 : performance :  {'ROB': {'true_bad': 10, 'true_good': 4, 'total': 14}, 'GY': {'true_bad': 4, 'true_good': 70, 'total': 75}, '': {'true_bad': 0, 'true_good': 1, 'total': 1}}\n",
      "3 : settings:  {'w': 1.75, 'w2': 1.75, 'i': 1}\n",
      "1509 1056 1176\n"
     ]
    },
    {
     "name": "stdout",
     "output_type": "stream",
     "text": [
      "{'w': 1.9, 'w2': 1.9, 'i': 1} 0.9333333333333333\n",
      "{'w': 1.75, 'w2': 1.9, 'i': 1} 1.0\n",
      "4 : performance :  {'ROB': {'true_bad': 14, 'true_good': 6, 'total': 20}, 'GY': {'true_bad': 7, 'true_good': 91, 'total': 99}, '': {'true_bad': 0, 'true_good': 1, 'total': 1}}\n",
      "4 : settings:  {'w': 1.75, 'w2': 1.9, 'i': 1}\n",
      "1509 1056 1207\n",
      "5 : performance :  {'ROB': {'true_bad': 20, 'true_good': 8, 'total': 28}, 'GY': {'true_bad': 9, 'true_good': 112, 'total': 122}, '': {'true_bad': 0, 'true_good': 1, 'total': 1}}\n",
      "5 : settings:  {'w': 1.75, 'w2': 1.9, 'i': 1}\n",
      "1509 1056 1237\n",
      "6 : performance :  {'ROB': {'true_bad': 23, 'true_good': 8, 'total': 31}, 'GY': {'true_bad': 11, 'true_good': 137, 'total': 149}, '': {'true_bad': 0, 'true_good': 1, 'total': 1}}\n",
      "6 : settings:  {'w': 1.75, 'w2': 1.9, 'i': 1}\n",
      "1509 1056 1267\n",
      "7 : performance :  {'ROB': {'true_bad': 29, 'true_good': 9, 'total': 38}, 'GY': {'true_bad': 16, 'true_good': 154, 'total': 172}, '': {'true_bad': 0, 'true_good': 1, 'total': 1}}\n",
      "7 : settings:  {'w': 1.75, 'w2': 1.9, 'i': 1}\n",
      "1509 1056 1297\n",
      "{'w': 1.65, 'w2': 1.65, 'i': 1} 0.9866666666666666\n",
      "{'w': 1.75, 'w2': 1.65, 'i': 1} 1.0\n",
      "8 : performance :  {'ROB': {'true_bad': 31, 'true_good': 12, 'total': 43}, 'GY': {'true_bad': 18, 'true_good': 177, 'total': 197}, '': {'true_bad': 0, 'true_good': 1, 'total': 1}}\n",
      "8 : settings:  {'w': 1.75, 'w2': 1.65, 'i': 1}\n",
      "1509 1056 1327\n",
      "9 : performance :  {'ROB': {'true_bad': 36, 'true_good': 14, 'total': 50}, 'GY': {'true_bad': 21, 'true_good': 197, 'total': 220}, '': {'true_bad': 0, 'true_good': 1, 'total': 1}}\n",
      "9 : settings:  {'w': 1.75, 'w2': 1.65, 'i': 1}\n",
      "1509 1056 1358\n",
      "10 : performance :  {'ROB': {'true_bad': 37, 'true_good': 15, 'total': 52}, 'GY': {'true_bad': 26, 'true_good': 221, 'total': 249}, '': {'true_bad': 0, 'true_good': 1, 'total': 1}}\n",
      "10 : settings:  {'w': 1.75, 'w2': 1.65, 'i': 1}\n",
      "1509 1056 1388\n",
      "11 : performance :  {'ROB': {'true_bad': 39, 'true_good': 16, 'total': 55}, 'GY': {'true_bad': 27, 'true_good': 247, 'total': 276}, '': {'true_bad': 0, 'true_good': 1, 'total': 1}}\n",
      "11 : settings:  {'w': 1.75, 'w2': 1.65, 'i': 1}\n",
      "1509 1056 1418\n",
      "{'w': 2.35, 'w2': 2.35, 'i': 1} 0.9090909090909091\n",
      "{'w': 2.1, 'w2': 2.35, 'i': 1} 0.9482758620689655\n",
      "{'w': 1.9, 'w2': 2.35, 'i': 1} 0.9642857142857142\n",
      "{'w': 1.65, 'w2': 2.35, 'i': 1} 0.9814814814814815\n",
      "{'w': 1.75, 'w2': 2.35, 'i': 1} 0.9908256880733944\n",
      "12 : performance :  {'ROB': {'true_bad': 42, 'true_good': 17, 'total': 59}, 'GY': {'true_bad': 27, 'true_good': 273, 'total': 302}, '': {'true_bad': 0, 'true_good': 1, 'total': 1}}\n",
      "12 : settings:  {'w': 1.75, 'w2': 2.35, 'i': 1}\n",
      "1509 1056 1448\n",
      "13 : performance :  {'ROB': {'true_bad': 45, 'true_good': 18, 'total': 63}, 'GY': {'true_bad': 27, 'true_good': 298, 'total': 327}, '': {'true_bad': 0, 'true_good': 2, 'total': 2}}\n",
      "13 : settings:  {'w': 1.75, 'w2': 2.35, 'i': 1}\n",
      "1509 1056 1478\n",
      "14 : performance :  {'ROB': {'true_bad': 49, 'true_good': 18, 'total': 67}, 'GY': {'true_bad': 30, 'true_good': 321, 'total': 353}, '': {'true_bad': 0, 'true_good': 2, 'total': 2}}\n",
      "14 : settings:  {'w': 1.75, 'w2': 2.35, 'i': 1}\n",
      "1509 1056 1509\n",
      "15 : performance :  {'ROB': {'true_bad': 50, 'true_good': 20, 'total': 70}, 'GY': {'true_bad': 31, 'true_good': 348, 'total': 381}, '': {'true_bad': 0, 'true_good': 2, 'total': 2}}\n",
      "15 : settings:  {'w': 1.75, 'w2': 2.35, 'i': 1}\n",
      "precision: 0.7142857142857143 recall: 0.6172839506172839 f1: 0.662251655629139 accuracy: 0.8824833702882483\n",
      "None\n",
      "final_acc {'ROB': {'true_bad': 50, 'true_good': 20, 'total': 70}, 'GY': {'true_bad': 31, 'true_good': 348, 'total': 381}, '': {'true_bad': 0, 'true_good': 2, 'total': 2}}\n",
      "1011\n",
      "source_edges_temp 1479 features2_t1 1011\n",
      "features2_t1 1007\n",
      "train, test, train redone 702 305 1150\n",
      "305 0\n",
      "{'tp': 36, 'fp': 10, 'tn': 249, 'fn': 10}\n",
      "precision recall accuracy\n",
      "[0.782608695652174, 0.782608695652174, 0.9344262295081968]\n",
      "0.8719993285210675\n",
      "{'w': 2.25, 'w2': 2.25, 'i': 1} 0.5609756097560976\n",
      "{'w': 1.65, 'w2': 2.25, 'i': 1} 0.5789473684210527\n",
      "{'w': 0.9437408393343587, 'w2': 2.25, 'i': 1} 0.5964912280701754\n",
      "settings:  {'w': 0.9437408393343587, 'w2': 2.25, 'i': 1}\n",
      "1509 1056 1086\n",
      "1 : performance :  {'ROB': {'true_bad': 1, 'true_good': 1, 'total': 2}, 'GY': {'true_bad': 4, 'true_good': 23, 'total': 27}, '': {'true_bad': 0, 'true_good': 1, 'total': 1}}\n",
      "1 : settings:  {'w': 0.9437408393343587, 'w2': 2.25, 'i': 1}\n",
      "1509 1056 1116\n",
      "2 : performance :  {'ROB': {'true_bad': 3, 'true_good': 1, 'total': 4}, 'GY': {'true_bad': 5, 'true_good': 49, 'total': 55}, '': {'true_bad': 0, 'true_good': 1, 'total': 1}}\n",
      "2 : settings:  {'w': 0.9437408393343587, 'w2': 2.25, 'i': 1}\n",
      "1509 1056 1146\n",
      "3 : performance :  {'ROB': {'true_bad': 5, 'true_good': 2, 'total': 7}, 'GY': {'true_bad': 9, 'true_good': 72, 'total': 82}, '': {'true_bad': 0, 'true_good': 1, 'total': 1}}\n",
      "3 : settings:  {'w': 0.9437408393343587, 'w2': 2.25, 'i': 1}\n",
      "1509 1056 1176\n",
      "{'w': 2.1, 'w2': 2.1, 'i': 1} 0.5833333333333334\n",
      "{'w': 1.9, 'w2': 2.1, 'i': 1} 0.6086956521739131\n",
      "{'w': 1.75, 'w2': 2.1, 'i': 1} 0.6666666666666666\n",
      "{'w': 1.65, 'w2': 2.1, 'i': 1} 0.7000000000000001\n",
      "{'w': 0.7364049576693601, 'w2': 2.1, 'i': 1} 0.923076923076923\n",
      "4 : performance :  {'ROB': {'true_bad': 7, 'true_good': 2, 'total': 9}, 'GY': {'true_bad': 14, 'true_good': 95, 'total': 110}, '': {'true_bad': 0, 'true_good': 1, 'total': 1}}\n",
      "4 : settings:  {'w': 0.7364049576693601, 'w2': 2.1, 'i': 1}\n",
      "1509 1056 1207\n",
      "5 : performance :  {'ROB': {'true_bad': 9, 'true_good': 2, 'total': 11}, 'GY': {'true_bad': 20, 'true_good': 118, 'total': 139}, '': {'true_bad': 0, 'true_good': 1, 'total': 1}}\n",
      "5 : settings:  {'w': 0.7364049576693601, 'w2': 2.1, 'i': 1}\n",
      "1509 1056 1237\n",
      "6 : performance :  {'ROB': {'true_bad': 10, 'true_good': 2, 'total': 12}, 'GY': {'true_bad': 24, 'true_good': 143, 'total': 168}, '': {'true_bad': 0, 'true_good': 1, 'total': 1}}\n",
      "6 : settings:  {'w': 0.7364049576693601, 'w2': 2.1, 'i': 1}\n",
      "1509 1056 1267\n",
      "7 : performance :  {'ROB': {'true_bad': 14, 'true_good': 3, 'total': 17}, 'GY': {'true_bad': 31, 'true_good': 160, 'total': 193}, '': {'true_bad': 0, 'true_good': 1, 'total': 1}}\n",
      "7 : settings:  {'w': 0.7364049576693601, 'w2': 2.1, 'i': 1}\n",
      "1509 1056 1297\n",
      "{'w': 1.75, 'w2': 1.75, 'i': 1} 0.6181818181818182\n",
      "{'w': 1.65, 'w2': 1.75, 'i': 1} 0.6296296296296297\n",
      "{'w': 0.647931458266136, 'w2': 1.75, 'i': 1} 0.8275862068965517\n",
      "8 : performance :  {'ROB': {'true_bad': 15, 'true_good': 4, 'total': 19}, 'GY': {'true_bad': 34, 'true_good': 185, 'total': 221}, '': {'true_bad': 0, 'true_good': 1, 'total': 1}}\n",
      "8 : settings:  {'w': 0.647931458266136, 'w2': 1.75, 'i': 1}\n",
      "1509 1056 1327\n",
      "9 : performance :  {'ROB': {'true_bad': 17, 'true_good': 5, 'total': 22}, 'GY': {'true_bad': 40, 'true_good': 206, 'total': 248}, '': {'true_bad': 0, 'true_good': 1, 'total': 1}}\n",
      "9 : settings:  {'w': 0.647931458266136, 'w2': 1.75, 'i': 1}\n",
      "1509 1056 1358\n",
      "10 : performance :  {'ROB': {'true_bad': 18, 'true_good': 5, 'total': 23}, 'GY': {'true_bad': 45, 'true_good': 231, 'total': 278}, '': {'true_bad': 0, 'true_good': 1, 'total': 1}}\n",
      "10 : settings:  {'w': 0.647931458266136, 'w2': 1.75, 'i': 1}\n",
      "1509 1056 1388\n",
      "11 : performance :  {'ROB': {'true_bad': 20, 'true_good': 5, 'total': 25}, 'GY': {'true_bad': 46, 'true_good': 258, 'total': 306}, '': {'true_bad': 0, 'true_good': 1, 'total': 1}}\n",
      "11 : settings:  {'w': 0.647931458266136, 'w2': 1.75, 'i': 1}\n",
      "1509 1056 1418\n",
      "{'w': 2.25, 'w2': 2.25, 'i': 1} 0.5681818181818182\n",
      "{'w': 2, 'w2': 2.25, 'i': 1} 0.5952380952380952\n",
      "{'w': 1.75, 'w2': 2.25, 'i': 1} 0.6329113924050632\n",
      "{'w': 1.65, 'w2': 2.25, 'i': 1} 0.641025641025641\n",
      "{'w': 0.772530180564965, 'w2': 2.25, 'i': 1} 0.9056603773584904\n",
      "12 : performance :  {'ROB': {'true_bad': 21, 'true_good': 5, 'total': 26}, 'GY': {'true_bad': 48, 'true_good': 285, 'total': 335}, '': {'true_bad': 0, 'true_good': 1, 'total': 1}}\n",
      "12 : settings:  {'w': 0.772530180564965, 'w2': 2.25, 'i': 1}\n",
      "1509 1056 1448\n",
      "13 : performance :  {'ROB': {'true_bad': 22, 'true_good': 5, 'total': 27}, 'GY': {'true_bad': 50, 'true_good': 311, 'total': 363}, '': {'true_bad': 0, 'true_good': 2, 'total': 2}}\n",
      "13 : settings:  {'w': 0.772530180564965, 'w2': 2.25, 'i': 1}\n",
      "1509 1056 1478\n",
      "14 : performance :  {'ROB': {'true_bad': 23, 'true_good': 5, 'total': 28}, 'GY': {'true_bad': 56, 'true_good': 334, 'total': 392}, '': {'true_bad': 0, 'true_good': 2, 'total': 2}}\n",
      "14 : settings:  {'w': 0.772530180564965, 'w2': 2.25, 'i': 1}\n",
      "1509 1056 1509\n"
     ]
    },
    {
     "name": "stdout",
     "output_type": "stream",
     "text": [
      "15 : performance :  {'ROB': {'true_bad': 23, 'true_good': 5, 'total': 28}, 'GY': {'true_bad': 58, 'true_good': 363, 'total': 423}, '': {'true_bad': 0, 'true_good': 2, 'total': 2}}\n",
      "15 : settings:  {'w': 0.772530180564965, 'w2': 2.25, 'i': 1}\n",
      "precision: 0.8214285714285714 recall: 0.2839506172839506 f1: 0.4220183486238532 accuracy: 0.8558758314855875\n",
      "None\n",
      "final_acc {'ROB': {'true_bad': 23, 'true_good': 5, 'total': 28}, 'GY': {'true_bad': 58, 'true_good': 363, 'total': 423}, '': {'true_bad': 0, 'true_good': 2, 'total': 2}}\n",
      "1011\n",
      "source_edges_temp 1479 features2_t1 1011\n",
      "features2_t1 1007\n",
      "train, test, train redone 702 305 1150\n",
      "305 0\n",
      "{'tp': 17, 'fp': 1, 'tn': 258, 'fn': 29}\n",
      "precision recall accuracy\n",
      "[0.9444444444444444, 0.3695652173913043, 0.9016393442622951]\n",
      "0.6828521067651502\n",
      "{'w': 1.75, 'w2': 1.75, 'i': 1} 0.6608695652173914\n",
      "settings:  {'w': 1.75, 'w2': 1.75, 'i': 1}\n",
      "1509 1056 1086\n",
      "1 : performance :  {'ROB': {'true_bad': 3, 'true_good': 2, 'total': 5}, 'GY': {'true_bad': 2, 'true_good': 22, 'total': 24}, '': {'true_bad': 0, 'true_good': 1, 'total': 1}}\n",
      "1 : settings:  {'w': 1.75, 'w2': 1.75, 'i': 1}\n",
      "1509 1056 1116\n",
      "2 : performance :  {'ROB': {'true_bad': 6, 'true_good': 3, 'total': 9}, 'GY': {'true_bad': 2, 'true_good': 47, 'total': 50}, '': {'true_bad': 0, 'true_good': 1, 'total': 1}}\n",
      "2 : settings:  {'w': 1.75, 'w2': 1.75, 'i': 1}\n",
      "1509 1056 1146\n",
      "3 : performance :  {'ROB': {'true_bad': 10, 'true_good': 4, 'total': 14}, 'GY': {'true_bad': 4, 'true_good': 70, 'total': 75}, '': {'true_bad': 0, 'true_good': 1, 'total': 1}}\n",
      "3 : settings:  {'w': 1.75, 'w2': 1.75, 'i': 1}\n",
      "1509 1056 1176\n",
      "{'w': 2, 'w2': 2, 'i': 1} 0.9333333333333333\n",
      "{'w': 1.65, 'w2': 2, 'i': 1} 0.962962962962963\n",
      "{'w': 1.75, 'w2': 2, 'i': 1} 1.0\n",
      "4 : performance :  {'ROB': {'true_bad': 14, 'true_good': 6, 'total': 20}, 'GY': {'true_bad': 7, 'true_good': 91, 'total': 99}, '': {'true_bad': 0, 'true_good': 1, 'total': 1}}\n",
      "4 : settings:  {'w': 1.75, 'w2': 2, 'i': 1}\n",
      "1509 1056 1207\n",
      "5 : performance :  {'ROB': {'true_bad': 20, 'true_good': 8, 'total': 28}, 'GY': {'true_bad': 9, 'true_good': 112, 'total': 122}, '': {'true_bad': 0, 'true_good': 1, 'total': 1}}\n",
      "5 : settings:  {'w': 1.75, 'w2': 2, 'i': 1}\n",
      "1509 1056 1237\n",
      "6 : performance :  {'ROB': {'true_bad': 23, 'true_good': 8, 'total': 31}, 'GY': {'true_bad': 11, 'true_good': 137, 'total': 149}, '': {'true_bad': 0, 'true_good': 1, 'total': 1}}\n",
      "6 : settings:  {'w': 1.75, 'w2': 2, 'i': 1}\n",
      "1509 1056 1267\n",
      "7 : performance :  {'ROB': {'true_bad': 29, 'true_good': 9, 'total': 38}, 'GY': {'true_bad': 16, 'true_good': 154, 'total': 172}, '': {'true_bad': 0, 'true_good': 1, 'total': 1}}\n",
      "7 : settings:  {'w': 1.75, 'w2': 2, 'i': 1}\n",
      "1509 1056 1297\n",
      "{'w': 1.75, 'w2': 1.75, 'i': 1} 1.0\n",
      "8 : performance :  {'ROB': {'true_bad': 31, 'true_good': 12, 'total': 43}, 'GY': {'true_bad': 18, 'true_good': 177, 'total': 197}, '': {'true_bad': 0, 'true_good': 1, 'total': 1}}\n",
      "8 : settings:  {'w': 1.75, 'w2': 1.75, 'i': 1}\n",
      "1509 1056 1327\n",
      "9 : performance :  {'ROB': {'true_bad': 36, 'true_good': 14, 'total': 50}, 'GY': {'true_bad': 21, 'true_good': 197, 'total': 220}, '': {'true_bad': 0, 'true_good': 1, 'total': 1}}\n",
      "9 : settings:  {'w': 1.75, 'w2': 1.75, 'i': 1}\n",
      "1509 1056 1358\n",
      "10 : performance :  {'ROB': {'true_bad': 37, 'true_good': 15, 'total': 52}, 'GY': {'true_bad': 26, 'true_good': 221, 'total': 249}, '': {'true_bad': 0, 'true_good': 1, 'total': 1}}\n",
      "10 : settings:  {'w': 1.75, 'w2': 1.75, 'i': 1}\n",
      "1509 1056 1388\n",
      "11 : performance :  {'ROB': {'true_bad': 39, 'true_good': 16, 'total': 55}, 'GY': {'true_bad': 27, 'true_good': 247, 'total': 276}, '': {'true_bad': 0, 'true_good': 1, 'total': 1}}\n",
      "11 : settings:  {'w': 1.75, 'w2': 1.75, 'i': 1}\n",
      "1509 1056 1418\n",
      "{'w': 2.35, 'w2': 2.35, 'i': 1} 0.9090909090909091\n",
      "{'w': 1.9, 'w2': 2.35, 'i': 1} 0.9642857142857142\n",
      "{'w': 1.75, 'w2': 2.35, 'i': 1} 0.9908256880733944\n",
      "12 : performance :  {'ROB': {'true_bad': 42, 'true_good': 17, 'total': 59}, 'GY': {'true_bad': 27, 'true_good': 273, 'total': 302}, '': {'true_bad': 0, 'true_good': 1, 'total': 1}}\n",
      "12 : settings:  {'w': 1.75, 'w2': 2.35, 'i': 1}\n",
      "1509 1056 1448\n",
      "13 : performance :  {'ROB': {'true_bad': 45, 'true_good': 18, 'total': 63}, 'GY': {'true_bad': 27, 'true_good': 298, 'total': 327}, '': {'true_bad': 0, 'true_good': 2, 'total': 2}}\n",
      "13 : settings:  {'w': 1.75, 'w2': 2.35, 'i': 1}\n",
      "1509 1056 1478\n",
      "14 : performance :  {'ROB': {'true_bad': 49, 'true_good': 18, 'total': 67}, 'GY': {'true_bad': 30, 'true_good': 321, 'total': 353}, '': {'true_bad': 0, 'true_good': 2, 'total': 2}}\n",
      "14 : settings:  {'w': 1.75, 'w2': 2.35, 'i': 1}\n",
      "1509 1056 1509\n",
      "15 : performance :  {'ROB': {'true_bad': 50, 'true_good': 20, 'total': 70}, 'GY': {'true_bad': 31, 'true_good': 348, 'total': 381}, '': {'true_bad': 0, 'true_good': 2, 'total': 2}}\n",
      "15 : settings:  {'w': 1.75, 'w2': 2.35, 'i': 1}\n",
      "precision: 0.7142857142857143 recall: 0.6172839506172839 f1: 0.662251655629139 accuracy: 0.8824833702882483\n",
      "None\n",
      "final_acc {'ROB': {'true_bad': 50, 'true_good': 20, 'total': 70}, 'GY': {'true_bad': 31, 'true_good': 348, 'total': 381}, '': {'true_bad': 0, 'true_good': 2, 'total': 2}}\n",
      "1011\n",
      "source_edges_temp 1479 features2_t1 1011\n",
      "features2_t1 1007\n",
      "train, test, train redone 702 305 1150\n",
      "305 0\n",
      "{'tp': 35, 'fp': 10, 'tn': 249, 'fn': 11}\n",
      "precision recall accuracy\n",
      "[0.7777777777777778, 0.7608695652173914, 0.9311475409836065]\n",
      "0.8611297633036764\n",
      "{'w': 1.75, 'w2': 1.75, 'i': 1} 0.7042253521126761\n",
      "{'w': 1.65, 'w2': 1.75, 'i': 1} 0.7053140096618357\n",
      "{'w': 1.5156100491395184, 'w2': 1.75, 'i': 1} 0.7142857142857143\n",
      "settings:  {'w': 1.5156100491395184, 'w2': 1.75, 'i': 1}\n",
      "1509 1056 1086\n",
      "1 : performance :  {'ROB': {'true_bad': 2, 'true_good': 2, 'total': 4}, 'GY': {'true_bad': 3, 'true_good': 22, 'total': 25}, '': {'true_bad': 0, 'true_good': 1, 'total': 1}}\n",
      "1 : settings:  {'w': 1.5156100491395184, 'w2': 1.75, 'i': 1}\n",
      "1509 1056 1116\n",
      "2 : performance :  {'ROB': {'true_bad': 5, 'true_good': 3, 'total': 8}, 'GY': {'true_bad': 3, 'true_good': 47, 'total': 51}, '': {'true_bad': 0, 'true_good': 1, 'total': 1}}\n",
      "2 : settings:  {'w': 1.5156100491395184, 'w2': 1.75, 'i': 1}\n",
      "1509 1056 1146\n",
      "3 : performance :  {'ROB': {'true_bad': 9, 'true_good': 4, 'total': 13}, 'GY': {'true_bad': 5, 'true_good': 70, 'total': 76}, '': {'true_bad': 0, 'true_good': 1, 'total': 1}}\n",
      "3 : settings:  {'w': 1.5156100491395184, 'w2': 1.75, 'i': 1}\n",
      "1509 1056 1176\n",
      "{'w': 1.75, 'w2': 1.75, 'i': 1} 0.962962962962963\n",
      "{'w': 1.65, 'w2': 1.75, 'i': 1} 1.0\n",
      "4 : performance :  {'ROB': {'true_bad': 13, 'true_good': 6, 'total': 19}, 'GY': {'true_bad': 8, 'true_good': 91, 'total': 100}, '': {'true_bad': 0, 'true_good': 1, 'total': 1}}\n",
      "4 : settings:  {'w': 1.65, 'w2': 1.75, 'i': 1}\n",
      "1509 1056 1207\n",
      "5 : performance :  {'ROB': {'true_bad': 19, 'true_good': 8, 'total': 27}, 'GY': {'true_bad': 10, 'true_good': 112, 'total': 123}, '': {'true_bad': 0, 'true_good': 1, 'total': 1}}\n",
      "5 : settings:  {'w': 1.65, 'w2': 1.75, 'i': 1}\n",
      "1509 1056 1237\n",
      "6 : performance :  {'ROB': {'true_bad': 22, 'true_good': 8, 'total': 30}, 'GY': {'true_bad': 12, 'true_good': 137, 'total': 150}, '': {'true_bad': 0, 'true_good': 1, 'total': 1}}\n",
      "6 : settings:  {'w': 1.65, 'w2': 1.75, 'i': 1}\n",
      "1509 1056 1267\n",
      "7 : performance :  {'ROB': {'true_bad': 28, 'true_good': 9, 'total': 37}, 'GY': {'true_bad': 17, 'true_good': 154, 'total': 173}, '': {'true_bad': 0, 'true_good': 1, 'total': 1}}\n",
      "7 : settings:  {'w': 1.65, 'w2': 1.75, 'i': 1}\n",
      "1509 1056 1297\n",
      "{'w': 2.1, 'w2': 2.1, 'i': 1} 0.9249999999999999\n",
      "{'w': 1.9, 'w2': 2.1, 'i': 1} 0.9487179487179488\n",
      "{'w': 1.75, 'w2': 2.1, 'i': 1} 0.9866666666666666\n",
      "{'w': 1.65, 'w2': 2.1, 'i': 1} 1.0\n",
      "8 : performance :  {'ROB': {'true_bad': 30, 'true_good': 12, 'total': 42}, 'GY': {'true_bad': 19, 'true_good': 177, 'total': 198}, '': {'true_bad': 0, 'true_good': 1, 'total': 1}}\n",
      "8 : settings:  {'w': 1.65, 'w2': 2.1, 'i': 1}\n",
      "1509 1056 1327\n",
      "9 : performance :  {'ROB': {'true_bad': 35, 'true_good': 14, 'total': 49}, 'GY': {'true_bad': 22, 'true_good': 197, 'total': 221}, '': {'true_bad': 0, 'true_good': 1, 'total': 1}}\n",
      "9 : settings:  {'w': 1.65, 'w2': 2.1, 'i': 1}\n",
      "1509 1056 1358\n",
      "10 : performance :  {'ROB': {'true_bad': 36, 'true_good': 15, 'total': 51}, 'GY': {'true_bad': 27, 'true_good': 221, 'total': 250}, '': {'true_bad': 0, 'true_good': 1, 'total': 1}}\n",
      "10 : settings:  {'w': 1.65, 'w2': 2.1, 'i': 1}\n",
      "1509 1056 1388\n"
     ]
    },
    {
     "name": "stdout",
     "output_type": "stream",
     "text": [
      "11 : performance :  {'ROB': {'true_bad': 38, 'true_good': 16, 'total': 54}, 'GY': {'true_bad': 28, 'true_good': 247, 'total': 277}, '': {'true_bad': 0, 'true_good': 1, 'total': 1}}\n",
      "11 : settings:  {'w': 1.65, 'w2': 2.1, 'i': 1}\n",
      "1509 1056 1418\n",
      "{'w': 2, 'w2': 2, 'i': 1} 0.9557522123893806\n",
      "{'w': 1.65, 'w2': 2, 'i': 1} 0.9906542056074767\n",
      "12 : performance :  {'ROB': {'true_bad': 41, 'true_good': 17, 'total': 58}, 'GY': {'true_bad': 28, 'true_good': 273, 'total': 303}, '': {'true_bad': 0, 'true_good': 1, 'total': 1}}\n",
      "12 : settings:  {'w': 1.65, 'w2': 2, 'i': 1}\n",
      "1509 1056 1448\n",
      "13 : performance :  {'ROB': {'true_bad': 44, 'true_good': 18, 'total': 62}, 'GY': {'true_bad': 28, 'true_good': 298, 'total': 328}, '': {'true_bad': 0, 'true_good': 2, 'total': 2}}\n",
      "13 : settings:  {'w': 1.65, 'w2': 2, 'i': 1}\n",
      "1509 1056 1478\n",
      "14 : performance :  {'ROB': {'true_bad': 48, 'true_good': 18, 'total': 66}, 'GY': {'true_bad': 31, 'true_good': 321, 'total': 354}, '': {'true_bad': 0, 'true_good': 2, 'total': 2}}\n",
      "14 : settings:  {'w': 1.65, 'w2': 2, 'i': 1}\n",
      "1509 1056 1509\n",
      "15 : performance :  {'ROB': {'true_bad': 49, 'true_good': 20, 'total': 69}, 'GY': {'true_bad': 32, 'true_good': 348, 'total': 382}, '': {'true_bad': 0, 'true_good': 2, 'total': 2}}\n",
      "15 : settings:  {'w': 1.65, 'w2': 2, 'i': 1}\n",
      "precision: 0.7101449275362319 recall: 0.6049382716049383 f1: 0.6533333333333334 accuracy: 0.8802660753880266\n",
      "None\n",
      "final_acc {'ROB': {'true_bad': 49, 'true_good': 20, 'total': 69}, 'GY': {'true_bad': 32, 'true_good': 348, 'total': 382}, '': {'true_bad': 0, 'true_good': 2, 'total': 2}}\n",
      "1011\n",
      "source_edges_temp 1479 features2_t1 1011\n",
      "features2_t1 1007\n",
      "train, test, train redone 702 305 1150\n",
      "305 0\n",
      "{'tp': 36, 'fp': 10, 'tn': 249, 'fn': 10}\n",
      "precision recall accuracy\n",
      "[0.782608695652174, 0.782608695652174, 0.9344262295081968]\n",
      "0.8719993285210675\n",
      "{'w': 2, 'w2': 2, 'i': 1} 0.6547085201793722\n",
      "{'w': 1.65, 'w2': 2, 'i': 1} 0.68\n",
      "settings:  {'w': 1.65, 'w2': 2, 'i': 1}\n",
      "1509 1056 1086\n",
      "1 : performance :  {'ROB': {'true_bad': 2, 'true_good': 2, 'total': 4}, 'GY': {'true_bad': 3, 'true_good': 22, 'total': 25}, '': {'true_bad': 0, 'true_good': 1, 'total': 1}}\n",
      "1 : settings:  {'w': 1.65, 'w2': 2, 'i': 1}\n",
      "1509 1056 1116\n",
      "2 : performance :  {'ROB': {'true_bad': 5, 'true_good': 3, 'total': 8}, 'GY': {'true_bad': 3, 'true_good': 47, 'total': 51}, '': {'true_bad': 0, 'true_good': 1, 'total': 1}}\n",
      "2 : settings:  {'w': 1.65, 'w2': 2, 'i': 1}\n",
      "1509 1056 1146\n",
      "3 : performance :  {'ROB': {'true_bad': 9, 'true_good': 4, 'total': 13}, 'GY': {'true_bad': 5, 'true_good': 70, 'total': 76}, '': {'true_bad': 0, 'true_good': 1, 'total': 1}}\n",
      "3 : settings:  {'w': 1.65, 'w2': 2, 'i': 1}\n",
      "1509 1056 1176\n",
      "{'w': 2.35, 'w2': 2.35, 'i': 1} 0.8387096774193548\n",
      "{'w': 1.9, 'w2': 2.35, 'i': 1} 0.896551724137931\n",
      "{'w': 1.75, 'w2': 2.35, 'i': 1} 0.962962962962963\n",
      "{'w': 1.65, 'w2': 2.35, 'i': 1} 1.0\n",
      "4 : performance :  {'ROB': {'true_bad': 13, 'true_good': 6, 'total': 19}, 'GY': {'true_bad': 8, 'true_good': 91, 'total': 100}, '': {'true_bad': 0, 'true_good': 1, 'total': 1}}\n",
      "4 : settings:  {'w': 1.65, 'w2': 2.35, 'i': 1}\n",
      "1509 1056 1207\n",
      "5 : performance :  {'ROB': {'true_bad': 19, 'true_good': 8, 'total': 27}, 'GY': {'true_bad': 10, 'true_good': 112, 'total': 123}, '': {'true_bad': 0, 'true_good': 1, 'total': 1}}\n",
      "5 : settings:  {'w': 1.65, 'w2': 2.35, 'i': 1}\n",
      "1509 1056 1237\n",
      "6 : performance :  {'ROB': {'true_bad': 22, 'true_good': 8, 'total': 30}, 'GY': {'true_bad': 12, 'true_good': 137, 'total': 150}, '': {'true_bad': 0, 'true_good': 1, 'total': 1}}\n",
      "6 : settings:  {'w': 1.65, 'w2': 2.35, 'i': 1}\n",
      "1509 1056 1267\n",
      "7 : performance :  {'ROB': {'true_bad': 28, 'true_good': 9, 'total': 37}, 'GY': {'true_bad': 17, 'true_good': 154, 'total': 173}, '': {'true_bad': 0, 'true_good': 1, 'total': 1}}\n",
      "7 : settings:  {'w': 1.65, 'w2': 2.35, 'i': 1}\n",
      "1509 1056 1297\n",
      "{'w': 1.9, 'w2': 1.9, 'i': 1} 0.9487179487179488\n",
      "{'w': 1.65, 'w2': 1.9, 'i': 1} 1.0\n",
      "8 : performance :  {'ROB': {'true_bad': 30, 'true_good': 12, 'total': 42}, 'GY': {'true_bad': 19, 'true_good': 177, 'total': 198}, '': {'true_bad': 0, 'true_good': 1, 'total': 1}}\n",
      "8 : settings:  {'w': 1.65, 'w2': 1.9, 'i': 1}\n",
      "1509 1056 1327\n",
      "9 : performance :  {'ROB': {'true_bad': 35, 'true_good': 14, 'total': 49}, 'GY': {'true_bad': 22, 'true_good': 197, 'total': 221}, '': {'true_bad': 0, 'true_good': 1, 'total': 1}}\n",
      "9 : settings:  {'w': 1.65, 'w2': 1.9, 'i': 1}\n",
      "1509 1056 1358\n",
      "10 : performance :  {'ROB': {'true_bad': 36, 'true_good': 15, 'total': 51}, 'GY': {'true_bad': 27, 'true_good': 221, 'total': 250}, '': {'true_bad': 0, 'true_good': 1, 'total': 1}}\n",
      "10 : settings:  {'w': 1.65, 'w2': 1.9, 'i': 1}\n",
      "1509 1056 1388\n",
      "11 : performance :  {'ROB': {'true_bad': 38, 'true_good': 16, 'total': 54}, 'GY': {'true_bad': 28, 'true_good': 247, 'total': 277}, '': {'true_bad': 0, 'true_good': 1, 'total': 1}}\n",
      "11 : settings:  {'w': 1.65, 'w2': 1.9, 'i': 1}\n",
      "1509 1056 1418\n",
      "{'w': 1.9, 'w2': 1.9, 'i': 1} 0.954954954954955\n",
      "{'w': 1.65, 'w2': 1.65, 'i': 1} 0.9906542056074767\n",
      "12 : performance :  {'ROB': {'true_bad': 41, 'true_good': 17, 'total': 58}, 'GY': {'true_bad': 28, 'true_good': 273, 'total': 303}, '': {'true_bad': 0, 'true_good': 1, 'total': 1}}\n",
      "12 : settings:  {'w': 1.65, 'w2': 1.65, 'i': 1}\n",
      "1509 1056 1448\n",
      "13 : performance :  {'ROB': {'true_bad': 44, 'true_good': 17, 'total': 61}, 'GY': {'true_bad': 28, 'true_good': 299, 'total': 329}, '': {'true_bad': 0, 'true_good': 2, 'total': 2}}\n",
      "13 : settings:  {'w': 1.65, 'w2': 1.65, 'i': 1}\n",
      "1509 1056 1478\n",
      "14 : performance :  {'ROB': {'true_bad': 48, 'true_good': 17, 'total': 65}, 'GY': {'true_bad': 31, 'true_good': 322, 'total': 355}, '': {'true_bad': 0, 'true_good': 2, 'total': 2}}\n",
      "14 : settings:  {'w': 1.65, 'w2': 1.65, 'i': 1}\n",
      "1509 1056 1509\n",
      "15 : performance :  {'ROB': {'true_bad': 49, 'true_good': 19, 'total': 68}, 'GY': {'true_bad': 32, 'true_good': 349, 'total': 383}, '': {'true_bad': 0, 'true_good': 2, 'total': 2}}\n",
      "15 : settings:  {'w': 1.65, 'w2': 1.65, 'i': 1}\n",
      "precision: 0.7205882352941176 recall: 0.6049382716049383 f1: 0.6577181208053691 accuracy: 0.8824833702882483\n",
      "None\n",
      "final_acc {'ROB': {'true_bad': 49, 'true_good': 19, 'total': 68}, 'GY': {'true_bad': 32, 'true_good': 349, 'total': 383}, '': {'true_bad': 0, 'true_good': 2, 'total': 2}}\n",
      "1011\n",
      "source_edges_temp 1479 features2_t1 1011\n",
      "features2_t1 1007\n",
      "train, test, train redone 702 305 1150\n",
      "305 0\n",
      "{'tp': 35, 'fp': 10, 'tn': 249, 'fn': 11}\n",
      "precision recall accuracy\n",
      "[0.7777777777777778, 0.7608695652173914, 0.9311475409836065]\n",
      "0.8611297633036764\n"
     ]
    }
   ],
   "source": [
    "perf_temporal, importance_temporal = scriptified_lpa_temporal(users_info_t1, tweets_info_t1, keys_lst_time, source_div_time, [params_subset2])"
   ]
  },
  {
   "cell_type": "code",
   "execution_count": null,
   "metadata": {},
   "outputs": [],
   "source": []
  },
  {
   "cell_type": "code",
   "execution_count": 223,
   "metadata": {},
   "outputs": [
    {
     "name": "stdout",
     "output_type": "stream",
     "text": [
      "1509 1057 1509 1057\n",
      "{'w': 1.75, 'w2': 1.75, 'i': 1} 0.5875706214689265\n",
      "{'w': 2.25, 'w2': 1.75, 'i': 1} 0.6301369863013699\n",
      "{'w': 2.35, 'w2': 1.75, 'i': 1} 0.6371681415929203\n",
      "settings:  {'w': 2.35, 'w2': 1.75, 'i': 1}\n",
      "1509 1057 1087\n",
      "1 : performance :  {'ROB': {'true_bad': 5, 'true_good': 0, 'total': 5}, 'GY': {'true_bad': 0, 'true_good': 23, 'total': 25}, '': {'true_bad': 0, 'true_good': 0, 'total': 0}}\n",
      "1 : settings:  {'w': 2.35, 'w2': 1.75, 'i': 1}\n",
      "1509 1057 1117\n",
      "2 : performance :  {'ROB': {'true_bad': 11, 'true_good': 3, 'total': 14}, 'GY': {'true_bad': 2, 'true_good': 42, 'total': 46}, '': {'true_bad': 0, 'true_good': 0, 'total': 0}}\n",
      "2 : settings:  {'w': 2.35, 'w2': 1.75, 'i': 1}\n",
      "1509 1057 1147\n",
      "3 : performance :  {'ROB': {'true_bad': 17, 'true_good': 4, 'total': 21}, 'GY': {'true_bad': 3, 'true_good': 64, 'total': 69}, '': {'true_bad': 0, 'true_good': 0, 'total': 0}}\n",
      "3 : settings:  {'w': 2.35, 'w2': 1.75, 'i': 1}\n",
      "1509 1057 1177\n",
      "{'w': 2.1, 'w2': 2.1, 'i': 1} 0.923076923076923\n",
      "{'w': 2.25, 'w2': 2.1, 'i': 1} 0.975609756097561\n",
      "{'w': 2.35, 'w2': 2.1, 'i': 1} 1.0\n",
      "4 : performance :  {'ROB': {'true_bad': 27, 'true_good': 5, 'total': 32}, 'GY': {'true_bad': 4, 'true_good': 82, 'total': 88}, '': {'true_bad': 0, 'true_good': 0, 'total': 0}}\n",
      "4 : settings:  {'w': 2.35, 'w2': 2.1, 'i': 1}\n",
      "1509 1057 1207\n",
      "5 : performance :  {'ROB': {'true_bad': 32, 'true_good': 10, 'total': 42}, 'GY': {'true_bad': 6, 'true_good': 100, 'total': 108}, '': {'true_bad': 0, 'true_good': 0, 'total': 0}}\n",
      "5 : settings:  {'w': 2.35, 'w2': 2.1, 'i': 1}\n",
      "1509 1057 1237\n",
      "6 : performance :  {'ROB': {'true_bad': 33, 'true_good': 15, 'total': 48}, 'GY': {'true_bad': 7, 'true_good': 122, 'total': 131}, '': {'true_bad': 0, 'true_good': 1, 'total': 1}}\n",
      "6 : settings:  {'w': 2.35, 'w2': 2.1, 'i': 1}\n",
      "1509 1057 1267\n",
      "7 : performance :  {'ROB': {'true_bad': 38, 'true_good': 19, 'total': 57}, 'GY': {'true_bad': 7, 'true_good': 143, 'total': 152}, '': {'true_bad': 0, 'true_good': 1, 'total': 1}}\n",
      "7 : settings:  {'w': 2.35, 'w2': 2.1, 'i': 1}\n",
      "1509 1057 1298\n",
      "{'w': 2.25, 'w2': 2.25, 'i': 1} 0.9642857142857142\n",
      "{'w': 2.35, 'w2': 2.25, 'i': 1} 0.9824561403508771\n",
      "8 : performance :  {'ROB': {'true_bad': 45, 'true_good': 24, 'total': 69}, 'GY': {'true_bad': 8, 'true_good': 161, 'total': 171}, '': {'true_bad': 0, 'true_good': 1, 'total': 1}}\n",
      "8 : settings:  {'w': 2.35, 'w2': 2.25, 'i': 1}\n",
      "1509 1057 1328\n",
      "9 : performance :  {'ROB': {'true_bad': 52, 'true_good': 29, 'total': 81}, 'GY': {'true_bad': 10, 'true_good': 176, 'total': 189}, '': {'true_bad': 0, 'true_good': 1, 'total': 1}}\n",
      "9 : settings:  {'w': 2.35, 'w2': 2.25, 'i': 1}\n",
      "1509 1057 1358\n",
      "10 : performance :  {'ROB': {'true_bad': 56, 'true_good': 35, 'total': 91}, 'GY': {'true_bad': 12, 'true_good': 194, 'total': 209}, '': {'true_bad': 0, 'true_good': 1, 'total': 1}}\n",
      "10 : settings:  {'w': 2.35, 'w2': 2.25, 'i': 1}\n",
      "1509 1057 1388\n",
      "11 : performance :  {'ROB': {'true_bad': 62, 'true_good': 38, 'total': 100}, 'GY': {'true_bad': 12, 'true_good': 215, 'total': 230}, '': {'true_bad': 0, 'true_good': 1, 'total': 1}}\n",
      "11 : settings:  {'w': 2.35, 'w2': 2.25, 'i': 1}\n",
      "1509 1057 1418\n",
      "{'w': 2.1, 'w2': 2.1, 'i': 1} 0.8901098901098902\n",
      "{'w': 2.25, 'w2': 2.1, 'i': 1} 0.9479166666666667\n",
      "{'w': 2.35, 'w2': 2.1, 'i': 1} 0.9587628865979382\n",
      "12 : performance :  {'ROB': {'true_bad': 64, 'true_good': 41, 'total': 105}, 'GY': {'true_bad': 12, 'true_good': 240, 'total': 255}, '': {'true_bad': 0, 'true_good': 1, 'total': 1}}\n",
      "12 : settings:  {'w': 2.35, 'w2': 2.1, 'i': 1}\n",
      "1509 1057 1448\n",
      "13 : performance :  {'ROB': {'true_bad': 71, 'true_good': 42, 'total': 113}, 'GY': {'true_bad': 13, 'true_good': 261, 'total': 277}, '': {'true_bad': 0, 'true_good': 1, 'total': 1}}\n",
      "13 : settings:  {'w': 2.35, 'w2': 2.1, 'i': 1}\n",
      "1509 1057 1478\n",
      "14 : performance :  {'ROB': {'true_bad': 76, 'true_good': 44, 'total': 120}, 'GY': {'true_bad': 16, 'true_good': 280, 'total': 300}, '': {'true_bad': 0, 'true_good': 1, 'total': 1}}\n",
      "14 : settings:  {'w': 2.35, 'w2': 2.1, 'i': 1}\n",
      "1509 1057 1509\n",
      "15 : performance :  {'ROB': {'true_bad': 78, 'true_good': 46, 'total': 124}, 'GY': {'true_bad': 19, 'true_good': 304, 'total': 327}, '': {'true_bad': 0, 'true_good': 1, 'total': 1}}\n",
      "15 : settings:  {'w': 2.35, 'w2': 2.1, 'i': 1}\n",
      "precision: 0.6290322580645161 recall: 0.8041237113402062 f1: 0.7058823529411764 accuracy: 0.8470066518847007\n",
      "None\n",
      "final_acc {'ROB': {'true_bad': 78, 'true_good': 46, 'total': 124}, 'GY': {'true_bad': 19, 'true_good': 304, 'total': 327}, '': {'true_bad': 0, 'true_good': 1, 'total': 1}}\n",
      "1011\n",
      "features2_t1 1011\n",
      "train, test, train redone 705 306 1180\n",
      "306 0\n",
      "{'tp': 44, 'fp': 130, 'tn': 115, 'fn': 17}\n",
      "precision recall accuracy\n",
      "[0.25287356321839083, 0.7213114754098361, 0.5196078431372549]\n",
      "0.5953496152559384\n",
      "train, test, train redone 705 306 1180\n",
      "306 0\n",
      "{'tp': 57, 'fp': 55, 'tn': 190, 'fn': 4}\n",
      "precision recall accuracy\n",
      "[0.5089285714285714, 0.9344262295081968, 0.8071895424836601]\n",
      "0.8549682167949146\n",
      "train, test, train redone 705 306 1180\n",
      "306 0\n",
      "{'tp': 55, 'fp': 34, 'tn': 211, 'fn': 6}\n",
      "precision recall accuracy\n",
      "[0.6179775280898876, 0.9016393442622951, 0.869281045751634]\n",
      "0.8814319170291066\n",
      "train, test, train redone 705 306 1180\n",
      "306 0\n",
      "{'tp': 50, 'fp': 31, 'tn': 214, 'fn': 11}\n",
      "precision recall accuracy\n",
      "[0.6172839506172839, 0.819672131147541, 0.8627450980392157]\n",
      "0.8465707594513215\n",
      "train, test, train redone 705 306 1180\n",
      "306 0\n",
      "{'tp': 55, 'fp': 75, 'tn': 170, 'fn': 6}\n",
      "precision recall accuracy\n",
      "[0.4230769230769231, 0.9016393442622951, 0.7352941176470589]\n",
      "0.7977584476413516\n",
      "train, test, train redone 705 306 1180\n",
      "306 0\n",
      "{'tp': 51, 'fp': 28, 'tn': 217, 'fn': 10}\n",
      "precision recall accuracy\n",
      "[0.6455696202531646, 0.8360655737704918, 0.8758169934640523]\n",
      "0.8608899297423888\n",
      "1509 1057 1509 1057\n",
      "{'w': 2, 'w2': 2, 'i': 1} 0.6808510638297871\n",
      "{'w': 1.9, 'w2': 2, 'i': 1} 0.6844444444444444\n",
      "settings:  {'w': 1.9, 'w2': 2, 'i': 1}\n",
      "1509 1057 1087\n",
      "1 : performance :  {'ROB': {'true_bad': 8, 'true_good': 0, 'total': 8}, 'GY': {'true_bad': 2, 'true_good': 20, 'total': 22}, '': {'true_bad': 0, 'true_good': 0, 'total': 0}}\n",
      "1 : settings:  {'w': 1.9, 'w2': 2, 'i': 1}\n",
      "1509 1057 1117\n",
      "2 : performance :  {'ROB': {'true_bad': 10, 'true_good': 2, 'total': 12}, 'GY': {'true_bad': 6, 'true_good': 42, 'total': 48}, '': {'true_bad': 0, 'true_good': 0, 'total': 0}}\n",
      "2 : settings:  {'w': 1.9, 'w2': 2, 'i': 1}\n",
      "1509 1057 1147\n",
      "3 : performance :  {'ROB': {'true_bad': 13, 'true_good': 4, 'total': 17}, 'GY': {'true_bad': 6, 'true_good': 67, 'total': 73}, '': {'true_bad': 0, 'true_good': 0, 'total': 0}}\n",
      "3 : settings:  {'w': 1.9, 'w2': 2, 'i': 1}\n",
      "1509 1057 1177\n",
      "{'w': 1.9, 'w2': 1.9, 'i': 1} 0.9696969696969697\n",
      "{'w': 2, 'w2': 1.9, 'i': 1} 0.9714285714285714\n",
      "4 : performance :  {'ROB': {'true_bad': 18, 'true_good': 7, 'total': 25}, 'GY': {'true_bad': 6, 'true_good': 89, 'total': 95}, '': {'true_bad': 0, 'true_good': 0, 'total': 0}}\n",
      "4 : settings:  {'w': 2, 'w2': 1.9, 'i': 1}\n",
      "1509 1057 1207\n",
      "5 : performance :  {'ROB': {'true_bad': 19, 'true_good': 10, 'total': 29}, 'GY': {'true_bad': 7, 'true_good': 114, 'total': 121}, '': {'true_bad': 0, 'true_good': 0, 'total': 0}}\n",
      "5 : settings:  {'w': 2, 'w2': 1.9, 'i': 1}\n",
      "1509 1057 1237\n",
      "6 : performance :  {'ROB': {'true_bad': 24, 'true_good': 13, 'total': 37}, 'GY': {'true_bad': 8, 'true_good': 135, 'total': 143}, '': {'true_bad': 0, 'true_good': 0, 'total': 0}}\n",
      "6 : settings:  {'w': 2, 'w2': 1.9, 'i': 1}\n",
      "1509 1057 1267\n",
      "7 : performance :  {'ROB': {'true_bad': 31, 'true_good': 14, 'total': 45}, 'GY': {'true_bad': 10, 'true_good': 155, 'total': 165}, '': {'true_bad': 0, 'true_good': 0, 'total': 0}}\n",
      "7 : settings:  {'w': 2, 'w2': 1.9, 'i': 1}\n",
      "1509 1057 1298\n",
      "{'w': 2.1, 'w2': 2.1, 'i': 1} 0.9574468085106383\n",
      "{'w': 2, 'w2': 2.1, 'i': 1} 0.9662921348314608\n",
      "8 : performance :  {'ROB': {'true_bad': 37, 'true_good': 15, 'total': 52}, 'GY': {'true_bad': 11, 'true_good': 177, 'total': 189}, '': {'true_bad': 0, 'true_good': 0, 'total': 0}}\n",
      "8 : settings:  {'w': 2, 'w2': 2.1, 'i': 1}\n",
      "1509 1057 1328\n",
      "9 : performance :  {'ROB': {'true_bad': 41, 'true_good': 18, 'total': 59}, 'GY': {'true_bad': 15, 'true_good': 196, 'total': 212}, '': {'true_bad': 0, 'true_good': 0, 'total': 0}}\n",
      "9 : settings:  {'w': 2, 'w2': 2.1, 'i': 1}\n",
      "1509 1057 1358\n",
      "10 : performance :  {'ROB': {'true_bad': 43, 'true_good': 22, 'total': 65}, 'GY': {'true_bad': 17, 'true_good': 218, 'total': 236}, '': {'true_bad': 0, 'true_good': 0, 'total': 0}}\n",
      "10 : settings:  {'w': 2, 'w2': 2.1, 'i': 1}\n",
      "1509 1057 1388\n"
     ]
    },
    {
     "name": "stdout",
     "output_type": "stream",
     "text": [
      "11 : performance :  {'ROB': {'true_bad': 46, 'true_good': 23, 'total': 69}, 'GY': {'true_bad': 18, 'true_good': 243, 'total': 262}, '': {'true_bad': 0, 'true_good': 0, 'total': 0}}\n",
      "11 : settings:  {'w': 2, 'w2': 2.1, 'i': 1}\n",
      "1509 1057 1418\n",
      "{'w': 2.35, 'w2': 2.35, 'i': 1} 0.92\n",
      "{'w': 1.9, 'w2': 2.35, 'i': 1} 0.9465648854961832\n",
      "{'w': 2, 'w2': 2.35, 'i': 1} 0.962962962962963\n",
      "{'w': 2.1, 'w2': 2.35, 'i': 1} 0.971830985915493\n",
      "12 : performance :  {'ROB': {'true_bad': 50, 'true_good': 25, 'total': 75}, 'GY': {'true_bad': 22, 'true_good': 263, 'total': 286}, '': {'true_bad': 0, 'true_good': 0, 'total': 0}}\n",
      "12 : settings:  {'w': 2.1, 'w2': 2.35, 'i': 1}\n",
      "1509 1057 1448\n",
      "13 : performance :  {'ROB': {'true_bad': 52, 'true_good': 28, 'total': 80}, 'GY': {'true_bad': 27, 'true_good': 282, 'total': 311}, '': {'true_bad': 0, 'true_good': 0, 'total': 0}}\n",
      "13 : settings:  {'w': 2.1, 'w2': 2.35, 'i': 1}\n",
      "1509 1057 1478\n",
      "14 : performance :  {'ROB': {'true_bad': 57, 'true_good': 33, 'total': 90}, 'GY': {'true_bad': 27, 'true_good': 302, 'total': 331}, '': {'true_bad': 0, 'true_good': 0, 'total': 0}}\n",
      "14 : settings:  {'w': 2.1, 'w2': 2.35, 'i': 1}\n",
      "1509 1057 1509\n",
      "15 : performance :  {'ROB': {'true_bad': 61, 'true_good': 35, 'total': 96}, 'GY': {'true_bad': 29, 'true_good': 325, 'total': 356}, '': {'true_bad': 0, 'true_good': 0, 'total': 0}}\n",
      "15 : settings:  {'w': 2.1, 'w2': 2.35, 'i': 1}\n",
      "precision: 0.6354166666666666 recall: 0.6777777777777778 f1: 0.6559139784946236 accuracy: 0.8539823008849557\n",
      "None\n",
      "final_acc {'ROB': {'true_bad': 61, 'true_good': 35, 'total': 96}, 'GY': {'true_bad': 29, 'true_good': 325, 'total': 356}, '': {'true_bad': 0, 'true_good': 0, 'total': 0}}\n",
      "1011\n",
      "features2_t1 1011\n",
      "train, test, train redone 715 296 1180\n",
      "296 0\n",
      "{'tp': 49, 'fp': 199, 'tn': 46, 'fn': 2}\n",
      "precision recall accuracy\n",
      "[0.1975806451612903, 0.9607843137254902, 0.32094594594594594]\n",
      "0.5742697078831533\n",
      "train, test, train redone 715 296 1180\n",
      "296 0\n",
      "{'tp': 48, 'fp': 47, 'tn': 198, 'fn': 3}\n",
      "precision recall accuracy\n",
      "[0.5052631578947369, 0.9411764705882353, 0.831081081081081]\n",
      "0.8746698679471789\n",
      "train, test, train redone 715 296 1180\n",
      "296 0\n",
      "{'tp': 36, 'fp': 17, 'tn': 228, 'fn': 15}\n",
      "precision recall accuracy\n",
      "[0.6792452830188679, 0.7058823529411765, 0.8918918918918919]\n",
      "0.8182472989195679\n",
      "train, test, train redone 715 296 1180\n",
      "296 0\n",
      "{'tp': 35, 'fp': 16, 'tn': 229, 'fn': 16}\n",
      "precision recall accuracy\n",
      "[0.6862745098039216, 0.6862745098039216, 0.8918918918918919]\n",
      "0.810484193677471\n",
      "train, test, train redone 715 296 1180\n",
      "296 0\n",
      "{'tp': 46, 'fp': 70, 'tn': 175, 'fn': 5}\n",
      "precision recall accuracy\n",
      "[0.39655172413793105, 0.9019607843137255, 0.7466216216216216]\n",
      "0.8081232492997199\n",
      "train, test, train redone 715 296 1180\n",
      "296 0\n",
      "{'tp': 40, 'fp': 19, 'tn': 226, 'fn': 11}\n",
      "precision recall accuracy\n",
      "[0.6779661016949152, 0.7843137254901961, 0.8986486486486487]\n",
      "0.8533813525410162\n",
      "1509 1057 1509 1057\n",
      "{'w': 2.1, 'w2': 2.1, 'i': 1} 0.6396761133603239\n",
      "{'w': 1.75, 'w2': 2.1, 'i': 1} 0.6488888888888888\n",
      "settings:  {'w': 1.75, 'w2': 2.1, 'i': 1}\n",
      "1509 1057 1087\n",
      "1 : performance :  {'ROB': {'true_bad': 7, 'true_good': 2, 'total': 9}, 'GY': {'true_bad': 1, 'true_good': 19, 'total': 20}, '': {'true_bad': 0, 'true_good': 1, 'total': 1}}\n",
      "1 : settings:  {'w': 1.75, 'w2': 2.1, 'i': 1}\n",
      "1509 1057 1117\n",
      "2 : performance :  {'ROB': {'true_bad': 9, 'true_good': 6, 'total': 15}, 'GY': {'true_bad': 2, 'true_good': 42, 'total': 44}, '': {'true_bad': 0, 'true_good': 1, 'total': 1}}\n",
      "2 : settings:  {'w': 1.75, 'w2': 2.1, 'i': 1}\n",
      "1509 1057 1147\n",
      "3 : performance :  {'ROB': {'true_bad': 12, 'true_good': 7, 'total': 19}, 'GY': {'true_bad': 5, 'true_good': 64, 'total': 70}, '': {'true_bad': 0, 'true_good': 1, 'total': 1}}\n",
      "3 : settings:  {'w': 1.75, 'w2': 2.1, 'i': 1}\n",
      "1509 1057 1177\n",
      "{'w': 1.9, 'w2': 1.9, 'i': 1} 0.9268292682926829\n",
      "{'w': 1.75, 'w2': 1.9, 'i': 1} 1.0\n",
      "error\n",
      "error\n",
      "error\n",
      "error\n",
      "error\n",
      "error\n",
      "error\n",
      "error\n",
      "error\n",
      "error\n",
      "error\n",
      "error\n",
      "error\n",
      "error\n",
      "error\n",
      "error\n",
      "error\n",
      "error\n",
      "4 : performance :  {'ROB': {'true_bad': 15, 'true_good': 15, 'total': 30}, 'GY': {'true_bad': 5, 'true_good': 83, 'total': 89}, '': {'true_bad': 0, 'true_good': 1, 'total': 1}}\n",
      "4 : settings:  {'w': 1.75, 'w2': 1.9, 'i': 1}\n",
      "1509 1057 1207\n",
      "5 : performance :  {'ROB': {'true_bad': 18, 'true_good': 20, 'total': 38}, 'GY': {'true_bad': 7, 'true_good': 103, 'total': 111}, '': {'true_bad': 0, 'true_good': 1, 'total': 1}}\n",
      "5 : settings:  {'w': 1.75, 'w2': 1.9, 'i': 1}\n",
      "1509 1057 1237\n",
      "6 : performance :  {'ROB': {'true_bad': 20, 'true_good': 21, 'total': 41}, 'GY': {'true_bad': 8, 'true_good': 129, 'total': 138}, '': {'true_bad': 0, 'true_good': 1, 'total': 1}}\n",
      "6 : settings:  {'w': 1.75, 'w2': 1.9, 'i': 1}\n",
      "1509 1057 1267\n",
      "7 : performance :  {'ROB': {'true_bad': 24, 'true_good': 26, 'total': 50}, 'GY': {'true_bad': 9, 'true_good': 149, 'total': 159}, '': {'true_bad': 0, 'true_good': 1, 'total': 1}}\n",
      "7 : settings:  {'w': 1.75, 'w2': 1.9, 'i': 1}\n",
      "1509 1057 1298\n",
      "{'w': 1.75, 'w2': 1.75, 'i': 1} 0.98989898989899\n",
      "8 : performance :  {'ROB': {'true_bad': 25, 'true_good': 28, 'total': 53}, 'GY': {'true_bad': 10, 'true_good': 175, 'total': 187}, '': {'true_bad': 0, 'true_good': 1, 'total': 1}}\n",
      "8 : settings:  {'w': 1.75, 'w2': 1.75, 'i': 1}\n",
      "1509 1057 1328\n",
      "9 : performance :  {'ROB': {'true_bad': 33, 'true_good': 31, 'total': 64}, 'GY': {'true_bad': 11, 'true_good': 192, 'total': 206}, '': {'true_bad': 0, 'true_good': 1, 'total': 1}}\n",
      "9 : settings:  {'w': 1.75, 'w2': 1.75, 'i': 1}\n",
      "1509 1057 1358\n",
      "10 : performance :  {'ROB': {'true_bad': 36, 'true_good': 34, 'total': 70}, 'GY': {'true_bad': 12, 'true_good': 215, 'total': 230}, '': {'true_bad': 0, 'true_good': 1, 'total': 1}}\n",
      "10 : settings:  {'w': 1.75, 'w2': 1.75, 'i': 1}\n",
      "1509 1057 1388\n",
      "11 : performance :  {'ROB': {'true_bad': 41, 'true_good': 35, 'total': 76}, 'GY': {'true_bad': 14, 'true_good': 237, 'total': 254}, '': {'true_bad': 0, 'true_good': 1, 'total': 1}}\n",
      "11 : settings:  {'w': 1.75, 'w2': 1.75, 'i': 1}\n",
      "1509 1057 1418\n",
      "{'w': 1.65, 'w2': 1.65, 'i': 1} 0.9219858156028369\n",
      "{'w': 2.1, 'w2': 1.65, 'i': 1} 0.9382716049382717\n",
      "{'w': 1.75, 'w2': 1.65, 'i': 1} 0.9798657718120806\n",
      "12 : performance :  {'ROB': {'true_bad': 45, 'true_good': 36, 'total': 81}, 'GY': {'true_bad': 16, 'true_good': 260, 'total': 279}, '': {'true_bad': 0, 'true_good': 1, 'total': 1}}\n",
      "12 : settings:  {'w': 1.75, 'w2': 1.65, 'i': 1}\n",
      "1509 1057 1448\n",
      "13 : performance :  {'ROB': {'true_bad': 48, 'true_good': 41, 'total': 89}, 'GY': {'true_bad': 18, 'true_good': 280, 'total': 301}, '': {'true_bad': 0, 'true_good': 1, 'total': 1}}\n",
      "13 : settings:  {'w': 1.75, 'w2': 1.65, 'i': 1}\n",
      "1509 1057 1478\n",
      "14 : performance :  {'ROB': {'true_bad': 51, 'true_good': 44, 'total': 95}, 'GY': {'true_bad': 19, 'true_good': 303, 'total': 325}, '': {'true_bad': 0, 'true_good': 1, 'total': 1}}\n",
      "14 : settings:  {'w': 1.75, 'w2': 1.65, 'i': 1}\n",
      "1509 1057 1509\n",
      "15 : performance :  {'ROB': {'true_bad': 54, 'true_good': 46, 'total': 100}, 'GY': {'true_bad': 21, 'true_good': 327, 'total': 351}, '': {'true_bad': 0, 'true_good': 1, 'total': 1}}\n",
      "15 : settings:  {'w': 1.75, 'w2': 1.65, 'i': 1}\n",
      "precision: 0.54 recall: 0.72 f1: 0.6171428571428572 accuracy: 0.844789356984479\n",
      "None\n",
      "final_acc {'ROB': {'true_bad': 54, 'true_good': 46, 'total': 100}, 'GY': {'true_bad': 21, 'true_good': 327, 'total': 351}, '': {'true_bad': 0, 'true_good': 1, 'total': 1}}\n",
      "1011\n",
      "features2_t1 1011\n",
      "train, test, train redone 706 305 1140\n",
      "305 0\n",
      "{'tp': 32, 'fp': 150, 'tn': 115, 'fn': 8}\n",
      "precision recall accuracy\n",
      "[0.17582417582417584, 0.8, 0.4819672131147541]\n",
      "0.6169811320754717\n",
      "train, test, train redone 706 305 1140\n",
      "305 0\n",
      "{'tp': 37, 'fp': 55, 'tn': 210, 'fn': 3}\n",
      "precision recall accuracy\n",
      "[0.40217391304347827, 0.925, 0.8098360655737705]\n",
      "0.8587264150943397\n",
      "train, test, train redone 706 305 1140\n",
      "305 0\n",
      "{'tp': 29, 'fp': 30, 'tn': 235, 'fn': 11}\n",
      "precision recall accuracy\n",
      "[0.4915254237288136, 0.725, 0.8655737704918033]\n",
      "0.8058962264150944\n",
      "train, test, train redone 706 305 1140\n",
      "305 0\n",
      "{'tp': 32, 'fp': 34, 'tn': 231, 'fn': 8}\n",
      "precision recall accuracy\n",
      "[0.48484848484848486, 0.8, 0.8622950819672132]\n",
      "0.8358490566037736\n",
      "train, test, train redone 706 305 1140\n",
      "305 0\n",
      "{'tp': 34, 'fp': 66, 'tn': 199, 'fn': 6}\n",
      "precision recall accuracy\n",
      "[0.34, 0.85, 0.7639344262295082]\n",
      "0.8004716981132076\n",
      "train, test, train redone 706 305 1140\n",
      "305 0\n",
      "{'tp': 32, 'fp': 32, 'tn': 233, 'fn': 8}\n",
      "precision recall accuracy\n",
      "[0.5, 0.8, 0.8688524590163934]\n",
      "0.839622641509434\n"
     ]
    },
    {
     "name": "stdout",
     "output_type": "stream",
     "text": [
      "1509 1057 1509 1057\n",
      "{'w': 2.35, 'w2': 2.35, 'i': 1} 0.6985645933014355\n",
      "settings:  {'w': 2.35, 'w2': 2.35, 'i': 1}\n",
      "1509 1057 1087\n",
      "1 : performance :  {'ROB': {'true_bad': 4, 'true_good': 0, 'total': 4}, 'GY': {'true_bad': 0, 'true_good': 26, 'total': 26}, '': {'true_bad': 0, 'true_good': 0, 'total': 0}}\n",
      "1 : settings:  {'w': 2.35, 'w2': 2.35, 'i': 1}\n",
      "1509 1057 1117\n",
      "2 : performance :  {'ROB': {'true_bad': 10, 'true_good': 4, 'total': 14}, 'GY': {'true_bad': 1, 'true_good': 45, 'total': 46}, '': {'true_bad': 0, 'true_good': 0, 'total': 0}}\n",
      "2 : settings:  {'w': 2.35, 'w2': 2.35, 'i': 1}\n",
      "1509 1057 1147\n",
      "3 : performance :  {'ROB': {'true_bad': 18, 'true_good': 6, 'total': 24}, 'GY': {'true_bad': 4, 'true_good': 62, 'total': 66}, '': {'true_bad': 0, 'true_good': 0, 'total': 0}}\n",
      "3 : settings:  {'w': 2.35, 'w2': 2.35, 'i': 1}\n",
      "1509 1057 1177\n",
      "{'w': 1.9, 'w2': 1.9, 'i': 1} 0.9333333333333333\n",
      "{'w': 2, 'w2': 1.9, 'i': 1} 0.9565217391304348\n",
      "{'w': 2.35, 'w2': 1.9, 'i': 1} 1.0\n",
      "4 : performance :  {'ROB': {'true_bad': 23, 'true_good': 8, 'total': 31}, 'GY': {'true_bad': 6, 'true_good': 82, 'total': 89}, '': {'true_bad': 0, 'true_good': 0, 'total': 0}}\n",
      "4 : settings:  {'w': 2.35, 'w2': 1.9, 'i': 1}\n",
      "1509 1057 1207\n",
      "5 : performance :  {'ROB': {'true_bad': 27, 'true_good': 11, 'total': 38}, 'GY': {'true_bad': 7, 'true_good': 104, 'total': 112}, '': {'true_bad': 0, 'true_good': 0, 'total': 0}}\n",
      "5 : settings:  {'w': 2.35, 'w2': 1.9, 'i': 1}\n",
      "1509 1057 1237\n",
      "6 : performance :  {'ROB': {'true_bad': 28, 'true_good': 18, 'total': 46}, 'GY': {'true_bad': 7, 'true_good': 126, 'total': 134}, '': {'true_bad': 0, 'true_good': 0, 'total': 0}}\n",
      "6 : settings:  {'w': 2.35, 'w2': 1.9, 'i': 1}\n",
      "1509 1057 1267\n",
      "7 : performance :  {'ROB': {'true_bad': 35, 'true_good': 21, 'total': 56}, 'GY': {'true_bad': 8, 'true_good': 145, 'total': 154}, '': {'true_bad': 0, 'true_good': 0, 'total': 0}}\n",
      "7 : settings:  {'w': 2.35, 'w2': 1.9, 'i': 1}\n",
      "1509 1057 1298\n",
      "{'w': 2.25, 'w2': 2.25, 'i': 1} 0.9636363636363636\n",
      "{'w': 2.35, 'w2': 2.25, 'i': 1} 0.9821428571428571\n",
      "8 : performance :  {'ROB': {'true_bad': 42, 'true_good': 23, 'total': 65}, 'GY': {'true_bad': 8, 'true_good': 167, 'total': 176}, '': {'true_bad': 0, 'true_good': 0, 'total': 0}}\n",
      "8 : settings:  {'w': 2.35, 'w2': 2.25, 'i': 1}\n",
      "1509 1057 1328\n",
      "9 : performance :  {'ROB': {'true_bad': 44, 'true_good': 25, 'total': 69}, 'GY': {'true_bad': 11, 'true_good': 190, 'total': 202}, '': {'true_bad': 0, 'true_good': 0, 'total': 0}}\n",
      "9 : settings:  {'w': 2.35, 'w2': 2.25, 'i': 1}\n",
      "1509 1057 1358\n",
      "10 : performance :  {'ROB': {'true_bad': 49, 'true_good': 28, 'total': 77}, 'GY': {'true_bad': 12, 'true_good': 211, 'total': 224}, '': {'true_bad': 0, 'true_good': 0, 'total': 0}}\n",
      "10 : settings:  {'w': 2.35, 'w2': 2.25, 'i': 1}\n",
      "1509 1057 1388\n",
      "11 : performance :  {'ROB': {'true_bad': 53, 'true_good': 32, 'total': 85}, 'GY': {'true_bad': 12, 'true_good': 233, 'total': 246}, '': {'true_bad': 0, 'true_good': 0, 'total': 0}}\n",
      "11 : settings:  {'w': 2.35, 'w2': 2.25, 'i': 1}\n",
      "1509 1057 1418\n",
      "{'w': 2.25, 'w2': 2.25, 'i': 1} 0.9575757575757576\n",
      "{'w': 2.35, 'w2': 2.1, 'i': 1} 0.9761904761904762\n",
      "12 : performance :  {'ROB': {'true_bad': 57, 'true_good': 38, 'total': 95}, 'GY': {'true_bad': 13, 'true_good': 252, 'total': 266}, '': {'true_bad': 0, 'true_good': 0, 'total': 0}}\n",
      "12 : settings:  {'w': 2.35, 'w2': 2.1, 'i': 1}\n",
      "1509 1057 1448\n",
      "13 : performance :  {'ROB': {'true_bad': 65, 'true_good': 40, 'total': 105}, 'GY': {'true_bad': 14, 'true_good': 271, 'total': 286}, '': {'true_bad': 0, 'true_good': 0, 'total': 0}}\n",
      "13 : settings:  {'w': 2.35, 'w2': 2.1, 'i': 1}\n",
      "1509 1057 1478\n",
      "14 : performance :  {'ROB': {'true_bad': 69, 'true_good': 44, 'total': 113}, 'GY': {'true_bad': 16, 'true_good': 291, 'total': 308}, '': {'true_bad': 0, 'true_good': 0, 'total': 0}}\n",
      "14 : settings:  {'w': 2.35, 'w2': 2.1, 'i': 1}\n",
      "1509 1057 1509\n",
      "15 : performance :  {'ROB': {'true_bad': 71, 'true_good': 50, 'total': 121}, 'GY': {'true_bad': 17, 'true_good': 312, 'total': 331}, '': {'true_bad': 0, 'true_good': 0, 'total': 0}}\n",
      "15 : settings:  {'w': 2.35, 'w2': 2.1, 'i': 1}\n",
      "precision: 0.5867768595041323 recall: 0.8068181818181818 f1: 0.6794258373205743 accuracy: 0.8473451327433629\n",
      "None\n",
      "final_acc {'ROB': {'true_bad': 71, 'true_good': 50, 'total': 121}, 'GY': {'true_bad': 17, 'true_good': 312, 'total': 331}, '': {'true_bad': 0, 'true_good': 0, 'total': 0}}\n",
      "1011\n",
      "features2_t1 1011\n",
      "train, test, train redone 720 291 1180\n",
      "291 0\n",
      "{'tp': 34, 'fp': 212, 'tn': 33, 'fn': 12}\n",
      "precision recall accuracy\n",
      "[0.13821138211382114, 0.7391304347826086, 0.23024054982817868]\n",
      "0.4369121561668145\n",
      "train, test, train redone 720 291 1180\n",
      "291 0\n",
      "{'tp': 44, 'fp': 43, 'tn': 202, 'fn': 2}\n",
      "precision recall accuracy\n",
      "[0.5057471264367817, 0.9565217391304348, 0.845360824742268]\n",
      "0.8905057675244011\n",
      "train, test, train redone 720 291 1180\n",
      "291 0\n",
      "{'tp': 3, 'fp': 2, 'tn': 243, 'fn': 43}\n",
      "precision recall accuracy\n",
      "[0.6, 0.06521739130434782, 0.845360824742268]\n",
      "0.5285270629991128\n",
      "train, test, train redone 720 291 1180\n",
      "291 0\n",
      "{'tp': 40, 'fp': 36, 'tn': 209, 'fn': 6}\n",
      "precision recall accuracy\n",
      "[0.5263157894736842, 0.8695652173913043, 0.8556701030927835]\n",
      "0.8613132209405501\n",
      "train, test, train redone 720 291 1180\n",
      "291 0\n",
      "{'tp': 42, 'fp': 78, 'tn': 167, 'fn': 4}\n",
      "precision recall accuracy\n",
      "[0.35, 0.9130434782608695, 0.718213058419244]\n",
      "0.797338065661047\n",
      "train, test, train redone 720 291 1180\n",
      "291 0\n",
      "{'tp': 37, 'fp': 31, 'tn': 214, 'fn': 9}\n",
      "precision recall accuracy\n",
      "[0.5441176470588235, 0.8043478260869565, 0.8625429553264605]\n",
      "0.8389086069210293\n",
      "1509 1057 1509 1057\n",
      "{'w': 1.75, 'w2': 1.75, 'i': 1} 0.6359447004608295\n",
      "{'w': 2, 'w2': 1.75, 'i': 1} 0.641025641025641\n",
      "{'w': 1.65, 'w2': 1.75, 'i': 1} 0.6571428571428571\n",
      "settings:  {'w': 1.65, 'w2': 1.75, 'i': 1}\n",
      "1509 1057 1087\n",
      "1 : performance :  {'ROB': {'true_bad': 4, 'true_good': 5, 'total': 9}, 'GY': {'true_bad': 1, 'true_good': 20, 'total': 21}, '': {'true_bad': 0, 'true_good': 0, 'total': 0}}\n",
      "1 : settings:  {'w': 1.65, 'w2': 1.75, 'i': 1}\n",
      "1509 1057 1117\n",
      "2 : performance :  {'ROB': {'true_bad': 10, 'true_good': 7, 'total': 17}, 'GY': {'true_bad': 2, 'true_good': 41, 'total': 43}, '': {'true_bad': 0, 'true_good': 0, 'total': 0}}\n",
      "2 : settings:  {'w': 1.65, 'w2': 1.75, 'i': 1}\n",
      "1509 1057 1147\n",
      "3 : performance :  {'ROB': {'true_bad': 12, 'true_good': 7, 'total': 19}, 'GY': {'true_bad': 3, 'true_good': 68, 'total': 71}, '': {'true_bad': 0, 'true_good': 0, 'total': 0}}\n",
      "3 : settings:  {'w': 1.65, 'w2': 1.75, 'i': 1}\n",
      "1509 1057 1177\n",
      "{'w': 2.25, 'w2': 2.25, 'i': 1} 0.8837209302325582\n",
      "{'w': 1.9, 'w2': 2.25, 'i': 1} 0.9047619047619047\n",
      "{'w': 1.75, 'w2': 2.25, 'i': 1} 0.9268292682926829\n",
      "{'w': 1.65, 'w2': 2.25, 'i': 1} 1.0\n",
      "4 : performance :  {'ROB': {'true_bad': 15, 'true_good': 12, 'total': 27}, 'GY': {'true_bad': 6, 'true_good': 87, 'total': 93}, '': {'true_bad': 0, 'true_good': 0, 'total': 0}}\n",
      "4 : settings:  {'w': 1.65, 'w2': 2.25, 'i': 1}\n",
      "1509 1057 1207\n",
      "5 : performance :  {'ROB': {'true_bad': 19, 'true_good': 14, 'total': 33}, 'GY': {'true_bad': 9, 'true_good': 108, 'total': 117}, '': {'true_bad': 0, 'true_good': 0, 'total': 0}}\n",
      "5 : settings:  {'w': 1.65, 'w2': 2.25, 'i': 1}\n",
      "1509 1057 1237\n",
      "6 : performance :  {'ROB': {'true_bad': 23, 'true_good': 16, 'total': 39}, 'GY': {'true_bad': 12, 'true_good': 129, 'total': 141}, '': {'true_bad': 0, 'true_good': 0, 'total': 0}}\n",
      "6 : settings:  {'w': 1.65, 'w2': 2.25, 'i': 1}\n",
      "1509 1057 1267\n",
      "7 : performance :  {'ROB': {'true_bad': 26, 'true_good': 18, 'total': 44}, 'GY': {'true_bad': 12, 'true_good': 154, 'total': 166}, '': {'true_bad': 0, 'true_good': 0, 'total': 0}}\n",
      "7 : settings:  {'w': 1.65, 'w2': 2.25, 'i': 1}\n",
      "1509 1057 1298\n",
      "{'w': 2.1, 'w2': 2.1, 'i': 1} 0.8712871287128713\n",
      "{'w': 1.9, 'w2': 2.1, 'i': 1} 0.8979591836734693\n",
      "{'w': 1.65, 'w2': 2.1, 'i': 1} 1.0\n",
      "8 : performance :  {'ROB': {'true_bad': 31, 'true_good': 19, 'total': 50}, 'GY': {'true_bad': 13, 'true_good': 178, 'total': 191}, '': {'true_bad': 0, 'true_good': 0, 'total': 0}}\n",
      "8 : settings:  {'w': 1.65, 'w2': 2.1, 'i': 1}\n",
      "1509 1057 1328\n",
      "9 : performance :  {'ROB': {'true_bad': 36, 'true_good': 20, 'total': 56}, 'GY': {'true_bad': 14, 'true_good': 201, 'total': 215}, '': {'true_bad': 0, 'true_good': 0, 'total': 0}}\n",
      "9 : settings:  {'w': 1.65, 'w2': 2.1, 'i': 1}\n",
      "1509 1057 1358\n"
     ]
    },
    {
     "name": "stdout",
     "output_type": "stream",
     "text": [
      "10 : performance :  {'ROB': {'true_bad': 40, 'true_good': 21, 'total': 61}, 'GY': {'true_bad': 14, 'true_good': 226, 'total': 240}, '': {'true_bad': 0, 'true_good': 0, 'total': 0}}\n",
      "10 : settings:  {'w': 1.65, 'w2': 2.1, 'i': 1}\n",
      "1509 1057 1388\n",
      "11 : performance :  {'ROB': {'true_bad': 45, 'true_good': 23, 'total': 68}, 'GY': {'true_bad': 15, 'true_good': 248, 'total': 263}, '': {'true_bad': 0, 'true_good': 0, 'total': 0}}\n",
      "11 : settings:  {'w': 1.65, 'w2': 2.1, 'i': 1}\n",
      "1509 1057 1418\n",
      "{'w': 2.35, 'w2': 2.35, 'i': 1} 0.8395061728395062\n",
      "{'w': 1.65, 'w2': 2.35, 'i': 1} 0.9774436090225563\n",
      "12 : performance :  {'ROB': {'true_bad': 51, 'true_good': 25, 'total': 76}, 'GY': {'true_bad': 16, 'true_good': 268, 'total': 285}, '': {'true_bad': 0, 'true_good': 0, 'total': 0}}\n",
      "12 : settings:  {'w': 1.65, 'w2': 2.35, 'i': 1}\n",
      "1509 1057 1448\n",
      "13 : performance :  {'ROB': {'true_bad': 52, 'true_good': 27, 'total': 79}, 'GY': {'true_bad': 17, 'true_good': 294, 'total': 312}, '': {'true_bad': 0, 'true_good': 0, 'total': 0}}\n",
      "13 : settings:  {'w': 1.65, 'w2': 2.35, 'i': 1}\n",
      "1509 1057 1478\n",
      "14 : performance :  {'ROB': {'true_bad': 54, 'true_good': 29, 'total': 83}, 'GY': {'true_bad': 19, 'true_good': 317, 'total': 338}, '': {'true_bad': 0, 'true_good': 0, 'total': 0}}\n",
      "14 : settings:  {'w': 1.65, 'w2': 2.35, 'i': 1}\n",
      "1509 1057 1509\n",
      "15 : performance :  {'ROB': {'true_bad': 56, 'true_good': 31, 'total': 87}, 'GY': {'true_bad': 19, 'true_good': 343, 'total': 365}, '': {'true_bad': 0, 'true_good': 0, 'total': 0}}\n",
      "15 : settings:  {'w': 1.65, 'w2': 2.35, 'i': 1}\n",
      "precision: 0.6436781609195402 recall: 0.7466666666666667 f1: 0.6913580246913581 accuracy: 0.8827433628318584\n",
      "None\n",
      "final_acc {'ROB': {'true_bad': 56, 'true_good': 31, 'total': 87}, 'GY': {'true_bad': 19, 'true_good': 343, 'total': 365}, '': {'true_bad': 0, 'true_good': 0, 'total': 0}}\n",
      "1011\n",
      "features2_t1 1011\n",
      "train, test, train redone 719 292 1164\n",
      "292 0\n",
      "{'tp': 37, 'fp': 184, 'tn': 69, 'fn': 2}\n",
      "precision recall accuracy\n",
      "[0.167420814479638, 0.9487179487179487, 0.363013698630137]\n",
      "0.6107226107226107\n",
      "train, test, train redone 719 292 1164\n",
      "292 0\n",
      "{'tp': 36, 'fp': 44, 'tn': 209, 'fn': 3}\n",
      "precision recall accuracy\n",
      "[0.45, 0.9230769230769231, 0.839041095890411]\n",
      "0.8745819397993311\n",
      "train, test, train redone 719 292 1164\n",
      "292 0\n",
      "{'tp': 0, 'fp': 0, 'tn': 253, 'fn': 39}\n",
      "precision recall accuracy\n",
      "[-1, -1, -1]\n",
      "0.5\n",
      "train, test, train redone 719 292 1164\n",
      "292 0\n",
      "{'tp': 30, 'fp': 14, 'tn': 239, 'fn': 9}\n",
      "precision recall accuracy\n",
      "[0.6818181818181818, 0.7692307692307693, 0.9212328767123288]\n",
      "0.8569474004256612\n",
      "train, test, train redone 719 292 1164\n",
      "292 0\n",
      "{'tp': 38, 'fp': 74, 'tn': 179, 'fn': 1}\n",
      "precision recall accuracy\n",
      "[0.3392857142857143, 0.9743589743589743, 0.7431506849315068]\n",
      "0.8409344278909496\n",
      "train, test, train redone 719 292 1164\n",
      "292 0\n",
      "{'tp': 32, 'fp': 15, 'tn': 238, 'fn': 7}\n",
      "precision recall accuracy\n",
      "[0.6808510638297872, 0.8205128205128205, 0.9246575342465754]\n",
      "0.8806121414817066\n",
      "1509 1057 1509 1057\n",
      "{'w': 2.1, 'w2': 2.1, 'i': 1} 0.6374501992031872\n",
      "{'w': 2.25, 'w2': 2.1, 'i': 1} 0.6486486486486488\n",
      "{'w': 2, 'w2': 2.1, 'i': 1} 0.6502057613168724\n",
      "{'w': 1.65, 'w2': 2.1, 'i': 1} 0.6846846846846848\n",
      "settings:  {'w': 1.65, 'w2': 2.1, 'i': 1}\n",
      "1509 1057 1087\n",
      "1 : performance :  {'ROB': {'true_bad': 7, 'true_good': 1, 'total': 8}, 'GY': {'true_bad': 3, 'true_good': 19, 'total': 22}, '': {'true_bad': 0, 'true_good': 0, 'total': 0}}\n",
      "1 : settings:  {'w': 1.65, 'w2': 2.1, 'i': 1}\n",
      "1509 1057 1117\n",
      "2 : performance :  {'ROB': {'true_bad': 8, 'true_good': 2, 'total': 10}, 'GY': {'true_bad': 5, 'true_good': 45, 'total': 50}, '': {'true_bad': 0, 'true_good': 0, 'total': 0}}\n",
      "2 : settings:  {'w': 1.65, 'w2': 2.1, 'i': 1}\n",
      "1509 1057 1147\n",
      "3 : performance :  {'ROB': {'true_bad': 14, 'true_good': 2, 'total': 16}, 'GY': {'true_bad': 7, 'true_good': 66, 'total': 73}, '': {'true_bad': 0, 'true_good': 1, 'total': 1}}\n",
      "3 : settings:  {'w': 1.65, 'w2': 2.1, 'i': 1}\n",
      "1509 1057 1177\n",
      "{'w': 1.65, 'w2': 1.65, 'i': 1} 1.0\n",
      "4 : performance :  {'ROB': {'true_bad': 16, 'true_good': 3, 'total': 19}, 'GY': {'true_bad': 9, 'true_good': 89, 'total': 99}, '': {'true_bad': 0, 'true_good': 2, 'total': 2}}\n",
      "4 : settings:  {'w': 1.65, 'w2': 1.65, 'i': 1}\n",
      "1509 1057 1207\n",
      "5 : performance :  {'ROB': {'true_bad': 19, 'true_good': 6, 'total': 25}, 'GY': {'true_bad': 10, 'true_good': 111, 'total': 123}, '': {'true_bad': 0, 'true_good': 2, 'total': 2}}\n",
      "5 : settings:  {'w': 1.65, 'w2': 1.65, 'i': 1}\n",
      "1509 1057 1237\n",
      "6 : performance :  {'ROB': {'true_bad': 24, 'true_good': 9, 'total': 33}, 'GY': {'true_bad': 14, 'true_good': 129, 'total': 145}, '': {'true_bad': 0, 'true_good': 2, 'total': 2}}\n",
      "6 : settings:  {'w': 1.65, 'w2': 1.65, 'i': 1}\n",
      "1509 1057 1267\n",
      "7 : performance :  {'ROB': {'true_bad': 26, 'true_good': 12, 'total': 38}, 'GY': {'true_bad': 15, 'true_good': 153, 'total': 170}, '': {'true_bad': 0, 'true_good': 2, 'total': 2}}\n",
      "7 : settings:  {'w': 1.65, 'w2': 1.65, 'i': 1}\n",
      "1509 1057 1298\n",
      "{'w': 1.65, 'w2': 2.35, 'i': 1} 0.972972972972973\n",
      "8 : performance :  {'ROB': {'true_bad': 30, 'true_good': 13, 'total': 43}, 'GY': {'true_bad': 17, 'true_good': 177, 'total': 196}, '': {'true_bad': 0, 'true_good': 2, 'total': 2}}\n",
      "8 : settings:  {'w': 1.65, 'w2': 2.35, 'i': 1}\n",
      "1509 1057 1328\n",
      "9 : performance :  {'ROB': {'true_bad': 35, 'true_good': 15, 'total': 50}, 'GY': {'true_bad': 18, 'true_good': 199, 'total': 219}, '': {'true_bad': 0, 'true_good': 2, 'total': 2}}\n",
      "9 : settings:  {'w': 1.65, 'w2': 2.35, 'i': 1}\n",
      "1509 1057 1358\n",
      "10 : performance :  {'ROB': {'true_bad': 38, 'true_good': 19, 'total': 57}, 'GY': {'true_bad': 21, 'true_good': 219, 'total': 242}, '': {'true_bad': 0, 'true_good': 2, 'total': 2}}\n",
      "10 : settings:  {'w': 1.65, 'w2': 2.35, 'i': 1}\n",
      "1509 1057 1388\n",
      "11 : performance :  {'ROB': {'true_bad': 38, 'true_good': 20, 'total': 58}, 'GY': {'true_bad': 24, 'true_good': 245, 'total': 271}, '': {'true_bad': 0, 'true_good': 2, 'total': 2}}\n",
      "11 : settings:  {'w': 1.65, 'w2': 2.35, 'i': 1}\n",
      "1509 1057 1418\n",
      "{'w': 2.1, 'w2': 2.1, 'i': 1} 0.8854961832061068\n",
      "{'w': 1.9, 'w2': 2.1, 'i': 1} 0.9430894308943091\n",
      "{'w': 1.75, 'w2': 2.1, 'i': 1} 0.9747899159663865\n",
      "12 : performance :  {'ROB': {'true_bad': 39, 'true_good': 23, 'total': 62}, 'GY': {'true_bad': 27, 'true_good': 267, 'total': 296}, '': {'true_bad': 0, 'true_good': 3, 'total': 3}}\n",
      "12 : settings:  {'w': 1.75, 'w2': 2.1, 'i': 1}\n",
      "1509 1057 1448\n",
      "13 : performance :  {'ROB': {'true_bad': 45, 'true_good': 28, 'total': 73}, 'GY': {'true_bad': 27, 'true_good': 286, 'total': 315}, '': {'true_bad': 0, 'true_good': 3, 'total': 3}}\n",
      "13 : settings:  {'w': 1.75, 'w2': 2.1, 'i': 1}\n",
      "1509 1057 1478\n",
      "14 : performance :  {'ROB': {'true_bad': 48, 'true_good': 28, 'total': 76}, 'GY': {'true_bad': 27, 'true_good': 312, 'total': 342}, '': {'true_bad': 0, 'true_good': 3, 'total': 3}}\n",
      "14 : settings:  {'w': 1.75, 'w2': 2.1, 'i': 1}\n",
      "1509 1057 1509\n",
      "15 : performance :  {'ROB': {'true_bad': 50, 'true_good': 32, 'total': 82}, 'GY': {'true_bad': 28, 'true_good': 335, 'total': 367}, '': {'true_bad': 0, 'true_good': 3, 'total': 3}}\n",
      "15 : settings:  {'w': 1.75, 'w2': 2.1, 'i': 1}\n",
      "precision: 0.6097560975609756 recall: 0.6410256410256411 f1: 0.625 accuracy: 0.8574610244988864\n",
      "None\n",
      "final_acc {'ROB': {'true_bad': 50, 'true_good': 32, 'total': 82}, 'GY': {'true_bad': 28, 'true_good': 335, 'total': 367}, '': {'true_bad': 0, 'true_good': 3, 'total': 3}}\n",
      "1011\n",
      "features2_t1 1011\n",
      "train, test, train redone 708 303 1162\n",
      "303 0\n",
      "{'tp': 47, 'fp': 234, 'tn': 20, 'fn': 2}\n",
      "precision recall accuracy\n",
      "[0.16725978647686832, 0.9591836734693877, 0.22112211221122113]\n",
      "0.5189619154748514\n",
      "train, test, train redone 708 303 1162\n",
      "303 0\n",
      "{'tp': 41, 'fp': 52, 'tn': 202, 'fn': 8}\n",
      "precision recall accuracy\n",
      "[0.44086021505376344, 0.8367346938775511, 0.801980198019802]\n",
      "0.8160051422143662\n",
      "train, test, train redone 708 303 1162\n",
      "303 0\n",
      "{'tp': 32, 'fp': 21, 'tn': 233, 'fn': 17}\n",
      "precision recall accuracy\n",
      "[0.6037735849056604, 0.6530612244897959, 0.8745874587458746]\n",
      "0.7851920295677325\n",
      "train, test, train redone 708 303 1162\n",
      "303 0\n",
      "{'tp': 32, 'fp': 21, 'tn': 233, 'fn': 17}\n",
      "precision recall accuracy\n",
      "[0.6037735849056604, 0.6530612244897959, 0.8745874587458746]\n",
      "0.7851920295677325\n",
      "train, test, train redone 708 303 1162\n",
      "303 0\n",
      "{'tp': 41, 'fp': 74, 'tn': 180, 'fn': 8}\n",
      "precision recall accuracy\n",
      "[0.3565217391304348, 0.8367346938775511, 0.7293729372937293]\n",
      "0.772698055600193\n"
     ]
    },
    {
     "name": "stdout",
     "output_type": "stream",
     "text": [
      "train, test, train redone 708 303 1162\n",
      "303 0\n",
      "{'tp': 31, 'fp': 19, 'tn': 235, 'fn': 18}\n",
      "precision recall accuracy\n",
      "[0.62, 0.6326530612244898, 0.8778877887788779]\n",
      "0.7789249558090954\n",
      "1509 1057 1509 1057\n",
      "{'w': 2.35, 'w2': 2.35, 'i': 1} 0.6413043478260869\n",
      "settings:  {'w': 2.35, 'w2': 2.35, 'i': 1}\n",
      "1509 1057 1087\n",
      "1 : performance :  {'ROB': {'true_bad': 3, 'true_good': 0, 'total': 3}, 'GY': {'true_bad': 3, 'true_good': 23, 'total': 27}, '': {'true_bad': 0, 'true_good': 0, 'total': 0}}\n",
      "1 : settings:  {'w': 2.35, 'w2': 2.35, 'i': 1}\n",
      "1509 1057 1117\n",
      "2 : performance :  {'ROB': {'true_bad': 3, 'true_good': 5, 'total': 8}, 'GY': {'true_bad': 4, 'true_good': 47, 'total': 52}, '': {'true_bad': 0, 'true_good': 0, 'total': 0}}\n",
      "2 : settings:  {'w': 2.35, 'w2': 2.35, 'i': 1}\n",
      "1509 1057 1147\n",
      "3 : performance :  {'ROB': {'true_bad': 8, 'true_good': 7, 'total': 15}, 'GY': {'true_bad': 8, 'true_good': 66, 'total': 75}, '': {'true_bad': 0, 'true_good': 0, 'total': 0}}\n",
      "3 : settings:  {'w': 2.35, 'w2': 2.35, 'i': 1}\n",
      "1509 1057 1177\n",
      "{'w': 1.65, 'w2': 1.65, 'i': 1} 0.7499999999999999\n",
      "{'w': 1.9, 'w2': 1.65, 'i': 1} 0.888888888888889\n",
      "{'w': 2.1, 'w2': 1.65, 'i': 1} 1.0\n",
      "error\n",
      "error\n",
      "error\n",
      "error\n",
      "error\n",
      "error\n",
      "error\n",
      "error\n",
      "error\n",
      "error\n",
      "error\n",
      "error\n",
      "error\n",
      "error\n",
      "error\n",
      "error\n",
      "error\n",
      "error\n",
      "4 : performance :  {'ROB': {'true_bad': 13, 'true_good': 8, 'total': 21}, 'GY': {'true_bad': 14, 'true_good': 84, 'total': 99}, '': {'true_bad': 0, 'true_good': 0, 'total': 0}}\n",
      "4 : settings:  {'w': 2.1, 'w2': 1.65, 'i': 1}\n",
      "1509 1057 1207\n",
      "5 : performance :  {'ROB': {'true_bad': 18, 'true_good': 9, 'total': 27}, 'GY': {'true_bad': 19, 'true_good': 103, 'total': 123}, '': {'true_bad': 0, 'true_good': 0, 'total': 0}}\n",
      "5 : settings:  {'w': 2.1, 'w2': 1.65, 'i': 1}\n",
      "1509 1057 1237\n",
      "6 : performance :  {'ROB': {'true_bad': 21, 'true_good': 10, 'total': 31}, 'GY': {'true_bad': 24, 'true_good': 123, 'total': 149}, '': {'true_bad': 0, 'true_good': 0, 'total': 0}}\n",
      "6 : settings:  {'w': 2.1, 'w2': 1.65, 'i': 1}\n",
      "1509 1057 1267\n",
      "7 : performance :  {'ROB': {'true_bad': 25, 'true_good': 11, 'total': 36}, 'GY': {'true_bad': 26, 'true_good': 146, 'total': 174}, '': {'true_bad': 0, 'true_good': 0, 'total': 0}}\n",
      "7 : settings:  {'w': 2.1, 'w2': 1.65, 'i': 1}\n",
      "1509 1057 1298\n",
      "{'w': 2.1, 'w2': 2.1, 'i': 1} 0.9722222222222222\n",
      "8 : performance :  {'ROB': {'true_bad': 29, 'true_good': 14, 'total': 43}, 'GY': {'true_bad': 27, 'true_good': 169, 'total': 198}, '': {'true_bad': 0, 'true_good': 0, 'total': 0}}\n",
      "8 : settings:  {'w': 2.1, 'w2': 2.1, 'i': 1}\n",
      "1509 1057 1328\n",
      "9 : performance :  {'ROB': {'true_bad': 29, 'true_good': 19, 'total': 48}, 'GY': {'true_bad': 28, 'true_good': 193, 'total': 223}, '': {'true_bad': 0, 'true_good': 0, 'total': 0}}\n",
      "9 : settings:  {'w': 2.1, 'w2': 2.1, 'i': 1}\n",
      "1509 1057 1358\n",
      "10 : performance :  {'ROB': {'true_bad': 36, 'true_good': 20, 'total': 56}, 'GY': {'true_bad': 30, 'true_good': 212, 'total': 245}, '': {'true_bad': 0, 'true_good': 0, 'total': 0}}\n",
      "10 : settings:  {'w': 2.1, 'w2': 2.1, 'i': 1}\n",
      "1509 1057 1388\n",
      "11 : performance :  {'ROB': {'true_bad': 41, 'true_good': 24, 'total': 65}, 'GY': {'true_bad': 31, 'true_good': 232, 'total': 266}, '': {'true_bad': 0, 'true_good': 0, 'total': 0}}\n",
      "11 : settings:  {'w': 2.1, 'w2': 2.1, 'i': 1}\n",
      "1509 1057 1418\n",
      "{'w': 2.35, 'w2': 2.35, 'i': 1} 0.9411764705882353\n",
      "{'w': 2.25, 'w2': 2.35, 'i': 1} 0.962406015037594\n",
      "12 : performance :  {'ROB': {'true_bad': 48, 'true_good': 24, 'total': 72}, 'GY': {'true_bad': 32, 'true_good': 254, 'total': 289}, '': {'true_bad': 0, 'true_good': 0, 'total': 0}}\n",
      "12 : settings:  {'w': 2.25, 'w2': 2.35, 'i': 1}\n",
      "1509 1057 1448\n",
      "13 : performance :  {'ROB': {'true_bad': 52, 'true_good': 26, 'total': 78}, 'GY': {'true_bad': 32, 'true_good': 278, 'total': 313}, '': {'true_bad': 0, 'true_good': 0, 'total': 0}}\n",
      "13 : settings:  {'w': 2.25, 'w2': 2.35, 'i': 1}\n",
      "1509 1057 1478\n",
      "14 : performance :  {'ROB': {'true_bad': 59, 'true_good': 31, 'total': 90}, 'GY': {'true_bad': 35, 'true_good': 293, 'total': 331}, '': {'true_bad': 0, 'true_good': 0, 'total': 0}}\n",
      "14 : settings:  {'w': 2.25, 'w2': 2.35, 'i': 1}\n",
      "1509 1057 1509\n",
      "15 : performance :  {'ROB': {'true_bad': 64, 'true_good': 37, 'total': 101}, 'GY': {'true_bad': 36, 'true_good': 312, 'total': 351}, '': {'true_bad': 0, 'true_good': 0, 'total': 0}}\n",
      "15 : settings:  {'w': 2.25, 'w2': 2.35, 'i': 1}\n",
      "precision: 0.6336633663366337 recall: 0.64 f1: 0.6368159203980099 accuracy: 0.831858407079646\n",
      "None\n",
      "final_acc {'ROB': {'true_bad': 64, 'true_good': 37, 'total': 101}, 'GY': {'true_bad': 36, 'true_good': 312, 'total': 351}, '': {'true_bad': 0, 'true_good': 0, 'total': 0}}\n",
      "1011\n",
      "features2_t1 1011\n",
      "train, test, train redone 715 296 1198\n",
      "296 0\n",
      "{'tp': 54, 'fp': 199, 'tn': 37, 'fn': 6}\n",
      "precision recall accuracy\n",
      "[0.2134387351778656, 0.9, 0.30743243243243246]\n",
      "0.5283898305084747\n",
      "train, test, train redone 715 296 1198\n",
      "296 0\n",
      "{'tp': 53, 'fp': 49, 'tn': 187, 'fn': 7}\n",
      "precision recall accuracy\n",
      "[0.5196078431372549, 0.8833333333333333, 0.8108108108108109]\n",
      "0.8378531073446328\n",
      "train, test, train redone 715 296 1198\n",
      "296 0\n",
      "{'tp': 6, 'fp': 5, 'tn': 231, 'fn': 54}\n",
      "precision recall accuracy\n",
      "[0.5454545454545454, 0.1, 0.8006756756756757]\n",
      "0.539406779661017\n",
      "train, test, train redone 715 296 1198\n",
      "296 0\n",
      "{'tp': 46, 'fp': 24, 'tn': 212, 'fn': 14}\n",
      "precision recall accuracy\n",
      "[0.6571428571428571, 0.7666666666666667, 0.8716216216216216]\n",
      "0.8324858757062148\n",
      "train, test, train redone 715 296 1198\n",
      "296 0\n",
      "{'tp': 53, 'fp': 72, 'tn': 164, 'fn': 7}\n",
      "precision recall accuracy\n",
      "[0.424, 0.8833333333333333, 0.7331081081081081]\n",
      "0.7891242937853107\n",
      "train, test, train redone 715 296 1198\n",
      "296 0\n",
      "{'tp': 46, 'fp': 23, 'tn': 213, 'fn': 14}\n",
      "precision recall accuracy\n",
      "[0.6666666666666666, 0.7666666666666667, 0.875]\n",
      "0.8346045197740113\n",
      "1509 1057 1509 1057\n",
      "{'w': 2, 'w2': 2, 'i': 1} 0.6907216494845361\n",
      "{'w': 2.1, 'w2': 2, 'i': 1} 0.7135678391959798\n",
      "settings:  {'w': 2.1, 'w2': 2, 'i': 1}\n",
      "1509 1057 1087\n",
      "1 : performance :  {'ROB': {'true_bad': 4, 'true_good': 5, 'total': 9}, 'GY': {'true_bad': 2, 'true_good': 19, 'total': 21}, '': {'true_bad': 0, 'true_good': 0, 'total': 0}}\n",
      "1 : settings:  {'w': 2.1, 'w2': 2, 'i': 1}\n",
      "1509 1057 1117\n",
      "2 : performance :  {'ROB': {'true_bad': 6, 'true_good': 5, 'total': 11}, 'GY': {'true_bad': 3, 'true_good': 46, 'total': 49}, '': {'true_bad': 0, 'true_good': 0, 'total': 0}}\n",
      "2 : settings:  {'w': 2.1, 'w2': 2, 'i': 1}\n",
      "1509 1057 1147\n",
      "3 : performance :  {'ROB': {'true_bad': 8, 'true_good': 8, 'total': 16}, 'GY': {'true_bad': 5, 'true_good': 69, 'total': 74}, '': {'true_bad': 0, 'true_good': 0, 'total': 0}}\n",
      "3 : settings:  {'w': 2.1, 'w2': 2, 'i': 1}\n",
      "1509 1057 1177\n",
      "{'w': 2.35, 'w2': 2.35, 'i': 1} 0.9142857142857143\n",
      "{'w': 1.9, 'w2': 2.35, 'i': 1} 0.9333333333333333\n",
      "{'w': 2.25, 'w2': 2.35, 'i': 1} 0.9696969696969697\n",
      "{'w': 2.1, 'w2': 2.35, 'i': 1} 1.0\n",
      "error\n",
      "error\n",
      "error\n",
      "error\n",
      "error\n",
      "error\n",
      "error\n",
      "error\n",
      "error\n",
      "error\n",
      "error\n",
      "error\n",
      "error\n",
      "error\n",
      "error\n",
      "error\n",
      "error\n",
      "error\n",
      "4 : performance :  {'ROB': {'true_bad': 16, 'true_good': 10, 'total': 26}, 'GY': {'true_bad': 7, 'true_good': 86, 'total': 94}, '': {'true_bad': 0, 'true_good': 0, 'total': 0}}\n",
      "4 : settings:  {'w': 2.1, 'w2': 2.35, 'i': 1}\n",
      "1509 1057 1207\n",
      "5 : performance :  {'ROB': {'true_bad': 21, 'true_good': 14, 'total': 35}, 'GY': {'true_bad': 10, 'true_good': 104, 'total': 115}, '': {'true_bad': 0, 'true_good': 0, 'total': 0}}\n",
      "5 : settings:  {'w': 2.1, 'w2': 2.35, 'i': 1}\n",
      "1509 1057 1237\n",
      "6 : performance :  {'ROB': {'true_bad': 26, 'true_good': 18, 'total': 44}, 'GY': {'true_bad': 10, 'true_good': 125, 'total': 136}, '': {'true_bad': 0, 'true_good': 0, 'total': 0}}\n",
      "6 : settings:  {'w': 2.1, 'w2': 2.35, 'i': 1}\n",
      "1509 1057 1267\n",
      "7 : performance :  {'ROB': {'true_bad': 32, 'true_good': 20, 'total': 52}, 'GY': {'true_bad': 11, 'true_good': 145, 'total': 158}, '': {'true_bad': 0, 'true_good': 0, 'total': 0}}\n",
      "7 : settings:  {'w': 2.1, 'w2': 2.35, 'i': 1}\n",
      "1509 1057 1298\n",
      "{'w': 1.65, 'w2': 1.65, 'i': 1} 0.8817204301075269\n",
      "{'w': 1.9, 'w2': 1.65, 'i': 1} 0.9494949494949495\n",
      "{'w': 2.25, 'w2': 1.65, 'i': 1} 0.9719626168224299\n",
      "{'w': 2.1, 'w2': 1.65, 'i': 1} 0.9902912621359222\n",
      "8 : performance :  {'ROB': {'true_bad': 35, 'true_good': 22, 'total': 57}, 'GY': {'true_bad': 12, 'true_good': 170, 'total': 184}, '': {'true_bad': 0, 'true_good': 0, 'total': 0}}\n",
      "8 : settings:  {'w': 2.1, 'w2': 1.65, 'i': 1}\n",
      "1509 1057 1328\n"
     ]
    },
    {
     "name": "stdout",
     "output_type": "stream",
     "text": [
      "9 : performance :  {'ROB': {'true_bad': 40, 'true_good': 23, 'total': 63}, 'GY': {'true_bad': 13, 'true_good': 193, 'total': 208}, '': {'true_bad': 0, 'true_good': 0, 'total': 0}}\n",
      "9 : settings:  {'w': 2.1, 'w2': 1.65, 'i': 1}\n",
      "1509 1057 1358\n",
      "10 : performance :  {'ROB': {'true_bad': 43, 'true_good': 27, 'total': 70}, 'GY': {'true_bad': 18, 'true_good': 211, 'total': 231}, '': {'true_bad': 0, 'true_good': 0, 'total': 0}}\n",
      "10 : settings:  {'w': 2.1, 'w2': 1.65, 'i': 1}\n",
      "1509 1057 1388\n",
      "11 : performance :  {'ROB': {'true_bad': 50, 'true_good': 31, 'total': 81}, 'GY': {'true_bad': 18, 'true_good': 230, 'total': 250}, '': {'true_bad': 0, 'true_good': 0, 'total': 0}}\n",
      "11 : settings:  {'w': 2.1, 'w2': 1.65, 'i': 1}\n",
      "1509 1057 1418\n",
      "{'w': 1.65, 'w2': 1.65, 'i': 1} 0.7819548872180451\n",
      "{'w': 1.75, 'w2': 1.65, 'i': 1} 0.851063829787234\n",
      "{'w': 1.9, 'w2': 1.65, 'i': 1} 0.9054054054054054\n",
      "{'w': 2, 'w2': 1.65, 'i': 1} 0.9411764705882353\n",
      "{'w': 2.35, 'w2': 1.65, 'i': 1} 0.9529411764705883\n",
      "{'w': 2.25, 'w2': 1.65, 'i': 1} 0.975609756097561\n",
      "{'w': 2.1, 'w2': 1.75, 'i': 1} 0.9811320754716981\n",
      "12 : performance :  {'ROB': {'true_bad': 53, 'true_good': 34, 'total': 87}, 'GY': {'true_bad': 21, 'true_good': 251, 'total': 274}, '': {'true_bad': 0, 'true_good': 0, 'total': 0}}\n",
      "12 : settings:  {'w': 2.1, 'w2': 1.75, 'i': 1}\n",
      "1509 1057 1448\n",
      "13 : performance :  {'ROB': {'true_bad': 57, 'true_good': 35, 'total': 92}, 'GY': {'true_bad': 22, 'true_good': 274, 'total': 299}, '': {'true_bad': 0, 'true_good': 0, 'total': 0}}\n",
      "13 : settings:  {'w': 2.1, 'w2': 1.75, 'i': 1}\n",
      "1509 1057 1478\n",
      "14 : performance :  {'ROB': {'true_bad': 60, 'true_good': 37, 'total': 97}, 'GY': {'true_bad': 25, 'true_good': 296, 'total': 324}, '': {'true_bad': 0, 'true_good': 0, 'total': 0}}\n",
      "14 : settings:  {'w': 2.1, 'w2': 1.75, 'i': 1}\n",
      "1509 1057 1509\n",
      "15 : performance :  {'ROB': {'true_bad': 67, 'true_good': 40, 'total': 107}, 'GY': {'true_bad': 25, 'true_good': 317, 'total': 345}, '': {'true_bad': 0, 'true_good': 0, 'total': 0}}\n",
      "15 : settings:  {'w': 2.1, 'w2': 1.75, 'i': 1}\n",
      "precision: 0.6261682242990654 recall: 0.7282608695652174 f1: 0.6733668341708543 accuracy: 0.8495575221238938\n",
      "None\n",
      "final_acc {'ROB': {'true_bad': 67, 'true_good': 40, 'total': 107}, 'GY': {'true_bad': 25, 'true_good': 317, 'total': 345}, '': {'true_bad': 0, 'true_good': 0, 'total': 0}}\n",
      "1011\n",
      "features2_t1 1011\n",
      "train, test, train redone 701 310 1168\n",
      "310 0\n",
      "{'tp': 50, 'fp': 166, 'tn': 85, 'fn': 9}\n",
      "precision recall accuracy\n",
      "[0.23148148148148148, 0.847457627118644, 0.43548387096774194]\n",
      "0.5930515227226687\n",
      "train, test, train redone 701 310 1168\n",
      "310 0\n",
      "{'tp': 56, 'fp': 62, 'tn': 189, 'fn': 3}\n",
      "precision recall accuracy\n",
      "[0.4745762711864407, 0.9491525423728814, 0.7903225806451613]\n",
      "0.8510702950908232\n",
      "train, test, train redone 701 310 1168\n",
      "310 0\n",
      "{'tp': 44, 'fp': 28, 'tn': 223, 'fn': 15}\n",
      "precision recall accuracy\n",
      "[0.6111111111111112, 0.7457627118644068, 0.8612903225806452]\n",
      "0.8171044635019246\n",
      "train, test, train redone 701 310 1168\n",
      "310 0\n",
      "{'tp': 45, 'fp': 25, 'tn': 226, 'fn': 14}\n",
      "precision recall accuracy\n",
      "[0.6428571428571429, 0.7627118644067796, 0.8741935483870967]\n",
      "0.8315551353906407\n",
      "train, test, train redone 701 310 1168\n",
      "310 0\n",
      "{'tp': 54, 'fp': 79, 'tn': 172, 'fn': 5}\n",
      "precision recall accuracy\n",
      "[0.40601503759398494, 0.9152542372881356, 0.7290322580645161]\n",
      "0.800256600715781\n",
      "train, test, train redone 701 310 1168\n",
      "310 0\n",
      "{'tp': 48, 'fp': 27, 'tn': 224, 'fn': 11}\n",
      "precision recall accuracy\n",
      "[0.64, 0.8135593220338984, 0.8774193548387097]\n",
      "0.8529948004591802\n",
      "1509 1057 1509 1057\n",
      "{'w': 2.25, 'w2': 2.25, 'i': 1} 0.6517857142857143\n",
      "{'w': 2.1, 'w2': 2.25, 'i': 1} 0.6635944700460829\n",
      "{'w': 1.75, 'w2': 2.25, 'i': 1} 0.673469387755102\n",
      "{'w': 1.65, 'w2': 2.25, 'i': 1} 0.6808510638297872\n",
      "settings:  {'w': 1.65, 'w2': 2.25, 'i': 1}\n",
      "1509 1057 1087\n",
      "1 : performance :  {'ROB': {'true_bad': 2, 'true_good': 1, 'total': 3}, 'GY': {'true_bad': 2, 'true_good': 24, 'total': 26}, '': {'true_bad': 0, 'true_good': 1, 'total': 1}}\n",
      "1 : settings:  {'w': 1.65, 'w2': 2.25, 'i': 1}\n",
      "1509 1057 1117\n",
      "2 : performance :  {'ROB': {'true_bad': 6, 'true_good': 2, 'total': 8}, 'GY': {'true_bad': 3, 'true_good': 47, 'total': 50}, '': {'true_bad': 0, 'true_good': 2, 'total': 2}}\n",
      "2 : settings:  {'w': 1.65, 'w2': 2.25, 'i': 1}\n",
      "1509 1057 1147\n",
      "3 : performance :  {'ROB': {'true_bad': 13, 'true_good': 2, 'total': 15}, 'GY': {'true_bad': 7, 'true_good': 66, 'total': 73}, '': {'true_bad': 0, 'true_good': 2, 'total': 2}}\n",
      "3 : settings:  {'w': 1.65, 'w2': 2.25, 'i': 1}\n",
      "1509 1057 1177\n",
      "{'w': 2.1, 'w2': 2.1, 'i': 1} 0.7894736842105263\n",
      "{'w': 1.75, 'w2': 2.1, 'i': 1} 0.9375\n",
      "{'w': 1.65, 'w2': 2.1, 'i': 1} 1.0\n",
      "error\n",
      "error\n",
      "error\n",
      "error\n",
      "error\n",
      "error\n",
      "error\n",
      "error\n",
      "error\n",
      "error\n",
      "error\n",
      "error\n",
      "error\n",
      "error\n",
      "error\n",
      "error\n",
      "error\n",
      "error\n",
      "4 : performance :  {'ROB': {'true_bad': 18, 'true_good': 2, 'total': 20}, 'GY': {'true_bad': 10, 'true_good': 88, 'total': 98}, '': {'true_bad': 0, 'true_good': 2, 'total': 2}}\n",
      "4 : settings:  {'w': 1.65, 'w2': 2.1, 'i': 1}\n",
      "1509 1057 1207\n",
      "5 : performance :  {'ROB': {'true_bad': 24, 'true_good': 2, 'total': 26}, 'GY': {'true_bad': 14, 'true_good': 108, 'total': 122}, '': {'true_bad': 0, 'true_good': 2, 'total': 2}}\n",
      "5 : settings:  {'w': 1.65, 'w2': 2.1, 'i': 1}\n",
      "1509 1057 1237\n",
      "6 : performance :  {'ROB': {'true_bad': 27, 'true_good': 4, 'total': 31}, 'GY': {'true_bad': 17, 'true_good': 130, 'total': 147}, '': {'true_bad': 0, 'true_good': 2, 'total': 2}}\n",
      "6 : settings:  {'w': 1.65, 'w2': 2.1, 'i': 1}\n",
      "1509 1057 1267\n",
      "7 : performance :  {'ROB': {'true_bad': 31, 'true_good': 6, 'total': 37}, 'GY': {'true_bad': 18, 'true_good': 153, 'total': 171}, '': {'true_bad': 0, 'true_good': 2, 'total': 2}}\n",
      "7 : settings:  {'w': 1.65, 'w2': 2.1, 'i': 1}\n",
      "1509 1057 1298\n",
      "{'w': 1.65, 'w2': 1.65, 'i': 1} 1.0\n",
      "8 : performance :  {'ROB': {'true_bad': 38, 'true_good': 9, 'total': 47}, 'GY': {'true_bad': 20, 'true_good': 172, 'total': 192}, '': {'true_bad': 0, 'true_good': 2, 'total': 2}}\n",
      "8 : settings:  {'w': 1.65, 'w2': 1.65, 'i': 1}\n",
      "1509 1057 1328\n",
      "9 : performance :  {'ROB': {'true_bad': 42, 'true_good': 9, 'total': 51}, 'GY': {'true_bad': 23, 'true_good': 195, 'total': 218}, '': {'true_bad': 0, 'true_good': 2, 'total': 2}}\n",
      "9 : settings:  {'w': 1.65, 'w2': 1.65, 'i': 1}\n",
      "1509 1057 1358\n",
      "10 : performance :  {'ROB': {'true_bad': 45, 'true_good': 11, 'total': 56}, 'GY': {'true_bad': 26, 'true_good': 217, 'total': 243}, '': {'true_bad': 0, 'true_good': 2, 'total': 2}}\n",
      "10 : settings:  {'w': 1.65, 'w2': 1.65, 'i': 1}\n",
      "1509 1057 1388\n",
      "11 : performance :  {'ROB': {'true_bad': 49, 'true_good': 13, 'total': 62}, 'GY': {'true_bad': 27, 'true_good': 240, 'total': 267}, '': {'true_bad': 0, 'true_good': 2, 'total': 2}}\n",
      "11 : settings:  {'w': 1.65, 'w2': 1.65, 'i': 1}\n",
      "1509 1057 1418\n",
      "{'w': 1.9, 'w2': 1.9, 'i': 1} 0.9393939393939393\n",
      "{'w': 1.75, 'w2': 1.9, 'i': 1} 0.9612403100775194\n",
      "{'w': 1.65, 'w2': 1.9, 'i': 1} 1.0\n",
      "12 : performance :  {'ROB': {'true_bad': 55, 'true_good': 13, 'total': 68}, 'GY': {'true_bad': 31, 'true_good': 260, 'total': 291}, '': {'true_bad': 0, 'true_good': 2, 'total': 2}}\n",
      "12 : settings:  {'w': 1.65, 'w2': 1.9, 'i': 1}\n",
      "1509 1057 1448\n",
      "13 : performance :  {'ROB': {'true_bad': 58, 'true_good': 14, 'total': 72}, 'GY': {'true_bad': 33, 'true_good': 284, 'total': 317}, '': {'true_bad': 0, 'true_good': 2, 'total': 2}}\n",
      "13 : settings:  {'w': 1.65, 'w2': 1.9, 'i': 1}\n",
      "1509 1057 1478\n",
      "14 : performance :  {'ROB': {'true_bad': 61, 'true_good': 17, 'total': 78}, 'GY': {'true_bad': 35, 'true_good': 306, 'total': 341}, '': {'true_bad': 0, 'true_good': 2, 'total': 2}}\n",
      "14 : settings:  {'w': 1.65, 'w2': 1.9, 'i': 1}\n",
      "1509 1057 1509\n",
      "15 : performance :  {'ROB': {'true_bad': 62, 'true_good': 19, 'total': 81}, 'GY': {'true_bad': 40, 'true_good': 329, 'total': 369}, '': {'true_bad': 0, 'true_good': 2, 'total': 2}}\n",
      "15 : settings:  {'w': 1.65, 'w2': 1.9, 'i': 1}\n",
      "precision: 0.7654320987654321 recall: 0.6078431372549019 f1: 0.6775956284153005 accuracy: 0.8688888888888889\n",
      "None\n",
      "final_acc {'ROB': {'true_bad': 62, 'true_good': 19, 'total': 81}, 'GY': {'true_bad': 40, 'true_good': 329, 'total': 369}, '': {'true_bad': 0, 'true_good': 2, 'total': 2}}\n",
      "1011\n",
      "features2_t1 1011\n",
      "train, test, train redone 705 306 1172\n",
      "306 0\n",
      "{'tp': 45, 'fp': 150, 'tn': 99, 'fn': 12}\n",
      "precision recall accuracy\n",
      "[0.23076923076923078, 0.7894736842105263, 0.47058823529411764]\n",
      "0.5935320228281546\n"
     ]
    },
    {
     "name": "stdout",
     "output_type": "stream",
     "text": [
      "train, test, train redone 705 306 1172\n",
      "306 0\n",
      "{'tp': 51, 'fp': 52, 'tn': 197, 'fn': 6}\n",
      "precision recall accuracy\n",
      "[0.49514563106796117, 0.8947368421052632, 0.8104575163398693]\n",
      "0.8429507503699007\n",
      "train, test, train redone 705 306 1172\n",
      "306 0\n",
      "{'tp': 35, 'fp': 10, 'tn': 239, 'fn': 22}\n",
      "precision recall accuracy\n",
      "[0.7777777777777778, 0.6140350877192983, 0.8954248366013072]\n",
      "0.7869372225745086\n",
      "train, test, train redone 705 306 1172\n",
      "306 0\n",
      "{'tp': 33, 'fp': 7, 'tn': 242, 'fn': 24}\n",
      "precision recall accuracy\n",
      "[0.825, 0.5789473684210527, 0.8986928104575164]\n",
      "0.7754174593109279\n",
      "train, test, train redone 705 306 1172\n",
      "306 0\n",
      "{'tp': 52, 'fp': 76, 'tn': 173, 'fn': 5}\n",
      "precision recall accuracy\n",
      "[0.40625, 0.9122807017543859, 0.7352941176470589]\n",
      "0.8035299091101247\n",
      "train, test, train redone 705 306 1172\n",
      "306 0\n",
      "{'tp': 32, 'fp': 9, 'tn': 240, 'fn': 25}\n",
      "precision recall accuracy\n",
      "[0.7804878048780488, 0.5614035087719298, 0.8888888888888888]\n",
      "0.7626294652293384\n",
      "1509 1057 1509 1057\n",
      "{'w': 1.65, 'w2': 1.65, 'i': 1} 0.6700507614213198\n",
      "{'w': 1.9, 'w2': 1.65, 'i': 1} 0.6728110599078341\n",
      "{'w': 1.75, 'w2': 1.65, 'i': 1} 0.6799999999999999\n",
      "settings:  {'w': 1.75, 'w2': 1.65, 'i': 1}\n",
      "1509 1057 1087\n",
      "1 : performance :  {'ROB': {'true_bad': 1, 'true_good': 0, 'total': 1}, 'GY': {'true_bad': 5, 'true_good': 24, 'total': 29}, '': {'true_bad': 0, 'true_good': 0, 'total': 0}}\n",
      "1 : settings:  {'w': 1.75, 'w2': 1.65, 'i': 1}\n",
      "1509 1057 1117\n",
      "2 : performance :  {'ROB': {'true_bad': 3, 'true_good': 0, 'total': 3}, 'GY': {'true_bad': 8, 'true_good': 49, 'total': 57}, '': {'true_bad': 0, 'true_good': 0, 'total': 0}}\n",
      "2 : settings:  {'w': 1.75, 'w2': 1.65, 'i': 1}\n",
      "1509 1057 1147\n",
      "3 : performance :  {'ROB': {'true_bad': 8, 'true_good': 2, 'total': 10}, 'GY': {'true_bad': 8, 'true_good': 71, 'total': 80}, '': {'true_bad': 0, 'true_good': 0, 'total': 0}}\n",
      "3 : settings:  {'w': 1.75, 'w2': 1.65, 'i': 1}\n",
      "1509 1057 1177\n",
      "{'w': 2.25, 'w2': 2.25, 'i': 1} 0.7142857142857143\n",
      "{'w': 1.65, 'w2': 2.25, 'i': 1} 1.0\n",
      "error\n",
      "error\n",
      "error\n",
      "error\n",
      "error\n",
      "error\n",
      "error\n",
      "error\n",
      "error\n",
      "error\n",
      "error\n",
      "error\n",
      "error\n",
      "error\n",
      "error\n",
      "error\n",
      "error\n",
      "error\n",
      "4 : performance :  {'ROB': {'true_bad': 8, 'true_good': 3, 'total': 11}, 'GY': {'true_bad': 10, 'true_good': 97, 'total': 108}, '': {'true_bad': 0, 'true_good': 1, 'total': 1}}\n",
      "4 : settings:  {'w': 1.65, 'w2': 2.25, 'i': 1}\n",
      "1509 1057 1207\n",
      "5 : performance :  {'ROB': {'true_bad': 12, 'true_good': 6, 'total': 18}, 'GY': {'true_bad': 11, 'true_good': 119, 'total': 131}, '': {'true_bad': 0, 'true_good': 1, 'total': 1}}\n",
      "5 : settings:  {'w': 1.65, 'w2': 2.25, 'i': 1}\n",
      "1509 1057 1237\n",
      "6 : performance :  {'ROB': {'true_bad': 17, 'true_good': 8, 'total': 25}, 'GY': {'true_bad': 14, 'true_good': 139, 'total': 154}, '': {'true_bad': 0, 'true_good': 1, 'total': 1}}\n",
      "6 : settings:  {'w': 1.65, 'w2': 2.25, 'i': 1}\n",
      "1509 1057 1267\n",
      "7 : performance :  {'ROB': {'true_bad': 21, 'true_good': 11, 'total': 32}, 'GY': {'true_bad': 15, 'true_good': 161, 'total': 177}, '': {'true_bad': 0, 'true_good': 1, 'total': 1}}\n",
      "7 : settings:  {'w': 1.65, 'w2': 2.25, 'i': 1}\n",
      "1509 1057 1298\n",
      "{'w': 2, 'w2': 2, 'i': 1} 0.9014084507042254\n",
      "{'w': 1.9, 'w2': 2, 'i': 1} 0.9411764705882353\n",
      "{'w': 1.65, 'w2': 2, 'i': 1} 1.0\n",
      "8 : performance :  {'ROB': {'true_bad': 26, 'true_good': 11, 'total': 37}, 'GY': {'true_bad': 17, 'true_good': 185, 'total': 203}, '': {'true_bad': 0, 'true_good': 1, 'total': 1}}\n",
      "8 : settings:  {'w': 1.65, 'w2': 2, 'i': 1}\n",
      "1509 1057 1328\n",
      "9 : performance :  {'ROB': {'true_bad': 29, 'true_good': 13, 'total': 42}, 'GY': {'true_bad': 20, 'true_good': 207, 'total': 228}, '': {'true_bad': 0, 'true_good': 1, 'total': 1}}\n",
      "9 : settings:  {'w': 1.65, 'w2': 2, 'i': 1}\n",
      "1509 1057 1358\n",
      "10 : performance :  {'ROB': {'true_bad': 31, 'true_good': 15, 'total': 46}, 'GY': {'true_bad': 22, 'true_good': 231, 'total': 254}, '': {'true_bad': 0, 'true_good': 1, 'total': 1}}\n",
      "10 : settings:  {'w': 1.65, 'w2': 2, 'i': 1}\n",
      "1509 1057 1388\n",
      "11 : performance :  {'ROB': {'true_bad': 35, 'true_good': 17, 'total': 52}, 'GY': {'true_bad': 23, 'true_good': 254, 'total': 278}, '': {'true_bad': 0, 'true_good': 1, 'total': 1}}\n",
      "11 : settings:  {'w': 1.65, 'w2': 2, 'i': 1}\n",
      "1509 1057 1418\n",
      "{'w': 2, 'w2': 2, 'i': 1} 0.8739495798319328\n",
      "{'w': 1.9, 'w2': 2, 'i': 1} 0.9043478260869565\n",
      "{'w': 1.65, 'w2': 1.9, 'i': 1} 0.9904761904761905\n",
      "12 : performance :  {'ROB': {'true_bad': 38, 'true_good': 17, 'total': 55}, 'GY': {'true_bad': 26, 'true_good': 278, 'total': 305}, '': {'true_bad': 0, 'true_good': 1, 'total': 1}}\n",
      "12 : settings:  {'w': 1.65, 'w2': 1.9, 'i': 1}\n",
      "1509 1057 1448\n",
      "13 : performance :  {'ROB': {'true_bad': 43, 'true_good': 19, 'total': 62}, 'GY': {'true_bad': 27, 'true_good': 300, 'total': 328}, '': {'true_bad': 0, 'true_good': 1, 'total': 1}}\n",
      "13 : settings:  {'w': 1.65, 'w2': 1.9, 'i': 1}\n",
      "1509 1057 1478\n",
      "14 : performance :  {'ROB': {'true_bad': 48, 'true_good': 19, 'total': 67}, 'GY': {'true_bad': 30, 'true_good': 322, 'total': 353}, '': {'true_bad': 0, 'true_good': 1, 'total': 1}}\n",
      "14 : settings:  {'w': 1.65, 'w2': 1.9, 'i': 1}\n",
      "1509 1057 1509\n",
      "15 : performance :  {'ROB': {'true_bad': 49, 'true_good': 21, 'total': 70}, 'GY': {'true_bad': 33, 'true_good': 347, 'total': 381}, '': {'true_bad': 0, 'true_good': 1, 'total': 1}}\n",
      "15 : settings:  {'w': 1.65, 'w2': 1.9, 'i': 1}\n",
      "precision: 0.7 recall: 0.5975609756097561 f1: 0.6447368421052633 accuracy: 0.8780487804878049\n",
      "None\n",
      "final_acc {'ROB': {'true_bad': 49, 'true_good': 21, 'total': 70}, 'GY': {'true_bad': 33, 'true_good': 347, 'total': 381}, '': {'true_bad': 0, 'true_good': 1, 'total': 1}}\n",
      "1011\n",
      "features2_t1 1011\n",
      "train, test, train redone 689 322 1132\n",
      "322 0\n",
      "{'tp': 42, 'fp': 176, 'tn': 93, 'fn': 11}\n",
      "precision recall accuracy\n",
      "[0.1926605504587156, 0.7924528301886793, 0.4192546583850932]\n",
      "0.5690888686259381\n",
      "train, test, train redone 689 322 1132\n",
      "322 0\n",
      "{'tp': 46, 'fp': 43, 'tn': 226, 'fn': 7}\n",
      "precision recall accuracy\n",
      "[0.5168539325842697, 0.8679245283018868, 0.84472049689441]\n",
      "0.8540366135933226\n",
      "train, test, train redone 689 322 1132\n",
      "322 0\n",
      "{'tp': 27, 'fp': 11, 'tn': 258, 'fn': 26}\n",
      "precision recall accuracy\n",
      "[0.7105263157894737, 0.5094339622641509, 0.8850931677018633]\n",
      "0.7342708844778004\n",
      "train, test, train redone 689 322 1132\n",
      "322 0\n",
      "{'tp': 28, 'fp': 12, 'tn': 257, 'fn': 25}\n",
      "precision recall accuracy\n",
      "[0.7, 0.5283018867924528, 0.8850931677018633]\n",
      "0.7418461106824716\n",
      "train, test, train redone 689 322 1132\n",
      "322 0\n",
      "{'tp': 46, 'fp': 64, 'tn': 205, 'fn': 7}\n",
      "precision recall accuracy\n",
      "[0.41818181818181815, 0.8679245283018868, 0.7795031055900621]\n",
      "0.8150031563442519\n",
      "train, test, train redone 689 322 1132\n",
      "322 0\n",
      "{'tp': 28, 'fp': 12, 'tn': 257, 'fn': 25}\n",
      "precision recall accuracy\n",
      "[0.7, 0.5283018867924528, 0.8850931677018633]\n",
      "0.7418461106824716\n"
     ]
    }
   ],
   "source": [
    "feature_sets_perf, feature_sets_importance = scriptified_lpa(users_info_t1, tweets_info_t1, [tweet_params, user_params, source_params, full_network_params, full_nonnet_params, params_subset2], 10)"
   ]
  },
  {
   "cell_type": "code",
   "execution_count": null,
   "metadata": {},
   "outputs": [],
   "source": []
  },
  {
   "cell_type": "code",
   "execution_count": 351,
   "metadata": {},
   "outputs": [
    {
     "name": "stdout",
     "output_type": "stream",
     "text": [
      "[[[0.7872340425531915, 0.8043478260869565, 0.9377049180327869, 0.8828688937384589]], [[0.782608695652174, 0.782608695652174, 0.9344262295081968, 0.8719993285210675]], [[0.7037037037037037, 0.8260869565217391, 0.921311475409836, 0.8821554473728387]], [[0.7872340425531915, 0.8043478260869565, 0.9377049180327869, 0.8828688937384589]], [[0.6938775510204082, 0.7391304347826086, 0.9114754098360656, 0.8406076884337753]], [[0.782608695652174, 0.782608695652174, 0.9344262295081968, 0.8719993285210675]], [[0.9444444444444444, 0.3695652173913043, 0.9016393442622951, 0.6828521067651502]], [[0.7777777777777778, 0.7608695652173914, 0.9311475409836065, 0.8611297633036764]], [[0.782608695652174, 0.782608695652174, 0.9344262295081968, 0.8719993285210675]], [[0.7777777777777778, 0.7608695652173914, 0.9311475409836065, 0.8611297633036764]]]\n",
      "[[array([0.00535696, 0.038058  , 0.02191078, 0.01639588, 0.01612729,\n",
      "       0.03431436, 0.01886503, 0.02194753, 0.01657934, 0.0152455 ,\n",
      "       0.06901294, 0.02234728, 0.04708852, 0.11487645, 0.01323389,\n",
      "       0.        , 0.01493755, 0.00487611, 0.05105156, 0.24575936,\n",
      "       0.21201566])], [array([0.00592597, 0.09465391, 0.01066743, 0.01044447, 0.01684054,\n",
      "       0.07039026, 0.043476  , 0.04146375, 0.02515404, 0.02104303,\n",
      "       0.04318533, 0.08269144, 0.04116551, 0.06627952, 0.02216776,\n",
      "       0.        , 0.01553548, 0.00773951, 0.02452297, 0.17183599,\n",
      "       0.18481709])], [array([0.00714223, 0.06584016, 0.01946016, 0.01888635, 0.01350621,\n",
      "       0.05545389, 0.01460227, 0.02120853, 0.05384314, 0.01743191,\n",
      "       0.03848107, 0.05958366, 0.05279789, 0.08535071, 0.0215823 ,\n",
      "       0.        , 0.0166948 , 0.00697376, 0.01523645, 0.17589133,\n",
      "       0.24003317])], [array([0.00909414, 0.05621523, 0.02873939, 0.01011425, 0.01399312,\n",
      "       0.03616807, 0.01980653, 0.0115453 , 0.02803776, 0.03672092,\n",
      "       0.08240205, 0.06033953, 0.04841788, 0.10008955, 0.01445653,\n",
      "       0.        , 0.0078159 , 0.0068847 , 0.05271346, 0.15235311,\n",
      "       0.22409258])], [array([0.00634713, 0.05415376, 0.00467296, 0.01598428, 0.01078923,\n",
      "       0.03115428, 0.03554497, 0.01935334, 0.03835611, 0.02233363,\n",
      "       0.06778269, 0.05487027, 0.04097081, 0.09872186, 0.01014105,\n",
      "       0.        , 0.01113086, 0.00903686, 0.02092636, 0.27316596,\n",
      "       0.17456362])], [array([0.01136746, 0.04744422, 0.01476567, 0.02205491, 0.02124069,\n",
      "       0.06066277, 0.03302734, 0.02678715, 0.03396448, 0.02925847,\n",
      "       0.07387675, 0.03569552, 0.0557217 , 0.07485111, 0.01502089,\n",
      "       0.        , 0.01010002, 0.00810941, 0.02472154, 0.20040242,\n",
      "       0.20092749])], [array([0.01122464, 0.06750452, 0.02322115, 0.01605687, 0.01830351,\n",
      "       0.05131088, 0.02417341, 0.02544833, 0.04490055, 0.03028748,\n",
      "       0.05993643, 0.02674136, 0.03423736, 0.10855606, 0.01466088,\n",
      "       0.        , 0.01929058, 0.00797087, 0.03268868, 0.16586249,\n",
      "       0.21762395])], [array([0.01064976, 0.09336122, 0.01712756, 0.01010635, 0.01775363,\n",
      "       0.05036323, 0.03575686, 0.03710182, 0.05466071, 0.0160701 ,\n",
      "       0.03606108, 0.03066285, 0.04840183, 0.12010684, 0.01450283,\n",
      "       0.        , 0.01000691, 0.00376817, 0.01979263, 0.22626636,\n",
      "       0.14747925])], [array([0.00703069, 0.06753709, 0.02441115, 0.00496798, 0.01780444,\n",
      "       0.03070702, 0.03530479, 0.042357  , 0.03776697, 0.02391756,\n",
      "       0.04473439, 0.03990417, 0.02868948, 0.07366347, 0.01729535,\n",
      "       0.        , 0.01698061, 0.01110914, 0.04746894, 0.19735341,\n",
      "       0.23099635])], [array([0.00655786, 0.06457406, 0.00415052, 0.01313384, 0.014248  ,\n",
      "       0.01438883, 0.03034924, 0.065     , 0.05655591, 0.02212599,\n",
      "       0.06814348, 0.06238311, 0.04702662, 0.07682278, 0.01473834,\n",
      "       0.        , 0.01045192, 0.00872569, 0.02865865, 0.20172541,\n",
      "       0.19023978])]]\n",
      "[[[0.25287356321839083, 0.7213114754098361, 0.5196078431372549, 0.5953496152559384], [0.5089285714285714, 0.9344262295081968, 0.8071895424836601, 0.8549682167949146], [0.6179775280898876, 0.9016393442622951, 0.869281045751634, 0.8814319170291066], [0.6172839506172839, 0.819672131147541, 0.8627450980392157, 0.8465707594513215], [0.4230769230769231, 0.9016393442622951, 0.7352941176470589, 0.7977584476413516], [0.6455696202531646, 0.8360655737704918, 0.8758169934640523, 0.8608899297423888]], [[0.1975806451612903, 0.9607843137254902, 0.32094594594594594, 0.5742697078831533], [0.5052631578947369, 0.9411764705882353, 0.831081081081081, 0.8746698679471789], [0.6792452830188679, 0.7058823529411765, 0.8918918918918919, 0.8182472989195679], [0.6862745098039216, 0.6862745098039216, 0.8918918918918919, 0.810484193677471], [0.39655172413793105, 0.9019607843137255, 0.7466216216216216, 0.8081232492997199], [0.6779661016949152, 0.7843137254901961, 0.8986486486486487, 0.8533813525410162]], [[0.17582417582417584, 0.8, 0.4819672131147541, 0.6169811320754717], [0.40217391304347827, 0.925, 0.8098360655737705, 0.8587264150943397], [0.4915254237288136, 0.725, 0.8655737704918033, 0.8058962264150944], [0.48484848484848486, 0.8, 0.8622950819672132, 0.8358490566037736], [0.34, 0.85, 0.7639344262295082, 0.8004716981132076], [0.5, 0.8, 0.8688524590163934, 0.839622641509434]], [[0.13821138211382114, 0.7391304347826086, 0.23024054982817868, 0.4369121561668145], [0.5057471264367817, 0.9565217391304348, 0.845360824742268, 0.8905057675244011], [0.6, 0.06521739130434782, 0.845360824742268, 0.5285270629991128], [0.5263157894736842, 0.8695652173913043, 0.8556701030927835, 0.8613132209405501], [0.35, 0.9130434782608695, 0.718213058419244, 0.797338065661047], [0.5441176470588235, 0.8043478260869565, 0.8625429553264605, 0.8389086069210293]], [[0.167420814479638, 0.9487179487179487, 0.363013698630137, 0.6107226107226107], [0.45, 0.9230769230769231, 0.839041095890411, 0.8745819397993311], [-1, -1, -1, 0.5], [0.6818181818181818, 0.7692307692307693, 0.9212328767123288, 0.8569474004256612], [0.3392857142857143, 0.9743589743589743, 0.7431506849315068, 0.8409344278909496], [0.6808510638297872, 0.8205128205128205, 0.9246575342465754, 0.8806121414817066]], [[0.16725978647686832, 0.9591836734693877, 0.22112211221122113, 0.5189619154748514], [0.44086021505376344, 0.8367346938775511, 0.801980198019802, 0.8160051422143662], [0.6037735849056604, 0.6530612244897959, 0.8745874587458746, 0.7851920295677325], [0.6037735849056604, 0.6530612244897959, 0.8745874587458746, 0.7851920295677325], [0.3565217391304348, 0.8367346938775511, 0.7293729372937293, 0.772698055600193], [0.62, 0.6326530612244898, 0.8778877887788779, 0.7789249558090954]], [[0.2134387351778656, 0.9, 0.30743243243243246, 0.5283898305084747], [0.5196078431372549, 0.8833333333333333, 0.8108108108108109, 0.8378531073446328], [0.5454545454545454, 0.1, 0.8006756756756757, 0.539406779661017], [0.6571428571428571, 0.7666666666666667, 0.8716216216216216, 0.8324858757062148], [0.424, 0.8833333333333333, 0.7331081081081081, 0.7891242937853107], [0.6666666666666666, 0.7666666666666667, 0.875, 0.8346045197740113]], [[0.23148148148148148, 0.847457627118644, 0.43548387096774194, 0.5930515227226687], [0.4745762711864407, 0.9491525423728814, 0.7903225806451613, 0.8510702950908232], [0.6111111111111112, 0.7457627118644068, 0.8612903225806452, 0.8171044635019246], [0.6428571428571429, 0.7627118644067796, 0.8741935483870967, 0.8315551353906407], [0.40601503759398494, 0.9152542372881356, 0.7290322580645161, 0.800256600715781], [0.64, 0.8135593220338984, 0.8774193548387097, 0.8529948004591802]], [[0.23076923076923078, 0.7894736842105263, 0.47058823529411764, 0.5935320228281546], [0.49514563106796117, 0.8947368421052632, 0.8104575163398693, 0.8429507503699007], [0.7777777777777778, 0.6140350877192983, 0.8954248366013072, 0.7869372225745086], [0.825, 0.5789473684210527, 0.8986928104575164, 0.7754174593109279], [0.40625, 0.9122807017543859, 0.7352941176470589, 0.8035299091101247], [0.7804878048780488, 0.5614035087719298, 0.8888888888888888, 0.7626294652293384]], [[0.1926605504587156, 0.7924528301886793, 0.4192546583850932, 0.5690888686259381], [0.5168539325842697, 0.8679245283018868, 0.84472049689441, 0.8540366135933226], [0.7105263157894737, 0.5094339622641509, 0.8850931677018633, 0.7342708844778004], [0.7, 0.5283018867924528, 0.8850931677018633, 0.7418461106824716], [0.41818181818181815, 0.8679245283018868, 0.7795031055900621, 0.8150031563442519], [0.7, 0.5283018867924528, 0.8850931677018633, 0.7418461106824716]]]\n",
      "[[array([1., 0.]), array([0.01677868, 0.12691646, 0.02525199, 0.02428524, 0.04908238,\n",
      "       0.08708102, 0.08847849, 0.07243827, 0.05715938, 0.04033634,\n",
      "       0.06624021, 0.05378867, 0.12033309, 0.17182977]), array([0.02298683, 0.00841239, 0.08060164, 0.3694241 , 0.51857503]), array([0.06225262, 0.02731935, 0.00999394, 0.02461854, 0.006782  ,\n",
      "       0.03160507, 0.06218622, 0.04167389, 0.11341778, 0.02527398,\n",
      "       0.00812731, 0.027388  , 0.2792869 , 0.28007441]), array([0.06831617, 0.38917966, 0.10210433, 0.10547619, 0.18254336,\n",
      "       0.15238028, 0.        ]), array([0.01122986, 0.05636883, 0.01318675, 0.01014351, 0.01843329,\n",
      "       0.03839261, 0.02060505, 0.04792405, 0.02967886, 0.01713783,\n",
      "       0.03962726, 0.01264012, 0.05184917, 0.08319276, 0.01404025,\n",
      "       0.        , 0.0099324 , 0.01192456, 0.04312798, 0.27934365,\n",
      "       0.19122121])], [array([1., 0.]), array([0.02675743, 0.1437635 , 0.03328664, 0.02694591, 0.02878903,\n",
      "       0.07798872, 0.05816043, 0.05755411, 0.04277093, 0.03857214,\n",
      "       0.06909429, 0.11670749, 0.10884473, 0.17076464]), array([0.01917091, 0.00372892, 0.05837524, 0.44578617, 0.47293877]), array([0.02610994, 0.00955844, 0.02937846, 0.04368504, 0.01706777,\n",
      "       0.05298659, 0.06148131, 0.07503128, 0.10646841, 0.01101354,\n",
      "       0.01326517, 0.03732891, 0.26699428, 0.24963086]), array([0.06588149, 0.41386407, 0.134301  , 0.11070489, 0.19033608,\n",
      "       0.08491247, 0.        ]), array([0.00657953, 0.06346048, 0.02540096, 0.00618606, 0.03412299,\n",
      "       0.03331061, 0.01648104, 0.01678239, 0.04457419, 0.02612322,\n",
      "       0.0467916 , 0.04804818, 0.0623978 , 0.06940758, 0.03215722,\n",
      "       0.        , 0.01397849, 0.01043371, 0.03668956, 0.19971394,\n",
      "       0.20736046])], [array([1., 0.]), array([0.02207963, 0.15418458, 0.01892382, 0.0289749 , 0.04812249,\n",
      "       0.07876485, 0.05399867, 0.048092  , 0.06345163, 0.05134257,\n",
      "       0.09409308, 0.07945911, 0.0807591 , 0.17775355]), array([0.02638164, 0.00531855, 0.08286409, 0.443107  , 0.44232871]), array([0.02540772, 0.02687491, 0.03501661, 0.03503088, 0.0114074 ,\n",
      "       0.03718878, 0.04542064, 0.05380611, 0.13943191, 0.01250393,\n",
      "       0.0132814 , 0.0589756 , 0.19521812, 0.31043597]), array([0.0651565 , 0.37459408, 0.1707601 , 0.08980274, 0.21898847,\n",
      "       0.08069811, 0.        ]), array([0.00461154, 0.07177484, 0.00596173, 0.01195291, 0.02420385,\n",
      "       0.04304845, 0.02073134, 0.01544913, 0.01962637, 0.01625002,\n",
      "       0.07111409, 0.04103998, 0.06594874, 0.08277412, 0.01233631,\n",
      "       0.        , 0.00984991, 0.01563568, 0.04971883, 0.23746026,\n",
      "       0.18051191])], [array([1., 0.]), array([0.02161243, 0.1358285 , 0.0271402 , 0.03701535, 0.0583985 ,\n",
      "       0.05838707, 0.04085122, 0.05776742, 0.07715273, 0.03819165,\n",
      "       0.07709537, 0.05868296, 0.08491483, 0.22696177]), array([0.01315952, 0.01299434, 0.0537376 , 0.46737939, 0.45272914]), array([0.02810765, 0.01285535, 0.05339837, 0.04691208, 0.01528308,\n",
      "       0.05649075, 0.0396412 , 0.05726593, 0.08337125, 0.00726578,\n",
      "       0.01037257, 0.03662779, 0.21709166, 0.33531655]), array([0.02963037, 0.46478493, 0.12282221, 0.09972256, 0.20921045,\n",
      "       0.07382948, 0.        ]), array([0.00753231, 0.08791522, 0.02822254, 0.00950265, 0.03987904,\n",
      "       0.02483672, 0.02712856, 0.02007132, 0.02964421, 0.01050096,\n",
      "       0.03264499, 0.0446454 , 0.04400637, 0.08884696, 0.00780461,\n",
      "       0.        , 0.01056377, 0.02251939, 0.05564048, 0.18816681,\n",
      "       0.21992769])], [array([1., 0.]), array([0.01070982, 0.11636162, 0.02052532, 0.03126053, 0.04418863,\n",
      "       0.06801756, 0.04734806, 0.05642276, 0.06523515, 0.03278102,\n",
      "       0.14003848, 0.13172068, 0.06687322, 0.16851716]), array([0.03220958, 0.00554952, 0.07013939, 0.48479306, 0.40730845]), array([0.0541891 , 0.03065455, 0.04287692, 0.04986706, 0.00547266,\n",
      "       0.04523117, 0.03845066, 0.04864875, 0.09623771, 0.01426726,\n",
      "       0.01304934, 0.0245717 , 0.31339531, 0.22308779]), array([0.08082329, 0.37523431, 0.09897895, 0.14558186, 0.18561033,\n",
      "       0.11377126, 0.        ]), array([0.01199587, 0.07733224, 0.010848  , 0.01813309, 0.02811627,\n",
      "       0.03409252, 0.03610645, 0.01318534, 0.03999083, 0.02191627,\n",
      "       0.03339835, 0.04640413, 0.03505234, 0.1061942 , 0.01381338,\n",
      "       0.        , 0.01009408, 0.0157114 , 0.02485194, 0.23716387,\n",
      "       0.18559943])], [array([1., 0.]), array([0.01562527, 0.16114593, 0.02081915, 0.02883183, 0.04251196,\n",
      "       0.10282415, 0.03039548, 0.06136012, 0.06500815, 0.03173656,\n",
      "       0.10828413, 0.08404587, 0.05992138, 0.18749001]), array([0.0156325 , 0.00445365, 0.09703285, 0.39880324, 0.48407776]), array([0.03495448, 0.03412818, 0.05469334, 0.03685478, 0.01651889,\n",
      "       0.04248587, 0.05307355, 0.03832408, 0.11365071, 0.0065352 ,\n",
      "       0.00473872, 0.03012063, 0.26075303, 0.27316855]), array([0.0502045 , 0.40736701, 0.11043633, 0.12735567, 0.18756886,\n",
      "       0.11706763, 0.        ]), array([0.0052032 , 0.09464862, 0.01087526, 0.01461354, 0.02656309,\n",
      "       0.04925478, 0.01577006, 0.02322575, 0.06027047, 0.01746269,\n",
      "       0.02706308, 0.05300427, 0.04806257, 0.08466542, 0.02600967,\n",
      "       0.        , 0.00890762, 0.00642144, 0.03287281, 0.21771221,\n",
      "       0.17739345])], [array([1., 0.]), array([0.01853273, 0.12912957, 0.04190046, 0.02573799, 0.03580317,\n",
      "       0.06853629, 0.03290321, 0.06694176, 0.02456617, 0.03249262,\n",
      "       0.08224549, 0.13034225, 0.07229633, 0.23857195]), array([0.01411239, 0.00438494, 0.05325643, 0.44687482, 0.48137142]), array([0.03929502, 0.00750447, 0.04426198, 0.02919295, 0.01217439,\n",
      "       0.04145498, 0.07278811, 0.06109977, 0.13463938, 0.01217828,\n",
      "       0.01091525, 0.02656861, 0.2341524 , 0.27377441]), array([0.06684556, 0.41925213, 0.15186788, 0.09182632, 0.16662124,\n",
      "       0.10358688, 0.        ]), array([0.00705852, 0.06835371, 0.01751245, 0.01168869, 0.03788531,\n",
      "       0.04811074, 0.01010857, 0.02541944, 0.03566699, 0.01191654,\n",
      "       0.03656247, 0.0458556 , 0.04806029, 0.13081047, 0.01847964,\n",
      "       0.        , 0.01620126, 0.01747739, 0.03334551, 0.16458933,\n",
      "       0.21489708])], [array([1., 0.]), array([0.02538832, 0.11798107, 0.05210398, 0.03191096, 0.05558454,\n",
      "       0.05000672, 0.04830244, 0.08825877, 0.07788245, 0.03217173,\n",
      "       0.0831814 , 0.07792911, 0.05487596, 0.20442254]), array([0.01179226, 0.01097869, 0.09003317, 0.41825905, 0.46893683]), array([0.03808119, 0.01757205, 0.04096242, 0.04122673, 0.00824227,\n",
      "       0.02528367, 0.04713751, 0.02324852, 0.10500784, 0.01055946,\n",
      "       0.00938439, 0.05385429, 0.32945797, 0.24998169]), array([0.06313744, 0.4691313 , 0.06312932, 0.09204641, 0.16466809,\n",
      "       0.14788745, 0.        ]), array([0.01105092, 0.07389884, 0.01878447, 0.00759633, 0.01554066,\n",
      "       0.01721654, 0.01759081, 0.03282243, 0.04981546, 0.01337386,\n",
      "       0.04197186, 0.04985443, 0.04339004, 0.09224043, 0.01670117,\n",
      "       0.        , 0.01178276, 0.01576178, 0.03188607, 0.18358047,\n",
      "       0.25514068])], [array([1., 0.]), array([0.01358984, 0.14638395, 0.02867399, 0.02219306, 0.03027213,\n",
      "       0.05744915, 0.05177512, 0.11785202, 0.03519747, 0.02801769,\n",
      "       0.06480903, 0.11141485, 0.11644351, 0.1759282 ]), array([0.02605235, 0.00946728, 0.07731764, 0.386128  , 0.50103473]), array([0.02768841, 0.02075137, 0.0476352 , 0.04559613, 0.01344543,\n",
      "       0.05482212, 0.08523977, 0.05399212, 0.08737794, 0.00750827,\n",
      "       0.00829193, 0.01835932, 0.3247308 , 0.2045612 ]), array([0.08049266, 0.39373862, 0.13071023, 0.10089951, 0.17898021,\n",
      "       0.11517878, 0.        ]), array([0.00771267, 0.07536255, 0.02270972, 0.01137935, 0.01421959,\n",
      "       0.03497969, 0.02401637, 0.04257446, 0.01659991, 0.02378325,\n",
      "       0.0383755 , 0.03495419, 0.03399436, 0.09252231, 0.01056359,\n",
      "       0.        , 0.00927284, 0.00822523, 0.02538188, 0.26620483,\n",
      "       0.20716771])], [array([1., 0.]), array([0.0162918 , 0.16624087, 0.03511602, 0.01910569, 0.03453964,\n",
      "       0.05927205, 0.04552971, 0.05520478, 0.10585509, 0.03602724,\n",
      "       0.07458099, 0.11227005, 0.06233256, 0.1776335 ]), array([0.01301498, 0.00178187, 0.07571945, 0.45909847, 0.45038523]), array([0.0166842 , 0.01592929, 0.02581681, 0.03395903, 0.01743729,\n",
      "       0.07609914, 0.04653681, 0.05837939, 0.1187336 , 0.01363653,\n",
      "       0.01411808, 0.03223706, 0.26105785, 0.26937491]), array([0.0993824 , 0.33802282, 0.15393891, 0.08765244, 0.19892723,\n",
      "       0.1220762 , 0.        ]), array([0.01175531, 0.05567264, 0.01903012, 0.00633016, 0.02074786,\n",
      "       0.03822192, 0.0324161 , 0.0527232 , 0.03548543, 0.02439739,\n",
      "       0.07153405, 0.0511849 , 0.03752774, 0.06811321, 0.01650973,\n",
      "       0.        , 0.01475903, 0.00720997, 0.05695664, 0.16702812,\n",
      "       0.21239648])]]\n"
     ]
    }
   ],
   "source": [
    "print(perf_temporal)\n",
    "print(importance_temporal)\n",
    "print(feature_sets_perf)\n",
    "print(feature_sets_importance)"
   ]
  },
  {
   "cell_type": "code",
   "execution_count": null,
   "metadata": {},
   "outputs": [],
   "source": []
  },
  {
   "cell_type": "code",
   "execution_count": null,
   "metadata": {},
   "outputs": [],
   "source": []
  },
  {
   "cell_type": "code",
   "execution_count": 213,
   "metadata": {},
   "outputs": [],
   "source": [
    "#rslts\n",
    "net_vs_nonnet_rslts #performances for network vs nonnetwork features"
   ]
  },
  {
   "cell_type": "code",
   "execution_count": null,
   "metadata": {},
   "outputs": [],
   "source": []
  },
  {
   "cell_type": "code",
   "execution_count": null,
   "metadata": {},
   "outputs": [],
   "source": []
  },
  {
   "cell_type": "markdown",
   "metadata": {},
   "source": [
    "# Final Models!"
   ]
  },
  {
   "cell_type": "code",
   "execution_count": 119,
   "metadata": {},
   "outputs": [],
   "source": [
    "from sklearn.ensemble import RandomForestClassifier"
   ]
  },
  {
   "cell_type": "code",
   "execution_count": 120,
   "metadata": {},
   "outputs": [],
   "source": [
    "from sklearn.linear_model import LogisticRegression"
   ]
  },
  {
   "cell_type": "markdown",
   "metadata": {},
   "source": [
    "## User Parameters"
   ]
  },
  {
   "cell_type": "code",
   "execution_count": 121,
   "metadata": {},
   "outputs": [],
   "source": [
    "#USER_PARAMS\n",
    "x_train = []\n",
    "y_train = []\n",
    "\n",
    "x_test = []\n",
    "y_test = []\n",
    "\n",
    "elements_lst_train = []\n",
    "elements_lst_test = []"
   ]
  },
  {
   "cell_type": "code",
   "execution_count": 122,
   "metadata": {},
   "outputs": [],
   "source": [
    "make_xy_split(features2_t1, lpa_color_labels1, lpa_color_labels2, sources_dict, color_labels, labels_dict2, k_nearest_rslts, \n",
    "                  x_train, y_train, x_test, y_test, elements_lst_train, elements_lst_test, user_params) "
   ]
  },
  {
   "cell_type": "code",
   "execution_count": 123,
   "metadata": {},
   "outputs": [
    {
     "data": {
      "text/plain": [
       "RandomForestClassifier(max_depth=5, max_leaf_nodes=20)"
      ]
     },
     "execution_count": 123,
     "metadata": {},
     "output_type": "execute_result"
    }
   ],
   "source": [
    "clf = RandomForestClassifier(max_depth=5, max_leaf_nodes=20)\n",
    "clf.fit(x_train[:300], y_train[:300])"
   ]
  },
  {
   "cell_type": "code",
   "execution_count": 124,
   "metadata": {
    "scrolled": true
   },
   "outputs": [
    {
     "name": "stdout",
     "output_type": "stream",
     "text": [
      "{'tp': 29, 'fp': 21, 'tn': 230, 'fn': 21}\n",
      "precision recall accuracy\n",
      "[0.58, 0.58, 0.8604651162790697]\n"
     ]
    }
   ],
   "source": [
    "eval_model(clf, x_test, y_test)"
   ]
  },
  {
   "cell_type": "code",
   "execution_count": 125,
   "metadata": {},
   "outputs": [
    {
     "name": "stdout",
     "output_type": "stream",
     "text": [
      "301 0\n"
     ]
    }
   ],
   "source": [
    "user_pred = clf.predict(x_test)\n",
    "user_pred_dict = make_preds_dict(user_pred, elements_lst_test,len(elements_lst_test), lpa_color_labels2, sources_dict)"
   ]
  },
  {
   "cell_type": "code",
   "execution_count": 126,
   "metadata": {},
   "outputs": [
    {
     "name": "stdout",
     "output_type": "stream",
     "text": [
      "[0.03906958 0.10226033 0.02819622 0.0202727  0.05840329 0.12603637\n",
      " 0.04522408 0.0299426  0.05103792 0.05094196 0.10211926 0.13057747\n",
      " 0.06736824 0.14854996]\n"
     ]
    }
   ],
   "source": [
    "user_importances = clf.feature_importances_\n",
    "print(user_importances)"
   ]
  },
  {
   "cell_type": "code",
   "execution_count": null,
   "metadata": {},
   "outputs": [],
   "source": []
  },
  {
   "cell_type": "markdown",
   "metadata": {},
   "source": [
    "## Tweet Parameters"
   ]
  },
  {
   "cell_type": "code",
   "execution_count": 127,
   "metadata": {},
   "outputs": [],
   "source": [
    "#TWEET_PARAMS\n",
    "x_train = []\n",
    "y_train = []\n",
    "\n",
    "x_test = []\n",
    "y_test = []\n",
    "\n",
    "elements_lst_train = []\n",
    "elements_lst_test = []"
   ]
  },
  {
   "cell_type": "code",
   "execution_count": 128,
   "metadata": {},
   "outputs": [],
   "source": [
    "make_xy_split(features2_t1, lpa_color_labels1, lpa_color_labels2, sources_dict, color_labels, labels_dict2, k_nearest_rslts, \n",
    "                  x_train, y_train, x_test, y_test, elements_lst_train, elements_lst_test, tweet_params) "
   ]
  },
  {
   "cell_type": "code",
   "execution_count": 129,
   "metadata": {},
   "outputs": [
    {
     "data": {
      "text/plain": [
       "RandomForestClassifier(max_depth=5, max_leaf_nodes=20)"
      ]
     },
     "execution_count": 129,
     "metadata": {},
     "output_type": "execute_result"
    }
   ],
   "source": [
    "clf = RandomForestClassifier(max_depth=5, max_leaf_nodes=20)\n",
    "clf.fit(x_train[:300], y_train[:300])"
   ]
  },
  {
   "cell_type": "code",
   "execution_count": 130,
   "metadata": {
    "scrolled": true
   },
   "outputs": [
    {
     "name": "stdout",
     "output_type": "stream",
     "text": [
      "{'tp': 0, 'fp': 0, 'tn': 251, 'fn': 50}\n"
     ]
    },
    {
     "ename": "ZeroDivisionError",
     "evalue": "float division by zero",
     "output_type": "error",
     "traceback": [
      "\u001b[0;31m---------------------------------------------------------------------------\u001b[0m",
      "\u001b[0;31mZeroDivisionError\u001b[0m                         Traceback (most recent call last)",
      "\u001b[0;32m<ipython-input-130-577cf02768e0>\u001b[0m in \u001b[0;36m<module>\u001b[0;34m\u001b[0m\n\u001b[0;32m----> 1\u001b[0;31m \u001b[0meval_model\u001b[0m\u001b[0;34m(\u001b[0m\u001b[0mclf\u001b[0m\u001b[0;34m,\u001b[0m \u001b[0mx_test\u001b[0m\u001b[0;34m,\u001b[0m \u001b[0my_test\u001b[0m\u001b[0;34m)\u001b[0m\u001b[0;34m\u001b[0m\u001b[0;34m\u001b[0m\u001b[0m\n\u001b[0m",
      "\u001b[0;32m<ipython-input-109-fa2e3a600bec>\u001b[0m in \u001b[0;36meval_model\u001b[0;34m(model, x_test, y_test)\u001b[0m\n\u001b[1;32m     11\u001b[0m         \u001b[0mstats\u001b[0m\u001b[0;34m[\u001b[0m\u001b[0;34m'fn'\u001b[0m\u001b[0;34m]\u001b[0m \u001b[0;34m+=\u001b[0m \u001b[0;36m1\u001b[0m \u001b[0;32mif\u001b[0m \u001b[0;34m(\u001b[0m\u001b[0mpred\u001b[0m\u001b[0;34m[\u001b[0m\u001b[0mj\u001b[0m\u001b[0;34m]\u001b[0m\u001b[0;34m==\u001b[0m\u001b[0;36m0\u001b[0m \u001b[0;32mand\u001b[0m \u001b[0my_test\u001b[0m\u001b[0;34m[\u001b[0m\u001b[0mj\u001b[0m\u001b[0;34m]\u001b[0m \u001b[0;34m==\u001b[0m \u001b[0;36m1\u001b[0m\u001b[0;34m)\u001b[0m \u001b[0;32melse\u001b[0m \u001b[0;36m0\u001b[0m\u001b[0;34m\u001b[0m\u001b[0;34m\u001b[0m\u001b[0m\n\u001b[1;32m     12\u001b[0m     \u001b[0mprint\u001b[0m \u001b[0;34m(\u001b[0m\u001b[0mstats\u001b[0m\u001b[0;34m)\u001b[0m\u001b[0;34m\u001b[0m\u001b[0;34m\u001b[0m\u001b[0m\n\u001b[0;32m---> 13\u001b[0;31m     \u001b[0mstats\u001b[0m \u001b[0;34m=\u001b[0m \u001b[0;34m[\u001b[0m\u001b[0mstats\u001b[0m\u001b[0;34m[\u001b[0m\u001b[0;34m'tp'\u001b[0m\u001b[0;34m]\u001b[0m\u001b[0;34m*\u001b[0m\u001b[0;36m1.0\u001b[0m\u001b[0;34m/\u001b[0m\u001b[0;34m(\u001b[0m\u001b[0mstats\u001b[0m\u001b[0;34m[\u001b[0m\u001b[0;34m'tp'\u001b[0m\u001b[0;34m]\u001b[0m\u001b[0;34m+\u001b[0m\u001b[0mstats\u001b[0m\u001b[0;34m[\u001b[0m\u001b[0;34m'fp'\u001b[0m\u001b[0;34m]\u001b[0m\u001b[0;34m)\u001b[0m\u001b[0;34m,\u001b[0m \u001b[0mstats\u001b[0m\u001b[0;34m[\u001b[0m\u001b[0;34m'tp'\u001b[0m\u001b[0;34m]\u001b[0m\u001b[0;34m*\u001b[0m\u001b[0;36m1.0\u001b[0m\u001b[0;34m/\u001b[0m\u001b[0;34m(\u001b[0m\u001b[0mstats\u001b[0m\u001b[0;34m[\u001b[0m\u001b[0;34m'tp'\u001b[0m\u001b[0;34m]\u001b[0m\u001b[0;34m+\u001b[0m\u001b[0mstats\u001b[0m\u001b[0;34m[\u001b[0m\u001b[0;34m'fn'\u001b[0m\u001b[0;34m]\u001b[0m\u001b[0;34m)\u001b[0m\u001b[0;34m,\u001b[0m \u001b[0;34m(\u001b[0m\u001b[0mstats\u001b[0m\u001b[0;34m[\u001b[0m\u001b[0;34m'tp'\u001b[0m\u001b[0;34m]\u001b[0m\u001b[0;34m+\u001b[0m\u001b[0mstats\u001b[0m\u001b[0;34m[\u001b[0m\u001b[0;34m'tn'\u001b[0m\u001b[0;34m]\u001b[0m\u001b[0;34m)\u001b[0m\u001b[0;34m*\u001b[0m\u001b[0;36m1.0\u001b[0m\u001b[0;34m/\u001b[0m\u001b[0mlen\u001b[0m\u001b[0;34m(\u001b[0m\u001b[0mpred\u001b[0m\u001b[0;34m)\u001b[0m\u001b[0;34m]\u001b[0m\u001b[0;34m\u001b[0m\u001b[0;34m\u001b[0m\u001b[0m\n\u001b[0m\u001b[1;32m     14\u001b[0m     \u001b[0mprint\u001b[0m \u001b[0;34m(\u001b[0m\u001b[0;34m\"precision\"\u001b[0m\u001b[0;34m,\u001b[0m\u001b[0;34m\"recall\"\u001b[0m\u001b[0;34m,\u001b[0m\u001b[0;34m\"accuracy\"\u001b[0m\u001b[0;34m)\u001b[0m\u001b[0;34m\u001b[0m\u001b[0;34m\u001b[0m\u001b[0m\n\u001b[1;32m     15\u001b[0m     \u001b[0mprint\u001b[0m \u001b[0;34m(\u001b[0m\u001b[0mstats\u001b[0m\u001b[0;34m)\u001b[0m\u001b[0;34m\u001b[0m\u001b[0;34m\u001b[0m\u001b[0m\n",
      "\u001b[0;31mZeroDivisionError\u001b[0m: float division by zero"
     ]
    }
   ],
   "source": [
    "eval_model(clf, x_test, y_test)"
   ]
  },
  {
   "cell_type": "code",
   "execution_count": 131,
   "metadata": {},
   "outputs": [
    {
     "name": "stdout",
     "output_type": "stream",
     "text": [
      "301 0\n"
     ]
    }
   ],
   "source": [
    "tweet_pred = clf.predict(x_test)\n",
    "tweet_pred_dict = make_preds_dict(tweet_pred, elements_lst_test,len(elements_lst_test), lpa_color_labels2, sources_dict)"
   ]
  },
  {
   "cell_type": "code",
   "execution_count": 132,
   "metadata": {},
   "outputs": [
    {
     "name": "stdout",
     "output_type": "stream",
     "text": [
      "[1. 0.]\n"
     ]
    }
   ],
   "source": [
    "tweet_importances = clf.feature_importances_\n",
    "print(tweet_importances)"
   ]
  },
  {
   "cell_type": "code",
   "execution_count": null,
   "metadata": {},
   "outputs": [],
   "source": []
  },
  {
   "cell_type": "markdown",
   "metadata": {},
   "source": [
    "## Source Parameters"
   ]
  },
  {
   "cell_type": "code",
   "execution_count": 133,
   "metadata": {},
   "outputs": [],
   "source": [
    "#SOURCE_PARAMS\n",
    "x_train = []\n",
    "y_train = []\n",
    "\n",
    "x_test = []\n",
    "y_test = []\n",
    "\n",
    "elements_lst_train = []\n",
    "elements_lst_test = []"
   ]
  },
  {
   "cell_type": "code",
   "execution_count": 134,
   "metadata": {},
   "outputs": [],
   "source": [
    "make_xy_split(features2_t1, lpa_color_labels1, lpa_color_labels2, sources_dict, color_labels, labels_dict2, k_nearest_rslts, \n",
    "                  x_train, y_train, x_test, y_test, elements_lst_train, elements_lst_test, source_params) "
   ]
  },
  {
   "cell_type": "code",
   "execution_count": 135,
   "metadata": {},
   "outputs": [
    {
     "data": {
      "text/plain": [
       "RandomForestClassifier(max_depth=5, max_leaf_nodes=20)"
      ]
     },
     "execution_count": 135,
     "metadata": {},
     "output_type": "execute_result"
    }
   ],
   "source": [
    "clf = RandomForestClassifier(max_depth=5, max_leaf_nodes=20)\n",
    "clf.fit(x_train[:300], y_train[:300])"
   ]
  },
  {
   "cell_type": "code",
   "execution_count": 139,
   "metadata": {
    "scrolled": false
   },
   "outputs": [
    {
     "name": "stdout",
     "output_type": "stream",
     "text": [
      "{'tp': 3, 'fp': 0, 'tn': 251, 'fn': 47}\n",
      "precision recall accuracy\n",
      "[1.0, 0.06, 0.8438538205980066]\n"
     ]
    }
   ],
   "source": [
    "eval_model(clf, x_test, y_test)"
   ]
  },
  {
   "cell_type": "code",
   "execution_count": 137,
   "metadata": {},
   "outputs": [
    {
     "name": "stdout",
     "output_type": "stream",
     "text": [
      "301 0\n"
     ]
    }
   ],
   "source": [
    "source_pred = clf.predict(x_test)\n",
    "source_pred_dict = make_preds_dict(source_pred, elements_lst_test, len(elements_lst_test), lpa_color_labels2, sources_dict)"
   ]
  },
  {
   "cell_type": "code",
   "execution_count": 138,
   "metadata": {},
   "outputs": [
    {
     "name": "stdout",
     "output_type": "stream",
     "text": [
      "[0.00915658 0.00802134 0.03836818 0.50626643 0.43818747]\n"
     ]
    }
   ],
   "source": [
    "source_importances = clf.feature_importances_\n",
    "print(source_importances)"
   ]
  },
  {
   "cell_type": "code",
   "execution_count": null,
   "metadata": {},
   "outputs": [],
   "source": []
  },
  {
   "cell_type": "code",
   "execution_count": 140,
   "metadata": {},
   "outputs": [],
   "source": [
    "from sklearn import metrics"
   ]
  },
  {
   "cell_type": "markdown",
   "metadata": {},
   "source": [
    "## Params Subset2"
   ]
  },
  {
   "cell_type": "code",
   "execution_count": 141,
   "metadata": {},
   "outputs": [],
   "source": [
    "#ALL PARAMS\n",
    "x_train = []\n",
    "y_train = []\n",
    "\n",
    "x_test = []\n",
    "y_test = []\n",
    "\n",
    "elements_lst_train = []\n",
    "elements_lst_test = []"
   ]
  },
  {
   "cell_type": "code",
   "execution_count": 142,
   "metadata": {},
   "outputs": [],
   "source": [
    "make_xy_split(features2_t1, lpa_color_labels1, lpa_color_labels2, sources_dict, color_labels, labels_dict2, k_nearest_rslts, \n",
    "                  x_train, y_train, x_test, y_test, elements_lst_train, elements_lst_test, params_subset2) "
   ]
  },
  {
   "cell_type": "code",
   "execution_count": null,
   "metadata": {},
   "outputs": [],
   "source": []
  },
  {
   "cell_type": "code",
   "execution_count": 143,
   "metadata": {},
   "outputs": [],
   "source": [
    "#Note: Do not use the following sets outside the context of training models (because the order within these sets is sometimes randomized)\n",
    "x_train_rob = []\n",
    "x_train_gy = []\n",
    "y_train_rob = []\n",
    "y_train_gy = []\n",
    "\n",
    "#sort training data into rob and gy sets\n",
    "for i in range(0, len(y_train)):\n",
    "    if (y_train[i] == 0):\n",
    "        x_train_gy.append(x_train[i])\n",
    "        y_train_gy.append(y_train[i])\n",
    "    else:\n",
    "        x_train_rob.append(x_train[i])\n",
    "        y_train_rob.append(y_train[i])\n",
    "        \n",
    "#expand rob sets in random fashion so rob & gy w same size\n",
    "original_rob_size = len(x_train_rob)\n",
    "for i in range(0, len(x_train_gy)-len(x_train_rob)):\n",
    "    j = int(random.random() * original_rob_size)\n",
    "    x_train_rob.append(x_train_rob[j])\n",
    "    y_train_rob.append(y_train_rob[j])"
   ]
  },
  {
   "cell_type": "code",
   "execution_count": 144,
   "metadata": {},
   "outputs": [],
   "source": [
    "#shuffle input order\n",
    "indices = []\n",
    "for i in range(0, len(x_train_rob)+len(x_train_gy)):\n",
    "    indices.append(i)\n",
    "random.shuffle(indices)\n",
    "xt1 = []\n",
    "yt1 = []\n",
    "for j in indices:\n",
    "    x = x_train_rob[j] if j < len(x_train_rob) else x_train_gy[j-len(x_train_rob)]\n",
    "    y = y_train_rob[j] if j < len(y_train_rob) else y_train_gy[j-len(y_train_rob)]\n",
    "    xt1.append(x)\n",
    "    yt1.append(y)"
   ]
  },
  {
   "cell_type": "code",
   "execution_count": 145,
   "metadata": {},
   "outputs": [
    {
     "data": {
      "text/plain": [
       "RandomForestClassifier(class_weight={0: 0.21575342465753425,\n",
       "                                     1: 0.7842465753424658},\n",
       "                       max_depth=4, max_features=2)"
      ]
     },
     "execution_count": 145,
     "metadata": {},
     "output_type": "execute_result"
    }
   ],
   "source": [
    "r = original_rob_size/len(x_train_gy)\n",
    "clf = RandomForestClassifier(max_features = 2, max_depth=4, class_weight = {0:r, 1:1-r}) #LogisticRegression(max_iter=1000) \n",
    "clf.fit(xt1[:400], yt1[:400])"
   ]
  },
  {
   "cell_type": "code",
   "execution_count": 146,
   "metadata": {},
   "outputs": [
    {
     "name": "stdout",
     "output_type": "stream",
     "text": [
      "301 0\n"
     ]
    }
   ],
   "source": [
    "full_pred = clf.predict(x_test)\n",
    "full_pred_dict = make_preds_dict(full_pred, elements_lst_test,len(elements_lst_test), lpa_color_labels2, sources_dict)"
   ]
  },
  {
   "cell_type": "code",
   "execution_count": 147,
   "metadata": {},
   "outputs": [
    {
     "name": "stdout",
     "output_type": "stream",
     "text": [
      "{'tp': 40, 'fp': 31, 'tn': 220, 'fn': 10}\n",
      "precision recall accuracy\n",
      "[0.5633802816901409, 0.8, 0.8637873754152824]\n"
     ]
    }
   ],
   "source": [
    "eval_model(clf, x_test, y_test)"
   ]
  },
  {
   "cell_type": "code",
   "execution_count": 148,
   "metadata": {},
   "outputs": [
    {
     "data": {
      "text/plain": [
       "0.8382470119521912"
      ]
     },
     "execution_count": 148,
     "metadata": {},
     "output_type": "execute_result"
    }
   ],
   "source": [
    "sklearn.metrics.roc_auc_score(y_test, full_pred)"
   ]
  },
  {
   "cell_type": "code",
   "execution_count": 149,
   "metadata": {},
   "outputs": [],
   "source": [
    "#random forest"
   ]
  },
  {
   "cell_type": "code",
   "execution_count": 151,
   "metadata": {},
   "outputs": [
    {
     "name": "stdout",
     "output_type": "stream",
     "text": [
      "[0.00733107 0.06359269 0.03584037 0.01400984 0.0293295  0.01618871\n",
      " 0.01807742 0.01847408 0.02338493 0.01717947 0.04083851 0.04421908\n",
      " 0.04445721 0.09425847 0.01633297 0.         0.0189408  0.0113356\n",
      " 0.04402598 0.22972019 0.21246312]\n"
     ]
    }
   ],
   "source": [
    "full_importances = clf.feature_importances_\n",
    "print(full_importances)"
   ]
  },
  {
   "cell_type": "code",
   "execution_count": null,
   "metadata": {},
   "outputs": [],
   "source": []
  },
  {
   "cell_type": "code",
   "execution_count": 152,
   "metadata": {},
   "outputs": [],
   "source": [
    "from operator import itemgetter"
   ]
  },
  {
   "cell_type": "code",
   "execution_count": 153,
   "metadata": {},
   "outputs": [],
   "source": [
    "def precision_at_k(clf, x_test, y_test, k):\n",
    "    confidences = clf.predict_proba(x_test)\n",
    "    c2 = []\n",
    "    #c2 = test elements ordered by probability fake (low --> high)\n",
    "    for i in range(0, len(confidences)):\n",
    "        c2.append([confidences[i][0], confidences[i][1], y_test[i]])\n",
    "    res = sorted(c2, key=itemgetter(1))\n",
    "    \n",
    "    true_bad = 0 #num elements classified fake w ground truth fake, \n",
    "                 #among k elements w highest probability of being fake (as classified by the model)\n",
    "    for i in range(1, k+1):\n",
    "        j = len(res)-i\n",
    "        if (res[j][1] > res[j][0] and res[j][2] == 1):\n",
    "            true_bad += 1\n",
    "            \n",
    "    return true_bad/k #% of elements \"labeled positive\" that actually are positive"
   ]
  },
  {
   "cell_type": "code",
   "execution_count": 154,
   "metadata": {},
   "outputs": [
    {
     "name": "stdout",
     "output_type": "stream",
     "text": [
      "0.4 0.6 0.66\n"
     ]
    }
   ],
   "source": [
    "print(precision_at_k(clf, x_test, y_test, 10), precision_at_k(clf, x_test, y_test, 30), precision_at_k(clf, x_test, y_test, 50))"
   ]
  },
  {
   "cell_type": "code",
   "execution_count": null,
   "metadata": {},
   "outputs": [],
   "source": []
  },
  {
   "cell_type": "code",
   "execution_count": 669,
   "metadata": {},
   "outputs": [
    {
     "name": "stdout",
     "output_type": "stream",
     "text": [
      "-1.711630031859568\n",
      "-2.3694337267122294\n"
     ]
    }
   ],
   "source": [
    "#IS THIS SITLL IN ANY WAY USEFUL? IF SO JUSTIFY WHY!\n",
    "confidences = clf.decision_function(x_test)\n",
    "confidences2 = []\n",
    "for c in confidences:\n",
    "    confidences2.append(c)\n",
    "    \n",
    "confidences2.sort()\n",
    "med = confidences2[int(len(confidences2)/2)]\n",
    "print(med)\n",
    "\n",
    "final_rslts = {}\n",
    "for j in range(0, len(elements_lst_test)):\n",
    "    i = elements_lst_test[j]\n",
    "    if (confidences[j] >= med):\n",
    "        final_rslts[i] = 'GY' if full_pred[j] == 0 else 'ROB'\n",
    "    elif (labels_dict2[i] == 'ROB'):\n",
    "        final_rslts[i] = 'ROB'\n",
    "    else:\n",
    "        final_rslts[i] = 'GY' if full_pred[j] == 0 else 'ROB'"
   ]
  },
  {
   "cell_type": "code",
   "execution_count": null,
   "metadata": {},
   "outputs": [],
   "source": []
  },
  {
   "cell_type": "code",
   "execution_count": 672,
   "metadata": {},
   "outputs": [
    {
     "data": {
      "text/plain": [
       "(698, 704)"
      ]
     },
     "execution_count": 672,
     "metadata": {},
     "output_type": "execute_result"
    }
   ],
   "source": [
    "testing2(y_train, elements_lst_train), len(y_train)"
   ]
  },
  {
   "cell_type": "code",
   "execution_count": 673,
   "metadata": {},
   "outputs": [
    {
     "data": {
      "text/plain": [
       "(306, 307)"
      ]
     },
     "execution_count": 673,
     "metadata": {},
     "output_type": "execute_result"
    }
   ],
   "source": [
    "testing2(y_test, elements_lst_test), len(y_test)"
   ]
  },
  {
   "cell_type": "code",
   "execution_count": 674,
   "metadata": {},
   "outputs": [
    {
     "name": "stdout",
     "output_type": "stream",
     "text": [
      "precision: 0.5402298850574713 recall: 0.8103448275862069 f1: 0.6482758620689655 accuracy: 0.8306188925081434\n",
      "auc:  0.7451149425287357\n"
     ]
    }
   ],
   "source": [
    "#improving model accuracy;)\n",
    "rslts = check_performance(color_labels, final_rslts, lpa_color_labels2)\n",
    "calc_performance_metrics(rslts)\n",
    "rslts2 = testing(final_rslts, elements_lst_test)\n",
    "auc = sklearn.metrics.roc_auc_score(rslts2, y_test)\n",
    "print(\"auc: \", auc)"
   ]
  },
  {
   "cell_type": "code",
   "execution_count": null,
   "metadata": {},
   "outputs": [],
   "source": []
  },
  {
   "cell_type": "code",
   "execution_count": null,
   "metadata": {},
   "outputs": [],
   "source": []
  },
  {
   "cell_type": "code",
   "execution_count": null,
   "metadata": {},
   "outputs": [],
   "source": []
  },
  {
   "cell_type": "markdown",
   "metadata": {},
   "source": [
    "# Old Graphs"
   ]
  },
  {
   "cell_type": "code",
   "execution_count": 5060,
   "metadata": {},
   "outputs": [],
   "source": [
    "m1 = statistics.mean(new_net_aucf)\n",
    "m2 = statistics.mean(nonnet_aucf)"
   ]
  },
  {
   "cell_type": "code",
   "execution_count": 5061,
   "metadata": {},
   "outputs": [],
   "source": [
    "s1 = statistics.stdev(new_net_aucf)\n",
    "s2 = statistics.stdev(nonnet_aucf)"
   ]
  },
  {
   "cell_type": "code",
   "execution_count": 5062,
   "metadata": {},
   "outputs": [
    {
     "data": {
      "image/png": "[encoded data removed]",
      "text/plain": [
       "<Figure size 432x288 with 1 Axes>"
      ]
     },
     "metadata": {
      "needs_background": "light"
     },
     "output_type": "display_data"
    }
   ],
   "source": [
    "N = 2\n",
    "menMeans = (m1, m2)\n",
    "#womenMeans = (25, 32, 34, 20, 25)\n",
    "menStd = (s1, s2)\n",
    "#womenStd = (3, 5, 2, 3, 3)\n",
    "ind = np.arange(N)    # the x locations for the groups\n",
    "width = 0.4       # the width of the bars: can also be len(x) sequence\n",
    "\n",
    "p1 = plt.bar(ind, menMeans, width, yerr=menStd)\n",
    "#p2 = plt.bar(ind, womenMeans, width,\n",
    "             #bottom=menMeans, yerr=womenStd)\n",
    "\n",
    "plt.ylabel('AUC')\n",
    "plt.title('Performance by Feature Set')\n",
    "plt.xticks(ind, ('Network', 'Non-network'))\n",
    "plt.yticks(np.arange(0, 1, 0.1))\n",
    "#plt.legend([p1[0]], ['Men'])\n",
    "\n",
    "plt.savefig('net_vs_nonnet.png')\n",
    "#plt.show()"
   ]
  },
  {
   "cell_type": "code",
   "execution_count": null,
   "metadata": {},
   "outputs": [],
   "source": []
  },
  {
   "cell_type": "code",
   "execution_count": 492,
   "metadata": {},
   "outputs": [],
   "source": [
    "import statistics\n",
    "import numpy as np\n",
    "import matplotlib.pyplot as plt"
   ]
  },
  {
   "cell_type": "code",
   "execution_count": 482,
   "metadata": {},
   "outputs": [],
   "source": [
    "m1 = statistics.mean(nonnet_black)\n",
    "m2 = statistics.mean(net_black)"
   ]
  },
  {
   "cell_type": "code",
   "execution_count": 483,
   "metadata": {},
   "outputs": [],
   "source": [
    "m3 = statistics.mean(nonnet_red)\n",
    "m4 = statistics.mean(net_red)"
   ]
  },
  {
   "cell_type": "code",
   "execution_count": 484,
   "metadata": {},
   "outputs": [],
   "source": [
    "m5 = statistics.mean(nonnet_orange)\n",
    "m6 = statistics.mean(net_orange)"
   ]
  },
  {
   "cell_type": "code",
   "execution_count": 1507,
   "metadata": {},
   "outputs": [
    {
     "data": {
      "image/png": "[encoded data removed]",
      "text/plain": [
       "<Figure size 1440x720 with 1 Axes>"
      ]
     },
     "metadata": {
      "needs_background": "light"
     },
     "output_type": "display_data"
    }
   ],
   "source": [
    "N = 6\n",
    "mini = 0\n",
    "menMeans = (m1*100-mini, m2*100-mini, m3*100-mini, m4*100-mini, m5*100-mini, m6*100-mini)\n",
    "#womenMeans = (25, 32, 34, 20, 25)\n",
    "menStd = (0,0,0,0,0,0)\n",
    "#womenStd = (3, 5, 2, 3, 3)\n",
    "ind = np.arange(N)    # the x locations for the groups\n",
    "width = 0.25       # the width of the bars: can also be len(x) sequence\n",
    "\n",
    "plt.rcParams.update({'font.size': 36})\n",
    "plt.figure(figsize=(20,10))\n",
    "\n",
    "p1 = plt.bar(ind, menMeans, width, yerr=menStd, color=('#2b2b2b', '#2b2b2b', '#cf4040', '#cf4040', '#d48826', '#d48826'))\n",
    "#p2 = plt.bar(ind, womenMeans, width,\n",
    "             #bottom=menMeans, yerr=womenStd)\n",
    "    \n",
    "plt.ylabel('Recall')\n",
    "#plt.title('Performance by Feature Set and Color')\n",
    "plt.xticks(ind, ('Net Bl', 'Non-net Bl', 'Net R', 'Non-net R', 'Net Or', 'Non-net Or'))\n",
    "plt.yticks(np.arange(mini, 100, 10))\n",
    "plt.ylim(ymin=mini)\n",
    "\n",
    "plt.savefig('net-vs-nonnet-colors.png')\n",
    "#plt.show()"
   ]
  },
  {
   "cell_type": "code",
   "execution_count": null,
   "metadata": {},
   "outputs": [],
   "source": []
  },
  {
   "cell_type": "code",
   "execution_count": null,
   "metadata": {},
   "outputs": [],
   "source": []
  },
  {
   "cell_type": "code",
   "execution_count": 1511,
   "metadata": {},
   "outputs": [
    {
     "name": "stdout",
     "output_type": "stream",
     "text": [
      "[0.009240400421577581, 0.011114653170239226, 0.04627890937690978, 0.46723068644981236, 0.46613535058146094]\n"
     ]
    }
   ],
   "source": [
    "source_importances = [0,0,0,0,0]\n",
    "for i in range(0, len(source_importances)):\n",
    "    source_importances[i] = (network_importances_2a[i]+network_importances_3a[i]+network_importances_4a[i]+network_importances_5a[i]+network_importances_6a[i]+network_importances_7a[i]+network_importances_8a[i]+network_importances_9a[i]+network_importances_10a[i])\n",
    "    source_importances[i] /= 9\n",
    "print(source_importances)"
   ]
  },
  {
   "cell_type": "code",
   "execution_count": 1517,
   "metadata": {},
   "outputs": [
    {
     "name": "stdout",
     "output_type": "stream",
     "text": [
      "[0.03277744394948321, 0.08903727418442614, 0.028658517597971653, 0.02675129063568876, 0.04922419455406635, 0.0912240633355404, 0.051588853503778884, 0.05830959882773718, 0.06839965905349538, 0.03231091664667289, 0.09842592409041011, 0.11587506664608832, 0.06896253646090346, 0.18845466051373727]\n"
     ]
    }
   ],
   "source": [
    "user_importances = [0] * len(user_importances_2a)\n",
    "for i in range(0, len(user_importances)):\n",
    "    user_importances[i] = (user_importances_2a[i]+user_importances_3a[i]+user_importances_4a[i]+user_importances_5a[i]+user_importances_6a[i]+user_importances_7a[i]+user_importances_8a[i]+user_importances_9a[i]+user_importances_10a[i])\n",
    "    user_importances[i] /= 9\n",
    "print(user_importances)"
   ]
  },
  {
   "cell_type": "code",
   "execution_count": 1515,
   "metadata": {},
   "outputs": [
    {
     "data": {
      "text/plain": [
       "['fake_neighbors', 'neighbors', 'source_score', 'k_nearest', 'lpa_label']"
      ]
     },
     "execution_count": 1515,
     "metadata": {},
     "output_type": "execute_result"
    }
   ],
   "source": [
    "source_params"
   ]
  },
  {
   "cell_type": "code",
   "execution_count": 1516,
   "metadata": {},
   "outputs": [
    {
     "data": {
      "text/plain": [
       "['state',\n",
       " 'age',\n",
       " 'party',\n",
       " 'folls',\n",
       " 'friends',\n",
       " 'exposures',\n",
       " 'shares',\n",
       " 'super_s',\n",
       " 'super_c',\n",
       " 'user_score',\n",
       " 'or_aff',\n",
       " 'red_aff',\n",
       " 'bl_aff',\n",
       " 'fraction_bad']"
      ]
     },
     "execution_count": 1516,
     "metadata": {},
     "output_type": "execute_result"
    }
   ],
   "source": [
    "user_params"
   ]
  },
  {
   "cell_type": "code",
   "execution_count": null,
   "metadata": {},
   "outputs": [],
   "source": []
  },
  {
   "cell_type": "code",
   "execution_count": 1532,
   "metadata": {},
   "outputs": [
    {
     "data": {
      "image/png": "[encoded data removed]",
      "text/plain": [
       "<Figure size 1440x720 with 1 Axes>"
      ]
     },
     "metadata": {
      "needs_background": "light"
     },
     "output_type": "display_data"
    }
   ],
   "source": [
    "N = 5\n",
    "mini = 0\n",
    "menMeans = source_importances\n",
    "#womenMeans = (25, 32, 34, 20, 25)\n",
    "menStd = (0,0,0,0,0,0)\n",
    "#womenStd = (3, 5, 2, 3, 3)\n",
    "ind = np.arange(N)    # the x locations for the groups\n",
    "width = 0.4       # the width of the bars: can also be len(x) sequence\n",
    "\n",
    "plt.rcParams.update({'font.size': 36})\n",
    "plt.figure(figsize=(20,10))\n",
    "\n",
    "p1 = plt.barh(ind, menMeans, width, color=('#b9d66b'))\n",
    "#p2 = plt.bar(ind, womenMeans, width,\n",
    "             #bottom=menMeans, yerr=womenStd)\n",
    "    \n",
    "plt.xlabel('Importance')\n",
    "plt.yticks(ind, ('Fake Neighbors', 'Neighbors', 'Source Score', 'K-Nearest', 'LP Label'))\n",
    "plt.xticks(np.arange(mini, 0.5, 0.1))\n",
    "plt.xlim(xmin=mini)\n",
    "\n",
    "plt.savefig('source-features.png')\n",
    "#plt.show()"
   ]
  },
  {
   "cell_type": "code",
   "execution_count": 1539,
   "metadata": {},
   "outputs": [
    {
     "data": {
      "image/png": "[encoded data removed]",
      "text/plain": [
       "<Figure size 1440x720 with 1 Axes>"
      ]
     },
     "metadata": {
      "needs_background": "light"
     },
     "output_type": "display_data"
    }
   ],
   "source": [
    "N = 14\n",
    "mini = 0\n",
    "menMeans = user_importances\n",
    "#womenMeans = (25, 32, 34, 20, 25)\n",
    "menStd = (0,0,0,0,0,0)\n",
    "#womenStd = (3, 5, 2, 3, 3)\n",
    "ind = np.arange(N)    # the x locations for the groups\n",
    "width = 0.4       # the width of the bars: can also be len(x) sequence\n",
    "\n",
    "plt.rcParams.update({'font.size': 32})\n",
    "plt.figure(figsize=(20,10))\n",
    "\n",
    "p1 = plt.barh(ind, menMeans, width, color=('#6ba1d6'))\n",
    "#p2 = plt.bar(ind, womenMeans, width,\n",
    "             #bottom=menMeans, yerr=womenStd)\n",
    "    \n",
    "plt.xlabel('Importance')\n",
    "plt.yticks(ind, ('State (Edu)', 'Age', 'Party', 'Followers', 'Friends', 'Exposures', 'Shares', 'Supersharer',\n",
    "                'Superconsumer', 'User Score', 'Orange Aff', 'Red Aff', 'Black Aff', 'Fraction Bad'))\n",
    "plt.xticks(np.arange(mini, 0.25, 0.05))\n",
    "plt.xlim(xmin=mini)\n",
    "\n",
    "plt.savefig('user-features.png')\n",
    "#plt.show()"
   ]
  },
  {
   "cell_type": "code",
   "execution_count": null,
   "metadata": {},
   "outputs": [],
   "source": []
  },
  {
   "cell_type": "code",
   "execution_count": null,
   "metadata": {},
   "outputs": [],
   "source": []
  },
  {
   "cell_type": "code",
   "execution_count": null,
   "metadata": {},
   "outputs": [],
   "source": []
  },
  {
   "cell_type": "code",
   "execution_count": 3428,
   "metadata": {},
   "outputs": [
    {
     "name": "stdout",
     "output_type": "stream",
     "text": [
      "0.8049267643142477\n"
     ]
    }
   ],
   "source": [
    "rob = 0\n",
    "gy = 0\n",
    "for d in color_labels:\n",
    "    if (color_labels[d] not in ['GY', '']):\n",
    "        rob += 1\n",
    "    if (color_labels[d] in ['GY']):\n",
    "        gy += 1\n",
    "print(gy/(rob+gy))"
   ]
  },
  {
   "cell_type": "code",
   "execution_count": null,
   "metadata": {},
   "outputs": [],
   "source": []
  },
  {
   "cell_type": "code",
   "execution_count": 3192,
   "metadata": {},
   "outputs": [],
   "source": [
    "import statistics"
   ]
  },
  {
   "cell_type": "code",
   "execution_count": 2153,
   "metadata": {},
   "outputs": [],
   "source": [
    "log_reg_auc_scores = [79.18, 76.64, 75.95, 79.14, 74.63, 79.39, 76.15, 73.80, 70.15, 76.34]"
   ]
  },
  {
   "cell_type": "code",
   "execution_count": 2154,
   "metadata": {},
   "outputs": [],
   "source": [
    "log_reg_auc_scores2 = [79.30, 73.96, 85.10, 80.08, 76.80, 79.91, 83.14, 78.98, 81.37, 75.21]"
   ]
  },
  {
   "cell_type": "code",
   "execution_count": 3194,
   "metadata": {},
   "outputs": [
    {
     "name": "stdout",
     "output_type": "stream",
     "text": [
      "79.38499999999999\n",
      "3.4184930078097944\n"
     ]
    }
   ],
   "source": [
    "print(statistics.mean(log_reg_auc_scores2))\n",
    "print(statistics.stdev(log_reg_auc_scores2))"
   ]
  },
  {
   "cell_type": "code",
   "execution_count": 3435,
   "metadata": {},
   "outputs": [],
   "source": [
    "log_reg_f1_scores = [66.3, 65.2, 61.8, 65.2, 65.5, 67.5, 61.9, 63.0, 63.4, 65.0]"
   ]
  },
  {
   "cell_type": "code",
   "execution_count": 3450,
   "metadata": {},
   "outputs": [],
   "source": [
    "log_reg_accuracy = [85.9, 89.1, 87.5, 89.6, 87.2, 87.4, 87.5, 88.1, 84.2, 87.8]"
   ]
  },
  {
   "cell_type": "code",
   "execution_count": 3965,
   "metadata": {},
   "outputs": [
    {
     "name": "stdout",
     "output_type": "stream",
     "text": [
      "87.43\n",
      "76.137\n",
      "64.48\n",
      "1.5246493221575725\n",
      "2.84343317526933\n"
     ]
    }
   ],
   "source": [
    "print(statistics.mean(log_reg_accuracy))\n",
    "print(statistics.mean(log_reg_auc_scores))\n",
    "print(statistics.mean(log_reg_f1_scores))\n",
    "print(statistics.stdev(log_reg_accuracy))\n",
    "print(statistics.stdev(log_reg_auc_scores))"
   ]
  },
  {
   "cell_type": "code",
   "execution_count": 3441,
   "metadata": {},
   "outputs": [],
   "source": [
    "online_lpa_f1 = [64.7, 54.7, 57.3, 63.9, 64.7, 65.9, 64.4, 63.1, 63.0, 63.9]\n",
    "online_lpa_auc = [78.6, 80.5, 80.9, 78.2, 78.6, 78.8, 75.4, 77.9, 78.4, 78.2]\n",
    "online_lpa_accuracy = [86.3, 85.6, 86.0, 86.0, 86.3, 86.5, 84.5, 85.8, 86.0, 86.0]"
   ]
  },
  {
   "cell_type": "code",
   "execution_count": 3443,
   "metadata": {},
   "outputs": [],
   "source": [
    "rand_forest_f1 = [56.7, 66.3,  59.0, 55.4,  59.0, 55.4,  57.7, 54.2,  59.0, 55.4,  60.0, 57.8,  56.3, 48.2,  56.7, 66.3,  56.7, 66.3  , 60.2, 63.9]\n",
    "rand_forest_auc = [78.2, 73.9, 73.9, 73.2, 73.9, 75.2, 70.4, 78.2, 78.2, 77.8]\n",
    "rand_forest_acc = [86.2, 86.4, 86.4, 86.0, 86.4, 86.8, 85.4, 86.2, 86.2, 87.2]"
   ]
  },
  {
   "cell_type": "code",
   "execution_count": 3964,
   "metadata": {},
   "outputs": [
    {
     "name": "stdout",
     "output_type": "stream",
     "text": [
      "58.525\n",
      "86.32000000000001\n",
      "75.29\n",
      "0.4732863826479684\n",
      "2.7036806188765863\n"
     ]
    }
   ],
   "source": [
    "print(statistics.mean(rand_forest_f1))\n",
    "print(statistics.mean(rand_forest_acc))\n",
    "print(statistics.mean(rand_forest_auc))\n",
    "print(statistics.stdev(rand_forest_acc))\n",
    "print(statistics.stdev(rand_forest_auc))"
   ]
  },
  {
   "cell_type": "code",
   "execution_count": 3963,
   "metadata": {},
   "outputs": [
    {
     "name": "stdout",
     "output_type": "stream",
     "text": [
      "85.9\n",
      "78.55\n",
      "62.56\n",
      "0.5557777333511021\n",
      "1.490898312353252\n"
     ]
    }
   ],
   "source": [
    "print(statistics.mean(online_lpa_accuracy))\n",
    "print(statistics.mean(online_lpa_auc))\n",
    "print(statistics.mean(online_lpa_f1))\n",
    "print(statistics.stdev(online_lpa_accuracy))\n",
    "print(statistics.stdev(online_lpa_auc))"
   ]
  },
  {
   "cell_type": "code",
   "execution_count": null,
   "metadata": {},
   "outputs": [],
   "source": [
    "lpa rslts: [66.1, 87.8, 81.8]"
   ]
  },
  {
   "cell_type": "code",
   "execution_count": null,
   "metadata": {},
   "outputs": [],
   "source": []
  },
  {
   "cell_type": "code",
   "execution_count": 1347,
   "metadata": {},
   "outputs": [],
   "source": [
    "lpa_acc = [80.4, 81.0, 84.7, 86.5, 86.1, 87.4, 85.6, 86.1, 86.9]\n",
    "lpa_auc = [72.0, 72.2, 76.5, 78.2, 77.3, 80.4, 75.9, 78.4, 81.0]"
   ]
  },
  {
   "cell_type": "code",
   "execution_count": 1496,
   "metadata": {},
   "outputs": [
    {
     "name": "stdout",
     "output_type": "stream",
     "text": [
      "84.96666666666667 2.540669203182499 76.87777777777778 3.1704801599197\n"
     ]
    }
   ],
   "source": [
    "print(statistics.mean(lpa_acc), statistics.stdev(lpa_acc), statistics.mean(lpa_auc), statistics.stdev(lpa_auc))"
   ]
  },
  {
   "cell_type": "code",
   "execution_count": 1351,
   "metadata": {},
   "outputs": [],
   "source": [
    "rf_acc = [84.3, 82.2, 88.7, 90.4, 88.7, 91.6, 87.4, 87.4, 90.6, 91.5]\n",
    "rf_auc = [79.7, 82.4, 85.6, 80.7, 87.4, 83.9, 77.2, 72.5, 83.0, 81.6]"
   ]
  },
  {
   "cell_type": "code",
   "execution_count": 1495,
   "metadata": {},
   "outputs": [
    {
     "name": "stdout",
     "output_type": "stream",
     "text": [
      "88.28 3.090774803975353 81.4 4.2651038804595505\n"
     ]
    }
   ],
   "source": [
    "print(statistics.mean(rf_acc), statistics.stdev(rf_acc), statistics.mean(rf_auc), statistics.stdev(rf_auc))"
   ]
  },
  {
   "cell_type": "code",
   "execution_count": 1492,
   "metadata": {},
   "outputs": [],
   "source": [
    "cs_acc = [81.0, 78.3, 77.9, 83.6, 81.9, 81.4, 84.5, 81.4, 81.9]\n",
    "cs_auc = [71.8, 66.8, 63.1, 71.0, 70.8, 69.0, 73.9, 71.6, 70.8, 69.1]"
   ]
  },
  {
   "cell_type": "code",
   "execution_count": 1494,
   "metadata": {},
   "outputs": [
    {
     "name": "stdout",
     "output_type": "stream",
     "text": [
      "81.32222222222222 2.1481257980957356 69.78999999999999 3.0278154941585638\n"
     ]
    }
   ],
   "source": [
    "print(statistics.mean(cs_acc), statistics.stdev(cs_acc), statistics.mean(cs_auc), statistics.stdev(cs_auc))"
   ]
  },
  {
   "cell_type": "code",
   "execution_count": 1357,
   "metadata": {},
   "outputs": [
    {
     "name": "stdout",
     "output_type": "stream",
     "text": [
      "1209 1509 0.8011928429423459\n"
     ]
    }
   ],
   "source": [
    "gy = 0\n",
    "for k in color_labels:\n",
    "    if (color_labels[k] == 'GY'):\n",
    "        gy += 1\n",
    "print(gy, len(color_labels), gy/len(color_labels))"
   ]
  },
  {
   "cell_type": "code",
   "execution_count": null,
   "metadata": {},
   "outputs": [],
   "source": []
  },
  {
   "cell_type": "code",
   "execution_count": null,
   "metadata": {},
   "outputs": [],
   "source": []
  },
  {
   "cell_type": "code",
   "execution_count": 1505,
   "metadata": {},
   "outputs": [
    {
     "data": {
      "image/png": "[encoded data removed]",
      "text/plain": [
       "<Figure size 1080x720 with 1 Axes>"
      ]
     },
     "metadata": {
      "needs_background": "light"
     },
     "output_type": "display_data"
    }
   ],
   "source": [
    "#auc presents the fairest picture of our model, so I'm redoing all these calculations, auc-style\n",
    "import matplotlib\n",
    "import matplotlib.pyplot as plt\n",
    "import numpy as np\n",
    "\n",
    "#labels = ['Baseline', 'SPR', 'PPR', 'Cred Score', 'Log Reg', 'Rand Forest', 'LPA']\n",
    "#women_means = [73, 50.5, 51.1 , 90.1, 70.1, 87.0, 90.2]\n",
    "#men_means = [0, 37.0, 39.0 , 64.0, 50.6, 63.0, 75.8]\n",
    "\n",
    "labels = ['Def Acc', 'Cred Score', 'Flex LP', 'Log Reg', 'Rand For']\n",
    "women_means = [80.1, 81.3, 85.0, 87.4, 88.3] #accuracy\n",
    "men_means = [50, 69.8, 76.9, 76.1, 81.4]#auc\n",
    "#agender_means = [0, 13.0, 52.3, 67.4, 76.1, 79.3]\n",
    "stdevs_acc = [0, 2.1, 2.5, 1.5, 3.1] #stdevs\n",
    "stdevs_auc = [0, 3.0, 3.2, 2.8, 4.3] #stdevs\n",
    "\n",
    "#NOT RAND FOREST BUT SVM!\n",
    "\n",
    "#precision: 0.7288135593220338 recall: 0.7962962962962963 f1: 0.7610619469026549 accuracy: 0.9154078549848943\n",
    "#f1: 0.7931034482758621 accuracy: 0.9244712990936556\n",
    "x = np.arange(len(labels))  # the label locations\n",
    "width = 0.2  # the width of the bars\n",
    "\n",
    "fig, ax = plt.subplots(figsize=(15,10))\n",
    "rects1 = ax.bar(x - width/2, men_means, width, color='#b9d66b', label='AUC', yerr=stdevs_auc)\n",
    "rects2 = ax.bar(x + width/2, women_means, width, color='#6ba1d6', label='Accuracy', yerr=stdevs_acc)\n",
    "\n",
    "# Add some text for labels, title and custom x-axis tick labels, etc.\n",
    "#ax.set_ylabel('Scores')\n",
    "#ax.set_title('Scores by group and gender')\n",
    "#ax.text(fontsize=15)\n",
    "ax.set_xticks(x)\n",
    "ax.set_xticklabels(labels)\n",
    "ax.tick_params(axis='y', labelsize=35)\n",
    "ax.tick_params(axis='x', labelsize=35)\n",
    "ax.legend()\n",
    "\n",
    "\n",
    "def autolabel(rects):\n",
    "    \"\"\"Attach a text label above each bar in *rects*, displaying its height.\"\"\"\n",
    "    for rect in rects:\n",
    "        height = rect.get_height()\n",
    "        ax.annotate('{}'.format(height),\n",
    "                    xy=(rect.get_x() + rect.get_width() / 2, height),\n",
    "                    size = 25,\n",
    "                    xytext=(0, 3),  # 3 points vertical offset\n",
    "                    textcoords=\"offset points\",\n",
    "                    ha='center', va='bottom')\n",
    "\n",
    "\n",
    "autolabel(rects1)\n",
    "autolabel(rects2)\n",
    "\n",
    "fig.tight_layout()\n",
    "\n",
    "#plt.figure(figsize=(15,10))\n",
    "\n",
    "plt.ylim(top=100)\n",
    "plt.legend(loc='upper left', prop={'size': 25})\n",
    "\n",
    "plt.savefig('updated-rslts.png')\n",
    "#plt.show()"
   ]
  },
  {
   "cell_type": "code",
   "execution_count": null,
   "metadata": {},
   "outputs": [],
   "source": []
  },
  {
   "cell_type": "code",
   "execution_count": 1543,
   "metadata": {},
   "outputs": [
    {
     "name": "stdout",
     "output_type": "stream",
     "text": [
      "66.96000000000001 70.76\n"
     ]
    }
   ],
   "source": [
    "rf_prec = [58.7, 45.2, 63.6, 74.5, 58.6, 75.5, 64.0, 67.6, 75.5, 86.4]\n",
    "rf_rec = [65.5, 71.2, 50, 61.5, 72.5, 85.4, 66.0, 80.8, 82.6, 72.1]\n",
    "print(statistics.mean(rf_prec), statistics.mean(rf_rec))"
   ]
  },
  {
   "cell_type": "code",
   "execution_count": 1544,
   "metadata": {},
   "outputs": [
    {
     "data": {
      "text/plain": [
       "68.80757478942783"
      ]
     },
     "execution_count": 1544,
     "metadata": {},
     "output_type": "execute_result"
    }
   ],
   "source": [
    "2* 66.96 * 70.76 /(66.96 + 70.76)"
   ]
  },
  {
   "cell_type": "code",
   "execution_count": 1546,
   "metadata": {},
   "outputs": [
    {
     "name": "stdout",
     "output_type": "stream",
     "text": [
      "65.0 66.07\n"
     ]
    }
   ],
   "source": [
    "lp_prec = [84.9, 71.6, 67.7, 61.0, 71.1, 61.2, 65.8, 62.4, 51.5, 52.8]\n",
    "lp_rec = [63.9, 62.4, 53.0, 61.0, 62.1, 75.9, 61.0, 73.1, 77.0, 71.3]\n",
    "print(statistics.mean(lp_prec), statistics.mean(lp_rec))"
   ]
  },
  {
   "cell_type": "code",
   "execution_count": 1547,
   "metadata": {},
   "outputs": [
    {
     "data": {
      "text/plain": [
       "65.5306324864576"
      ]
     },
     "execution_count": 1547,
     "metadata": {},
     "output_type": "execute_result"
    }
   ],
   "source": [
    "2 * 65 * 66.07 / (65 + 66.07)"
   ]
  },
  {
   "cell_type": "code",
   "execution_count": 1549,
   "metadata": {},
   "outputs": [
    {
     "name": "stdout",
     "output_type": "stream",
     "text": [
      "66.84166666666667 61.266666666666666\n"
     ]
    }
   ],
   "source": [
    "lr_prec = [65.8, 58.4, 80, 68.4, 59.8, 69.3, 73.2, 65.2, 69.2, 56.7, 63.0, 73.1]\n",
    "lr_rec = [62.7, 50, 54.7, 59.1, 66.7, 55.9, 62.7, 65.9, 61.6, 67.9, 67.4, 60.6]\n",
    "print(statistics.mean(lr_prec), statistics.mean(lr_rec))"
   ]
  },
  {
   "cell_type": "code",
   "execution_count": 1550,
   "metadata": {},
   "outputs": [
    {
     "data": {
      "text/plain": [
       "63.93192818110851"
      ]
     },
     "execution_count": 1550,
     "metadata": {},
     "output_type": "execute_result"
    }
   ],
   "source": [
    "2* 66.8*61.3 / (66.8+61.3)"
   ]
  },
  {
   "cell_type": "code",
   "execution_count": null,
   "metadata": {},
   "outputs": [],
   "source": []
  },
  {
   "cell_type": "code",
   "execution_count": 1563,
   "metadata": {},
   "outputs": [
    {
     "name": "stderr",
     "output_type": "stream",
     "text": [
      "No handles with labels found to put in legend.\n"
     ]
    },
    {
     "data": {
      "image/png": "[encoded data removed]",
      "text/plain": [
       "<Figure size 1080x720 with 1 Axes>"
      ]
     },
     "metadata": {
      "needs_background": "light"
     },
     "output_type": "display_data"
    }
   ],
   "source": [
    "import pandas as pd\n",
    "import matplotlib.pyplot as plt\n",
    "from pandas.plotting import parallel_coordinates\n",
    "\n",
    "#plt.figure(figsize=(15,10))\n",
    "fig, ax = plt.subplots(figsize=(15,10))\n",
    "\n",
    "ax.set_xticks(x)\n",
    "ax.set_xticklabels(labels)\n",
    "ax.tick_params(axis='y', labelsize=30)\n",
    "ax.tick_params(axis='x', labelsize=30)\n",
    "ax.legend()\n",
    "\n",
    "#[\"PPR\",29.9,55.9,51.1,39.0],\n",
    "#df = pd.DataFrame([[\"SPR\",28.3,52.2,50.5,37.0],[\"Cred Score\",74.7,86,90.1,64.0],[\"Log Reg\",35.2,90.9,70.1,50.6],[\"Rand Forest\",69.4,61.8,87.0,63.0],[\"LPA\",75.6,76.7,90.2,75.8]], \n",
    "                  #columns=[\"element\",\"Precision\",\"Recall\",\"Accuracy\", \"F1\"])\n",
    "df = pd.DataFrame([[\"SPR\",13.0,13.0,66.0,13.0],[\"Cred Score\",52.3,52.3,80.2,52.3],[\"Flex LP\",65.0,66.1,85.0,65.5],[\"Log Reg\",66.8,61.3,87.4,63.9],[\"Rand For\",67,70.8,88.3,68.8]], \n",
    "                  columns=[\"element\",\"Precision\",\"Recall\",\"Accuracy\", \"F1\"])\n",
    "\n",
    "#precision: 0.7419354838709677 recall: 0.8518518518518519 f1: 0.7931034482758621 accuracy: 0.9244712990936556\n",
    "\n",
    "parallel_coordinates(df,\"element\",color=('#766bd6', '#b46bd6', '#d66b9f', '#d6bf6b', '#cdd66b')) #'#6ba4d6'\n",
    "\n",
    "plt.ylim(top=100)\n",
    "plt.legend(loc='upper left', prop={'size': 22})\n",
    "\n",
    "plt.savefig('results-summary2.png')\n",
    "#plt.show()"
   ]
  },
  {
   "cell_type": "code",
   "execution_count": null,
   "metadata": {},
   "outputs": [],
   "source": []
  },
  {
   "cell_type": "code",
   "execution_count": null,
   "metadata": {},
   "outputs": [],
   "source": []
  },
  {
   "cell_type": "code",
   "execution_count": null,
   "metadata": {},
   "outputs": [],
   "source": []
  },
  {
   "cell_type": "code",
   "execution_count": null,
   "metadata": {},
   "outputs": [],
   "source": []
  }
 ],
 "metadata": {
  "kernelspec": {
   "display_name": "Python 3",
   "language": "python",
   "name": "python3"
  },
  "language_info": {
   "codemirror_mode": {
    "name": "ipython",
    "version": 3
   },
   "file_extension": ".py",
   "mimetype": "text/x-python",
   "name": "python",
   "nbconvert_exporter": "python",
   "pygments_lexer": "ipython3",
   "version": "3.8.5"
  }
 },
 "nbformat": 4,
 "nbformat_minor": 2
}
